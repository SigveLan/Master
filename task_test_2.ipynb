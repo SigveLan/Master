{
 "cells": [
  {
   "cell_type": "code",
   "execution_count": 1,
   "metadata": {
    "collapsed": true
   },
   "outputs": [
    {
     "name": "stdout",
     "output_type": "stream",
     "text": [
      "Academic license - for non-commercial use only - expires 2022-10-03\n",
      "Using license file c:\\gurobi\\gurobi.lic\n",
      "Read LP format model from file C:\\Users\\Sigve\\AppData\\Local\\Temp\\tmpssh3q91t.lp\n",
      "Reading time = 0.07 seconds\n",
      ": 5482 rows, 15138 columns, 66608 nonzeros\n",
      "Read LP format model from file C:\\Users\\Sigve\\AppData\\Local\\Temp\\tmpe8415nr0.lp\n",
      "Reading time = 0.07 seconds\n",
      ": 5482 rows, 15138 columns, 66608 nonzeros\n",
      "Read LP format model from file C:\\Users\\Sigve\\AppData\\Local\\Temp\\tmpt9yp35xe.lp\n",
      "Reading time = 0.07 seconds\n",
      ": 5482 rows, 15138 columns, 66608 nonzeros\n",
      "Model load and preparation time: 76.859555 seconds\n"
     ]
    }
   ],
   "source": [
    "import itertools\n",
    "import pandas as pd\n",
    "import cobra.flux_analysis\n",
    "from cobra import Metabolite, Reaction, Model\n",
    "import time\n",
    "import numpy as np\n",
    "from functools import partial\n",
    "from src.mp_functions import combinations_subset, parallelize_dataframe, knockout_FBA, knockout_FBA_w_tasks\n",
    "\n",
    "from functools import partial\n",
    "from src.met_task_functions import get_met_ids, constrain_model, create_reactions\n",
    "\n",
    "\n",
    "\"\"\"A mess of a document with different code cells.\n",
    "Good to to use for any testing that involves the Recon3D model as it takes some time to load in.\"\"\"\n",
    "\n",
    "start_time = time.time()\n",
    "model_file_path = 'C:/Users/Sigve/Genome_Data/Human1/Human1_GEM/GTEx/brain.xml'\n",
    "model = cobra.io.read_sbml_model(model_file_path)\n",
    "\n",
    "model_list = constrain_model(model, ALLMETSIN=True)\n",
    "\n",
    "end_time = time.time()\n",
    "print('Model load and preparation time: %.6f seconds' % (end_time - start_time))"
   ]
  },
  {
   "cell_type": "code",
   "execution_count": 22,
   "outputs": [],
   "source": [
    "def tasks_test(task_list: list, model_list: list, gene_ids: list) -> list:\n",
    "    \"\"\"Performs knockout FBA and checks tasks for the knockout.\"\"\"\n",
    "    with model_list[0]:\n",
    "        for gene_id in gene_ids:\n",
    "            try:\n",
    "                model_list[0].genes.get_by_id(gene_id).knock_out()\n",
    "            except KeyError:\n",
    "                return gene_id + ' not in model.'\n",
    "        res = [model_list[0].slim_optimize()]\n",
    "\n",
    "    for task in task_list:\n",
    "        t_model = model_list[task[3]]\n",
    "\n",
    "        with t_model:\n",
    "            for subset in [task[0], task[1]]:\n",
    "                for rx in subset:\n",
    "                    if rx == 'ALLMETSIN':\n",
    "                        # Adds boundary metabolites for other reactions when ALLMETSIN is used\n",
    "                        for r in subset[1:]:\n",
    "                            for m2 in r.metabolites:\n",
    "                                for r2 in m2.reactions:\n",
    "                                    if r2.boundary and r2.id != r.id:\n",
    "                                        r2.add_metabolites({Metabolite(\n",
    "                                                            m2.id[:-4] + 'x[x]',\n",
    "                                                            formula=m2.formula,\n",
    "                                                            name=' '.join(m2.name.split(' ')[:-1]) + ' [Boundary]',\n",
    "                                                            compartment='x'): 1})\n",
    "                        continue\n",
    "                    t_model.add_reaction(rx)\n",
    "\n",
    "            if task[2] != 'nan':\n",
    "                t_model.add_reaction(task[2])\n",
    "\n",
    "            for gene_id in gene_ids:\n",
    "                t_model.genes.get_by_id(gene_id).knock_out()\n",
    "\n",
    "            if t_model.slim_optimize(error_value='nan') == 'nan':\n",
    "                res += [0]\n",
    "            else:\n",
    "                res += [1]\n",
    "\n",
    "\n",
    "    return res"
   ],
   "metadata": {
    "collapsed": false,
    "pycharm": {
     "name": "#%%\n"
    }
   }
  },
  {
   "cell_type": "code",
   "execution_count": 4,
   "outputs": [],
   "source": [
    "# Read and format task data\n",
    "tasks_df = pd.read_table('C:/Users/Sigve/Genome_Data/Human1/Human1_GEM/tasks/essential_tasks.tsv')\n",
    "\n",
    "for b in ['LBin', 'LBout', 'UBin', 'UBout']:\n",
    "    tasks_df[b] = tasks_df[b].apply(lambda x: x.split(','))\n",
    "\n",
    "for put in ['inputs', 'outputs']:\n",
    "    tasks_df[put] = tasks_df[put].apply(lambda x: [e + ']' for e in x[1:-1].split(']')][0:-1])\n",
    "\n",
    "tasks_df['equations'] = tasks_df['equations'].apply(str)\n",
    "\n",
    "tasks_df[['met_ids', 'model_num']] = tasks_df.apply(partial(get_met_ids, model_list), axis=1, result_type='expand')\n",
    "\n",
    "tasks_df = create_reactions(tasks_df)\n",
    "\n",
    "task_list = list(tasks_df.values.tolist())"
   ],
   "metadata": {
    "collapsed": false,
    "pycharm": {
     "name": "#%%\n"
    }
   }
  },
  {
   "cell_type": "code",
   "execution_count": 25,
   "outputs": [
    {
     "name": "stdout",
     "output_type": "stream",
     "text": [
      "   phewas_code                            gene_ids   solution  \\\n",
      "0       290.11  [ENSG00000100030, ENSG00000197375] -80.729783   \n",
      "1       290.11  [ENSG00000101577, ENSG00000197375] -80.729783   \n",
      "2       290.11  [ENSG00000102780, ENSG00000197375] -80.729783   \n",
      "3       290.11  [ENSG00000107798, ENSG00000197375] -80.729783   \n",
      "4       290.11  [ENSG00000113448, ENSG00000197375] -80.729783   \n",
      "\n",
      "                                           pass/fail  \n",
      "0  [1, 1, 1, 1, 1, 1, 1, 1, 1, 1, 1, 1, 1, 1, 1, ...  \n",
      "1  [1, 1, 1, 1, 1, 1, 1, 1, 1, 1, 1, 1, 1, 1, 1, ...  \n",
      "2  [1, 1, 1, 1, 1, 1, 1, 1, 1, 1, 1, 1, 1, 1, 1, ...  \n",
      "3  [1, 1, 1, 1, 1, 1, 1, 1, 1, 1, 1, 1, 1, 1, 1, ...  \n",
      "4  [1, 1, 1, 1, 1, 1, 1, 1, 1, 1, 1, 1, 1, 1, 1, ...  \n"
     ]
    }
   ],
   "source": [
    "# Read test data\n",
    "test_data = pd.read_csv('C:/Users/Sigve/Genome_Data/results/model_tests/test_data.csv')\n",
    "test_data['pass/fail'] = test_data.values[:, 4:].tolist()\n",
    "test_data = test_data[['phewas_code', 'gene_ids', 'solution', 'pass/fail']]\n",
    "test_data['gene_ids'] = test_data['gene_ids'].apply(lambda x: x.split(','))\n",
    "print(test_data.head())\n",
    "\n",
    "# Reduce number of entries\n",
    "#test_data = test_data.iloc[:10, :]"
   ],
   "metadata": {
    "collapsed": false,
    "pycharm": {
     "name": "#%%\n"
    }
   }
  },
  {
   "cell_type": "code",
   "execution_count": 18,
   "outputs": [
    {
     "name": "stdout",
     "output_type": "stream",
     "text": [
      "The line_profiler extension is already loaded. To reload it, use:\n",
      "  %reload_ext line_profiler\n",
      "*** KeyboardInterrupt exception caught in code being profiled."
     ]
    }
   ],
   "source": [
    "g = ['ENSG00000100030', 'ENSG00000197375']\n",
    "%load_ext line_profiler\n",
    "%lprun -f tasks_test tasks_test(task_list, model_list, g)"
   ],
   "metadata": {
    "collapsed": false,
    "pycharm": {
     "name": "#%%\n"
    }
   }
  },
  {
   "cell_type": "code",
   "execution_count": 26,
   "outputs": [
    {
     "name": "stdout",
     "output_type": "stream",
     "text": [
      "FBA runtime: 3719.969618 seconds\n"
     ]
    }
   ],
   "source": [
    "start_time = time.time()\n",
    "\n",
    "test_data['results'] = test_data['gene_ids'].apply(partial(tasks_test, task_list, model_list))\n",
    "\n",
    "end_time = time.time()\n",
    "print('FBA runtime: %.6f seconds' % (end_time - start_time))"
   ],
   "metadata": {
    "collapsed": false,
    "pycharm": {
     "name": "#%%\n"
    }
   }
  },
  {
   "cell_type": "code",
   "execution_count": 27,
   "outputs": [
    {
     "name": "stdout",
     "output_type": "stream",
     "text": [
      "204\n",
      "Number of detected errors: 0\n"
     ]
    }
   ],
   "source": [
    "# Data comparison\n",
    "\n",
    "result_df = test_data.copy()\n",
    "\n",
    "print(result_df.shape[0])\n",
    "\n",
    "\n",
    "result_df['main_obj'] = result_df['results'].apply(lambda x: x[0])\n",
    "result_df['results'] = result_df['results'].apply(lambda x: x[1:])\n",
    "\n",
    "result_df['comparison'] = result_df[['pass/fail', 'results']].apply(lambda x: any([False if i == j else True for i, j in zip(x[0], x[1])]), axis=1)\n",
    "error_df = result_df[result_df['comparison']]\n",
    "print('Number of detected errors: ' + str(error_df.shape[0]))\n"
   ],
   "metadata": {
    "collapsed": false,
    "pycharm": {
     "name": "#%%\n"
    }
   }
  },
  {
   "cell_type": "code",
   "execution_count": 21,
   "outputs": [],
   "source": [],
   "metadata": {
    "collapsed": false,
    "pycharm": {
     "name": "#%%\n"
    }
   }
  }
 ],
 "metadata": {
  "kernelspec": {
   "display_name": "Python 3",
   "language": "python",
   "name": "python3"
  },
  "language_info": {
   "codemirror_mode": {
    "name": "ipython",
    "version": 2
   },
   "file_extension": ".py",
   "mimetype": "text/x-python",
   "name": "python",
   "nbconvert_exporter": "python",
   "pygments_lexer": "ipython2",
   "version": "2.7.6"
  }
 },
 "nbformat": 4,
 "nbformat_minor": 0
}