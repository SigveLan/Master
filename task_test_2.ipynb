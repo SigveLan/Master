{
 "cells": [
  {
   "cell_type": "code",
   "execution_count": 2,
   "metadata": {
    "collapsed": true
   },
   "outputs": [
    {
     "name": "stdout",
     "output_type": "stream",
     "text": [
      "Academic license - for non-commercial use only - expires 2022-10-03\n",
      "Using license file c:\\gurobi\\gurobi.lic\n"
     ]
    },
    {
     "ename": "NameError",
     "evalue": "name 'constrain_model' is not defined",
     "output_type": "error",
     "traceback": [
      "\u001B[1;31m---------------------------------------------------------------------------\u001B[0m",
      "\u001B[1;31mNameError\u001B[0m                                 Traceback (most recent call last)",
      "\u001B[1;32m~\\AppData\\Local\\Temp/ipykernel_7324/227009349.py\u001B[0m in \u001B[0;36m<module>\u001B[1;34m\u001B[0m\n\u001B[0;32m     18\u001B[0m \u001B[0mmodel\u001B[0m \u001B[1;33m=\u001B[0m \u001B[0mcobra\u001B[0m\u001B[1;33m.\u001B[0m\u001B[0mio\u001B[0m\u001B[1;33m.\u001B[0m\u001B[0mread_sbml_model\u001B[0m\u001B[1;33m(\u001B[0m\u001B[0mmodel_file_path\u001B[0m\u001B[1;33m)\u001B[0m\u001B[1;33m\u001B[0m\u001B[1;33m\u001B[0m\u001B[0m\n\u001B[0;32m     19\u001B[0m \u001B[1;33m\u001B[0m\u001B[0m\n\u001B[1;32m---> 20\u001B[1;33m \u001B[0mmodel_list\u001B[0m \u001B[1;33m=\u001B[0m \u001B[0mconstrain_model\u001B[0m\u001B[1;33m(\u001B[0m\u001B[0mmodel\u001B[0m\u001B[1;33m,\u001B[0m \u001B[0mALLMETSIN\u001B[0m\u001B[1;33m=\u001B[0m\u001B[1;32mTrue\u001B[0m\u001B[1;33m)\u001B[0m\u001B[1;33m\u001B[0m\u001B[1;33m\u001B[0m\u001B[0m\n\u001B[0m\u001B[0;32m     21\u001B[0m \u001B[1;31m#Removes unused model.\u001B[0m\u001B[1;33m\u001B[0m\u001B[1;33m\u001B[0m\u001B[1;33m\u001B[0m\u001B[0m\n\u001B[0;32m     22\u001B[0m \u001B[0mmodel_list\u001B[0m\u001B[1;33m[\u001B[0m\u001B[1;36m2\u001B[0m\u001B[1;33m]\u001B[0m \u001B[1;33m=\u001B[0m \u001B[1;32mNone\u001B[0m\u001B[1;33m\u001B[0m\u001B[1;33m\u001B[0m\u001B[0m\n",
      "\u001B[1;31mNameError\u001B[0m: name 'constrain_model' is not defined"
     ]
    }
   ],
   "source": [
    "import itertools\n",
    "import pandas as pd\n",
    "import cobra.flux_analysis\n",
    "from cobra import Metabolite, Reaction, Model\n",
    "import time\n",
    "import numpy as np\n",
    "from functools import partial\n",
    "from src.mp_functions import combinations_subset, parallelize_dataframe, knockout_FBA, knockout_FBA_w_tasks\n",
    "\n",
    "from functools import partial"
   ]
  },
  {
   "cell_type": "code",
   "execution_count": null,
   "outputs": [],
   "source": [
    "\"\"\"A mess of a document with different code cells.\n",
    "Good to to use for any testing that involves the Recon3D model as it takes some time to load in.\"\"\"\n",
    "\n",
    "start_time = time.time()\n",
    "model_file_path = 'C:/Users/Sigve/Genome_Data/Human1/Human1_GEM/GTEx/brain.xml'\n",
    "model = cobra.io.read_sbml_model(model_file_path)\n",
    "\n",
    "model_list = constrain_model(model, ALLMETSIN=True)\n",
    "#Removes unused model.\n",
    "model_list[2] = None\n",
    "end_time = time.time()\n",
    "print('Model load and preparation time: %.6f seconds' % (end_time - start_time))"
   ],
   "metadata": {
    "collapsed": false,
    "pycharm": {
     "name": "#%%\n"
    }
   }
  },
  {
   "cell_type": "code",
   "execution_count": 22,
   "outputs": [],
   "source": [
    "def tasks_test(task_list: list, model_list: list, gene_ids: list) -> list:\n",
    "    \"\"\"Performs knockout FBA and checks tasks for the knockout. Returns a list of the results; objective value for\n",
    "    general FBA and pass/fail for the tasks.\"\"\"\n",
    "    with model_list[0]:\n",
    "        for gene_id in gene_ids:\n",
    "            try:\n",
    "                model_list[0].genes.get_by_id(gene_id).knock_out()\n",
    "            except KeyError:\n",
    "                return gene_id + ' not in model.'\n",
    "        res = [model_list[0].slim_optimize()]\n",
    "\n",
    "    for task in task_list:\n",
    "        t_model = model_list[task[3]]\n",
    "\n",
    "        with t_model:\n",
    "            for subset in [task[0], task[1]]:\n",
    "                for rx in subset:\n",
    "                    if rx == 'ALLMETSIN':\n",
    "                        # Adds boundary metabolites for other reactions when ALLMETSIN is used\n",
    "                        for r in subset[1:]:\n",
    "                            for m2 in r.metabolites:\n",
    "                                for r2 in m2.reactions:\n",
    "                                    if r2.boundary and r2.id != r.id:\n",
    "                                        r2.add_metabolites({Metabolite(\n",
    "                                                            m2.id[:-4] + 'x[x]',\n",
    "                                                            formula=m2.formula,\n",
    "                                                            name=' '.join(m2.name.split(' ')[:-1]) + ' [Boundary]',\n",
    "                                                            compartment='x'): 1})\n",
    "                        continue\n",
    "                    t_model.add_reaction(rx)\n",
    "\n",
    "            if task[2] != 'nan':\n",
    "                t_model.add_reaction(task[2])\n",
    "\n",
    "            for gene_id in gene_ids:\n",
    "                t_model.genes.get_by_id(gene_id).knock_out()\n",
    "\n",
    "            if t_model.slim_optimize(error_value='nan') == 'nan':\n",
    "                res += [0]\n",
    "            else:\n",
    "                res += [1]\n",
    "\n",
    "\n",
    "    return res"
   ],
   "metadata": {
    "collapsed": false,
    "pycharm": {
     "name": "#%%\n"
    }
   }
  },
  {
   "cell_type": "code",
   "execution_count": 2,
   "outputs": [],
   "source": [
    "# Read and format task data\n",
    "task_list = read_tasks('C:/Users/Sigve/Genome_Data/Human1/Human1_GEM/tasks/essential_tasks.tsv', model_list)"
   ],
   "metadata": {
    "collapsed": false,
    "pycharm": {
     "name": "#%%\n"
    }
   }
  },
  {
   "cell_type": "code",
   "execution_count": 3,
   "outputs": [
    {
     "name": "stdout",
     "output_type": "stream",
     "text": [
      "   phewas_code                            gene_ids   solution  \\\n",
      "0       290.11  [ENSG00000100030, ENSG00000197375] -80.729783   \n",
      "1       290.11  [ENSG00000101577, ENSG00000197375] -80.729783   \n",
      "2       290.11  [ENSG00000102780, ENSG00000197375] -80.729783   \n",
      "3       290.11  [ENSG00000107798, ENSG00000197375] -80.729783   \n",
      "4       290.11  [ENSG00000113448, ENSG00000197375] -80.729783   \n",
      "\n",
      "                                           pass/fail  \n",
      "0  [1, 1, 1, 1, 1, 1, 1, 1, 1, 1, 1, 1, 1, 1, 1, ...  \n",
      "1  [1, 1, 1, 1, 1, 1, 1, 1, 1, 1, 1, 1, 1, 1, 1, ...  \n",
      "2  [1, 1, 1, 1, 1, 1, 1, 1, 1, 1, 1, 1, 1, 1, 1, ...  \n",
      "3  [1, 1, 1, 1, 1, 1, 1, 1, 1, 1, 1, 1, 1, 1, 1, ...  \n",
      "4  [1, 1, 1, 1, 1, 1, 1, 1, 1, 1, 1, 1, 1, 1, 1, ...  \n"
     ]
    }
   ],
   "source": [
    "# Read test data\n",
    "test_data = pd.read_csv('C:/Users/Sigve/Genome_Data/results/model_tests/test_data.csv')\n",
    "test_data['pass/fail'] = test_data.values[:, 4:].tolist()\n",
    "test_data = test_data[['phewas_code', 'gene_ids', 'solution', 'pass/fail']]\n",
    "test_data['gene_ids'] = test_data['gene_ids'].apply(lambda x: x.split(','))\n",
    "print(test_data.head())\n",
    "\n",
    "# Reduce number of entries\n",
    "#test_data = test_data.iloc[:10, :]"
   ],
   "metadata": {
    "collapsed": false,
    "pycharm": {
     "name": "#%%\n"
    }
   }
  },
  {
   "cell_type": "code",
   "execution_count": 18,
   "outputs": [
    {
     "name": "stdout",
     "output_type": "stream",
     "text": [
      "The line_profiler extension is already loaded. To reload it, use:\n",
      "  %reload_ext line_profiler\n",
      "*** KeyboardInterrupt exception caught in code being profiled."
     ]
    }
   ],
   "source": [
    "g = ['ENSG00000100030', 'ENSG00000197375']\n",
    "%load_ext line_profiler\n",
    "%lprun -f tasks_test tasks_test(task_list, model_list, g)"
   ],
   "metadata": {
    "collapsed": false,
    "pycharm": {
     "name": "#%%\n"
    }
   }
  },
  {
   "cell_type": "code",
   "execution_count": 25,
   "outputs": [
    {
     "name": "stdout",
     "output_type": "stream",
     "text": [
      "2451\n",
      "            gene_ids\n",
      "0  [ENSG00000000419]\n",
      "1  [ENSG00000000938]\n",
      "2  [ENSG00000001036]\n",
      "3  [ENSG00000001084]\n",
      "4  [ENSG00000001630]\n"
     ]
    }
   ],
   "source": [
    "gene_list = [[[g.id]] for g in model.genes]\n",
    "print(len(gene_list))\n",
    "gene_list = pd.DataFrame(gene_list, columns=['gene_ids'])\n",
    "print(gene_list.head())"
   ],
   "metadata": {
    "collapsed": false,
    "pycharm": {
     "name": "#%%\n"
    }
   }
  },
  {
   "cell_type": "code",
   "execution_count": 39,
   "outputs": [
    {
     "name": "stdout",
     "output_type": "stream",
     "text": [
      "FBA runtime: 5325.673097 seconds\n"
     ]
    }
   ],
   "source": [
    "start_time = time.time()\n",
    "\n",
    "#test_data['results'] = test_data['gene_ids'].apply(partial(tasks_test, task_list, model_list))\n",
    "test_results= parallelize_dataframe(gene_list, partial(combinations_subset, partial(knockout_FBA_w_tasks, task_list, model_list)), 16)\n",
    "\n",
    "\n",
    "end_time = time.time()\n",
    "print('FBA runtime: %.6f seconds' % (end_time - start_time))"
   ],
   "metadata": {
    "collapsed": false,
    "pycharm": {
     "name": "#%%\n"
    }
   }
  },
  {
   "cell_type": "code",
   "execution_count": 40,
   "outputs": [],
   "source": [
    "copy = test_results.copy()"
   ],
   "metadata": {
    "collapsed": false,
    "pycharm": {
     "name": "#%%\n"
    }
   }
  },
  {
   "cell_type": "code",
   "execution_count": 41,
   "outputs": [],
   "source": [
    "test_results['solution'] = test_results['results'].apply(lambda x: x[0])\n",
    "test_results['results'] = test_results['results'].apply(lambda x: x[1:])\n",
    "test_results['tasks_results'] = test_results['results']\n",
    "test_results = test_results[['gene_ids', 'solution', 'tasks_results']]\n"
   ],
   "metadata": {
    "collapsed": false,
    "pycharm": {
     "name": "#%%\n"
    }
   }
  },
  {
   "cell_type": "code",
   "execution_count": 7,
   "outputs": [
    {
     "name": "stdout",
     "output_type": "stream",
     "text": [
      "3625\n",
      "          gene_ids                                          pass/fail\n",
      "0  ENSG00000000419  [1, 1, 1, 1, 1, 1, 1, 1, 1, 1, 1, 1, 1, 1, 1, ...\n",
      "1  ENSG00000000938  [1, 1, 1, 1, 1, 1, 1, 1, 1, 1, 1, 1, 1, 1, 1, ...\n",
      "2  ENSG00000001036  [1, 1, 1, 1, 1, 1, 1, 1, 1, 1, 1, 1, 1, 1, 1, ...\n",
      "3  ENSG00000001084  [1, 1, 1, 1, 1, 1, 1, 1, 1, 1, 1, 1, 1, 1, 1, ...\n",
      "4  ENSG00000001630  [1, 1, 1, 1, 1, 1, 1, 1, 1, 1, 1, 1, 1, 1, 1, ...\n",
      "3625\n"
     ]
    }
   ],
   "source": [
    "# Converting MATLAB find all essential tasks\n",
    "essential = pd.read_csv('C:/Users/Sigve/Genome_Data/results/model_tests/human1_essential.csv', index_col=0)\n",
    "\n",
    "essential['pass/fail'] = essential.values.tolist()\n",
    "essential = essential[['pass/fail']].reset_index()\n",
    "print(essential.shape[0])\n",
    "#essential['pass/fail'] = essential['pass/fail'].apply(lambda x: x[:-1] + [int(x[-1][0])])\n",
    "\n",
    "#essential = essential[essential['pass/fail'].map(lambda x: any(task == 1 for task in x))]\n",
    "essential['gene_ids'] = essential['Var1'].apply(lambda x: x)\n",
    "essential = pd.DataFrame(essential[['gene_ids', 'pass/fail']])\n",
    "essential['pass/fail'] = essential['pass/fail'].apply(lambda x: [1 if i==0 else 0 for i in x])\n",
    "essential.reset_index(inplace=True, drop=True)\n",
    "print(essential.head())\n",
    "print(essential.shape[0])"
   ],
   "metadata": {
    "collapsed": false,
    "pycharm": {
     "name": "#%%\n"
    }
   }
  },
  {
   "cell_type": "code",
   "execution_count": 17,
   "outputs": [],
   "source": [
    "model = cobra.io.load_matlab_model('C:/Users/Sigve/Genome_Data/Human1/Human1_GEM/Human-GEM.mat')"
   ],
   "metadata": {
    "collapsed": false,
    "pycharm": {
     "name": "#%%\n"
    }
   }
  },
  {
   "cell_type": "code",
   "execution_count": 18,
   "outputs": [],
   "source": [
    "from cobra.flux_analysis import find_essential_genes\n",
    "essential_genes = find_essential_genes(model, processes=12)\n",
    "essential_genes = [gene.id for gene in essential_genes]"
   ],
   "metadata": {
    "collapsed": false,
    "pycharm": {
     "name": "#%%\n"
    }
   }
  },
  {
   "cell_type": "code",
   "execution_count": 19,
   "outputs": [
    {
     "name": "stdout",
     "output_type": "stream",
     "text": [
      "91\n",
      "234\n",
      "91\n"
     ]
    }
   ],
   "source": [
    "test = essential[essential['pass/fail'].map(lambda x: any([i==0 for i in x]))]['gene_ids'].tolist()\n",
    "print(len(essential_genes))\n",
    "print(len(test))\n",
    "print(len(set(essential_genes).intersection(test)))"
   ],
   "metadata": {
    "collapsed": false,
    "pycharm": {
     "name": "#%%\n"
    }
   }
  },
  {
   "cell_type": "code",
   "execution_count": 22,
   "outputs": [
    {
     "name": "stdout",
     "output_type": "stream",
     "text": [
      "3625\n",
      "234\n",
      "3391\n",
      "3625\n"
     ]
    }
   ],
   "source": [
    "total = list(set(test + essential_genes))\n",
    "print(len(model.genes))\n",
    "total_non = [gene.id for gene in model.genes if gene.id not in total]\n",
    "print(len(total))\n",
    "print(len(total_non))\n",
    "print(len(total+total_non))\n",
    "\n",
    "pd.DataFrame(total, columns=['gene_ids']).to_csv(path_or_buf='C:/Users/Sigve/Genome_Data/results/model_tests/essential_genes/human1_essential.tsv', sep='\\t')\n",
    "pd.DataFrame(total_non, columns=['gene_ids']).to_csv(path_or_buf='C:/Users/Sigve/Genome_Data/results/model_tests/essential_genes/human1_non_essential.tsv', sep='\\t')"
   ],
   "metadata": {
    "collapsed": false,
    "pycharm": {
     "name": "#%%\n"
    }
   }
  }
 ],
 "metadata": {
  "kernelspec": {
   "display_name": "Python 3",
   "language": "python",
   "name": "python3"
  },
  "language_info": {
   "codemirror_mode": {
    "name": "ipython",
    "version": 2
   },
   "file_extension": ".py",
   "mimetype": "text/x-python",
   "name": "python",
   "nbconvert_exporter": "python",
   "pygments_lexer": "ipython2",
   "version": "2.7.6"
  }
 },
 "nbformat": 4,
 "nbformat_minor": 0
}