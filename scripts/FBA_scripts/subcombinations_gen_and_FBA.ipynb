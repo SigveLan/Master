{
 "cells": [
  {
   "cell_type": "code",
   "execution_count": 15,
   "outputs": [],
   "source": [
    "import itertools\n",
    "import pandas as pd\n",
    "import cobra.flux_analysis\n",
    "from cobra.flux_analysis import find_essential_genes\n",
    "\n",
    "import time\n",
    "import numpy as np\n",
    "from src.mp_functions import  parallelize_dataframe, knockout_FBA_w_tasks, knockout_FBA_simple\n",
    "\n",
    "from functools import partial\n",
    "from src.task_functions import constrain_model, read_tasks\n"
   ],
   "metadata": {
    "collapsed": false,
    "pycharm": {
     "name": "#%%\n"
    }
   }
  },
  {
   "cell_type": "code",
   "execution_count": 40,
   "outputs": [],
   "source": [
    "# Model to load\n",
    "tissue = 'liver'\n",
    "model_file_path = 'C:/Users/Sigve/Genome_Data/Human1/Human1_GEM/GTEx/{0}.xml'.format(tissue)"
   ],
   "metadata": {
    "collapsed": false,
    "pycharm": {
     "name": "#%%\n"
    }
   }
  },
  {
   "cell_type": "code",
   "execution_count": 12,
   "outputs": [],
   "source": [
    "#Simple Load\n",
    "model = cobra.io.read_sbml_model(model_file_path)"
   ],
   "metadata": {
    "collapsed": false,
    "pycharm": {
     "name": "#%%\n"
    }
   }
  },
  {
   "cell_type": "code",
   "execution_count": 41,
   "outputs": [
    {
     "name": "stdout",
     "output_type": "stream",
     "text": [
      "Read LP format model from file C:\\Users\\Sigve\\AppData\\Local\\Temp\\tmp6d3imn8m.lp\n",
      "Reading time = 0.07 seconds\n",
      ": 5788 rows, 15892 columns, 69376 nonzeros\n"
     ]
    }
   ],
   "source": [
    "\n",
    "model_list = constrain_model(model_file_path, ALLMETSIN_OUT=False)\n"
   ],
   "metadata": {
    "collapsed": false,
    "pycharm": {
     "name": "#%%\n"
    }
   }
  },
  {
   "cell_type": "code",
   "execution_count": 61,
   "outputs": [],
   "source": [
    "# Which genes tp filter by.\n",
    "essential = None\n",
    "\n",
    "if essential == 'biomass_ess':\n",
    "    # Get essential genes using cobra, takes some time.\n",
    "    genes = [gene.id for gene in find_essential_genes(model_list[0])]\n",
    "\n",
    "elif essential == 'task_ess':\n",
    "    # Use taks essential genes\n",
    "    genes = pd.read_table('C:/Users/Sigve/Genome_Data/results/model_tests/essential_genes/{0}_non_essential.tsv'.format(tissue), index_col=0)['gene_ids'].tolist()\n",
    "\n",
    "else:\n",
    "    # Don't use essential genes\n",
    "    genes = [gene.id for gene in model_list[0].genes]"
   ],
   "metadata": {
    "collapsed": false,
    "pycharm": {
     "name": "#%%\n"
    }
   }
  },
  {
   "cell_type": "code",
   "execution_count": 93,
   "outputs": [
    {
     "name": "stdout",
     "output_type": "stream",
     "text": [
      "Num genes: 8\n",
      "['ENSG00000198130', 'ENSG00000175198', 'ENSG00000248098', 'ENSG00000137992', 'ENSG00000105552', 'ENSG00000114054', 'ENSG00000146085', 'ENSG00000084754']\n",
      "Num combs: 93\n",
      "93\n"
     ]
    }
   ],
   "source": [
    "# Create and run combinations for individual samples\n",
    "t='ENSG00000198130;ENSG00000084754;ENSG00000105552;ENSG00000248098;ENSG00000137992;ENSG00000146085;ENSG00000114054;ENSG00000175198'\n",
    "input = t.split(';')\n",
    "print('Num genes: ' + str(len(input)))\n",
    "input = list(set(input).intersection(genes))\n",
    "print(input)\n",
    "\n",
    "combs = []\n",
    "for i in range(1, 4): #len(input) + 1):\n",
    "    for c in itertools.combinations(input, i):\n",
    "        combs.append(list(c))\n",
    "\n",
    "combs.append(input)\n",
    "test_df = pd.DataFrame({'gene_ids': combs})\n",
    "\n",
    "print('Num combs: ' + str(len(combs)))\n",
    "\n",
    "#essential_tasks_min_ess_aa.tsv\n",
    "#tissue_full_tasks/full_tasks_minus_ess_{0}.tsv\n",
    "\n",
    "task_list = read_tasks('C:/Users/Sigve/Genome_Data/Human1/Human1_GEM/tasks/test_tasks/valine_degradation_task.tsv'.format(tissue), model_list)\n",
    "# Adds empty task result list column\n",
    "test_df['tasks_results'] = np.empty((len(test_df), 0)).tolist()\n",
    "test_df.reset_index(inplace=True)\n",
    "test_df.rename(columns={'index': 'sample_ids'}, inplace=True)\n",
    "test_df['sample_ids'] = test_df['sample_ids'].apply(lambda x: x + 1)\n",
    "\n",
    "\n",
    "print(test_df.shape[0])\n",
    "#print(test_df)"
   ],
   "metadata": {
    "collapsed": false,
    "pycharm": {
     "name": "#%%\n"
    }
   }
  },
  {
   "cell_type": "code",
   "execution_count": 94,
   "outputs": [
    {
     "name": "stdout",
     "output_type": "stream",
     "text": [
      "Total time: 41.062735 seconds\n"
     ]
    }
   ],
   "source": [
    "#Output file\n",
    "output_file = 'C:/Users/Sigve/Genome_Data/results/model_tests/task_tests/degradation_test_{0}.tsv'.format(tissue)\n",
    "\n",
    "\n",
    "test_df.loc[-1] = ['REF', [], []]\n",
    "\n",
    "# Put REF on top\n",
    "test_df.index = test_df.index + 1  # shifting index\n",
    "test_df.sort_index(inplace=True)\n",
    "\n",
    "start_time = time.time()\n",
    "# FBA\n",
    "results = parallelize_dataframe(test_df, partial(knockout_FBA_w_tasks, task_list, model_list), n_cores=2)\n",
    "\n",
    "end_time = time.time()\n",
    "print('Total time: %.6f seconds' % (end_time - start_time))\n",
    "\n",
    "\n",
    "\n",
    "results['gene_ids'] = results['gene_ids'].apply(';'.join)\n",
    "results['tasks_results'] = results['tasks_results'].apply(lambda x: x if not all(x) else ['ALL PASS'])\n",
    "\n",
    "results.reset_index(inplace=True, drop=True)\n",
    "results[['sample_ids', 'gene_ids', 'solution', 'tasks_results']].to_csv(path_or_buf=output_file, sep='\\t')\n"
   ],
   "metadata": {
    "collapsed": false,
    "pycharm": {
     "name": "#%%\n"
    }
   }
  },
  {
   "cell_type": "code",
   "execution_count": null,
   "outputs": [],
   "source": [],
   "metadata": {
    "collapsed": false,
    "pycharm": {
     "name": "#%%\n"
    }
   }
  }
 ],
 "metadata": {
  "kernelspec": {
   "display_name": "Python 3",
   "language": "python",
   "name": "python3"
  },
  "language_info": {
   "codemirror_mode": {
    "name": "ipython",
    "version": 2
   },
   "file_extension": ".py",
   "mimetype": "text/x-python",
   "name": "python",
   "nbconvert_exporter": "python",
   "pygments_lexer": "ipython2",
   "version": "2.7.6"
  }
 },
 "nbformat": 4,
 "nbformat_minor": 0
}