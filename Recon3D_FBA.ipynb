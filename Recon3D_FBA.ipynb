{
 "cells": [
  {
   "cell_type": "code",
   "execution_count": 2,
   "outputs": [
    {
     "name": "stdout",
     "output_type": "stream",
     "text": [
      "Academic license - for non-commercial use only - expires 2022-10-03\n",
      "Using license file c:\\gurobi\\gurobi.lic\n",
      "Model load time: 18.739216 seconds\n"
     ]
    }
   ],
   "source": [
    "import re\n",
    "import pandas as pd\n",
    "import itertools\n",
    "import cobra.flux_analysis\n",
    "import time\n",
    "from functools import partial\n",
    "from src.mp_functions import combinations_subset, parallelize_dataframe, knockout_FBA\n",
    "\n",
    "\n",
    "\"\"\"A mess of a document with different code cells.\n",
    "Good to to use for any testing that involves the Recon3D model as it takes some time to load in.\"\"\"\n",
    "\n",
    "start_time = time.time()\n",
    "model_file_path = 'C:/Users/Sigve/Genome_Data/Recon3D/JSON/Recon3D.json'\n",
    "model = cobra.io.load_json_model(model_file_path)\n",
    "\n",
    "\n",
    "SNP_results = pd.read_table('C:/Users/Sigve/Genome_Data/results/SNPs_non_synonymous.tsv', index_col=0)\n",
    "\n",
    "end_time = time.time()\n",
    "print('Model load time: %.6f seconds' % (end_time - start_time))"
   ],
   "metadata": {
    "collapsed": false,
    "pycharm": {
     "name": "#%%\n"
    }
   }
  },
  {
   "cell_type": "code",
   "execution_count": 4,
   "outputs": [],
   "source": [
    "# Prepare SNP combinations; lists genes to knock out by model id.\n",
    "combinations = pd.read_table('C:/Users/Sigve/Genome_Data/results/SNP_combinations.tsv', index_col=0)\n",
    "combinations['combinations'] = combinations['combinations'].apply(lambda x: x.split(';'))\n",
    "\n",
    "combinations['gene_model_ids'] = combinations['combinations']\\\n",
    "    .apply(lambda x: SNP_results.loc[SNP_results['variant_name'].isin(x), ['model_gene_number']].iloc[:, 0].tolist())\n",
    "\n",
    "id_list = ';' + ';'.join(model.genes.list_attr('id'))\n",
    "\n",
    "combinations['gene_model_ids'] = combinations['gene_model_ids'].apply(lambda x:\n",
    "                                list(set(itertools.chain.from_iterable(\n",
    "                                [re.findall(r\"(?:;)(\" + str(i) + r\"_AT\\d+)\", id_list) for i in x]))))\n",
    "\n",
    "combinations.to_csv(path_or_buf='C:/Users/Sigve/Genome_Data/results/test.tsv', sep='\\t')"
   ],
   "metadata": {
    "collapsed": false,
    "pycharm": {
     "name": "#%%\n"
    }
   }
  },
  {
   "cell_type": "code",
   "execution_count": 5,
   "outputs": [
    {
     "ename": "TypeError",
     "evalue": "cannot pickle 'SwigPyObject' object",
     "output_type": "error",
     "traceback": [
      "\u001B[1;31m---------------------------------------------------------------------------\u001B[0m",
      "\u001B[1;31mTypeError\u001B[0m                                 Traceback (most recent call last)",
      "\u001B[1;32m~\\AppData\\Local\\Temp/ipykernel_12568/743886151.py\u001B[0m in \u001B[0;36m<module>\u001B[1;34m\u001B[0m\n\u001B[0;32m      3\u001B[0m \u001B[1;33m\u001B[0m\u001B[0m\n\u001B[0;32m      4\u001B[0m \u001B[1;33m\u001B[0m\u001B[0m\n\u001B[1;32m----> 5\u001B[1;33m \u001B[0mcombinations\u001B[0m \u001B[1;33m=\u001B[0m \u001B[0mparallelize_dataframe\u001B[0m\u001B[1;33m(\u001B[0m\u001B[0mcombinations\u001B[0m\u001B[1;33m,\u001B[0m \u001B[0mpartial\u001B[0m\u001B[1;33m(\u001B[0m\u001B[0mcombinations_subset\u001B[0m\u001B[1;33m,\u001B[0m \u001B[0mpartial\u001B[0m\u001B[1;33m(\u001B[0m\u001B[0mknockout_FBA\u001B[0m\u001B[1;33m,\u001B[0m \u001B[0mmodel\u001B[0m\u001B[1;33m)\u001B[0m\u001B[1;33m)\u001B[0m\u001B[1;33m,\u001B[0m \u001B[1;36m8\u001B[0m\u001B[1;33m)\u001B[0m\u001B[1;33m\u001B[0m\u001B[1;33m\u001B[0m\u001B[0m\n\u001B[0m\u001B[0;32m      6\u001B[0m \u001B[0mcombinations\u001B[0m\u001B[1;33m.\u001B[0m\u001B[0mto_csv\u001B[0m\u001B[1;33m(\u001B[0m\u001B[0mpath_or_buf\u001B[0m\u001B[1;33m=\u001B[0m\u001B[1;34m'C:/Users/Sigve/Genome_Data/results/test.tsv'\u001B[0m\u001B[1;33m,\u001B[0m \u001B[0msep\u001B[0m\u001B[1;33m=\u001B[0m\u001B[1;34m'\\t'\u001B[0m\u001B[1;33m)\u001B[0m\u001B[1;33m\u001B[0m\u001B[1;33m\u001B[0m\u001B[0m\n\u001B[0;32m      7\u001B[0m \u001B[1;33m\u001B[0m\u001B[0m\n",
      "\u001B[1;32m~\\PycharmProjects\\Master\\src\\mp_functions.py\u001B[0m in \u001B[0;36mparallelize_dataframe\u001B[1;34m(df, func, n_cores)\u001B[0m\n\u001B[0;32m     29\u001B[0m     \u001B[0mdf_split\u001B[0m \u001B[1;33m=\u001B[0m \u001B[0mnp\u001B[0m\u001B[1;33m.\u001B[0m\u001B[0marray_split\u001B[0m\u001B[1;33m(\u001B[0m\u001B[0mdf\u001B[0m\u001B[1;33m,\u001B[0m \u001B[0mn_cores\u001B[0m\u001B[1;33m)\u001B[0m\u001B[1;33m\u001B[0m\u001B[1;33m\u001B[0m\u001B[0m\n\u001B[0;32m     30\u001B[0m     \u001B[0mpool\u001B[0m \u001B[1;33m=\u001B[0m \u001B[0mPool\u001B[0m\u001B[1;33m(\u001B[0m\u001B[0mn_cores\u001B[0m\u001B[1;33m)\u001B[0m\u001B[1;33m\u001B[0m\u001B[1;33m\u001B[0m\u001B[0m\n\u001B[1;32m---> 31\u001B[1;33m     \u001B[0mdf\u001B[0m \u001B[1;33m=\u001B[0m \u001B[0mpd\u001B[0m\u001B[1;33m.\u001B[0m\u001B[0mconcat\u001B[0m\u001B[1;33m(\u001B[0m\u001B[0mpool\u001B[0m\u001B[1;33m.\u001B[0m\u001B[0mmap\u001B[0m\u001B[1;33m(\u001B[0m\u001B[0mfunc\u001B[0m\u001B[1;33m,\u001B[0m \u001B[0mdf_split\u001B[0m\u001B[1;33m)\u001B[0m\u001B[1;33m)\u001B[0m\u001B[1;33m\u001B[0m\u001B[1;33m\u001B[0m\u001B[0m\n\u001B[0m\u001B[0;32m     32\u001B[0m     \u001B[0mpool\u001B[0m\u001B[1;33m.\u001B[0m\u001B[0mclose\u001B[0m\u001B[1;33m(\u001B[0m\u001B[1;33m)\u001B[0m\u001B[1;33m\u001B[0m\u001B[1;33m\u001B[0m\u001B[0m\n\u001B[0;32m     33\u001B[0m     \u001B[0mpool\u001B[0m\u001B[1;33m.\u001B[0m\u001B[0mjoin\u001B[0m\u001B[1;33m(\u001B[0m\u001B[1;33m)\u001B[0m\u001B[1;33m\u001B[0m\u001B[1;33m\u001B[0m\u001B[0m\n",
      "\u001B[1;32m~\\miniconda3\\envs\\Master\\lib\\multiprocessing\\pool.py\u001B[0m in \u001B[0;36mmap\u001B[1;34m(self, func, iterable, chunksize)\u001B[0m\n\u001B[0;32m    362\u001B[0m         \u001B[1;32min\u001B[0m \u001B[0ma\u001B[0m \u001B[0mlist\u001B[0m \u001B[0mthat\u001B[0m \u001B[1;32mis\u001B[0m \u001B[0mreturned\u001B[0m\u001B[1;33m.\u001B[0m\u001B[1;33m\u001B[0m\u001B[1;33m\u001B[0m\u001B[0m\n\u001B[0;32m    363\u001B[0m         '''\n\u001B[1;32m--> 364\u001B[1;33m         \u001B[1;32mreturn\u001B[0m \u001B[0mself\u001B[0m\u001B[1;33m.\u001B[0m\u001B[0m_map_async\u001B[0m\u001B[1;33m(\u001B[0m\u001B[0mfunc\u001B[0m\u001B[1;33m,\u001B[0m \u001B[0miterable\u001B[0m\u001B[1;33m,\u001B[0m \u001B[0mmapstar\u001B[0m\u001B[1;33m,\u001B[0m \u001B[0mchunksize\u001B[0m\u001B[1;33m)\u001B[0m\u001B[1;33m.\u001B[0m\u001B[0mget\u001B[0m\u001B[1;33m(\u001B[0m\u001B[1;33m)\u001B[0m\u001B[1;33m\u001B[0m\u001B[1;33m\u001B[0m\u001B[0m\n\u001B[0m\u001B[0;32m    365\u001B[0m \u001B[1;33m\u001B[0m\u001B[0m\n\u001B[0;32m    366\u001B[0m     \u001B[1;32mdef\u001B[0m \u001B[0mstarmap\u001B[0m\u001B[1;33m(\u001B[0m\u001B[0mself\u001B[0m\u001B[1;33m,\u001B[0m \u001B[0mfunc\u001B[0m\u001B[1;33m,\u001B[0m \u001B[0miterable\u001B[0m\u001B[1;33m,\u001B[0m \u001B[0mchunksize\u001B[0m\u001B[1;33m=\u001B[0m\u001B[1;32mNone\u001B[0m\u001B[1;33m)\u001B[0m\u001B[1;33m:\u001B[0m\u001B[1;33m\u001B[0m\u001B[1;33m\u001B[0m\u001B[0m\n",
      "\u001B[1;32m~\\miniconda3\\envs\\Master\\lib\\multiprocessing\\pool.py\u001B[0m in \u001B[0;36mget\u001B[1;34m(self, timeout)\u001B[0m\n\u001B[0;32m    769\u001B[0m             \u001B[1;32mreturn\u001B[0m \u001B[0mself\u001B[0m\u001B[1;33m.\u001B[0m\u001B[0m_value\u001B[0m\u001B[1;33m\u001B[0m\u001B[1;33m\u001B[0m\u001B[0m\n\u001B[0;32m    770\u001B[0m         \u001B[1;32melse\u001B[0m\u001B[1;33m:\u001B[0m\u001B[1;33m\u001B[0m\u001B[1;33m\u001B[0m\u001B[0m\n\u001B[1;32m--> 771\u001B[1;33m             \u001B[1;32mraise\u001B[0m \u001B[0mself\u001B[0m\u001B[1;33m.\u001B[0m\u001B[0m_value\u001B[0m\u001B[1;33m\u001B[0m\u001B[1;33m\u001B[0m\u001B[0m\n\u001B[0m\u001B[0;32m    772\u001B[0m \u001B[1;33m\u001B[0m\u001B[0m\n\u001B[0;32m    773\u001B[0m     \u001B[1;32mdef\u001B[0m \u001B[0m_set\u001B[0m\u001B[1;33m(\u001B[0m\u001B[0mself\u001B[0m\u001B[1;33m,\u001B[0m \u001B[0mi\u001B[0m\u001B[1;33m,\u001B[0m \u001B[0mobj\u001B[0m\u001B[1;33m)\u001B[0m\u001B[1;33m:\u001B[0m\u001B[1;33m\u001B[0m\u001B[1;33m\u001B[0m\u001B[0m\n",
      "\u001B[1;32m~\\miniconda3\\envs\\Master\\lib\\multiprocessing\\pool.py\u001B[0m in \u001B[0;36m_handle_tasks\u001B[1;34m(taskqueue, put, outqueue, pool, cache)\u001B[0m\n\u001B[0;32m    535\u001B[0m                         \u001B[1;32mbreak\u001B[0m\u001B[1;33m\u001B[0m\u001B[1;33m\u001B[0m\u001B[0m\n\u001B[0;32m    536\u001B[0m                     \u001B[1;32mtry\u001B[0m\u001B[1;33m:\u001B[0m\u001B[1;33m\u001B[0m\u001B[1;33m\u001B[0m\u001B[0m\n\u001B[1;32m--> 537\u001B[1;33m                         \u001B[0mput\u001B[0m\u001B[1;33m(\u001B[0m\u001B[0mtask\u001B[0m\u001B[1;33m)\u001B[0m\u001B[1;33m\u001B[0m\u001B[1;33m\u001B[0m\u001B[0m\n\u001B[0m\u001B[0;32m    538\u001B[0m                     \u001B[1;32mexcept\u001B[0m \u001B[0mException\u001B[0m \u001B[1;32mas\u001B[0m \u001B[0me\u001B[0m\u001B[1;33m:\u001B[0m\u001B[1;33m\u001B[0m\u001B[1;33m\u001B[0m\u001B[0m\n\u001B[0;32m    539\u001B[0m                         \u001B[0mjob\u001B[0m\u001B[1;33m,\u001B[0m \u001B[0midx\u001B[0m \u001B[1;33m=\u001B[0m \u001B[0mtask\u001B[0m\u001B[1;33m[\u001B[0m\u001B[1;33m:\u001B[0m\u001B[1;36m2\u001B[0m\u001B[1;33m]\u001B[0m\u001B[1;33m\u001B[0m\u001B[1;33m\u001B[0m\u001B[0m\n",
      "\u001B[1;32m~\\miniconda3\\envs\\Master\\lib\\multiprocessing\\connection.py\u001B[0m in \u001B[0;36msend\u001B[1;34m(self, obj)\u001B[0m\n\u001B[0;32m    209\u001B[0m         \u001B[0mself\u001B[0m\u001B[1;33m.\u001B[0m\u001B[0m_check_closed\u001B[0m\u001B[1;33m(\u001B[0m\u001B[1;33m)\u001B[0m\u001B[1;33m\u001B[0m\u001B[1;33m\u001B[0m\u001B[0m\n\u001B[0;32m    210\u001B[0m         \u001B[0mself\u001B[0m\u001B[1;33m.\u001B[0m\u001B[0m_check_writable\u001B[0m\u001B[1;33m(\u001B[0m\u001B[1;33m)\u001B[0m\u001B[1;33m\u001B[0m\u001B[1;33m\u001B[0m\u001B[0m\n\u001B[1;32m--> 211\u001B[1;33m         \u001B[0mself\u001B[0m\u001B[1;33m.\u001B[0m\u001B[0m_send_bytes\u001B[0m\u001B[1;33m(\u001B[0m\u001B[0m_ForkingPickler\u001B[0m\u001B[1;33m.\u001B[0m\u001B[0mdumps\u001B[0m\u001B[1;33m(\u001B[0m\u001B[0mobj\u001B[0m\u001B[1;33m)\u001B[0m\u001B[1;33m)\u001B[0m\u001B[1;33m\u001B[0m\u001B[1;33m\u001B[0m\u001B[0m\n\u001B[0m\u001B[0;32m    212\u001B[0m \u001B[1;33m\u001B[0m\u001B[0m\n\u001B[0;32m    213\u001B[0m     \u001B[1;32mdef\u001B[0m \u001B[0mrecv_bytes\u001B[0m\u001B[1;33m(\u001B[0m\u001B[0mself\u001B[0m\u001B[1;33m,\u001B[0m \u001B[0mmaxlength\u001B[0m\u001B[1;33m=\u001B[0m\u001B[1;32mNone\u001B[0m\u001B[1;33m)\u001B[0m\u001B[1;33m:\u001B[0m\u001B[1;33m\u001B[0m\u001B[1;33m\u001B[0m\u001B[0m\n",
      "\u001B[1;32m~\\miniconda3\\envs\\Master\\lib\\multiprocessing\\reduction.py\u001B[0m in \u001B[0;36mdumps\u001B[1;34m(cls, obj, protocol)\u001B[0m\n\u001B[0;32m     49\u001B[0m     \u001B[1;32mdef\u001B[0m \u001B[0mdumps\u001B[0m\u001B[1;33m(\u001B[0m\u001B[0mcls\u001B[0m\u001B[1;33m,\u001B[0m \u001B[0mobj\u001B[0m\u001B[1;33m,\u001B[0m \u001B[0mprotocol\u001B[0m\u001B[1;33m=\u001B[0m\u001B[1;32mNone\u001B[0m\u001B[1;33m)\u001B[0m\u001B[1;33m:\u001B[0m\u001B[1;33m\u001B[0m\u001B[1;33m\u001B[0m\u001B[0m\n\u001B[0;32m     50\u001B[0m         \u001B[0mbuf\u001B[0m \u001B[1;33m=\u001B[0m \u001B[0mio\u001B[0m\u001B[1;33m.\u001B[0m\u001B[0mBytesIO\u001B[0m\u001B[1;33m(\u001B[0m\u001B[1;33m)\u001B[0m\u001B[1;33m\u001B[0m\u001B[1;33m\u001B[0m\u001B[0m\n\u001B[1;32m---> 51\u001B[1;33m         \u001B[0mcls\u001B[0m\u001B[1;33m(\u001B[0m\u001B[0mbuf\u001B[0m\u001B[1;33m,\u001B[0m \u001B[0mprotocol\u001B[0m\u001B[1;33m)\u001B[0m\u001B[1;33m.\u001B[0m\u001B[0mdump\u001B[0m\u001B[1;33m(\u001B[0m\u001B[0mobj\u001B[0m\u001B[1;33m)\u001B[0m\u001B[1;33m\u001B[0m\u001B[1;33m\u001B[0m\u001B[0m\n\u001B[0m\u001B[0;32m     52\u001B[0m         \u001B[1;32mreturn\u001B[0m \u001B[0mbuf\u001B[0m\u001B[1;33m.\u001B[0m\u001B[0mgetbuffer\u001B[0m\u001B[1;33m(\u001B[0m\u001B[1;33m)\u001B[0m\u001B[1;33m\u001B[0m\u001B[1;33m\u001B[0m\u001B[0m\n\u001B[0;32m     53\u001B[0m \u001B[1;33m\u001B[0m\u001B[0m\n",
      "\u001B[1;31mTypeError\u001B[0m: cannot pickle 'SwigPyObject' object"
     ]
    }
   ],
   "source": [
    "# FBA code cell\n",
    "start_time = time.time()\n",
    "\n",
    "\n",
    "combinations = parallelize_dataframe(combinations, partial(combinations_subset, partial(knockout_FBA, model)), 8)\n",
    "combinations.to_csv(path_or_buf='C:/Users/Sigve/Genome_Data/results/test.tsv', sep='\\t')\n",
    "\n",
    "\n",
    "end_time = time.time()\n",
    "print('FBA run time: %.6f seconds' % (end_time - start_time))"
   ],
   "metadata": {
    "collapsed": false,
    "pycharm": {
     "name": "#%%\n"
    }
   }
  },
  {
   "cell_type": "code",
   "execution_count": 9,
   "outputs": [
    {
     "name": "stdout",
     "output_type": "stream",
     "text": [
      "combinations      [rs144738806, rs58212531, rs114264176, rs56677...\n",
      "gene_model_ids    [170384_AT1, 8802_AT1, 18_AT2, 478_AT1, 1244_A...\n",
      "results                         <Solution 674.472 at 0x1dbe9f57d30>\n",
      "Name: 80, dtype: object\n",
      "combinations      [rs536105762, rs57058990, rs182401722, rs15052...\n",
      "gene_model_ids    [50484_AT1, 411_AT1, 3098_AT1, 4645_AT1, 79581...\n",
      "results                         <Solution 699.461 at 0x1dbe609c670>\n",
      "Name: 111, dtype: object\n",
      "combinations      [rs565524272, rs114264176, rs550568353, rs1405...\n",
      "gene_model_ids    [8802_AT1, 27430_AT1, 10846_AT1, 80201_AT1, 94...\n",
      "results                         <Solution 674.472 at 0x1dbe624b310>\n",
      "Name: 162, dtype: object\n",
      "combinations      [rs568979468, rs545762746, rs542133702, rs5316...\n",
      "gene_model_ids    [491_AT1, 245973_AT1, 8802_AT1, 55315_AT1, 108...\n",
      "results                         <Solution 674.472 at 0x1dbe622e250>\n",
      "Name: 280, dtype: object\n",
      "combinations      [rs546991277, rs114264176, rs565731657, rs5580...\n",
      "gene_model_ids    [8802_AT1, 23236_AT1, 8528_AT2, 478_AT1, 490_A...\n",
      "results                         <Solution 674.472 at 0x1dbe5c113a0>\n",
      "Name: 397, dtype: object\n",
      "combinations      [rs145811180, rs188407199, rs182526962, rs1424...\n",
      "gene_model_ids    [178_AT2, 495_AT1, 8802_AT1, 6530_AT1, 5728_AT...\n",
      "results                         <Solution 674.472 at 0x1dbe5b4e9a0>\n",
      "Name: 485, dtype: object\n",
      "combinations      [rs78978864, rs148658241, rs535143891, rs54532...\n",
      "gene_model_ids    [4719_AT1, 262_AT1, 50484_AT1, 6240_AT1, 6564_...\n",
      "results                         <Solution 699.461 at 0x1dbe5c9a430>\n",
      "Name: 626, dtype: object\n",
      "combinations      [rs186385498, rs76201145, rs76644224, rs572708...\n",
      "gene_model_ids    [178_AT2, 34_AT1, 253558_AT1, 10558_AT1, 28965...\n",
      "results                         <Solution 698.561 at 0x1dbe5ca86d0>\n",
      "Name: 633, dtype: object\n",
      "combinations      [rs9827, rs76201145, rs550233498, rs529296353,...\n",
      "gene_model_ids    [8802_AT1, 4719_AT1, 5446_AT1, 64849_AT2, 2879...\n",
      "results                         <Solution 674.472 at 0x1dbe59cf6d0>\n",
      "Name: 675, dtype: object\n",
      "combinations      [rs752421971, rs114264176, rs184372075, rs5458...\n",
      "gene_model_ids    [5142_AT1, 8802_AT1, 23761_AT1, 23007_AT1, 158...\n",
      "results                         <Solution 674.472 at 0x1dbe621d8b0>\n",
      "Name: 734, dtype: object\n",
      "combinations      [rs144738806, rs779667041, rs563266893, rs1464...\n",
      "gene_model_ids    [23498_AT1, 5337_AT1, 4905_AT1, 478_AT1, 5208_...\n",
      "results                         <Solution 687.851 at 0x1dbe546c4f0>\n",
      "Name: 759, dtype: object\n",
      "combinations      [rs138253284, rs150627458, rs532170204, rs1142...\n",
      "gene_model_ids    [8802_AT1, 6530_AT1, 84076_AT1, 5290_AT1, 9869...\n",
      "results                         <Solution 674.472 at 0x1dbe52e2d90>\n",
      "Name: 767, dtype: object\n",
      "combinations      [rs190885329, rs146370238, rs542537167, rs1482...\n",
      "gene_model_ids    [4719_AT1, 8802_AT1, 6916_AT1, 9380_AT1, 5208_...\n",
      "results                         <Solution 674.472 at 0x1dbf742e100>\n",
      "Name: 1017, dtype: object\n",
      "combinations      [rs114588043, rs180724576, rs185281123, rs1142...\n",
      "gene_model_ids    [178_AT2, 491_AT1, 8802_AT1, 178_AT1, 33_AT1, ...\n",
      "results                         <Solution 674.472 at 0x1dbe5cd70d0>\n",
      "Name: 1258, dtype: object\n",
      "combinations      [rs181909253, rs114264176, rs573430422, rs1405...\n",
      "gene_model_ids    [5048_AT1, 8802_AT1, 18_AT2, 4720_AT1, 4025_AT...\n",
      "results                         <Solution 674.472 at 0x1dbce173e20>\n",
      "Name: 1348, dtype: object\n",
      "combinations      [rs57058990, rs187257885, rs191758317, rs53217...\n",
      "gene_model_ids    [26027_AT1, 7915_AT2, 92483_AT1, 79581_AT1, 55...\n",
      "results                         <Solution 698.561 at 0x1dbf744b610>\n",
      "Name: 1384, dtype: object\n",
      "combinations      [rs148658241, rs147745794, rs149994638, rs1460...\n",
      "gene_model_ids    [217_AT1, 8802_AT1, 4719_AT1, 205_AT1, 205_AT2...\n",
      "results                         <Solution 674.472 at 0x1dbf74a59d0>\n",
      "Name: 1418, dtype: object\n",
      "combinations      [rs534502460, rs145869198, rs35691318, rs11812...\n",
      "gene_model_ids    [8802_AT1, 55350_AT3, 9469_AT1, 6546_AT1, 5535...\n",
      "results                         <Solution 674.472 at 0x1dbf94bb3d0>\n",
      "Name: 1456, dtype: object\n",
      "combinations      [rs45445093, rs148658241, rs545762746, rs54544...\n",
      "gene_model_ids    [7385_AT1, 5048_AT1, 4719_AT1, 8802_AT1, 3290_...\n",
      "results                         <Solution 674.472 at 0x1dbce17cf10>\n",
      "Name: 1634, dtype: object\n",
      "combinations      [rs372524237, rs577709113, rs142501748, rs5580...\n",
      "gene_model_ids    [9651_AT1, 8802_AT1, 18_AT2, 205_AT1, 205_AT2,...\n",
      "results                         <Solution 674.472 at 0x1dbf331fe80>\n",
      "Name: 1807, dtype: object\n",
      "combinations      [rs568554911, rs193032675, rs56241404, rs77967...\n",
      "gene_model_ids    [8802_AT1, 6916_AT1, 54020_AT1, 6547_AT3, 1133...\n",
      "results                         <Solution 674.472 at 0x1dbf9696ac0>\n",
      "Name: 1877, dtype: object\n",
      "combinations      [rs552823027, rs770224253, rs185867127, rs7536...\n",
      "gene_model_ids    [178_AT2, 113278_AT1, 8802_AT1, 4719_AT1, 7086...\n",
      "results                         <Solution 674.472 at 0x1dbf96e3be0>\n",
      "Name: 1904, dtype: object\n",
      "combinations      [rs764217154, rs114264176, rs565656890, rs5321...\n",
      "gene_model_ids    [8802_AT1, 23007_AT1, 1666_AT1, 549_AT1, 11332...\n",
      "results                         <Solution 674.472 at 0x1dbf970eac0>\n",
      "Name: 1919, dtype: object\n"
     ]
    }
   ],
   "source": [
    "# Check for non nominal results\n",
    "for i, result in combinations.iterrows():\n",
    "    res = result['results'].objective_value\n",
    "    if int(res) < 700:\n",
    "        print(result)\n",
    "\n"
   ],
   "metadata": {
    "collapsed": false,
    "pycharm": {
     "name": "#%%\n"
    }
   }
  },
  {
   "cell_type": "code",
   "execution_count": 23,
   "outputs": [],
   "source": [
    "def get_model_gene_info():\n",
    "    \"\"\"Function to extract all unique ids, not including \"_ATXX\" to a file\"\"\"\n",
    "    ids = model.genes.list_attr('id')\n",
    "    gene_ids = []\n",
    "\n",
    "    for i in ids[1:]:\n",
    "        s = i.split('_')\n",
    "        gene_ids.append(int(s[0]))\n",
    "\n",
    "\n",
    "    results = pd.Series(gene_ids, name='gene_number').drop_duplicates().sort_values().reset_index(drop=True)\n",
    "    results.to_csv(path_or_buf='C:/Users/Sigve/Genome_Data/exon_model_data/gene_ids_in_model.tsv', sep='\\t')\n",
    "\n",
    "\n",
    "get_model_gene_info()"
   ],
   "metadata": {
    "collapsed": false,
    "pycharm": {
     "name": "#%%\n"
    }
   }
  },
  {
   "cell_type": "code",
   "execution_count": 34,
   "outputs": [
    {
     "name": "stdout",
     "output_type": "stream",
     "text": [
      "   gene_number gene_name chromosome     ensembl_gene\n",
      "0           13     AADAC          3  ENSG00000114771\n",
      "1           15     AANAT         17  ENSG00000129673\n",
      "2           18      ABAT         16  ENSG00000183044\n",
      "3           19     ABCA1          9  ENSG00000165029\n",
      "4           21     ABCA3         16  ENSG00000167972\n"
     ]
    }
   ],
   "source": [
    "# It is somewhat convoluted, but not sure how to do it differently.\n",
    "def get_recon_store_names_by_model_id():\n",
    "    \"\"\"function to get gene names by using ids from the model.\n",
    "    Needed because the names in the model and from the store/ensembl are not necessarily the same.\n",
    "    The ensembl_gene ids are not necessarily the same due to alternative sequence genes.\n",
    "    Names are not always the same in the model itself and in the vmh website.\"\"\"\n",
    "\n",
    "    gene_ids = pd.read_table('C:/Users/Sigve/Genome_Data/exon_model_data/gene_ids_in_model.tsv', index_col=0)\n",
    "    recon_store = pd.read_table('C:/Users/Sigve/Genome_Data/exon_model_data/recon-store-genes.tsv')\n",
    "    recon_store['gene_number'] = recon_store['gene_number'].astype(int)\n",
    "\n",
    "    new_df = pd.merge(gene_ids, recon_store, on='gene_number')\n",
    "    new_df = new_df[['gene_number', 'symbol', 'chromosome', 'ensembl_gene']]\n",
    "    new_df.drop_duplicates(subset=['gene_number'], inplace=True)\n",
    "    new_df.rename(columns={'symbol': 'gene_name'}, inplace=True)\n",
    "    new_df.reset_index(drop=True, inplace=True)\n",
    "    new_df.to_csv(path_or_buf='C:/Users/Sigve/Genome_Data/exon_model_data/model_gene_ids.tsv', sep='\\t')\n",
    "    print(new_df.head())\n",
    "\n",
    "get_recon_store_names_by_model_id()"
   ],
   "metadata": {
    "collapsed": false,
    "pycharm": {
     "name": "#%%\n"
    }
   }
  },
  {
   "cell_type": "code",
   "execution_count": 7,
   "outputs": [
    {
     "name": "stdout",
     "output_type": "stream",
     "text": [
      "\n"
     ]
    },
    {
     "data": {
      "text/plain": "<Gene ENSG00000131069 at 0x29cbd3f19d0>",
      "text/html": "\n        <table>\n            <tr>\n                <td><strong>Gene identifier</strong></td><td>ENSG00000131069</td>\n            </tr><tr>\n                <td><strong>Name</strong></td><td></td>\n            </tr><tr>\n                <td><strong>Memory address</strong></td>\n                <td>0x029cbd3f19d0</td>\n            </tr><tr>\n                <td><strong>Functional</strong></td><td>True</td>\n            </tr><tr>\n                <td><strong>In 10 reaction(s)</strong></td><td>\n                    MAR04459, MAR03796, MAR11394, MAR04108, MAR04097, MAR04133, MAR04460, MAR03797, MAR00153, MAR04331</td>\n            </tr>\n        </table>"
     },
     "execution_count": 7,
     "metadata": {},
     "output_type": "execute_result"
    }
   ],
   "source": [
    "# Test stuff\n",
    "\n",
    "#print(model.reactions.HMR_9505.gene_name_reaction_rule)\n",
    "#model.reactions.MAOX.genes\n",
    "\n",
    "\n",
    "gene = model.genes.get_by_id('8644_AT1')\n",
    "print(gene.__getattribute__('name'))\n",
    "gene"
   ],
   "metadata": {
    "collapsed": false,
    "pycharm": {
     "name": "#%%\n"
    }
   }
  },
  {
   "cell_type": "code",
   "execution_count": 20,
   "outputs": [
    {
     "name": "stdout",
     "output_type": "stream",
     "text": [
      "              Variant source  Chromosome/scaffold name  \\\n",
      "Variant name                                             \n",
      "rs1000036                NaN                        14   \n",
      "rs1000036                NaN                        14   \n",
      "rs10000745               NaN                         4   \n",
      "rs1000108                NaN                         8   \n",
      "rs10001104               NaN                         4   \n",
      "\n",
      "              Chromosome/scaffold position start (bp)  \\\n",
      "Variant name                                            \n",
      "rs1000036                                    22772136   \n",
      "rs1000036                                    22772136   \n",
      "rs10000745                                  126429447   \n",
      "rs1000108                                    27429649   \n",
      "rs10001104                                    1527546   \n",
      "\n",
      "              Chromosome/scaffold position end (bp) Variant alleles  Strand  \n",
      "Variant name                                                                 \n",
      "rs1000036                                  22772136             G/A       1  \n",
      "rs1000036                                  22772136             G/A       1  \n",
      "rs10000745                                126429447             G/A       1  \n",
      "rs1000108                                  27429649             C/T       1  \n",
      "rs10001104                                  1527546             C/T       1  \n"
     ]
    }
   ],
   "source": [
    "# Code to change format of SNP files to be compatible with other code.\n",
    "new_SNPs = pd.read_table('C:/Users/Sigve/Genome_Data/SNP_data/SNPs_all_chrom_orig.tsv')\n",
    "columns = ['rsids', 'Variant source', 'chrom', 'pos', 'ref', 'alt']\n",
    "new_SNPs = new_SNPs.reindex(columns=columns)\n",
    "new_SNPs.rename(columns={'rsids': 'Variant name', 'chrom': 'Chromosome/scaffold name', 'pos': 'Chromosome/scaffold position start (bp)'}, inplace=True)\n",
    "new_SNPs['Chromosome/scaffold position end (bp)'] = new_SNPs['Chromosome/scaffold position start (bp)']\n",
    "new_SNPs['Variant alleles'] = new_SNPs['ref'] + '/' + new_SNPs['alt']\n",
    "new_SNPs.drop(columns=['ref', 'alt'], inplace=True)\n",
    "new_SNPs['Strand'] = 1\n",
    "new_SNPs['Chromosome/scaffold position start (bp)'] = new_SNPs['Chromosome/scaffold position start (bp)'].apply(int)\n",
    "new_SNPs['Chromosome/scaffold position end (bp)'] = new_SNPs['Chromosome/scaffold position end (bp)'].apply(int)\n",
    "new_SNPs.set_index(['Variant name'], drop=True, inplace=True)\n",
    "print(new_SNPs.head())\n",
    "\n",
    "new_SNPs.to_csv(path_or_buf='C:/Users/Sigve/Genome_Data/SNP_data/SNPs_all_chrom.tsv', sep='\\t')"
   ],
   "metadata": {
    "collapsed": false,
    "pycharm": {
     "name": "#%%\n"
    }
   }
  }
 ],
 "metadata": {
  "kernelspec": {
   "name": "python3",
   "language": "python",
   "display_name": "Python 3 (ipykernel)"
  },
  "language_info": {
   "codemirror_mode": {
    "name": "ipython",
    "version": 2
   },
   "file_extension": ".py",
   "mimetype": "text/x-python",
   "name": "python",
   "nbconvert_exporter": "python",
   "pygments_lexer": "ipython2",
   "version": "2.7.6"
  }
 },
 "nbformat": 4,
 "nbformat_minor": 0
}