{
 "cells": [
  {
   "cell_type": "code",
   "execution_count": 36,
   "outputs": [
    {
     "name": "stdout",
     "output_type": "stream",
     "text": [
      "Model load time: 8.129111 seconds\n"
     ]
    }
   ],
   "source": [
    "import re\n",
    "import pandas as pd\n",
    "import itertools\n",
    "import cobra.flux_analysis\n",
    "import time\n",
    "from functools import partial\n",
    "from src.mp_functions import combinations_subset, parallelize_dataframe, knockout_FBA\n",
    "\n",
    "\n",
    "\"\"\"A mess of a document with different code cells.\n",
    "Good to to use for any testing that involves the Recon3D model as it takes some time to load in.\"\"\"\n",
    "\n",
    "start_time = time.time()\n",
    "model_file_path = 'C:/Users/Sigve/Genome_Data/Recon3D/JSON/Recon3D.json'\n",
    "model = cobra.io.load_json_model(model_file_path)\n",
    "\n",
    "SNP_results = pd.read_table('C:/Users/Sigve/Genome_Data/results/SNPs_effect.tsv', index_col=0)\n",
    "\n",
    "end_time = time.time()\n",
    "print('Model load time: %.6f seconds' % (end_time - start_time))"
   ],
   "metadata": {
    "collapsed": false,
    "pycharm": {
     "name": "#%%\n"
    }
   }
  },
  {
   "cell_type": "code",
   "execution_count": 54,
   "outputs": [],
   "source": [
    "# Prepare SNP combinations, reaction constraints\n",
    "combinations = pd.read_table('C:/Users/Sigve/Genome_Data/results/SNP_combinations.tsv', index_col=0)\n",
    "combinations['combinations'] = combinations['combinations'].apply(lambda x: x.split(';'))\n",
    "\n",
    "combinations['gene_model_ids'] = combinations['combinations']\\\n",
    "    .apply(lambda x: SNP_results.loc[SNP_results['variant_name'].isin(x), ['model_gene_number']].iloc[:, 0].tolist())\n",
    "\n",
    "id_list = ';' + ';'.join(model.genes.list_attr('id'))\n",
    "\n",
    "combinations['gene_model_ids'] = combinations['gene_model_ids'].apply(lambda x:\n",
    "                                list(set(itertools.chain.from_iterable(\n",
    "                                [re.findall(r\"(?:;)(\" + str(i) + r\"_AT\\d+)\", id_list) for i in x]))))\n",
    "\n",
    "combinations.to_csv(path_or_buf='C:/Users/Sigve/Genome_Data/results/test.tsv', sep='\\t')"
   ],
   "metadata": {
    "collapsed": false,
    "pycharm": {
     "name": "#%%\n"
    }
   }
  },
  {
   "cell_type": "code",
   "execution_count": 55,
   "outputs": [
    {
     "name": "stdout",
     "output_type": "stream",
     "text": [
      "FBA run time: 139.829631 seconds\n"
     ]
    }
   ],
   "source": [
    "start_time = time.time()\n",
    "\n",
    "\n",
    "combinations = parallelize_dataframe(combinations, partial(combinations_subset, partial(knockout_FBA, model)), 8)\n",
    "combinations.to_csv(path_or_buf='C:/Users/Sigve/Genome_Data/results/test.tsv', sep='\\t')\n",
    "\n",
    "\n",
    "end_time = time.time()\n",
    "print('FBA run time: %.6f seconds' % (end_time - start_time))"
   ],
   "metadata": {
    "collapsed": false,
    "pycharm": {
     "name": "#%%\n"
    }
   }
  },
  {
   "cell_type": "code",
   "execution_count": 56,
   "outputs": [
    {
     "name": "stdout",
     "output_type": "stream",
     "text": [
      "combinations      [rs533568327, rs190156724, rs118121926, rs6714...\n",
      "gene_model_ids    [6565_AT1, 50484_AT1, 1757_AT1, 124583_AT1, 49...\n",
      "results                         <Solution 699.461 at 0x219be7b56a0>\n",
      "Name: 13, dtype: object\n",
      "combinations      [rs536105762, rs550006246, rs117832164, rs1459...\n",
      "gene_model_ids    [11000_AT1, 7086_AT1, 178_AT4, 5138_AT1, 11343...\n",
      "results                         <Solution 699.461 at 0x219c9c2d820>\n",
      "Name: 62, dtype: object\n",
      "combinations      [rs73920193, rs72922900, rs114264176, rs190762...\n",
      "gene_model_ids    [8140_AT1, 23396_AT1, 10396_AT1, 7389_AT1, 650...\n",
      "results                         <Solution 674.472 at 0x219c1ccdaf0>\n",
      "Name: 102, dtype: object\n",
      "combinations      [rs138651156, rs146704698, rs536105762, rs5388...\n",
      "gene_model_ids    [2731_AT1, 10864_AT1, 549_AT1, 6511_AT1, 9056_...\n",
      "results                         <Solution 674.472 at 0x219c9010730>\n",
      "Name: 109, dtype: object\n",
      "combinations      [rs114264176, rs558047438, rs147862130, rs7579...\n",
      "gene_model_ids    [178_AT2, 178_AT6, 178_AT1, 178_AT3, 491_AT1, ...\n",
      "results                         <Solution 674.472 at 0x219bdb8cd30>\n",
      "Name: 238, dtype: object\n",
      "combinations      [rs114264176, rs138667170, rs578060161, rs5526...\n",
      "gene_model_ids    [9583_AT1, 124583_AT1, 9677_AT1, 28965_AT1, 11...\n",
      "results                         <Solution 674.472 at 0x219bf7a7580>\n",
      "Name: 313, dtype: object\n",
      "combinations      [rs7858222, rs117207067, rs180724576, rs562086...\n",
      "gene_model_ids    [6547_AT6, 353_AT1, 6547_AT1, 7083_AT1, 7389_A...\n",
      "results                         <Solution 674.472 at 0x219be2c5a60>\n",
      "Name: 341, dtype: object\n",
      "combinations      [rs187008794, rs9827, rs758991403, rs113007498...\n",
      "gene_model_ids    [5373_AT1, 23539_AT1, 24_AT1, 27159_AT2, 9896_...\n",
      "results                         <Solution 674.472 at 0x219c2146820>\n",
      "Name: 358, dtype: object\n",
      "combinations      [rs187257885, rs572708637, rs72555768, rs72922...\n",
      "gene_model_ids    [57835_AT2, 6518_AT1, 6005_AT1, 6506_AT1, 3098...\n",
      "results                         <Solution 698.561 at 0x219bcbc6d90>\n",
      "Name: 453, dtype: object\n",
      "combinations      [rs753685176, rs545862332, rs545023030, rs5396...\n",
      "gene_model_ids    [5293_AT1, 7083_AT1, 51805_AT1, 7389_AT1, 4056...\n",
      "results                         <Solution 674.472 at 0x219bd2da3a0>\n",
      "Name: 494, dtype: object\n",
      "combinations      [rs185591930, rs140597246, rs541428129, rs5414...\n",
      "gene_model_ids    [5290_AT1, 8824_AT1, 50484_AT1, 4048_AT1, 491_...\n",
      "results                         <Solution 699.461 at 0x219c9010670>\n",
      "Name: 582, dtype: object\n",
      "combinations      [rs536105762, rs182401722, rs550233498, rs5580...\n",
      "gene_model_ids    [22856_AT1, 27430_AT1, 5335_AT2, 9896_AT1, 504...\n",
      "results                         <Solution 699.461 at 0x219c14ea040>\n",
      "Name: 714, dtype: object\n",
      "combinations      [rs545023030, rs145915720, rs114264176, rs1468...\n",
      "gene_model_ids    [79948_AT1, 5293_AT1, 7389_AT1, 11343_AT2, 113...\n",
      "results                         <Solution 674.472 at 0x219c18a27f0>\n",
      "Name: 811, dtype: object\n",
      "combinations      [rs140272968, rs779677519, rs539639382, rs1919...\n",
      "gene_model_ids    [55811_AT1, 11046_AT1, 728441_AT1, 5287_AT1, 9...\n",
      "results                         <Solution 674.472 at 0x219c29103d0>\n",
      "Name: 930, dtype: object\n",
      "combinations      [rs539398681, rs140272968, rs190195754, rs1382...\n",
      "gene_model_ids    [178_AT4, 55870_AT1, 4905_AT1, 3631_AT1, 2954_...\n",
      "results                         <Solution 698.561 at 0x219bfa16520>\n",
      "Name: 989, dtype: object\n",
      "combinations      [rs114264176, rs147745794, rs376165197, rs1888...\n",
      "gene_model_ids    [249_AT1, 6565_AT1, 81616_AT1, 4719_AT1, 10257...\n",
      "results                         <Solution 674.472 at 0x219c22a6190>\n",
      "Name: 1011, dtype: object\n",
      "combinations      [rs114264176, rs184876696, rs149546157, rs1385...\n",
      "gene_model_ids    [84720_AT2, 84720_AT1, 10257_AT1, 11343_AT1, 2...\n",
      "results                         <Solution 674.472 at 0x219be47cca0>\n",
      "Name: 1263, dtype: object\n",
      "combinations      [rs530682126, rs190050291, rs190386721, rs3537...\n",
      "gene_model_ids    [6522_AT1, 55748_AT1, 50484_AT1, 2356_AT1, 548...\n",
      "results                         <Solution 699.461 at 0x219c121deb0>\n",
      "Name: 1274, dtype: object\n",
      "combinations      [rs138667170, rs141088011, rs560921326, rs6018...\n",
      "gene_model_ids    [79178_AT1, 2356_AT1, 491_AT1, 64849_AT1, 113_...\n",
      "results                         <Solution 674.472 at 0x219c2721100>\n",
      "Name: 1296, dtype: object\n",
      "combinations      [rs146870799, rs141289503, rs184138509, rs7796...\n",
      "gene_model_ids    [278_AT1, 6448_AT1, 374569_AT1, 8694_AT1, 1134...\n",
      "results                         <Solution 674.472 at 0x219bdd247c0>\n",
      "Name: 1382, dtype: object\n",
      "combinations      [rs6714735, rs543071420, rs150919241, rs372536...\n",
      "gene_model_ids    [26289_AT2, 477_AT1, 2356_AT1, 6547_AT6, 5335_...\n",
      "results                         <Solution 650.384 at 0x219bb8d07c0>\n",
      "Name: 1412, dtype: object\n",
      "combinations      [rs117832164, rs144503356, rs146370238, rs5417...\n",
      "gene_model_ids    [55811_AT1, 55293_AT1, 31_AT4, 478_AT1, 31_AT3...\n",
      "results                         <Solution 674.472 at 0x219bd73c520>\n",
      "Name: 1417, dtype: object\n",
      "combinations      [rs189677179, rs4952052, rs72922900, rs5299017...\n",
      "gene_model_ids    [249_AT1, 6392_AT1, 2356_AT1, 23205_AT1, 55191...\n",
      "results                         <Solution 674.472 at 0x219bd73f1f0>\n",
      "Name: 1419, dtype: object\n",
      "combinations      [rs114264176, rs200155030, rs190862488, rs3864...\n",
      "gene_model_ids    [1503_AT1, 51_AT2, 57835_AT4, 57835_AT2, 1609_...\n",
      "results                         <Solution 674.472 at 0x219c14fb580>\n",
      "Name: 1503, dtype: object\n",
      "combinations      [rs750444569, rs149994638, rs542349460, rs6714...\n",
      "gene_model_ids    [229_AT1, 64064_AT1, 145553_AT1, 81616_AT1, 26...\n",
      "results                         <Solution 698.561 at 0x219c2922e80>\n",
      "Name: 1509, dtype: object\n",
      "combinations      [rs528832261, rs553333705, rs189761572, rs9628...\n",
      "gene_model_ids    [57835_AT2, 4719_AT1, 113_AT1, 10864_AT1, 5290...\n",
      "results                         <Solution 674.472 at 0x219c29fd220>\n",
      "Name: 1521, dtype: object\n",
      "combinations      [rs572708637, rs561560788, rs545023030, rs7255...\n",
      "gene_model_ids    [5293_AT1, 2954_AT1, 8310_AT1, 11332_AT1, 7969...\n",
      "results                         <Solution 602.207 at 0x219bd4c5e20>\n",
      "Name: 1573, dtype: object\n",
      "combinations      [rs187870461, rs145915720, rs145869198, rs5575...\n",
      "gene_model_ids    [23396_AT1, 18_AT1, 6506_AT1, 3098_AT2, 5138_A...\n",
      "results                         <Solution 626.296 at 0x219be6fb040>\n",
      "Name: 1695, dtype: object\n",
      "combinations      [rs73920193, rs555377618, rs187507708, rs37773...\n",
      "gene_model_ids    [26289_AT2, 79178_AT1, 50484_AT1, 23396_AT1, 9...\n",
      "results                         <Solution 687.849 at 0x219c27cdfd0>\n",
      "Name: 1780, dtype: object\n",
      "combinations      [rs549422933, rs547150282, rs563930444, rs5609...\n",
      "gene_model_ids    [4645_AT1, 2731_AT1, 55870_AT1, 51604_AT1, 886...\n",
      "results                         <Solution 699.461 at 0x219bd286550>\n",
      "Name: 1797, dtype: object\n",
      "combinations      [rs147316771, rs181497652, rs904633741, rs1142...\n",
      "gene_model_ids    [84720_AT2, 84720_AT1, 55870_AT1, 8867_AT2, 80...\n",
      "results                         <Solution 674.472 at 0x219c38fd3a0>\n",
      "Name: 1874, dtype: object\n",
      "combinations      [rs9827, rs6714735, rs562703386, rs573430422, ...\n",
      "gene_model_ids    [23396_AT1, 6518_AT1, 523_AT1, 178_AT4, 24_AT1...\n",
      "results                         <Solution 698.561 at 0x219be42f640>\n",
      "Name: 1881, dtype: object\n"
     ]
    }
   ],
   "source": [
    "# Check for non nominal results\n",
    "for i, result in combinations.iterrows():\n",
    "    res = result['results'].objective_value\n",
    "    if int(res) < 700:\n",
    "        print(result)\n",
    "\n"
   ],
   "metadata": {
    "collapsed": false,
    "pycharm": {
     "name": "#%%\n"
    }
   }
  },
  {
   "cell_type": "code",
   "execution_count": 23,
   "outputs": [],
   "source": [
    "def get_model_gene_info():\n",
    "    \"\"\"Function to extract all unique ids, not including \"_ATXX\" to a file\"\"\"\n",
    "    ids = model.genes.list_attr('id')\n",
    "    gene_ids = []\n",
    "\n",
    "    for i in ids[1:]:\n",
    "        s = i.split('_')\n",
    "        gene_ids.append(int(s[0]))\n",
    "\n",
    "\n",
    "    results = pd.Series(gene_ids, name='gene_number').drop_duplicates().sort_values().reset_index(drop=True)\n",
    "    results.to_csv(path_or_buf='C:/Users/Sigve/Genome_Data/exon_model_data/gene_ids_in_model.tsv', sep='\\t')\n",
    "\n",
    "\n",
    "get_model_gene_info()"
   ],
   "metadata": {
    "collapsed": false,
    "pycharm": {
     "name": "#%%\n"
    }
   }
  },
  {
   "cell_type": "code",
   "execution_count": 34,
   "outputs": [
    {
     "name": "stdout",
     "output_type": "stream",
     "text": [
      "   gene_number gene_name chromosome     ensembl_gene\n",
      "0           13     AADAC          3  ENSG00000114771\n",
      "1           15     AANAT         17  ENSG00000129673\n",
      "2           18      ABAT         16  ENSG00000183044\n",
      "3           19     ABCA1          9  ENSG00000165029\n",
      "4           21     ABCA3         16  ENSG00000167972\n"
     ]
    }
   ],
   "source": [
    "def get_recon_store_names_by_model_id():\n",
    "    \"\"\"function to get gene names by using ids from the model.\n",
    "    Needed because the names in the model and from the store/ensembl are not necessarily the same.\n",
    "    Remember the ensembl_gene ids are not necessarily the same due to alternative sequence genes\"\"\"\n",
    "\n",
    "    gene_ids = pd.read_table('C:/Users/Sigve/Genome_Data/exon_model_data/gene_ids_in_model.tsv', index_col=0)\n",
    "    recon_store = pd.read_table('C:/Users/Sigve/Genome_Data/exon_model_data/recon-store-genes.tsv')\n",
    "    recon_store['gene_number'] = recon_store['gene_number'].astype(int)\n",
    "\n",
    "    new_df = pd.merge(gene_ids, recon_store, on='gene_number')\n",
    "    new_df = new_df[['gene_number', 'symbol', 'chromosome', 'ensembl_gene']]\n",
    "    new_df.drop_duplicates(subset=['gene_number'], inplace=True)\n",
    "    new_df.rename(columns={'symbol': 'gene_name'}, inplace=True)\n",
    "    new_df.reset_index(drop=True, inplace=True)\n",
    "    new_df.to_csv(path_or_buf='C:/Users/Sigve/Genome_Data/exon_model_data/model_gene_ids.tsv', sep='\\t')\n",
    "    print(new_df.head())\n",
    "\n",
    "get_recon_store_names_by_model_id()"
   ],
   "metadata": {
    "collapsed": false,
    "pycharm": {
     "name": "#%%\n"
    }
   }
  },
  {
   "cell_type": "code",
   "execution_count": 3,
   "outputs": [
    {
     "name": "stdout",
     "output_type": "stream",
     "text": [
      "CYTB\n"
     ]
    },
    {
     "data": {
      "text/plain": "<Gene 4519_AT1 at 0x205601db310>",
      "text/html": "\n        <table>\n            <tr>\n                <td><strong>Gene identifier</strong></td><td>4519_AT1</td>\n            </tr><tr>\n                <td><strong>Name</strong></td><td>CYTB</td>\n            </tr><tr>\n                <td><strong>Memory address</strong></td>\n                <td>0x0205601db310</td>\n            </tr><tr>\n                <td><strong>Functional</strong></td><td>True</td>\n            </tr><tr>\n                <td><strong>In 2 reaction(s)</strong></td><td>\n                    CYOR_u10mi, CYOOm2i</td>\n            </tr>\n        </table>"
     },
     "execution_count": 3,
     "metadata": {},
     "output_type": "execute_result"
    }
   ],
   "source": [
    "# Test stuff\n",
    "\n",
    "#print(model.reactions.HMR_9505.gene_name_reaction_rule)\n",
    "#model.reactions.MAOX.genes\n",
    "\n",
    "\n",
    "gene = model.genes.get_by_id('4519_AT1')\n",
    "print(gene.__getattribute__('name'))\n",
    "gene"
   ],
   "metadata": {
    "collapsed": false,
    "pycharm": {
     "name": "#%%\n"
    }
   }
  },
  {
   "cell_type": "code",
   "execution_count": 20,
   "outputs": [
    {
     "name": "stdout",
     "output_type": "stream",
     "text": [
      "              Variant source  Chromosome/scaffold name  \\\n",
      "Variant name                                             \n",
      "rs1000036                NaN                        14   \n",
      "rs1000036                NaN                        14   \n",
      "rs10000745               NaN                         4   \n",
      "rs1000108                NaN                         8   \n",
      "rs10001104               NaN                         4   \n",
      "\n",
      "              Chromosome/scaffold position start (bp)  \\\n",
      "Variant name                                            \n",
      "rs1000036                                    22772136   \n",
      "rs1000036                                    22772136   \n",
      "rs10000745                                  126429447   \n",
      "rs1000108                                    27429649   \n",
      "rs10001104                                    1527546   \n",
      "\n",
      "              Chromosome/scaffold position end (bp) Variant alleles  Strand  \n",
      "Variant name                                                                 \n",
      "rs1000036                                  22772136             G/A       1  \n",
      "rs1000036                                  22772136             G/A       1  \n",
      "rs10000745                                126429447             G/A       1  \n",
      "rs1000108                                  27429649             C/T       1  \n",
      "rs10001104                                  1527546             C/T       1  \n"
     ]
    }
   ],
   "source": [
    "new_SNPs = pd.read_table('C:/Users/Sigve/Genome_Data/SNP_data/SNPs_all_chrom_orig.tsv')\n",
    "columns = ['rsids', 'Variant source', 'chrom', 'pos', 'ref', 'alt']\n",
    "new_SNPs = new_SNPs.reindex(columns=columns)\n",
    "new_SNPs.rename(columns={'rsids': 'Variant name', 'chrom': 'Chromosome/scaffold name', 'pos': 'Chromosome/scaffold position start (bp)'}, inplace=True)\n",
    "new_SNPs['Chromosome/scaffold position end (bp)'] = new_SNPs['Chromosome/scaffold position start (bp)']\n",
    "new_SNPs['Variant alleles'] = new_SNPs['ref'] + '/' + new_SNPs['alt']\n",
    "new_SNPs.drop(columns=['ref', 'alt'], inplace=True)\n",
    "new_SNPs['Strand'] = 1\n",
    "new_SNPs['Chromosome/scaffold position start (bp)'] = new_SNPs['Chromosome/scaffold position start (bp)'].apply(int)\n",
    "new_SNPs['Chromosome/scaffold position end (bp)'] = new_SNPs['Chromosome/scaffold position end (bp)'].apply(int)\n",
    "new_SNPs.set_index(['Variant name'], drop=True, inplace=True)\n",
    "print(new_SNPs.head())\n",
    "\n",
    "new_SNPs.to_csv(path_or_buf='C:/Users/Sigve/Genome_Data/SNP_data/SNPs_all_chrom.tsv', sep='\\t')"
   ],
   "metadata": {
    "collapsed": false,
    "pycharm": {
     "name": "#%%\n"
    }
   }
  }
 ],
 "metadata": {
  "kernelspec": {
   "name": "python3",
   "language": "python",
   "display_name": "Python 3 (ipykernel)"
  },
  "language_info": {
   "codemirror_mode": {
    "name": "ipython",
    "version": 2
   },
   "file_extension": ".py",
   "mimetype": "text/x-python",
   "name": "python",
   "nbconvert_exporter": "python",
   "pygments_lexer": "ipython2",
   "version": "2.7.6"
  }
 },
 "nbformat": 4,
 "nbformat_minor": 0
}