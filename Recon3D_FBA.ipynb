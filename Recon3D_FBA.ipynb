{
 "cells": [
  {
   "cell_type": "code",
   "execution_count": 1,
   "outputs": [
    {
     "name": "stdout",
     "output_type": "stream",
     "text": [
      "Academic license - for non-commercial use only - expires 2022-10-03\n",
      "Using license file c:\\gurobi\\gurobi.lic\n"
     ]
    }
   ],
   "source": [
    "import re\n",
    "import cobra\n",
    "import pandas as pd\n",
    "import itertools\n",
    "import cobra.flux_analysis\n",
    "import multiprocessing\n",
    "\n",
    "\"\"\"A mess of a document with different code cells.\n",
    "Good to to use for any testing that involves the Recon3D model, as it takes some time to load in.\"\"\"\n",
    "\n",
    "model_file = 'C:/Users/Sigve/Genome_Data/Recon3D/JSON/Recon3D.json'\n",
    "model = cobra.io.load_json_model(model_file)\n",
    "\n",
    "SNP_results = pd.read_table('C:/Users/Sigve/Genome_Data/results/SNPs_effect_mod.tsv', index_col=0)"
   ],
   "metadata": {
    "collapsed": false,
    "pycharm": {
     "name": "#%%\n"
    }
   }
  },
  {
   "cell_type": "code",
   "execution_count": 2,
   "outputs": [],
   "source": [
    "# Prepare SNP combinations, reaction constraints\n",
    "combinations = pd.read_table('C:/Users/Sigve/Genome_Data/results/SNP_combinations.tsv', index_col=0)\n",
    "combinations['combinations'] = combinations['combinations'].apply(lambda x: x.split(';'))\n",
    "\n",
    "combinations['gene_model_ids'] = combinations['combinations']\\\n",
    "    .apply(lambda x: SNP_results.loc[SNP_results['variant_name'].isin(x), ['gene_number']].iloc[:, 0].tolist())\n",
    "\n",
    "id_list = ' '.join(model.genes.list_attr('id'))\n",
    "\n",
    "combinations['gene_model_ids'] = combinations['gene_model_ids'].apply(lambda x:\n",
    "                                list(set(itertools.chain.from_iterable(\n",
    "                                [re.findall(r\"(?:\\s)(\" + str(i) + r\"\\w\\w\\w\\d)\", id_list) for i in x]))))\n",
    "\n",
    "combinations.to_csv(path_or_buf='C:/Users/Sigve/Genome_Data/results/test.tsv', sep='\\t')\n"
   ],
   "metadata": {
    "collapsed": false,
    "pycharm": {
     "name": "#%%\n"
    }
   }
  },
  {
   "cell_type": "code",
   "execution_count": 3,
   "outputs": [],
   "source": [
    "def knockout_FBA(gene_ids):\n",
    "    result = []\n",
    "    with model:\n",
    "        for gene_id in gene_ids:\n",
    "            model.genes.get_by_id(gene_id).knock_out()\n",
    "        result.append(model.optimize())\n",
    "\n",
    "    return result\n",
    "\n",
    "combinations['results'] = combinations['gene_model_ids'].apply(knockout_FBA)\n",
    "combinations.to_csv(path_or_buf='C:/Users/Sigve/Genome_Data/results/test.tsv', sep='\\t')"
   ],
   "metadata": {
    "collapsed": false,
    "pycharm": {
     "name": "#%%\n"
    }
   }
  },
  {
   "cell_type": "code",
   "execution_count": 3,
   "outputs": [
    {
     "ename": "TypeError",
     "evalue": "unhashable type: 'list'",
     "output_type": "error",
     "traceback": [
      "\u001B[1;31m---------------------------------------------------------------------------\u001B[0m",
      "\u001B[1;31mTypeError\u001B[0m                                 Traceback (most recent call last)",
      "\u001B[1;32m~\\AppData\\Local\\Temp/ipykernel_9836/173263214.py\u001B[0m in \u001B[0;36m<module>\u001B[1;34m\u001B[0m\n\u001B[0;32m      5\u001B[0m \u001B[1;33m\u001B[0m\u001B[0m\n\u001B[0;32m      6\u001B[0m \u001B[0mgene_id_list\u001B[0m \u001B[1;33m=\u001B[0m \u001B[0mcombinations\u001B[0m\u001B[1;33m[\u001B[0m\u001B[1;34m'gene_model_ids'\u001B[0m\u001B[1;33m]\u001B[0m\u001B[1;33m.\u001B[0m\u001B[0mto_list\u001B[0m\u001B[1;33m(\u001B[0m\u001B[1;33m)\u001B[0m\u001B[1;33m\u001B[0m\u001B[1;33m\u001B[0m\u001B[0m\n\u001B[1;32m----> 7\u001B[1;33m \u001B[0mknockout_FBA_alt\u001B[0m\u001B[1;33m(\u001B[0m\u001B[0mgene_id_list\u001B[0m\u001B[1;33m)\u001B[0m\u001B[1;33m.\u001B[0m\u001B[0mto_csv\u001B[0m\u001B[1;33m(\u001B[0m\u001B[0mpath_or_buf\u001B[0m\u001B[1;33m=\u001B[0m\u001B[1;34m'C:/Users/Sigve/Genome_Data/results/test2.tsv'\u001B[0m\u001B[1;33m,\u001B[0m \u001B[0msep\u001B[0m\u001B[1;33m=\u001B[0m\u001B[1;34m'\\t'\u001B[0m\u001B[1;33m)\u001B[0m\u001B[1;33m\u001B[0m\u001B[1;33m\u001B[0m\u001B[0m\n\u001B[0m",
      "\u001B[1;32m~\\AppData\\Local\\Temp/ipykernel_9836/173263214.py\u001B[0m in \u001B[0;36mknockout_FBA_alt\u001B[1;34m(gene_ids)\u001B[0m\n\u001B[0;32m      1\u001B[0m \u001B[1;31m# Protected class, not sure if that is good, or if it works, quickly eats up memory.\u001B[0m\u001B[1;33m\u001B[0m\u001B[1;33m\u001B[0m\u001B[1;33m\u001B[0m\u001B[0m\n\u001B[0;32m      2\u001B[0m \u001B[1;32mdef\u001B[0m \u001B[0mknockout_FBA_alt\u001B[0m\u001B[1;33m(\u001B[0m\u001B[0mgene_ids\u001B[0m\u001B[1;33m)\u001B[0m\u001B[1;33m:\u001B[0m\u001B[1;33m\u001B[0m\u001B[1;33m\u001B[0m\u001B[0m\n\u001B[1;32m----> 3\u001B[1;33m     \u001B[1;32mreturn\u001B[0m \u001B[0mcobra\u001B[0m\u001B[1;33m.\u001B[0m\u001B[0mflux_analysis\u001B[0m\u001B[1;33m.\u001B[0m\u001B[0mdeletion\u001B[0m\u001B[1;33m.\u001B[0m\u001B[0m_multi_deletion\u001B[0m\u001B[1;33m(\u001B[0m\u001B[0mmodel\u001B[0m\u001B[1;33m,\u001B[0m \u001B[1;34m'gene'\u001B[0m\u001B[1;33m,\u001B[0m \u001B[0mcobra\u001B[0m\u001B[1;33m.\u001B[0m\u001B[0mflux_analysis\u001B[0m\u001B[1;33m.\u001B[0m\u001B[0mdeletion\u001B[0m\u001B[1;33m.\u001B[0m\u001B[0m_element_lists\u001B[0m\u001B[1;33m(\u001B[0m\u001B[0mmodel\u001B[0m\u001B[1;33m.\u001B[0m\u001B[0mgenes\u001B[0m\u001B[1;33m,\u001B[0m \u001B[0mgene_ids\u001B[0m\u001B[1;33m)\u001B[0m\u001B[1;33m,\u001B[0m \u001B[0mprocesses\u001B[0m\u001B[1;33m=\u001B[0m\u001B[1;36m4\u001B[0m\u001B[1;33m)\u001B[0m\u001B[1;33m\u001B[0m\u001B[1;33m\u001B[0m\u001B[0m\n\u001B[0m\u001B[0;32m      4\u001B[0m \u001B[1;33m\u001B[0m\u001B[0m\n\u001B[0;32m      5\u001B[0m \u001B[1;33m\u001B[0m\u001B[0m\n",
      "\u001B[1;32m~\\miniconda3\\envs\\Master\\lib\\site-packages\\cobra\\flux_analysis\\deletion.py\u001B[0m in \u001B[0;36m_multi_deletion\u001B[1;34m(model, entity, element_lists, method, solution, processes, **kwargs)\u001B[0m\n\u001B[0;32m    119\u001B[0m             \u001B[0madd_room\u001B[0m\u001B[1;33m(\u001B[0m\u001B[0mmodel\u001B[0m\u001B[1;33m,\u001B[0m \u001B[0msolution\u001B[0m\u001B[1;33m=\u001B[0m\u001B[0msolution\u001B[0m\u001B[1;33m,\u001B[0m \u001B[0mlinear\u001B[0m\u001B[1;33m=\u001B[0m\u001B[1;34m\"linear\"\u001B[0m \u001B[1;32min\u001B[0m \u001B[0mmethod\u001B[0m\u001B[1;33m,\u001B[0m \u001B[1;33m**\u001B[0m\u001B[0mkwargs\u001B[0m\u001B[1;33m)\u001B[0m\u001B[1;33m\u001B[0m\u001B[1;33m\u001B[0m\u001B[0m\n\u001B[0;32m    120\u001B[0m \u001B[1;33m\u001B[0m\u001B[0m\n\u001B[1;32m--> 121\u001B[1;33m         \u001B[0margs\u001B[0m \u001B[1;33m=\u001B[0m \u001B[0mset\u001B[0m\u001B[1;33m(\u001B[0m\u001B[1;33m[\u001B[0m\u001B[0mfrozenset\u001B[0m\u001B[1;33m(\u001B[0m\u001B[0mcomb\u001B[0m\u001B[1;33m)\u001B[0m \u001B[1;32mfor\u001B[0m \u001B[0mcomb\u001B[0m \u001B[1;32min\u001B[0m \u001B[0mproduct\u001B[0m\u001B[1;33m(\u001B[0m\u001B[1;33m*\u001B[0m\u001B[0melement_lists\u001B[0m\u001B[1;33m)\u001B[0m\u001B[1;33m]\u001B[0m\u001B[1;33m)\u001B[0m\u001B[1;33m\u001B[0m\u001B[1;33m\u001B[0m\u001B[0m\n\u001B[0m\u001B[0;32m    122\u001B[0m         \u001B[0mprocesses\u001B[0m \u001B[1;33m=\u001B[0m \u001B[0mmin\u001B[0m\u001B[1;33m(\u001B[0m\u001B[0mprocesses\u001B[0m\u001B[1;33m,\u001B[0m \u001B[0mlen\u001B[0m\u001B[1;33m(\u001B[0m\u001B[0margs\u001B[0m\u001B[1;33m)\u001B[0m\u001B[1;33m)\u001B[0m\u001B[1;33m\u001B[0m\u001B[1;33m\u001B[0m\u001B[0m\n\u001B[0;32m    123\u001B[0m \u001B[1;33m\u001B[0m\u001B[0m\n",
      "\u001B[1;32m~\\miniconda3\\envs\\Master\\lib\\site-packages\\cobra\\flux_analysis\\deletion.py\u001B[0m in \u001B[0;36m<listcomp>\u001B[1;34m(.0)\u001B[0m\n\u001B[0;32m    119\u001B[0m             \u001B[0madd_room\u001B[0m\u001B[1;33m(\u001B[0m\u001B[0mmodel\u001B[0m\u001B[1;33m,\u001B[0m \u001B[0msolution\u001B[0m\u001B[1;33m=\u001B[0m\u001B[0msolution\u001B[0m\u001B[1;33m,\u001B[0m \u001B[0mlinear\u001B[0m\u001B[1;33m=\u001B[0m\u001B[1;34m\"linear\"\u001B[0m \u001B[1;32min\u001B[0m \u001B[0mmethod\u001B[0m\u001B[1;33m,\u001B[0m \u001B[1;33m**\u001B[0m\u001B[0mkwargs\u001B[0m\u001B[1;33m)\u001B[0m\u001B[1;33m\u001B[0m\u001B[1;33m\u001B[0m\u001B[0m\n\u001B[0;32m    120\u001B[0m \u001B[1;33m\u001B[0m\u001B[0m\n\u001B[1;32m--> 121\u001B[1;33m         \u001B[0margs\u001B[0m \u001B[1;33m=\u001B[0m \u001B[0mset\u001B[0m\u001B[1;33m(\u001B[0m\u001B[1;33m[\u001B[0m\u001B[0mfrozenset\u001B[0m\u001B[1;33m(\u001B[0m\u001B[0mcomb\u001B[0m\u001B[1;33m)\u001B[0m \u001B[1;32mfor\u001B[0m \u001B[0mcomb\u001B[0m \u001B[1;32min\u001B[0m \u001B[0mproduct\u001B[0m\u001B[1;33m(\u001B[0m\u001B[1;33m*\u001B[0m\u001B[0melement_lists\u001B[0m\u001B[1;33m)\u001B[0m\u001B[1;33m]\u001B[0m\u001B[1;33m)\u001B[0m\u001B[1;33m\u001B[0m\u001B[1;33m\u001B[0m\u001B[0m\n\u001B[0m\u001B[0;32m    122\u001B[0m         \u001B[0mprocesses\u001B[0m \u001B[1;33m=\u001B[0m \u001B[0mmin\u001B[0m\u001B[1;33m(\u001B[0m\u001B[0mprocesses\u001B[0m\u001B[1;33m,\u001B[0m \u001B[0mlen\u001B[0m\u001B[1;33m(\u001B[0m\u001B[0margs\u001B[0m\u001B[1;33m)\u001B[0m\u001B[1;33m)\u001B[0m\u001B[1;33m\u001B[0m\u001B[1;33m\u001B[0m\u001B[0m\n\u001B[0;32m    123\u001B[0m \u001B[1;33m\u001B[0m\u001B[0m\n",
      "\u001B[1;31mTypeError\u001B[0m: unhashable type: 'list'"
     ]
    }
   ],
   "source": [
    "# Protected class, not sure if that is good, or if it works, quickly eats up memory.\n",
    "def knockout_FBA_alt(gene_ids):\n",
    "    return cobra.flux_analysis.deletion._multi_deletion(model, 'gene', cobra.flux_analysis.deletion._element_lists(model.genes, gene_ids), processes=4)\n",
    "\n",
    "\n",
    "gene_id_list = combinations['gene_model_ids'].to_list()\n",
    "knockout_FBA_alt(gene_id_list).to_csv(path_or_buf='C:/Users/Sigve/Genome_Data/results/test2.tsv', sep='\\t')\n",
    "cobra.flux_analysis."
   ],
   "metadata": {
    "collapsed": false,
    "pycharm": {
     "name": "#%%\n"
    }
   }
  },
  {
   "cell_type": "code",
   "execution_count": null,
   "outputs": [],
   "source": [
    "def get_model_gene_info():\n",
    "    ids = model.genes.list_attr('id')\n",
    "    gene_names = []\n",
    "\n",
    "    for i in ids:\n",
    "        gene_names.append(model.genes.get_by_id(i).__getattribute__('name'))\n",
    "\n",
    "    pd.Series(gene_names).to_csv(path_or_buf='C:/Users/Sigve/Genome_Data/results/gene_names_in_model.tsv', sep='\\t')"
   ],
   "metadata": {
    "collapsed": false,
    "pycharm": {
     "name": "#%%\n"
    }
   }
  },
  {
   "cell_type": "code",
   "execution_count": null,
   "outputs": [],
   "source": [],
   "metadata": {
    "collapsed": false,
    "pycharm": {
     "name": "#%%\n"
    }
   }
  },
  {
   "cell_type": "code",
   "execution_count": 75,
   "outputs": [
    {
     "name": "stdout",
     "output_type": "stream",
     "text": [
      "AOC1\n"
     ]
    },
    {
     "data": {
      "text/plain": "<Gene 26_AT1 at 0x13f1ef16940>",
      "text/html": "\n        <table>\n            <tr>\n                <td><strong>Gene identifier</strong></td><td>26_AT1</td>\n            </tr><tr>\n                <td><strong>Name</strong></td><td>AOC1</td>\n            </tr><tr>\n                <td><strong>Memory address</strong></td>\n                <td>0x013f1ef16940</td>\n            </tr><tr>\n                <td><strong>Functional</strong></td><td>True</td>\n            </tr><tr>\n                <td><strong>In 15 reaction(s)</strong></td><td>\n                    PEAMNO, RE0827E, MHISOR, PTRCOX1, RE0690E, RE3367E, TRYPTAOX, 42A12BOOX, RE0689E, 13DAMPPOX, RE0688E, r0281, RE0828E, MAOX, HISTASE</td>\n            </tr>\n        </table>"
     },
     "execution_count": 75,
     "metadata": {},
     "output_type": "execute_result"
    }
   ],
   "source": [
    "#print(model.reactions.HMR_9505.gene_name_reaction_rule)\n",
    "#model.reactions.MAOX.genes\n",
    "\n",
    "\n",
    "gene = model.genes.get_by_id('26_AT1')\n",
    "print(gene.__getattribute__('name'))\n",
    "gene\n"
   ],
   "metadata": {
    "collapsed": false,
    "pycharm": {
     "name": "#%%\n"
    }
   }
  }
 ],
 "metadata": {
  "kernelspec": {
   "name": "python3",
   "language": "python",
   "display_name": "Python 3 (ipykernel)"
  },
  "language_info": {
   "codemirror_mode": {
    "name": "ipython",
    "version": 2
   },
   "file_extension": ".py",
   "mimetype": "text/x-python",
   "name": "python",
   "nbconvert_exporter": "python",
   "pygments_lexer": "ipython2",
   "version": "2.7.6"
  }
 },
 "nbformat": 4,
 "nbformat_minor": 0
}