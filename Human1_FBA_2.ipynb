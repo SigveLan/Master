{
 "cells": [
  {
   "cell_type": "code",
   "execution_count": 1,
   "metadata": {
    "collapsed": true
   },
   "outputs": [],
   "source": [
    "import itertools\n",
    "import pandas as pd\n",
    "import cobra.flux_analysis\n",
    "from cobra import Metabolite\n",
    "import time\n",
    "import numpy as np\n",
    "from src.mp_functions import combinations_subset, parallelize_dataframe, knockout_FBA, knockout_FBA_w_tasks\n",
    "\n",
    "from functools import partial\n",
    "from src.FBA_scripts.met_task_functions import constrain_model, read_tasks\n",
    "\n",
    "\n",
    "\"\"\"A mess of a document with different code cells.\n",
    "Good to to use for any testing that involves the Human1 model as it takes some time to load in.\"\"\"\n",
    "\n",
    "def load_model(model_path: str) -> list:\n",
    "    model = cobra.io.read_sbml_model(model_path)\n",
    "    model_list = constrain_model(model, ALLMETSIN=True)\n",
    "    #Removes unused model.\n",
    "    model_list[2] = None\n",
    "    return model_list\n",
    "\n",
    "\n",
    "def get_unique_gene_combs(combs: pd.DataFrame) -> pd.DataFrame:\n",
    "\n",
    "    df = pd.DataFrame(combs['gene_ids'], columns=['gene_ids'])\n",
    "    f = list(np.unique(df))\n",
    "    d = {}\n",
    "    n=0\n",
    "    for l in f:\n",
    "        d[n] = [l]\n",
    "        n += 1\n",
    "\n",
    "    return pd.DataFrame.from_dict(d, orient='index', columns=['gene_ids'])\n",
    "\n",
    "\n",
    "def produce_ind_combs(model_genes: list) -> pd.DataFrame:\n",
    "    ind_data = pd.read_table('C:/Users/Sigve/Genome_Data/SNP_data/1000_genomes/result_chrom_22.tsv', index_col=0)\n",
    "    missense_snps = pd.read_table('C:/Users/Sigve/Genome_Data/results/SNPs_missense.tsv', index_col=0)\n",
    "\n",
    "    missense_snps['gene_id'] = missense_snps['gene_id'].apply(lambda x: x.split('.')[0])\n",
    "    merged_df = pd.merge(left=missense_snps, right=ind_data, how='left', left_on='chrom_pos', right_on='pos')\n",
    "\n",
    "    res_dict = {}\n",
    "\n",
    "    for column in merged_df:\n",
    "        res_dict[column] = [merged_df['variant_name'][merged_df[column] == 2].to_list(), set(merged_df['gene_id'][merged_df[column] == 2].to_list())]\n",
    "\n",
    "    results = pd.DataFrame.from_dict(res_dict, orient='index', columns=['snp_list', 'gene_ids'])\n",
    "    results['gene_ids'] = results['gene_ids'].apply(lambda x: list(x.intersection(model_genes)))\n",
    "    results = results[results['gene_ids'].map(lambda x: len(x)) > 0]\n",
    "\n",
    "    return results"
   ]
  },
  {
   "cell_type": "code",
   "execution_count": null,
   "outputs": [
    {
     "name": "stdout",
     "output_type": "stream",
     "text": [
      "Academic license - for non-commercial use only - expires 2022-10-03\n",
      "Using license file c:\\gurobi\\gurobi.lic\n",
      "Read LP format model from file C:\\Users\\Sigve\\AppData\\Local\\Temp\\tmpr_d2uv5b.lp\n",
      "Reading time = 0.07 seconds\n",
      ": 5482 rows, 15138 columns, 66608 nonzeros\n",
      "Read LP format model from file C:\\Users\\Sigve\\AppData\\Local\\Temp\\tmpomnktrt8.lp\n",
      "Reading time = 0.07 seconds\n",
      ": 5482 rows, 15138 columns, 66608 nonzeros\n",
      "Read LP format model from file C:\\Users\\Sigve\\AppData\\Local\\Temp\\tmp7a5m4470.lp\n",
      "Reading time = 0.07 seconds\n",
      ": 5482 rows, 15138 columns, 66608 nonzeros\n",
      "Read LP format model from file C:\\Users\\Sigve\\AppData\\Local\\Temp\\tmpvjj4pq9v.lp\n",
      "Reading time = 0.07 seconds\n",
      ": 5321 rows, 14488 columns, 63246 nonzeros\n",
      "Read LP format model from file C:\\Users\\Sigve\\AppData\\Local\\Temp\\tmpnkkgr6vc.lp\n",
      "Reading time = 0.06 seconds\n",
      ": 5321 rows, 14488 columns, 63246 nonzeros\n",
      "Read LP format model from file C:\\Users\\Sigve\\AppData\\Local\\Temp\\tmp3jsrusu4.lp\n",
      "Reading time = 0.06 seconds\n",
      ": 5321 rows, 14488 columns, 63246 nonzeros\n",
      "Read LP format model from file C:\\Users\\Sigve\\AppData\\Local\\Temp\\tmphy1w2bbw.lp\n",
      "Reading time = 0.08 seconds\n",
      ": 5816 rows, 16328 columns, 71478 nonzeros\n",
      "Read LP format model from file C:\\Users\\Sigve\\AppData\\Local\\Temp\\tmpsrhip6yn.lp\n",
      "Reading time = 0.07 seconds\n",
      ": 5816 rows, 16328 columns, 71478 nonzeros\n",
      "Read LP format model from file C:\\Users\\Sigve\\AppData\\Local\\Temp\\tmpsnsfpv5b.lp\n",
      "Reading time = 0.09 seconds\n",
      ": 5816 rows, 16328 columns, 71478 nonzeros\n",
      "Read LP format model from file C:\\Users\\Sigve\\AppData\\Local\\Temp\\tmpqha9fhg6.lp\n",
      "Reading time = 0.07 seconds\n",
      ": 5788 rows, 15892 columns, 69376 nonzeros\n",
      "Read LP format model from file C:\\Users\\Sigve\\AppData\\Local\\Temp\\tmp117o8x9h.lp\n",
      "Reading time = 0.07 seconds\n",
      ": 5788 rows, 15892 columns, 69376 nonzeros\n",
      "Read LP format model from file C:\\Users\\Sigve\\AppData\\Local\\Temp\\tmptz67elth.lp\n",
      "Reading time = 0.07 seconds\n",
      ": 5788 rows, 15892 columns, 69376 nonzeros\n",
      "Read LP format model from file C:\\Users\\Sigve\\AppData\\Local\\Temp\\tmpu73r4h8x.lp\n",
      "Reading time = 0.06 seconds\n",
      ": 4714 rows, 13168 columns, 59336 nonzeros\n",
      "Read LP format model from file C:\\Users\\Sigve\\AppData\\Local\\Temp\\tmprflzkb9v.lp\n",
      "Reading time = 0.06 seconds\n",
      ": 4714 rows, 13168 columns, 59336 nonzeros\n",
      "Read LP format model from file C:\\Users\\Sigve\\AppData\\Local\\Temp\\tmp__5t_i6s.lp\n",
      "Reading time = 0.06 seconds\n",
      ": 4714 rows, 13168 columns, 59336 nonzeros\n"
     ]
    }
   ],
   "source": [
    "start_time = time.time()\n",
    "# ['blood']\n",
    "tissue_list = ['brain', 'heart', 'kidney', 'liver', 'muscle', 'nerve', 'pancreas', 'thyroid']\n",
    "model_base_path = 'C:/Users/Sigve/Genome_Data/Human1/Human1_GEM/GTEx/{0}.xml'\n",
    "\n",
    "for tissue in tissue_list: \n",
    "\n",
    "    model_list = load_model(model_base_path.format(tissue))\n",
    "    model_genes = [gene.id for gene in model_list[0].genes]\n",
    "\n",
    "    task_list = read_tasks('C:/Users/Sigve/Genome_Data/Human1/Human1_GEM/tasks/essential_tasks.tsv', model_list)\n",
    "    ind_combs = produce_ind_combs(model_genes)\n",
    "    ind_combs['gene_ids'].apply(lambda x: x.sort())\n",
    "\n",
    "    unique_combs = get_unique_gene_combs(ind_combs)\n",
    "\n",
    "    results = parallelize_dataframe(unique_combs, partial(combinations_subset, partial(knockout_FBA_w_tasks, task_list, model_list)), 8)\n",
    "\n",
    "    results['gene_ids'] = results['gene_ids'].apply(lambda x: ';'.join(x))\n",
    "    results['solution'] = results['results'].apply(lambda x: x[0])\n",
    "    results['tasks_results'] = results['results'].apply(lambda x: x[1:])\n",
    "\n",
    "    ind_combs['gene_ids'] = ind_combs['gene_ids'].apply(lambda x: ';'.join(x))\n",
    "    ind_combs.reset_index(drop=False, inplace=True)\n",
    "    ind_combs['ind_id'] = ind_combs['index']\n",
    "\n",
    "    results = pd.merge(left=ind_combs, right=results, how='right', left_on='gene_ids', right_on='gene_ids')\n",
    "    results['gene_ids'] = results['gene_ids'].apply(lambda x: x.split(';'))\n",
    "\n",
    "\n",
    "\n",
    "\n",
    "    results[['ind_id', 'solution', 'tasks_results']].to_csv(path_or_buf='C:/Users/Sigve/Genome_Data/results/ind_results/ind_all_start_stop_chrom_{0}.tsv'.format(tissue), sep='\\t')\n",
    "\n",
    "\n",
    "end_time = time.time()\n",
    "\n",
    "print('Total time: %.6f seconds' % (end_time - start_time))"
   ],
   "metadata": {
    "collapsed": false,
    "pycharm": {
     "name": "#%%\n",
     "is_executing": true
    }
   }
  },
  {
   "cell_type": "code",
   "execution_count": 2,
   "outputs": [
    {
     "name": "stdout",
     "output_type": "stream",
     "text": [
      "Academic license - for non-commercial use only - expires 2022-10-03\n",
      "Using license file c:\\gurobi\\gurobi.lic\n"
     ]
    }
   ],
   "source": [
    "model_file_path = 'C:/Users/Sigve/Genome_Data/Human1/Human1_GEM/GTEx/brain.xml'\n",
    "model = cobra.io.read_sbml_model(model_file_path)"
   ],
   "metadata": {
    "collapsed": false,
    "pycharm": {
     "name": "#%%\n"
    }
   }
  },
  {
   "cell_type": "code",
   "execution_count": 84,
   "outputs": [],
   "source": [
    "model_genes = [gene.id for gene in model.genes]\n",
    "combs = produce_ind_combs(model_genes)"
   ],
   "metadata": {
    "collapsed": false,
    "pycharm": {
     "name": "#%%\n"
    }
   }
  },
  {
   "cell_type": "code",
   "execution_count": null,
   "outputs": [],
   "source": [
    "print(combs.shape[0])\n"
   ],
   "metadata": {
    "collapsed": false,
    "pycharm": {
     "name": "#%%\n",
     "is_executing": true
    }
   }
  },
  {
   "cell_type": "code",
   "execution_count": 2,
   "outputs": [
    {
     "name": "stdout",
     "output_type": "stream",
     "text": [
      "Academic license - for non-commercial use only - expires 2022-10-03\n",
      "Using license file c:\\gurobi\\gurobi.lic\n",
      "Read LP format model from file C:\\Users\\Sigve\\AppData\\Local\\Temp\\tmpu0isfjqv.lp\n",
      "Reading time = 0.07 seconds\n",
      ": 5482 rows, 15138 columns, 66608 nonzeros\n",
      "Read LP format model from file C:\\Users\\Sigve\\AppData\\Local\\Temp\\tmppnh2euux.lp\n",
      "Reading time = 0.07 seconds\n",
      ": 5482 rows, 15138 columns, 66608 nonzeros\n",
      "Read LP format model from file C:\\Users\\Sigve\\AppData\\Local\\Temp\\tmpzmdozqfj.lp\n",
      "Reading time = 0.07 seconds\n",
      ": 5482 rows, 15138 columns, 66608 nonzeros\n",
      "Total time: 7340.737645 seconds\n"
     ]
    }
   ],
   "source": [
    "# For new one\n",
    "\n",
    "start_time = time.time()\n",
    "\n",
    "tissue_list =  ['brain']#, 'skin', 'spleen', 'adipose_tissue', 'adrenal_gland', 'uterus']#['pancreas', 'thyroid', 'blood', 'brain', 'heart', 'kidney', 'liver', 'muscle', 'nerve']\n",
    "\n",
    "ind_data = pd.read_table('C:/Users/Sigve/Genome_Data/results/ind_combinations/all_missense_comb_ho.tsv', index_col=0)\n",
    "ind_data['gene_ids'] = ind_data['gene_ids'].apply(lambda x: x[2:-2].split(';'))\n",
    "\n",
    "# Just cosmetic editing, not necessary for functions\n",
    "ind_data['sample_ids'] = ind_data['sample_ids'].apply(lambda x: ';'.join(x[2:-2].split(\"', '\")))\n",
    "\n",
    "for tissue in tissue_list:\n",
    "\n",
    "    non_essential_genes = pd.read_table('C:/Users/Sigve/Genome_Data/results/model_tests/{0}_non_ess_genes_ext.tsv'.format(tissue), index_col=0)['gene_ids'].tolist()\n",
    "\n",
    "    model_list = load_model('C:/Users/Sigve/Genome_Data/Human1/Human1_GEM/GTEx/{0}.xml'.format(tissue))\n",
    "    model_genes = [gene.id for gene in model_list[0].genes] # Use non essential genes instead\n",
    "\n",
    "    results = ind_data.copy()\n",
    "    results['gene_ids'] = results['gene_ids'].apply(lambda x: list(set(x).intersection(non_essential_genes)))\n",
    "    results = results[results['gene_ids'].map(lambda x: len(x)) > 0]\n",
    "\n",
    "    task_list = read_tasks('C:/Users/Sigve/Genome_Data/Human1/Human1_GEM/tasks/essential_tasks.tsv', model_list)\n",
    "\n",
    "    results = parallelize_dataframe(results, partial(combinations_subset, partial(knockout_FBA_w_tasks, task_list, model_list)), 12)\n",
    "\n",
    "    results.loc[-1] = ['REF', [], knockout_FBA_w_tasks(task_list, model_list, [])]\n",
    "    results['gene_ids'] = results['gene_ids'].apply(';'.join)\n",
    "    results['solution'] = results['results'].apply(lambda x: round(x[0], 3))\n",
    "    results['tasks_results'] = results['results'].apply(lambda x: x[1:] if not all(x[1:]) else ['ALL PASS'])\n",
    "\n",
    "    results.reset_index(inplace=True, drop=True)\n",
    "    results[['sample_ids', 'gene_ids', 'solution', 'tasks_results']].to_csv(path_or_buf='C:/Users/Sigve/Genome_Data/results/ind_results/extensive/ind_all_chrom_sel_{0}_ho_e.tsv'.format(tissue), sep='\\t')\n",
    "\n",
    "\n",
    "end_time = time.time()\n",
    "\n",
    "print('Total time: %.6f seconds' % (end_time - start_time))\n"
   ],
   "metadata": {
    "collapsed": false,
    "pycharm": {
     "name": "#%%\n"
    }
   }
  },
  {
   "cell_type": "code",
   "execution_count": 237,
   "outputs": [
    {
     "name": "stdout",
     "output_type": "stream",
     "text": [
      "Read LP format model from file C:\\Users\\Sigve\\AppData\\Local\\Temp\\tmpycqh6gsq.lp\n",
      "Reading time = 0.07 seconds\n",
      ": 5665 rows, 15720 columns, 68914 nonzeros\n",
      "Read LP format model from file C:\\Users\\Sigve\\AppData\\Local\\Temp\\tmpnt71_an7.lp\n",
      "Reading time = 0.07 seconds\n",
      ": 5665 rows, 15720 columns, 68914 nonzeros\n",
      "Read LP format model from file C:\\Users\\Sigve\\AppData\\Local\\Temp\\tmpu0_s0qj_.lp\n",
      "Reading time = 0.07 seconds\n",
      ": 5665 rows, 15720 columns, 68914 nonzeros\n"
     ]
    }
   ],
   "source": [
    "# Constrain testing below:\n",
    "\n",
    "model_list = load_model('C:/Users/Sigve/Genome_Data/Human1/Human1_GEM/GTEx/lung.xml')\n",
    "task_list = read_tasks('C:/Users/Sigve/Genome_Data/Human1/Human1_GEM/tasks/essential_tasks.tsv', model_list)\n",
    "result_list = []"
   ],
   "metadata": {
    "collapsed": false,
    "pycharm": {
     "name": "#%%\n"
    }
   }
  },
  {
   "cell_type": "code",
   "execution_count": 240,
   "outputs": [],
   "source": [
    "result_list.append(knockout_FBA_w_tasks(task_list, model_list, ['ENSG00000197249']))"
   ],
   "metadata": {
    "collapsed": false,
    "pycharm": {
     "name": "#%%\n"
    }
   }
  },
  {
   "cell_type": "code",
   "execution_count": 241,
   "outputs": [
    {
     "name": "stdout",
     "output_type": "stream",
     "text": [
      "[82.17122442635676, 1, 1, 1, 1, 1, 1, 1, 1, 1, 1, 1, 1, 1, 1, 1, 1, 1, 1, 1, 1, 1, 1, 1, 1, 1, 1, 1, 1, 1, 1, 1, 1, 1, 1, 1, 1, 1, 1, 1, 1, 1, 1, 1, 1, 1, 1, 1, 1, 1, 1, 1, 1, 1, 1, 1, 1, 1]\n"
     ]
    }
   ],
   "source": [
    "print(result_list[-1])"
   ],
   "metadata": {
    "collapsed": false,
    "pycharm": {
     "name": "#%%\n"
    }
   }
  },
  {
   "cell_type": "code",
   "execution_count": 242,
   "outputs": [],
   "source": [
    "task = task_list[-1]\n",
    "for subset in [task[0], task[1]]:\n",
    "    for rx in subset:\n",
    "        if rx == 'ALLMETSIN':\n",
    "            # Adds boundary metabolites for other reactions when ALLMETSIN is used\n",
    "            for r in subset[1:]:\n",
    "                for m2 in r.metabolites:\n",
    "                    for r2 in m2.reactions:\n",
    "                        if r2.boundary and r2.id != r.id:\n",
    "                            # Could also just remove the reactions, or set them 0, 0\n",
    "                            r2.add_metabolites({Metabolite(\n",
    "                                                m2.id[:-4] + 'x[x]',\n",
    "                                                formula=m2.formula,\n",
    "                                                name=' '.join(m2.name.split(' ')[:-1]) + ' [Boundary]',\n",
    "                                                compartment='x'): 1})\n",
    "            continue\n",
    "        model_list[3].add_reaction(rx)"
   ],
   "metadata": {
    "collapsed": false,
    "pycharm": {
     "name": "#%%\n"
    }
   }
  },
  {
   "cell_type": "code",
   "execution_count": 243,
   "outputs": [
    {
     "name": "stdout",
     "output_type": "stream",
     "text": [
      "<Solution 11.047 at 0x1b98b9092e0>\n"
     ]
    }
   ],
   "source": [
    "print(knockout_FBA(model_list[3], []))"
   ],
   "metadata": {
    "collapsed": false,
    "pycharm": {
     "name": "#%%\n"
    }
   }
  },
  {
   "cell_type": "code",
   "execution_count": 244,
   "outputs": [
    {
     "name": "stdout",
     "output_type": "stream",
     "text": [
      "(0, 1000.0)\n",
      "(0.0, 1)\n",
      "<Solution 11.047 at 0x1b98b90ddf0>\n",
      "(0.0, 0.1)\n",
      "<Solution 0.329 at 0x1b98b90d520>\n"
     ]
    }
   ],
   "source": [
    "# Add input constraints on glucose and threonine and reduce the minimum biomass production\n",
    "model_list[3].reactions.get_by_id('ess_57_out_1').lower_bound = 0\n",
    "print(model_list[3].reactions.get_by_id('ess_57_out_1').bounds)\n",
    "\n",
    "model_list[3].reactions.get_by_id('ess_57_in_33').upper_bound = 1\n",
    "print(model_list[3].reactions.get_by_id('ess_57_in_33').bounds)\n",
    "print(knockout_FBA(model_list[3], []))\n",
    "\n",
    "model_list[3].reactions.get_by_id('ess_57_in_10').upper_bound = 0.1\n",
    "print(model_list[3].reactions.get_by_id('ess_57_in_10').bounds)\n",
    "print(knockout_FBA(model_list[3], []))"
   ],
   "metadata": {
    "collapsed": false,
    "pycharm": {
     "name": "#%%\n"
    }
   }
  },
  {
   "cell_type": "code",
   "execution_count": 245,
   "outputs": [
    {
     "name": "stdout",
     "output_type": "stream",
     "text": [
      "(0, 0.1)\n",
      "<Solution 0.329 at 0x1b98b908310>\n"
     ]
    }
   ],
   "source": [
    "# Add L-Lactate export constraint\n",
    "model_list[3].reactions.get_by_id('HMR_9135').upper_bound = 0.1\n",
    "print(model_list[3].reactions.get_by_id('HMR_9135').bounds)\n",
    "print(knockout_FBA(model_list[3], []))"
   ],
   "metadata": {
    "collapsed": false,
    "pycharm": {
     "name": "#%%\n"
    }
   }
  },
  {
   "cell_type": "code",
   "execution_count": 198,
   "outputs": [],
   "source": [
    "for i in range(1,31):\n",
    "    model_list[3].reactions.get_by_id('ess_57_in_{0}'.format(i)).upper_bound = 1000"
   ],
   "metadata": {
    "collapsed": false,
    "pycharm": {
     "name": "#%%\n"
    }
   }
  },
  {
   "cell_type": "code",
   "execution_count": 251,
   "outputs": [
    {
     "name": "stdout",
     "output_type": "stream",
     "text": [
      "<Solution 0.329 at 0x1b98b90c040>\n"
     ]
    }
   ],
   "source": [
    "res = knockout_FBA(model_list[3], [])\n",
    "res2 = knockout_FBA(model_list[3], ['ENSG00000197249'])\n",
    "print(res)"
   ],
   "metadata": {
    "collapsed": false,
    "pycharm": {
     "name": "#%%\n"
    }
   }
  },
  {
   "cell_type": "code",
   "execution_count": 249,
   "outputs": [
    {
     "name": "stdout",
     "output_type": "stream",
     "text": [
      "HMR_4280: m02039m[m] + m02553m[m] + m02819m[m] <=> m02403m[m] + m02552m[m] 409.509778544807\n",
      "HMR_9135: m02403s[s] -->  0.1\n",
      "HMR_3007: m02039c[c] + m02403c[c] <=> m02039p[p] + m02403p[p] -0.0004798369432042753\n",
      "HMR_6048: m01410s[s] + m02403c[c] <=> m01410c[c] + m02403s[s] 1000.0\n",
      "HMR_6049: m02403c[c] + m02833s[s] <=> m02403s[s] + m02833c[c] -999.9\n",
      "HMR_4281: m02039p[p] + m02553p[p] + m02819p[p] <=> m02403p[p] + m02552p[p] 0.0004798369432042753\n",
      "HMR_4388: m02039c[c] + m02553c[c] + m02819c[c] <=> m02403c[c] + m02552c[c] -409.41025838175017\n",
      "HMR_5411: m02039c[c] + m02403c[c] <=> m02039m[m] + m02403m[m] -409.509778544807\n"
     ]
    }
   ],
   "source": [
    "mets = ['m01716s[s]', 'm01716c[c]', 'm01716m[m]', 'm02403s[s]', 'm02403c[c]', 'm02403m[m]', 'm02403p[p]']\n",
    "model = model_list[3]\n",
    "rx = []\n",
    "for m in mets:\n",
    "    for r in model.metabolites.get_by_id(m).reactions:\n",
    "        rx.append(r)\n",
    "\n",
    "rx = set(rx)\n",
    "\n",
    "for r in rx:\n",
    "    if res.fluxes.at[r.id] != 0:\n",
    "        print(r.id + ': ' + r.reaction + ' ' + str(res.fluxes.at[r.id]))"
   ],
   "metadata": {
    "collapsed": false,
    "pycharm": {
     "name": "#%%\n"
    }
   }
  },
  {
   "cell_type": "code",
   "execution_count": 223,
   "outputs": [
    {
     "data": {
      "text/plain": "'\\nHMR_6049: m02403c[c] + m02833s[s] <=> m02403s[s] + m02833c[c] 0.006393322022483699\\nHMR_9135: m02403s[s] -->  0.006393322022483699\\nHMR_4280: m02039m[m] + m02553m[m] + m02819m[m] <=> m02403m[m] + m02552m[m] -0.009737132747913484\\nHMR_4281: m02039p[p] + m02553p[p] + m02819p[p] <=> m02403p[p] + m02552p[p] 0.016130454770397182\\nL_LACtcm: m02403c[c] --> m02403m[m] 0.009737132747913484\\nHMR_3007: m02039c[c] + m02403c[c] <=> m02039p[p] + m02403p[p] -0.016130454770397182\\n----------------------------------------\\n\\n'"
     },
     "execution_count": 223,
     "metadata": {},
     "output_type": "execute_result"
    }
   ],
   "source": [
    "\"\"\"\n",
    "HMR_6049: m02403c[c] + m02833s[s] <=> m02403s[s] + m02833c[c] 0.006393322022483699\n",
    "HMR_9135: m02403s[s] -->  0.006393322022483699\n",
    "HMR_4280: m02039m[m] + m02553m[m] + m02819m[m] <=> m02403m[m] + m02552m[m] -0.009737132747913484\n",
    "HMR_4281: m02039p[p] + m02553p[p] + m02819p[p] <=> m02403p[p] + m02552p[p] 0.016130454770397182\n",
    "L_LACtcm: m02403c[c] --> m02403m[m] 0.009737132747913484\n",
    "HMR_3007: m02039c[c] + m02403c[c] <=> m02039p[p] + m02403p[p] -0.016130454770397182\n",
    "----------------------------------------\n",
    "\n",
    "\"\"\""
   ],
   "metadata": {
    "collapsed": false,
    "pycharm": {
     "name": "#%%\n"
    }
   }
  },
  {
   "cell_type": "code",
   "execution_count": 260,
   "outputs": [
    {
     "name": "stdout",
     "output_type": "stream",
     "text": [
      "          fluxes_x  fluxes_y  comparison\n",
      "HMR_3905       0.0       0.0           0\n",
      "HMR_3907       0.0       0.0           0\n",
      "HMR_4097       0.0       0.0           0\n",
      "HMR_4099       0.0       0.0           0\n",
      "HMR_4108       0.0       0.0           0\n",
      "Empty DataFrame\n",
      "Columns: [fluxes_x, fluxes_y, comparison]\n",
      "Index: []\n"
     ]
    }
   ],
   "source": [
    "merged = pd.DataFrame(res.fluxes).merge(res2.fluxes, left_index=True, right_index=True)\n",
    "merged['comparison'] = 0 if merged['fluxes_y'] is not merged['fluxes_x'] else 1\n",
    "print(merged.head())\n",
    "\n",
    "print(merged[merged['comparison'] == 1])\n"
   ],
   "metadata": {
    "collapsed": false,
    "pycharm": {
     "name": "#%%\n"
    }
   }
  },
  {
   "cell_type": "code",
   "execution_count": 3,
   "outputs": [
    {
     "name": "stdout",
     "output_type": "stream",
     "text": [
      "brain: 2549\n",
      "brain: 2547 results with damage.\n",
      "-----------------------------------\n"
     ]
    }
   ],
   "source": [
    "# Results Reading\n",
    "tissue_list =  ['brain']#['skin', 'spleen', 'adipose_tissue', 'adrenal_gland', 'uterus', 'pancreas', 'thyroid', 'blood', 'brain', 'heart', 'kidney', 'liver', 'muscle', 'nerve']\n",
    "\n",
    "for tissue in tissue_list:\n",
    "    res = pd.read_table('C:/Users/Sigve/Genome_Data/results/ind_results/extensive/ind_all_chrom_sel_{0}_ho_e.tsv'.format(tissue), index_col=0)\n",
    "    res['tasks_results'] = res['tasks_results'].apply(lambda x: [int(i) for i in x[1:-1].split(', ')] if x[2:-2] != 'ALL PASS' else ['ALL PASS'])\n",
    "    res['solution'] = res['solution'].apply(lambda x: round(x, 3))\n",
    "\n",
    "    ref_sol = res['solution'].iloc[-1]#Change to 'REF'\n",
    "    res['chk'] = res['tasks_results'].apply(lambda x: not all(x))\n",
    "\n",
    "    non_nom = res[((res['solution'] != ref_sol) | res['chk']) | (res['sample_ids'] == 'REF')]\n",
    "    non_nom[['sample_ids', 'solution', 'tasks_results']].to_csv(path_or_buf='C:/Users/Sigve/Genome_Data/results/ind_results/filtered/ind_all_chrom_sel_{0}_ho_e_f.tsv'.format(tissue), sep='\\t')\n",
    "    print(tissue + ': ' + str(res.shape[0]))\n",
    "    print(tissue + ': ' + str(non_nom.shape[0]) + ' results with damage.')\n",
    "    print('-----------------------------------')"
   ],
   "metadata": {
    "collapsed": false,
    "pycharm": {
     "name": "#%%\n"
    }
   }
  },
  {
   "cell_type": "code",
   "execution_count": 304,
   "outputs": [],
   "source": [
    "model = cobra.io.read_sbml_model('C:/Users/Sigve/Genome_Data/Human1/Human1_GEM/GTEx/pancreas.xml')"
   ],
   "metadata": {
    "collapsed": false,
    "pycharm": {
     "name": "#%%\n"
    }
   }
  },
  {
   "cell_type": "code",
   "execution_count": 314,
   "outputs": [
    {
     "name": "stdout",
     "output_type": "stream",
     "text": [
      "<Solution 0.000 at 0x1b90dd0ee20>\n"
     ]
    }
   ],
   "source": [
    "print(knockout_FBA(model, ['ENSG00000110536']))"
   ],
   "metadata": {
    "collapsed": false,
    "pycharm": {
     "name": "#%%\n"
    }
   }
  },
  {
   "cell_type": "code",
   "execution_count": 9,
   "outputs": [
    {
     "name": "stdout",
     "output_type": "stream",
     "text": [
      "Read LP format model from file C:\\Users\\Sigve\\AppData\\Local\\Temp\\tmpoxqb0b4_.lp\n",
      "Reading time = 0.07 seconds\n",
      ": 5482 rows, 15138 columns, 66608 nonzeros\n",
      "Read LP format model from file C:\\Users\\Sigve\\AppData\\Local\\Temp\\tmpkjw6h3q3.lp\n",
      "Reading time = 0.07 seconds\n",
      ": 5482 rows, 15138 columns, 66608 nonzeros\n",
      "Read LP format model from file C:\\Users\\Sigve\\AppData\\Local\\Temp\\tmp64q0gnpg.lp\n",
      "Reading time = 0.07 seconds\n",
      ": 5482 rows, 15138 columns, 66608 nonzeros\n",
      "Genes in the model: 2451\n",
      "Essential genes: 288\n",
      "Non-ssential genes: 2\n",
      "Total number out: 290\n"
     ]
    }
   ],
   "source": [
    "# Get all (non)essential genes. SLOW, just use MATLAB for this\n",
    "start_time = time.time()\n",
    "tissue_list =  ['skin', 'spleen', 'adipose_tissue', 'adrenal_gland', 'uterus', 'pancreas', 'thyroid', 'blood', 'heart', 'kidney', 'liver', 'muscle', 'nerve'] #['brain']\n",
    "for tissue in tissue_list:\n",
    "\n",
    "    model_list = load_model('C:/Users/Sigve/Genome_Data/Human1/Human1_GEM/GTEx/{0}.xml'.format(tissue))\n",
    "    task_list = read_tasks('C:/Users/Sigve/Genome_Data/Human1/Human1_GEM/tasks/essential_tasks.tsv', model_list)\n",
    "\n",
    "    essential_genes = [gene.id for gene in cobra.flux_analysis.find_essential_genes(model_list[0], processes=12)]\n",
    "    extensive_genes = [[[gene]] for gene in [g.id for g in model_list[0].genes] if gene not in essential_genes]\n",
    "\n",
    "    extensive_genes_df = pd.DataFrame(extensive_genes, columns=['gene_ids'])\n",
    "\n",
    "    results = parallelize_dataframe(extensive_genes_df, partial(combinations_subset, partial(knockout_FBA_w_tasks, task_list, model_list)), 12)\n",
    "\n",
    "    essential_df = pd.DataFrame([gene[0] for gene in results[results['results'].map(lambda x: not all(x))]['gene_ids'].tolist()] + essential_genes, columns=['gene_ids'])\n",
    "    non_essential_df = results[results['results'].map(lambda x: all(x))]['gene_ids'].apply(lambda x: x[0]).reset_index(drop=True)\n",
    "\n",
    "    essential_df.to_csv(path_or_buf='C:/Users/Sigve/Genome_Data/results/model_tests/essential_genes/{0}_essential.tsv'.format(tissue), sep='\\t')\n",
    "    non_essential_df.to_csv(path_or_buf='C:/Users/Sigve/Genome_Data/results/model_tests/essential_genes/{0}_non_essential.tsv'.format(tissue), sep='\\t')\n",
    "\n",
    "    print('Genes in the model: ' + str(len(model_list[0].genes)))\n",
    "    print('Essential genes: ' + str(essential_df.shape[0]))\n",
    "    print('Non-essential genes: ' + str(non_essential_df.shape[0]))\n",
    "    print('Total number out: ' + str(essential_df.shape[0] + non_essential_df.shape[0]))\n",
    "\n",
    "end_time = time.time()\n",
    "print('Total time: %.6f seconds' % (end_time - start_time))"
   ],
   "metadata": {
    "collapsed": false,
    "pycharm": {
     "name": "#%%\n"
    }
   }
  },
  {
   "cell_type": "code",
   "execution_count": 16,
   "outputs": [
    {
     "name": "stdout",
     "output_type": "stream",
     "text": [
      "            gene_ids                                            results\n",
      "0  [ENSG00000000419]  [87.69348339034202, 1, 1, 1, 1, 1, 1, 1, 1, 1,...\n",
      "1  [ENSG00000000938]  [87.69348339034202, 1, 1, 1, 1, 1, 1, 1, 1, 1,...\n",
      "2  [ENSG00000001036]  [87.69348339034202, 1, 1, 1, 1, 1, 1, 1, 1, 1,...\n",
      "3  [ENSG00000001084]  [87.69348339034201, 1, 1, 1, 1, 1, 1, 1, 1, 1,...\n",
      "4  [ENSG00000002549]  [87.69348339034201, 1, 1, 1, 1, 1, 1, 1, 1, 1,...\n",
      "0       ENSG00000000419\n",
      "1       ENSG00000000938\n",
      "2       ENSG00000001036\n",
      "3       ENSG00000002549\n",
      "4       ENSG00000002587\n",
      "             ...       \n",
      "2158    ENSG00000282301\n",
      "2159    ENSG00000284844\n",
      "2160    ENSG00000285043\n",
      "2161    ENSG00000285269\n",
      "2162    ENSG00000285441\n",
      "Name: gene_ids, Length: 2163, dtype: object\n"
     ]
    }
   ],
   "source": [],
   "metadata": {
    "collapsed": false,
    "pycharm": {
     "name": "#%%\n"
    }
   }
  }
 ],
 "metadata": {
  "kernelspec": {
   "display_name": "Python 3",
   "language": "python",
   "name": "python3"
  },
  "language_info": {
   "codemirror_mode": {
    "name": "ipython",
    "version": 2
   },
   "file_extension": ".py",
   "mimetype": "text/x-python",
   "name": "python",
   "nbconvert_exporter": "python",
   "pygments_lexer": "ipython2",
   "version": "2.7.6"
  }
 },
 "nbformat": 4,
 "nbformat_minor": 0
}