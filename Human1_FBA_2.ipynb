{
 "cells": [
  {
   "cell_type": "code",
   "execution_count": 2,
   "metadata": {
    "collapsed": true
   },
   "outputs": [],
   "source": [
    "import itertools\n",
    "import pandas as pd\n",
    "import cobra.flux_analysis\n",
    "import time\n",
    "import numpy as np\n",
    "from src.mp_functions import combinations_subset, parallelize_dataframe, knockout_FBA, knockout_FBA_w_tasks\n",
    "\n",
    "from functools import partial\n",
    "from src.met_task_functions import constrain_model, read_tasks\n",
    "\n",
    "\n",
    "\"\"\"A mess of a document with different code cells.\n",
    "Good to to use for any testing that involves the Human1 model as it takes some time to load in.\"\"\"\n",
    "\n",
    "def load_model(model_path: str) -> list:\n",
    "    model = cobra.io.read_sbml_model(model_path)\n",
    "    model_list = constrain_model(model, ALLMETSIN=True)\n",
    "    #Removes unused model.\n",
    "    model_list[2] = None\n",
    "    return model_list\n",
    "\n",
    "\n",
    "def get_unique_gene_combs(combs: pd.DataFrame) -> pd.DataFrame:\n",
    "\n",
    "    df = pd.DataFrame(combs['gene_ids'], columns=['gene_ids'])\n",
    "    f = list(np.unique(df))\n",
    "    d = {}\n",
    "    n=0\n",
    "    for l in f:\n",
    "        d[n] = [l]\n",
    "        n += 1\n",
    "\n",
    "    return pd.DataFrame.from_dict(d, orient='index', columns=['gene_ids'])\n",
    "\n",
    "\n",
    "def produce_ind_combs(model_genes: list) -> pd.DataFrame:\n",
    "    ind_data = pd.read_table('C:/Users/Sigve/Genome_Data/SNP_data/1000_genomes/result_chrom_22.tsv', index_col=0)\n",
    "    missense_snps = pd.read_table('C:/Users/Sigve/Genome_Data/results/SNPs_missense.tsv', index_col=0)\n",
    "\n",
    "    missense_snps['gene_id'] = missense_snps['gene_id'].apply(lambda x: x.split('.')[0])\n",
    "    merged_df = pd.merge(left=missense_snps, right=ind_data, how='left', left_on='chrom_pos', right_on='pos')\n",
    "\n",
    "    res_dict = {}\n",
    "\n",
    "    for column in merged_df:\n",
    "        res_dict[column] = [merged_df['variant_name'][merged_df[column] == 2].to_list(), set(merged_df['gene_id'][merged_df[column] == 2].to_list())]\n",
    "\n",
    "    results = pd.DataFrame.from_dict(res_dict, orient='index', columns=['snp_list', 'gene_ids'])\n",
    "    results['gene_ids'] = results['gene_ids'].apply(lambda x: list(x.intersection(model_genes)))\n",
    "    results = results[results['gene_ids'].map(lambda x: len(x)) > 0]\n",
    "\n",
    "    return results"
   ]
  },
  {
   "cell_type": "code",
   "execution_count": null,
   "outputs": [
    {
     "name": "stdout",
     "output_type": "stream",
     "text": [
      "Academic license - for non-commercial use only - expires 2022-10-03\n",
      "Using license file c:\\gurobi\\gurobi.lic\n",
      "Read LP format model from file C:\\Users\\Sigve\\AppData\\Local\\Temp\\tmpr_d2uv5b.lp\n",
      "Reading time = 0.07 seconds\n",
      ": 5482 rows, 15138 columns, 66608 nonzeros\n",
      "Read LP format model from file C:\\Users\\Sigve\\AppData\\Local\\Temp\\tmpomnktrt8.lp\n",
      "Reading time = 0.07 seconds\n",
      ": 5482 rows, 15138 columns, 66608 nonzeros\n",
      "Read LP format model from file C:\\Users\\Sigve\\AppData\\Local\\Temp\\tmp7a5m4470.lp\n",
      "Reading time = 0.07 seconds\n",
      ": 5482 rows, 15138 columns, 66608 nonzeros\n",
      "Read LP format model from file C:\\Users\\Sigve\\AppData\\Local\\Temp\\tmpvjj4pq9v.lp\n",
      "Reading time = 0.07 seconds\n",
      ": 5321 rows, 14488 columns, 63246 nonzeros\n",
      "Read LP format model from file C:\\Users\\Sigve\\AppData\\Local\\Temp\\tmpnkkgr6vc.lp\n",
      "Reading time = 0.06 seconds\n",
      ": 5321 rows, 14488 columns, 63246 nonzeros\n",
      "Read LP format model from file C:\\Users\\Sigve\\AppData\\Local\\Temp\\tmp3jsrusu4.lp\n",
      "Reading time = 0.06 seconds\n",
      ": 5321 rows, 14488 columns, 63246 nonzeros\n",
      "Read LP format model from file C:\\Users\\Sigve\\AppData\\Local\\Temp\\tmphy1w2bbw.lp\n",
      "Reading time = 0.08 seconds\n",
      ": 5816 rows, 16328 columns, 71478 nonzeros\n",
      "Read LP format model from file C:\\Users\\Sigve\\AppData\\Local\\Temp\\tmpsrhip6yn.lp\n",
      "Reading time = 0.07 seconds\n",
      ": 5816 rows, 16328 columns, 71478 nonzeros\n",
      "Read LP format model from file C:\\Users\\Sigve\\AppData\\Local\\Temp\\tmpsnsfpv5b.lp\n",
      "Reading time = 0.09 seconds\n",
      ": 5816 rows, 16328 columns, 71478 nonzeros\n",
      "Read LP format model from file C:\\Users\\Sigve\\AppData\\Local\\Temp\\tmpqha9fhg6.lp\n",
      "Reading time = 0.07 seconds\n",
      ": 5788 rows, 15892 columns, 69376 nonzeros\n",
      "Read LP format model from file C:\\Users\\Sigve\\AppData\\Local\\Temp\\tmp117o8x9h.lp\n",
      "Reading time = 0.07 seconds\n",
      ": 5788 rows, 15892 columns, 69376 nonzeros\n",
      "Read LP format model from file C:\\Users\\Sigve\\AppData\\Local\\Temp\\tmptz67elth.lp\n",
      "Reading time = 0.07 seconds\n",
      ": 5788 rows, 15892 columns, 69376 nonzeros\n",
      "Read LP format model from file C:\\Users\\Sigve\\AppData\\Local\\Temp\\tmpu73r4h8x.lp\n",
      "Reading time = 0.06 seconds\n",
      ": 4714 rows, 13168 columns, 59336 nonzeros\n",
      "Read LP format model from file C:\\Users\\Sigve\\AppData\\Local\\Temp\\tmprflzkb9v.lp\n",
      "Reading time = 0.06 seconds\n",
      ": 4714 rows, 13168 columns, 59336 nonzeros\n",
      "Read LP format model from file C:\\Users\\Sigve\\AppData\\Local\\Temp\\tmp__5t_i6s.lp\n",
      "Reading time = 0.06 seconds\n",
      ": 4714 rows, 13168 columns, 59336 nonzeros\n"
     ]
    }
   ],
   "source": [
    "start_time = time.time()\n",
    "# ['blood']\n",
    "tissue_list = ['brain', 'heart', 'kidney', 'liver', 'muscle', 'nerve', 'pancreas', 'thyroid']\n",
    "model_base_path = 'C:/Users/Sigve/Genome_Data/Human1/Human1_GEM/GTEx/{0}.xml'\n",
    "\n",
    "for tissue in tissue_list: \n",
    "\n",
    "    model_list = load_model(model_base_path.format(tissue))\n",
    "    model_genes = [gene.id for gene in model_list[0].genes]\n",
    "\n",
    "    task_list = read_tasks('C:/Users/Sigve/Genome_Data/Human1/Human1_GEM/tasks/essential_tasks.tsv', model_list)\n",
    "    ind_combs = produce_ind_combs(model_genes)\n",
    "    ind_combs['gene_ids'].apply(lambda x: x.sort())\n",
    "\n",
    "    unique_combs = get_unique_gene_combs(ind_combs)\n",
    "\n",
    "    results = parallelize_dataframe(unique_combs, partial(combinations_subset, partial(knockout_FBA_w_tasks, task_list, model_list)), 13)\n",
    "\n",
    "    results['gene_ids'] = results['gene_ids'].apply(lambda x: ';'.join(x))\n",
    "    results['solution'] = results['results'].apply(lambda x: x[0])\n",
    "    results['tasks_results'] = results['results'].apply(lambda x: x[1:])\n",
    "\n",
    "    ind_combs['gene_ids'] = ind_combs['gene_ids'].apply(lambda x: ';'.join(x))\n",
    "    ind_combs.reset_index(drop=False, inplace=True)\n",
    "    ind_combs['ind_id'] = ind_combs['index']\n",
    "\n",
    "    results = pd.merge(left=ind_combs, right=results, how='right', left_on='gene_ids', right_on='gene_ids')\n",
    "    results['gene_ids'] = results['gene_ids'].apply(lambda x: x.split(';'))\n",
    "\n",
    "\n",
    "\n",
    "\n",
    "    results[['ind_id', 'solution', 'tasks_results']].to_csv(path_or_buf='C:/Users/Sigve/Genome_Data/results/ind_results/ind_chrom_22_{0}.tsv'.format(tissue), sep='\\t')\n",
    "\n",
    "\n",
    "end_time = time.time()\n",
    "\n",
    "print('Total time: %.6f seconds' % (end_time - start_time))"
   ],
   "metadata": {
    "collapsed": false,
    "pycharm": {
     "name": "#%%\n",
     "is_executing": true
    }
   }
  },
  {
   "cell_type": "code",
   "execution_count": 2,
   "outputs": [
    {
     "name": "stdout",
     "output_type": "stream",
     "text": [
      "Academic license - for non-commercial use only - expires 2022-10-03\n",
      "Using license file c:\\gurobi\\gurobi.lic\n"
     ]
    }
   ],
   "source": [
    "model_file_path = 'C:/Users/Sigve/Genome_Data/Human1/Human1_GEM/GTEx/brain.xml'\n",
    "model = cobra.io.read_sbml_model(model_file_path)"
   ],
   "metadata": {
    "collapsed": false,
    "pycharm": {
     "name": "#%%\n"
    }
   }
  },
  {
   "cell_type": "code",
   "execution_count": 84,
   "outputs": [],
   "source": [
    "model_genes = [gene.id for gene in model.genes]\n",
    "combs = produce_ind_combs(model_genes)"
   ],
   "metadata": {
    "collapsed": false,
    "pycharm": {
     "name": "#%%\n"
    }
   }
  },
  {
   "cell_type": "code",
   "execution_count": null,
   "outputs": [],
   "source": [
    "print(combs.shape[0])\n",
    "\n"
   ],
   "metadata": {
    "collapsed": false,
    "pycharm": {
     "name": "#%%\n",
     "is_executing": true
    }
   }
  }
 ],
 "metadata": {
  "kernelspec": {
   "display_name": "Python 3",
   "language": "python",
   "name": "python3"
  },
  "language_info": {
   "codemirror_mode": {
    "name": "ipython",
    "version": 2
   },
   "file_extension": ".py",
   "mimetype": "text/x-python",
   "name": "python",
   "nbconvert_exporter": "python",
   "pygments_lexer": "ipython2",
   "version": "2.7.6"
  }
 },
 "nbformat": 4,
 "nbformat_minor": 0
}