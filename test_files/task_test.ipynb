{
 "cells": [
  {
   "cell_type": "code",
   "execution_count": 57,
   "metadata": {
    "collapsed": true
   },
   "outputs": [
    {
     "name": "stdout",
     "output_type": "stream",
     "text": [
      "Model load time: 61.957249 seconds\n"
     ]
    }
   ],
   "source": [
    "\n",
    "import itertools\n",
    "\n",
    "import pandas as pd\n",
    "import cobra.flux_analysis\n",
    "from cobra import Metabolite, Reaction\n",
    "import time\n",
    "import numpy as np\n",
    "from functools import partial\n",
    "from src.mp_functions import combinations_subset, parallelize_dataframe, knockout_FBA\n",
    "\n",
    "\n",
    "\"\"\"A mess of a document with different code cells.\n",
    "Good to to use for any testing that involves the Recon3D model as it takes some time to load in.\"\"\"\n",
    "\n",
    "start_time = time.time()\n",
    "model_file_path = 'C:/Users/Sigve/Genome_Data/Human1/Human1_GEM/GTEx/brain.xml'\n",
    "model = cobra.io.read_sbml_model(model_file_path)\n",
    "t_model = cobra.io.read_sbml_model(model_file_path)\n",
    "\n",
    "end_time = time.time()\n",
    "print('Model load time: %.6f seconds' % (end_time - start_time))"
   ]
  },
  {
   "cell_type": "code",
   "execution_count": 58,
   "outputs": [
    {
     "name": "stderr",
     "output_type": "stream",
     "text": [
      "There are no boundary reactions in this model. Therefore, specific types of boundary reactions such as 'exchanges', 'demands' or 'sinks' cannot be identified.\n"
     ]
    },
    {
     "name": "stdout",
     "output_type": "stream",
     "text": [
      "0\n"
     ]
    }
   ],
   "source": [
    "\n",
    "for rx in t_model.exchanges:\n",
    "    m = list(rx.metabolites.keys())[0]\n",
    "    boundary_met = Metabolite(m.id[:-4] + 'x[x]', formula=m.formula, name=' '.join(m.name.split(' ')[:-1]) + ' [Boundary]', compartment='x')\n",
    "    rx.add_metabolites({boundary_met: 1})\n",
    "\n",
    "print(len(t_model.exchanges))"
   ],
   "metadata": {
    "collapsed": false,
    "pycharm": {
     "name": "#%%\n"
    }
   }
  },
  {
   "cell_type": "code",
   "execution_count": 33,
   "outputs": [
    {
     "name": "stdout",
     "output_type": "stream",
     "text": [
      "CHO2R\n",
      "NEFA blood pool in [Boundary]\n",
      "frozenset({<Reaction HMR_9033 at 0x253014a1b80>})\n",
      "HMR_0015: m02560s[s] --> 0.0048 m00003s[s] + 0.0016 m00008s[s] + 0.0016 m00010s[s] + 0.0001 m00017s[s] + 0.0001 m00019s[s] + 0.0001 m00021s[s] + 0.0001 m00094s[s] + 0.0001 m00104s[s] + 0.0001 m00111s[s] + 0.0001 m00114s[s] + 0.0001 m00115s[s] + 0.0001 m00117s[s] + 0.0001 m00128s[s] + 0.0001 m00132s[s] + 0.0001 m00135s[s] + 0.0001 m00260s[s] + 0.0001 m00265s[s] + 0.0001 m00315s[s] + 0.0001 m00341s[s] + 0.0001 m01197s[s] + 0.0001 m01207s[s] + 0.0001 m01235s[s] + 0.0001 m01238s[s] + 0.0017 m01291s[s] + 0.0137 m01362s[s] + 0.0007 m01373s[s] + 0.0005 m01432s[s] + 0.0001 m01582s[s] + 0.0002 m01583s[s] + 0.0001 m01584s[s] + 0.0001 m01585s[s] + 0.0046 m01689s[s] + 0.0025 m01696s[s] + 0.0019 m01741s[s] + 0.0011 m01771s[s] + 0.0001 m01778s[s] + 0.002 m01784s[s] + 0.0048 m01932s[s] + 0.0001 m02053s[s] + 0.0034 m02344s[s] + 0.0012 m02385s[s] + 0.071 m02387s[s] + 0.0005 m02389s[s] + 0.0056 m02456s[s] + 0.0005 m02457s[s] + 0.0283 m02494s[s] + 0.0003 m02564s[s] + 0.0001 m02613s[s] + 0.3746 m02646s[s] + 0.0001 m02648s[s] + 0.2949 m02674s[s] + 0.0686 m02675s[s] + 0.003 m02690s[s] + 0.0001 m02745s[s] + 0.1031 m02938s[s] + 0.0001 m02939s[s] + 0.0002 m03045s[s] + 0.0001 m03051s[s] + 0.0001 m03153s[s]\n",
      "HMR_9033: m02560s[s] <=> \n"
     ]
    }
   ],
   "source": [
    "t = t_model.metabolites.get_by_id('m02560x[x]')\n",
    "print(t.formula)\n",
    "print(t.name)\n",
    "print(t.reactions)\n",
    "\n",
    "r1 = model.reactions.get_by_id('HMR_0015')\n",
    "r2 = model.reactions.get_by_id('HMR_9033')\n",
    "print(r1)\n",
    "print(r2)"
   ],
   "metadata": {
    "collapsed": false,
    "pycharm": {
     "name": "#%%\n"
    }
   }
  },
  {
   "cell_type": "code",
   "execution_count": 173,
   "outputs": [
    {
     "name": "stdout",
     "output_type": "stream",
     "text": [
      "   id                                    description  shouldFail  printFluxes  \\\n",
      "0  ER  Aerobic rephosphorylation of ATP from glucose           0            0   \n",
      "1  ER               Aerobic rephosphorylation of GTP           0            0   \n",
      "2  ER               Aerobic rephosphorylation of CTP           0            0   \n",
      "3  ER               Aerobic rephosphorylation of UTP           0            0   \n",
      "4  BS                          ATP de novo synthesis           0            0   \n",
      "\n",
      "   comments                        inputs     LBin                 UBin  \\\n",
      "0       NaN             'O2[s]glucose[s]'      0,0            1000,1000   \n",
      "1       NaN             'O2[s]glucose[s]'      0,0            1000,1000   \n",
      "2       NaN             'O2[s]glucose[s]'      0,0            1000,1000   \n",
      "3       NaN             'O2[s]glucose[s]'      0,0            1000,1000   \n",
      "4       NaN  'O2[s]glucose[s]NH3[s]Pi[s]'  0,0,0,0  1000,1000,1000,1000   \n",
      "\n",
      "                outputs  LBout           UBout  \\\n",
      "0        'H2O[s]CO2[s]'    0,0       1000,1000   \n",
      "1        'H2O[s]CO2[s]'    0,0       1000,1000   \n",
      "2        'H2O[s]CO2[s]'    0,0       1000,1000   \n",
      "3        'H2O[s]CO2[s]'    0,0       1000,1000   \n",
      "4  'H2O[s]CO2[s]ATP[c]'  0,0,1  1000,1000,1000   \n",
      "\n",
      "                                    equations   LBequ   UBequ  changed  LBrxn  \\\n",
      "0   ATP[c] + H2O[c] => ADP[c] + Pi[c] + H+[c]     1.0  1000.0      NaN    NaN   \n",
      "1   GTP[c] + H2O[c] => GDP[c] + Pi[c] + H+[c]     1.0  1000.0      NaN    NaN   \n",
      "2   CTP[c] + H2O[c] => CDP[c] + Pi[c] + H+[c]     1.0  1000.0      NaN    NaN   \n",
      "3   UTP[c] + H2O[c] => UDP[c] + Pi[c] + H+[c]     1.0  1000.0      NaN    NaN   \n",
      "4  ATP[c] + H2O[c] <=> ADP[c] + Pi[c] + H+[c] -1000.0  1000.0      NaN    NaN   \n",
      "\n",
      "   UBrxn  \n",
      "0    NaN  \n",
      "1    NaN  \n",
      "2    NaN  \n",
      "3    NaN  \n",
      "4    NaN  \n"
     ]
    }
   ],
   "source": [
    "# Import table\n",
    "tasks = pd.read_table('C:/Users/Sigve/Genome_Data/Human1/Human1_GEM/tasks/essential_tasks.tsv')\n",
    "\n",
    "print(tasks.head())"
   ],
   "metadata": {
    "collapsed": false,
    "pycharm": {
     "name": "#%%\n"
    }
   }
  },
  {
   "cell_type": "code",
   "execution_count": 174,
   "outputs": [
    {
     "name": "stdout",
     "output_type": "stream",
     "text": [
      "   id                                    description  shouldFail  printFluxes  \\\n",
      "0  ER  Aerobic rephosphorylation of ATP from glucose           0            0   \n",
      "1  ER               Aerobic rephosphorylation of GTP           0            0   \n",
      "2  ER               Aerobic rephosphorylation of CTP           0            0   \n",
      "3  ER               Aerobic rephosphorylation of UTP           0            0   \n",
      "4  BS                          ATP de novo synthesis           0            0   \n",
      "\n",
      "   comments                              inputs          LBin  \\\n",
      "0       NaN                 [O2[s], glucose[s]]        [0, 0]   \n",
      "1       NaN                 [O2[s], glucose[s]]        [0, 0]   \n",
      "2       NaN                 [O2[s], glucose[s]]        [0, 0]   \n",
      "3       NaN                 [O2[s], glucose[s]]        [0, 0]   \n",
      "4       NaN  [O2[s], glucose[s], NH3[s], Pi[s]]  [0, 0, 0, 0]   \n",
      "\n",
      "                       UBin                   outputs      LBout  \\\n",
      "0              [1000, 1000]          [H2O[s], CO2[s]]     [0, 0]   \n",
      "1              [1000, 1000]          [H2O[s], CO2[s]]     [0, 0]   \n",
      "2              [1000, 1000]          [H2O[s], CO2[s]]     [0, 0]   \n",
      "3              [1000, 1000]          [H2O[s], CO2[s]]     [0, 0]   \n",
      "4  [1000, 1000, 1000, 1000]  [H2O[s], CO2[s], ATP[c]]  [0, 0, 1]   \n",
      "\n",
      "                UBout                                   equations   LBequ  \\\n",
      "0        [1000, 1000]   ATP[c] + H2O[c] => ADP[c] + Pi[c] + H+[c]     1.0   \n",
      "1        [1000, 1000]   GTP[c] + H2O[c] => GDP[c] + Pi[c] + H+[c]     1.0   \n",
      "2        [1000, 1000]   CTP[c] + H2O[c] => CDP[c] + Pi[c] + H+[c]     1.0   \n",
      "3        [1000, 1000]   UTP[c] + H2O[c] => UDP[c] + Pi[c] + H+[c]     1.0   \n",
      "4  [1000, 1000, 1000]  ATP[c] + H2O[c] <=> ADP[c] + Pi[c] + H+[c] -1000.0   \n",
      "\n",
      "    UBequ  changed  LBrxn  UBrxn  \n",
      "0  1000.0      NaN    NaN    NaN  \n",
      "1  1000.0      NaN    NaN    NaN  \n",
      "2  1000.0      NaN    NaN    NaN  \n",
      "3  1000.0      NaN    NaN    NaN  \n",
      "4  1000.0      NaN    NaN    NaN  \n"
     ]
    }
   ],
   "source": [
    "# Formating data\n",
    "tasks['LBin'] = tasks['LBin'].apply(lambda x: x.split(','))\n",
    "tasks['LBout'] = tasks['LBout'].apply(lambda x: x.split(','))\n",
    "tasks['UBin'] = tasks['UBin'].apply(lambda x: x.split(','))\n",
    "tasks['UBout'] = tasks['UBout'].apply(lambda x: x.split(','))\n",
    "\n",
    "d = ']'\n",
    "tasks['inputs'] = tasks['inputs'].apply(lambda x: [e+d for e in x[1:-1].split(d)][0:-1])\n",
    "tasks['outputs'] = tasks['outputs'].apply(lambda x: [e+d for e in x[1:-1].split(d)][0:-1])\n",
    "tasks['equations'] = tasks['equations'].apply(str)\n",
    "print(tasks.head())"
   ],
   "metadata": {
    "collapsed": false,
    "pycharm": {
     "name": "#%%\n"
    }
   }
  },
  {
   "cell_type": "code",
   "execution_count": 81,
   "outputs": [],
   "source": [
    "comps = {'s': 'Extracellular',\n",
    "'p': 'Peroxisome',\n",
    "'m': 'Mitochondria',\n",
    "'c': 'Cytosol',\n",
    "'l': 'Lysosome',\n",
    "'r': 'Endoplasmic reticulum',\n",
    "'g': 'Golgi apparatus',\n",
    "'n': 'Nucleus',\n",
    "'i': 'Inner mitochondria',\n",
    "'x': 'Boundary'}"
   ],
   "metadata": {
    "collapsed": false,
    "pycharm": {
     "name": "#%%\n"
    }
   }
  },
  {
   "cell_type": "code",
   "execution_count": 175,
   "outputs": [
    {
     "name": "stdout",
     "output_type": "stream",
     "text": [
      "120\n"
     ]
    }
   ],
   "source": [
    "met_list = []\n",
    "\n",
    "for i, data in tasks.iterrows():\n",
    "    l = []\n",
    "    if data['equations'] != 'nan':\n",
    "        l = data['equations'].split(' ')\n",
    "        l = [item for item in l if item[-1] == ']']\n",
    "\n",
    "    met_list = met_list + data['inputs'] + data['outputs'] + l\n",
    "\n",
    "\n",
    "met_list = list(set(met_list))\n",
    "print(len(met_list))\n"
   ],
   "metadata": {
    "collapsed": false,
    "pycharm": {
     "name": "#%%\n"
    }
   }
  },
  {
   "cell_type": "code",
   "execution_count": 176,
   "outputs": [
    {
     "name": "stdout",
     "output_type": "stream",
     "text": [
      "120\n"
     ]
    }
   ],
   "source": [
    "mets = t_model.metabolites\n",
    "\n",
    "met_ids = {}\n",
    "for met in met_list:\n",
    "\n",
    "\n",
    "    if met[:-3] == 'ALLMETSIN':\n",
    "        met_ids[met] = 'ALLMETSIN'\n",
    "\n",
    "    elif met[:-3] == 'ALLMETS':\n",
    "        met_ids[met] = 'ALLMETS'\n",
    "\n",
    "    else:\n",
    "        comp = met[-2]\n",
    "        temp = met[:-3] + ' [{0}]'.format(comps[comp])\n",
    "        for m in mets:\n",
    "            if m.name == temp:\n",
    "                met_ids[met] = m\n",
    "                break\n",
    "        else:\n",
    "            # Failed to find\n",
    "            print(temp)\n",
    "            print(met)\n",
    "\n",
    "\n",
    "print(len(met_ids))"
   ],
   "metadata": {
    "collapsed": false,
    "pycharm": {
     "name": "#%%\n"
    }
   }
  },
  {
   "cell_type": "code",
   "execution_count": 177,
   "outputs": [
    {
     "name": "stdout",
     "output_type": "stream",
     "text": [
      "['biomass[s]', 'arginine[s]', 'histidine[s]', 'lysine[s]', 'methionine[s]', 'phenylalanine[s]', 'tryptophan[s]', 'tyrosine[s]', 'alanine[s]', 'glycine[s]', 'serine[s]', 'threonine[s]', 'aspartate[s]', 'glutamate[s]', 'asparagine[s]', 'glutamine[s]', 'isoleucine[s]', 'leucine[s]', 'proline[s]', 'valine[s]', 'cysteine[s]', 'thiamin[s]', 'hypoxanthine[s]', 'folate[s]', 'biotin[s]', 'pantothenate[s]', 'choline[s]', 'inositol[s]', 'nicotinamide[s]', 'pyridoxine[s]', 'riboflavin[s]', 'thymidine[s]', 'aquacob(III)alamin[s]', 'lipoic acid[s]', 'glucose[s]', 'sulfate[s]', 'linoleate[s]', 'linolenate[s]', 'O2[s]', 'H2O[s]', 'retinoate[s]', 'Fe2+[s]', 'Pi[s]', 'alpha-tocopherol[s]', 'gamma-tocopherol[s]']\n",
      "45\n",
      "45\n"
     ]
    }
   ],
   "source": [
    "tasks.at[56, 'outputs']= [tasks.at[56, 'outputs'][1]] + tasks.at[56, 'inputs']\n",
    "tasks.at[56, 'LBout']= [tasks.at[56, 'LBout'][1]] + tasks.at[56, 'LBin']\n",
    "tasks.at[56, 'UBout']= [tasks.at[56, 'UBout'][1]] + tasks.at[56, 'UBin']\n",
    "\n",
    "print(tasks.loc[56].at['outputs'])\n",
    "print(len(tasks.loc[56].at['LBout']))\n",
    "print(len(tasks.loc[56].at['UBout']))"
   ],
   "metadata": {
    "collapsed": false,
    "pycharm": {
     "name": "#%%\n"
    }
   }
  },
  {
   "cell_type": "code",
   "execution_count": null,
   "outputs": [],
   "source": [],
   "metadata": {
    "collapsed": false,
    "pycharm": {
     "name": "#%%\n"
    }
   }
  },
  {
   "cell_type": "code",
   "execution_count": 178,
   "outputs": [],
   "source": [
    "rx_list = []\n",
    "in_list = []\n",
    "out_list = []\n",
    "for ind, data in tasks.iterrows():\n",
    "\n",
    "    rx_in = Reaction('ess_{0}_in'.format(ind+1))\n",
    "    rx_out = Reaction('ess_{0}_out'.format(ind+1))\n",
    "\n",
    "    for i, name, ml, lbs, ubs in zip([1, -1], ['in', 'out'], [data.inputs, data.outputs], [data.LBin, data.LBout], [data.UBin, data.UBout]):\n",
    "        rxl = []\n",
    "        for j, m, lb, ub in zip( range(len(ml)),ml, lbs, ubs):\n",
    "            rx = Reaction('ess_{0}_{1}_{2}'.format(ind+1, name, j))\n",
    "            rx.add_metabolites({met_ids[m]: i})\n",
    "            rx.lower_bound = float(lb)\n",
    "            rx.upper_bound = float(ub)\n",
    "            rxl.append(rx)\n",
    "        if name == 'in':\n",
    "            in_list.append(rxl)\n",
    "        else:\n",
    "            out_list.append(rxl)\n",
    "\n",
    "    if data.equations != 'nan':\n",
    "        t = [ [ met_ids[subsub] for subsub in sub.split(' ') if len(subsub)>1] for sub in data.equations.split('=') ]\n",
    "        d = {}\n",
    "\n",
    "        for i, ml in zip([-1, 1], t):\n",
    "            for m in ml:\n",
    "                d[m] = i\n",
    "\n",
    "        rx = Reaction('ess_{0}'.format(ind+1))\n",
    "        rx.add_metabolites(d)\n",
    "        rx.lower_bound = float(data.LBequ)\n",
    "        rx.upper_bound = float(data.UBequ)\n",
    "        rx.name = data.description\n",
    "\n",
    "        rx_list.append(rx)\n",
    "\n",
    "    else:\n",
    "        rx_list.append('nan')\n",
    "task_list = pd.DataFrame(list(zip(in_list, out_list, rx_list)), columns=['in_rx', 'out_rx', 'equ'])"
   ],
   "metadata": {
    "collapsed": false,
    "pycharm": {
     "name": "#%%\n"
    }
   }
  },
  {
   "cell_type": "code",
   "execution_count": 179,
   "outputs": [
    {
     "name": "stdout",
     "output_type": "stream",
     "text": [
      "<Solution 0.000 at 0x253a7d555e0>\n"
     ]
    }
   ],
   "source": [
    "print(t_model.optimize())"
   ],
   "metadata": {
    "collapsed": false,
    "pycharm": {
     "name": "#%%\n"
    }
   }
  },
  {
   "cell_type": "code",
   "execution_count": 226,
   "outputs": [
    {
     "name": "stderr",
     "output_type": "stream",
     "text": [
      "C:\\Users\\Sigve\\miniconda3\\envs\\Master\\lib\\site-packages\\cobra\\util\\solver.py:554: UserWarning: Solver status is 'infeasible'.\n",
      "  warn(f\"Solver status is '{status}'.\", UserWarning)\n"
     ]
    }
   ],
   "source": [
    "n=0\n",
    "sol = cobra.Solution\n",
    "res = []\n",
    "for ind, data in task_list.iterrows():\n",
    "\n",
    "    n+=1\n",
    "    if n>60:\n",
    "        break\n",
    "    #print(data.equ)\n",
    "\n",
    "\n",
    "    with t_model:\n",
    "        \n",
    "        for rx in data.in_rx + data.out_rx:\n",
    "            t_model.add_reaction(rx)\n",
    "\n",
    "        if data.equ != 'nan':\n",
    "            t_model.add_reaction(data.equ)\n",
    "\n",
    "        for gene_id in [\"ENSG00000165449\", \"ENSG00000100714\"]:\n",
    "            t_model.genes.get_by_id(gene_id).knock_out()\n",
    "\n",
    "        sol = t_model.optimize()\n",
    "\n",
    "    res.append(sol.objective_value)"
   ],
   "metadata": {
    "collapsed": false,
    "pycharm": {
     "name": "#%%\n"
    }
   }
  },
  {
   "cell_type": "code",
   "execution_count": 228,
   "outputs": [
    {
     "name": "stdout",
     "output_type": "stream",
     "text": [
      "    0  1\n",
      "0   1  1\n",
      "1   1  1\n",
      "2   1  1\n",
      "3   1  1\n",
      "4   0  0\n",
      "5   1  1\n",
      "6   0  0\n",
      "7   1  1\n",
      "8   0  0\n",
      "9   1  1\n",
      "10  0  0\n",
      "11  1  1\n",
      "12  1  1\n",
      "13  1  1\n",
      "14  1  1\n",
      "15  1  1\n",
      "16  1  1\n",
      "17  1  1\n",
      "18  1  1\n",
      "19  1  1\n",
      "20  1  1\n",
      "21  1  1\n",
      "22  1  1\n",
      "23  1  1\n",
      "24  1  1\n",
      "25  1  1\n",
      "26  1  1\n",
      "27  1  1\n",
      "28  1  1\n",
      "29  1  1\n",
      "30  1  1\n",
      "31  1  1\n",
      "32  1  1\n",
      "33  1  1\n",
      "34  1  1\n",
      "35  1  1\n",
      "36  1  1\n",
      "37  1  1\n",
      "38  1  1\n",
      "39  1  1\n",
      "40  1  1\n",
      "41  1  1\n",
      "42  1  1\n",
      "43  1  1\n",
      "44  1  1\n",
      "45  1  1\n",
      "46  1  1\n",
      "47  1  1\n",
      "48  1  1\n",
      "49  1  1\n",
      "50  1  1\n",
      "51  1  1\n",
      "52  1  1\n",
      "53  0  0\n",
      "54  0  0\n",
      "55  0  0\n",
      "56  1  1\n"
     ]
    }
   ],
   "source": [
    "l = [1,1,1,1,1,1,1,1,1,1,1,1,1,1,1,1,1,1,1,1,1,1,1,1,1,1,1,1,1,1,1,1,1,1,1,1,1,1,1,1,1,1,1,0,1,0,1,1,0,0,0,0,1,1,1,1,1]\n",
    "l2 = [1,1,1,1,1,1,1,1,1,1,1,1,1,1,1,1,1,1,1,1,1,1,1,1,1,1,1,1,1,1,1,1,1,1,1,0,1,1,1,0,1,1,1,0,1,0,1,1,0,0,0,0,1,1,1,1,1]\n",
    "l3 = [1,1,1,1,0,1,0,1,0,1,0,1,1,1,1,1,1,1,1,1,1,1,1,1,1,1,1,1,1,1,1,1,1,1,1,1,1,1,1,1,1,1,1,1,1,1,1,1,1,1,1,1,1,0,0,0,1]\n",
    "res2 = [0 if r is None else 1 for r in res]\n",
    "res_df = pd.DataFrame(list(zip(res2, l3)))\n",
    "print(res_df)"
   ],
   "metadata": {
    "collapsed": false,
    "pycharm": {
     "name": "#%%\n"
    }
   }
  },
  {
   "cell_type": "code",
   "execution_count": 210,
   "outputs": [
    {
     "name": "stdout",
     "output_type": "stream",
     "text": [
      "None\n"
     ]
    }
   ],
   "source": [
    "print(res[50])"
   ],
   "metadata": {
    "collapsed": false,
    "pycharm": {
     "name": "#%%\n"
    }
   }
  },
  {
   "cell_type": "code",
   "execution_count": 225,
   "outputs": [
    {
     "name": "stdout",
     "output_type": "stream",
     "text": [
      "<Solution infeasible at 0x25308513b50>\n",
      "[<Reaction ess_37_in_0 at 0x253a7075f70>, <Reaction ess_37_in_1 at 0x25301258220>, <Reaction ess_37_in_2 at 0x253012580a0>]\n",
      "[<Reaction ess_37_out_0 at 0x25301258580>, <Reaction ess_37_out_1 at 0x25301258280>, <Reaction ess_37_out_2 at 0x25301259bb0>, <Reaction ess_37_out_3 at 0x25301259610>]\n",
      "Series([], Name: fluxes, dtype: float64)\n"
     ]
    }
   ],
   "source": [
    "print(sol)\n",
    "print(task_list.iloc[36, 0])\n",
    "print(task_list.iloc[36, 1])\n",
    "\n",
    "\n",
    "res_2 = sol.fluxes\n",
    "\n",
    "print(res_2[res_2 != 0])"
   ],
   "metadata": {
    "collapsed": false,
    "pycharm": {
     "name": "#%%\n"
    }
   }
  },
  {
   "cell_type": "code",
   "execution_count": 224,
   "outputs": [
    {
     "name": "stdout",
     "output_type": "stream",
     "text": [
      "['1000', '1000', '1000', '1000', '1000', '1000', '1000', '1000', '1000', '1000', '1000', '1000', '1000', '1000', '1000', '1000', '1000', '1000', '1000', '1000', '1000', '1000', '1000', '1000', '1000', '1000', '1000', '1000', '1000', '1000', '1000', '1000', '1000', '1000', '1000', '1000', '1000', '1000', '1000', '1000', '1000', '1000', '1000', '1000']\n",
      "[<Reaction ess_57_in_0 at 0x253012812e0>, <Reaction ess_57_in_1 at 0x253012748e0>, <Reaction ess_57_in_2 at 0x253012744c0>, <Reaction ess_57_in_3 at 0x253012746a0>, <Reaction ess_57_in_4 at 0x25301274820>, <Reaction ess_57_in_5 at 0x25301274d00>, <Reaction ess_57_in_6 at 0x25301274ca0>, <Reaction ess_57_in_7 at 0x25301274e20>, <Reaction ess_57_in_8 at 0x25301274f70>, <Reaction ess_57_in_9 at 0x25301274b80>, <Reaction ess_57_in_10 at 0x25301274400>, <Reaction ess_57_in_11 at 0x25301274520>, <Reaction ess_57_in_12 at 0x25301274a90>, <Reaction ess_57_in_13 at 0x25301274160>, <Reaction ess_57_in_14 at 0x25301274f10>, <Reaction ess_57_in_15 at 0x25301274a00>, <Reaction ess_57_in_16 at 0x253012745e0>, <Reaction ess_57_in_17 at 0x253012741c0>, <Reaction ess_57_in_18 at 0x25301274670>, <Reaction ess_57_in_19 at 0x253012743a0>, <Reaction ess_57_in_20 at 0x253012741f0>, <Reaction ess_57_in_21 at 0x25301274220>, <Reaction ess_57_in_22 at 0x253012744f0>, <Reaction ess_57_in_23 at 0x25301274c10>, <Reaction ess_57_in_24 at 0x253012688b0>, <Reaction ess_57_in_25 at 0x25301268b80>, <Reaction ess_57_in_26 at 0x25301268c70>, <Reaction ess_57_in_27 at 0x25301268fa0>, <Reaction ess_57_in_28 at 0x25301268d00>, <Reaction ess_57_in_29 at 0x25301268a30>, <Reaction ess_57_in_30 at 0x25301268e20>, <Reaction ess_57_in_31 at 0x25301268880>, <Reaction ess_57_in_32 at 0x25301268280>, <Reaction ess_57_in_33 at 0x25301268040>, <Reaction ess_57_in_34 at 0x253012682b0>, <Reaction ess_57_in_35 at 0x25301268190>, <Reaction ess_57_in_36 at 0x25301268f70>, <Reaction ess_57_in_37 at 0x25301268970>, <Reaction ess_57_in_38 at 0x25301268a90>, <Reaction ess_57_in_39 at 0x253012687c0>, <Reaction ess_57_in_40 at 0x253012685e0>, <Reaction ess_57_in_41 at 0x253012686d0>, <Reaction ess_57_in_42 at 0x25301268430>, <Reaction ess_57_in_43 at 0x25301268400>]\n",
      "[<Reaction ess_57_out_0 at 0x25301274b20>, <Reaction ess_57_out_1 at 0x2530125c820>, <Reaction ess_57_out_2 at 0x2530125c730>, <Reaction ess_57_out_3 at 0x2530125c520>, <Reaction ess_57_out_4 at 0x2530125c9a0>, <Reaction ess_57_out_5 at 0x2530125c790>, <Reaction ess_57_out_6 at 0x2530125cc10>, <Reaction ess_57_out_7 at 0x2530125c9d0>, <Reaction ess_57_out_8 at 0x2530125c2b0>, <Reaction ess_57_out_9 at 0x2530125c370>, <Reaction ess_57_out_10 at 0x2530125c910>, <Reaction ess_57_out_11 at 0x2530125cd60>, <Reaction ess_57_out_12 at 0x2530125c190>, <Reaction ess_57_out_13 at 0x2530125c280>, <Reaction ess_57_out_14 at 0x2530125c610>, <Reaction ess_57_out_15 at 0x2530125c160>, <Reaction ess_57_out_16 at 0x2530125c1f0>, <Reaction ess_57_out_17 at 0x2530125cd30>, <Reaction ess_57_out_18 at 0x2530125cd00>, <Reaction ess_57_out_19 at 0x2530125ceb0>, <Reaction ess_57_out_20 at 0x2530125cbb0>, <Reaction ess_57_out_21 at 0x2530125ca60>, <Reaction ess_57_out_22 at 0x2530128b820>, <Reaction ess_57_out_23 at 0x2530128baf0>, <Reaction ess_57_out_24 at 0x2530128be50>, <Reaction ess_57_out_25 at 0x2530128b5b0>, <Reaction ess_57_out_26 at 0x2530128b490>, <Reaction ess_57_out_27 at 0x2530128b3d0>, <Reaction ess_57_out_28 at 0x2530128b1f0>, <Reaction ess_57_out_29 at 0x2530128b190>, <Reaction ess_57_out_30 at 0x2530128b070>, <Reaction ess_57_out_31 at 0x2530128bc40>, <Reaction ess_57_out_32 at 0x2530128b700>, <Reaction ess_57_out_33 at 0x2530128bb50>, <Reaction ess_57_out_34 at 0x2530128b880>, <Reaction ess_57_out_35 at 0x2530128b7f0>, <Reaction ess_57_out_36 at 0x2530128b640>, <Reaction ess_57_out_37 at 0x2530128bbe0>, <Reaction ess_57_out_38 at 0x2530128b9d0>, <Reaction ess_57_out_39 at 0x2530128bdf0>, <Reaction ess_57_out_40 at 0x2530128bf40>, <Reaction ess_57_out_41 at 0x2530128b910>, <Reaction ess_57_out_42 at 0x2530128b5e0>, <Reaction ess_57_out_43 at 0x25301253460>, <Reaction ess_57_out_44 at 0x25301253550>]\n"
     ]
    }
   ],
   "source": [
    "print(tasks.iloc[56, 7])\n",
    "print(task_list.iloc[56, 0])\n",
    "print(task_list.iloc[56, 1])"
   ],
   "metadata": {
    "collapsed": false,
    "pycharm": {
     "name": "#%%\n"
    }
   }
  }
 ],
 "metadata": {
  "kernelspec": {
   "display_name": "Python 3",
   "language": "python",
   "name": "python3"
  },
  "language_info": {
   "codemirror_mode": {
    "name": "ipython",
    "version": 2
   },
   "file_extension": ".py",
   "mimetype": "text/x-python",
   "name": "python",
   "nbconvert_exporter": "python",
   "pygments_lexer": "ipython2",
   "version": "2.7.6"
  }
 },
 "nbformat": 4,
 "nbformat_minor": 0
}