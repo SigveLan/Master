{
 "cells": [
  {
   "cell_type": "code",
   "execution_count": 2,
   "metadata": {
    "collapsed": true,
    "pycharm": {
     "name": "#%%\n"
    }
   },
   "outputs": [],
   "source": [
    "import pandas as pd"
   ]
  },
  {
   "cell_type": "code",
   "execution_count": 6,
   "outputs": [
    {
     "name": "stderr",
     "output_type": "stream",
     "text": [
      "C:\\Users\\Sigve\\miniconda3\\envs\\Master\\lib\\site-packages\\IPython\\core\\interactiveshell.py:3441: DtypeWarning: Columns (2) have mixed types.Specify dtype option on import or set low_memory=False.\n",
      "  exec(code_obj, self.user_global_ns, self.user_ns)\n"
     ]
    }
   ],
   "source": [
    "input_data = pd.read_table('C:/Users/Sigve/Genome_Data/results/SNPs_missense.tsv', index_col=0)"
   ],
   "metadata": {
    "collapsed": false,
    "pycharm": {
     "name": "#%%\n"
    }
   }
  },
  {
   "cell_type": "code",
   "execution_count": 19,
   "outputs": [
    {
     "name": "stdout",
     "output_type": "stream",
     "text": [
      "2325\n",
      "1186\n"
     ]
    }
   ],
   "source": [
    "n = 0\n",
    "gene_list = []\n",
    "for i, data in input_data.iterrows():\n",
    "\n",
    "    if  '_' == data['amino_acid_change'][2]: #or (data['amino_acid_pos'] == 1):\n",
    "        n += 1\n",
    "\n",
    "\n",
    "        if data['gene_id'] not in gene_list:\n",
    "            gene_list.append(data['gene_id'])\n",
    "\n",
    "print(n)\n",
    "print(len(gene_list))"
   ],
   "metadata": {
    "collapsed": false,
    "pycharm": {
     "name": "#%%\n"
    }
   }
  },
  {
   "cell_type": "code",
   "execution_count": 11,
   "outputs": [
    {
     "name": "stdout",
     "output_type": "stream",
     "text": [
      "variant_name                  X:1642952\n",
      "chrom                                 X\n",
      "chrom_pos                       1642952\n",
      "variant_alleles                     T/C\n",
      "gene_name                          ASMT\n",
      "gene_id              ENSG00000196433.13\n",
      "transcript_id         ENST00000381241.9\n",
      "exon_id                 ENSE00001700403\n",
      "amino_acid_change                   F/L\n",
      "amino_acid_pos                    354.0\n",
      "protein_length                    373.0\n",
      "score                               1.0\n",
      "Name: 121552, dtype: object\n"
     ]
    }
   ],
   "source": [],
   "metadata": {
    "collapsed": false,
    "pycharm": {
     "name": "#%%\n"
    }
   }
  },
  {
   "cell_type": "code",
   "execution_count": 21,
   "outputs": [
    {
     "name": "stdout",
     "output_type": "stream",
     "text": [
      "adipose_tissue\t182\n",
      "adrenal_gland\t182\n",
      "blood\t176\n",
      "brain\t181\n",
      "heart\t182\n",
      "kidney\t183\n",
      "liver\t189\n",
      "lung\t179\n",
      "muscle\t182\n",
      "nerve\t182\n",
      "pancreas\t182\n",
      "pituitary\t183\n",
      "skin\t182\n",
      "spleen\t178\n",
      "thyroid\t181\n",
      "194\n",
      "173\n"
     ]
    }
   ],
   "source": [
    "tissue_list = ['spleen', 'adipose_tissue', 'adrenal_gland', 'pituitary', 'thyroid', 'blood', 'brain', 'heart', 'kidney', 'liver', 'muscle', 'nerve', 'lung', 'skin', 'pancreas']\n",
    "tissue_list.sort()\n",
    "\n",
    "res_dict = {}\n",
    "task_list = []\n",
    "task_list_list = []\n",
    "for tissue in tissue_list:\n",
    "    task_file_path = 'C:/Users/Sigve/Genome_Data/Human1/Human1_GEM/tasks/tissue_full_tasks/full_tasks_minus_ess_{0}.tsv'.format(tissue)\n",
    "    tasks = pd.read_table(task_file_path)\n",
    "    res_dict[tissue] = tasks.shape[0]\n",
    "    print(tissue + '\\t' + str(tasks.shape[0]))\n",
    "    #print('-----------------------------------')\n",
    "    task_list_list.append(tasks['description'].to_list())\n",
    "    for i, data in tasks.iterrows():\n",
    "        if data['description'] not in task_list:\n",
    "            task_list.append(data['description'])\n",
    "\n",
    "print(len(task_list))\n",
    "s = set(task_list)\n",
    "\n",
    "for l in task_list_list:\n",
    "    s = s.intersection(l)\n",
    "\n",
    "print(len(s))\n",
    "\n",
    "#print(res_dict)"
   ],
   "metadata": {
    "collapsed": false,
    "pycharm": {
     "name": "#%%\n"
    }
   }
  },
  {
   "cell_type": "code",
   "execution_count": 22,
   "outputs": [
    {
     "name": "stderr",
     "output_type": "stream",
     "text": [
      "C:\\Users\\Sigve\\miniconda3\\envs\\Master\\lib\\site-packages\\IPython\\core\\interactiveshell.py:3441: DtypeWarning: Columns (2) have mixed types.Specify dtype option on import or set low_memory=False.\n",
      "  exec(code_obj, self.user_global_ns, self.user_ns)\n"
     ]
    }
   ],
   "source": [
    "ind_data = pd.read_table('C:/Users/Sigve/Genome_Data/results/ind_combinations/all_missense_ind_data.tsv', index_col=0)"
   ],
   "metadata": {
    "collapsed": false,
    "pycharm": {
     "name": "#%%\n"
    }
   }
  },
  {
   "cell_type": "code",
   "execution_count": 29,
   "outputs": [
    {
     "name": "stdout",
     "output_type": "stream",
     "text": [
      "2548\n"
     ]
    }
   ],
   "source": [
    "print(len(ind_data.columns[12:]))\n"
   ],
   "metadata": {
    "collapsed": false,
    "pycharm": {
     "name": "#%%\n"
    }
   }
  },
  {
   "cell_type": "code",
   "execution_count": 31,
   "outputs": [
    {
     "name": "stdout",
     "output_type": "stream",
     "text": [
      "3007\n",
      "3625\n",
      "623\n"
     ]
    }
   ],
   "source": [
    "path = 'C:/Users/Sigve/Genome_Data/results/'\n",
    "tissue_list = ['spleen', 'adipose_tissue', 'adrenal_gland', 'pituitary', 'thyroid', 'blood', 'brain', 'heart',\n",
    "               'kidney', 'liver', 'muscle', 'nerve', 'lung', 'skin', 'cervix_uteri', 'breast', 'blood_vessel',\n",
    "               'colon', 'fallopian_tube', 'ovary', 'pancreas', 'prostate', 'salivary_gland',\n",
    "               'small_intestine', 'stomach', 'testis', 'uterus', 'vagina', 'esophagus', 'bladder']\n",
    "base = 'human1'\n",
    "gene_list = []\n",
    "for tissue in tissue_list:\n",
    "    genes_non_ess = \\\n",
    "    pd.read_table(path + 'model_tests/essential_genes/{0}_non_essential.tsv'.format(tissue), index_col=0)[\n",
    "        'gene_ids'].tolist()\n",
    "    genes_ess = \\\n",
    "    pd.read_table(path + 'model_tests/essential_genes/{0}_essential.tsv'.format(tissue), index_col=0)[\n",
    "        'gene_ids'].tolist()\n",
    "    gene_list = gene_list + genes_ess + genes_non_ess\n",
    "\n",
    "print(len(set(gene_list)))\n",
    "\n",
    "genes_non_ess = \\\n",
    "pd.read_table(path + 'model_tests/essential_genes/{0}_non_essential.tsv'.format(base), index_col=0)[\n",
    "    'gene_ids'].tolist()\n",
    "genes_ess = \\\n",
    "pd.read_table(path + 'model_tests/essential_genes/{0}_essential.tsv'.format(base), index_col=0)[\n",
    "    'gene_ids'].tolist()\n",
    "\n",
    "base_genes = genes_ess + genes_non_ess\n",
    "print(len(base_genes))\n",
    "print(len(set(base_genes).difference(gene_list)))"
   ],
   "metadata": {
    "collapsed": false,
    "pycharm": {
     "name": "#%%\n"
    }
   }
  },
  {
   "cell_type": "code",
   "execution_count": 40,
   "outputs": [
    {
     "name": "stdout",
     "output_type": "stream",
     "text": [
      "121553\n",
      "19791\n"
     ]
    }
   ],
   "source": [
    "diff = set(base_genes).difference(gene_list)\n",
    "\n",
    "input_data = pd.read_table('C:/Users/Sigve/Genome_Data/results/SNPs_missense.tsv', index_col=0)\n",
    "\n",
    "print(input_data.shape[0])\n",
    "filtered = input_data[input_data['gene_id'].map(lambda x: x.split('.')[0] in diff)]\n",
    "\n",
    "print(filtered.shape[0])"
   ],
   "metadata": {
    "collapsed": false,
    "pycharm": {
     "name": "#%%\n"
    }
   }
  },
  {
   "cell_type": "code",
   "execution_count": 41,
   "outputs": [
    {
     "name": "stdout",
     "output_type": "stream",
     "text": [
      "405\n"
     ]
    }
   ],
   "source": [
    "filtered = filtered[filtered['amino_acid_change'].str.contains('_') |\n",
    "                    (filtered['amino_acid_pos'] == 1)].reset_index(drop=True)\n",
    "\n",
    "print(filtered.shape[0])"
   ],
   "metadata": {
    "collapsed": false,
    "pycharm": {
     "name": "#%%\n"
    }
   }
  },
  {
   "cell_type": "code",
   "execution_count": 47,
   "outputs": [
    {
     "name": "stdout",
     "output_type": "stream",
     "text": [
      "589\n"
     ]
    }
   ],
   "source": [
    "t = ind_data[ind_data['variant_name'] == '2:190319749'].iloc[0, :]\n",
    "\n",
    "t = t.tolist()[12:]\n",
    "n = 0\n",
    "for i in t:\n",
    "    if i > 1:\n",
    "        n += 1\n",
    "print(n)"
   ],
   "metadata": {
    "collapsed": false,
    "pycharm": {
     "name": "#%%\n"
    }
   }
  },
  {
   "cell_type": "code",
   "execution_count": 48,
   "outputs": [
    {
     "name": "stdout",
     "output_type": "stream",
     "text": [
      "8\n",
      "['adipose_tissue', 'blood', 'brain', 'kidney', 'liver', 'lung', 'muscle', 'nerve']\n",
      "[]\n",
      "[1, 1, 1, 1, 1, 1, 1, 1, 1, 1, 1, 1, 1, 1, 1, 1, 1, 1, 1, 1, 1, 1, 1, 1, 0, 1, 1, 1, 1, 1, 1, 1, 1, 1, 1, 1, 1, 1, 1, 1, 1, 1, 1, 1, 1, 1, 1, 0]\n",
      "[1, 1, 1, 1, 1, 1, 1, 1, 1, 1, 1, 1, 1, 1, 1, 1, 1, 1, 1, 1, 1, 1, 1, 1, 0, 1, 1, 1, 1, 1, 1, 1, 1, 1, 1, 1, 1, 1, 1, 1, 1, 1, 1, 1, 1, 1, 1, 0]\n",
      "[1, 1, 1, 1, 1, 1, 1, 1, 1, 1, 1, 1, 1, 1, 1, 1, 1, 1, 1, 1, 1, 1, 1, 1, 0, 1, 1, 1, 1, 1, 1, 1, 1, 1, 1, 1, 1, 1, 1, 1, 1, 1, 1, 1, 1, 1, 1, 0]\n",
      "[1, 1, 1, 1, 1, 1, 1, 1, 1, 1, 1, 1, 1, 1, 1, 1, 1, 1, 1, 1, 1, 1, 1, 1, 0, 1, 1, 1, 1, 1, 1, 1, 1, 1, 1, 1, 1, 1, 1, 1, 1, 1, 1, 1, 1, 1, 1, 0]\n",
      "[1, 1, 1, 1, 1, 1, 1, 1, 1, 1, 1, 1, 1, 1, 1, 1, 1, 1, 1, 1, 1, 1, 1, 1, 0, 1, 1, 1, 1, 1, 1, 1, 1, 1, 1, 1, 1, 1, 1, 1, 1, 1, 1, 1, 1, 1, 1, 0]\n",
      "[1, 1, 1, 1, 1, 1, 1, 1, 1, 1, 1, 1, 1, 1, 1, 1, 1, 1, 1, 1, 1, 1, 1, 1, 0, 1, 1, 1, 1, 1, 1, 1, 1, 1, 1, 1, 1, 1, 1, 1, 1, 1, 1, 1, 1, 1, 1, 0]\n",
      "[1, 1, 1, 1, 1, 1, 1, 1, 1, 1, 1, 1, 1, 1, 1, 1, 1, 1, 1, 1, 1, 1, 1, 1, 0, 1, 1, 1, 1, 1, 1, 1, 1, 1, 1, 1, 1, 1, 1, 1, 1, 1, 1, 1, 1, 1, 1, 0]\n",
      "[1, 1, 1, 1, 1, 1, 1, 1, 1, 1, 1, 1, 1, 1, 1, 1, 1, 1, 1, 1, 1, 1, 1, 1, 0, 1, 1, 1, 1, 1, 1, 1, 0, 1, 0, 1, 0, 1, 1, 0, 0, 0, 0, 1, 1, 1, 1, 0]\n"
     ]
    }
   ],
   "source": [
    "# In which tissue results are a particular sample present.\n",
    "# There may be differences between the tissues in terms of why it is there.\n",
    "\n",
    "path = 'C:/Users/Sigve/Genome_Data/results/'\n",
    "\n",
    "tissue_list = ['spleen', 'adipose_tissue', 'adrenal_gland', 'pituitary', 'thyroid', 'blood', 'brain', 'heart', 'kidney', 'liver', 'muscle', 'nerve', 'lung', 'skin', 'pancreas']\n",
    "tissue_list = ['adipose_tissue', 'blood', 'brain', 'kidney', 'liver', 'muscle', 'nerve', 'lung']\n",
    "\n",
    "tissue_list.sort()\n",
    "\n",
    "df = pd.DataFrame([['holder', 100, [], 'holder']], columns=['sample_ids', 'solution', 'tasks_results', 'gene_ids'])\n",
    "\n",
    "sample = 'HG02078'\n",
    "\n",
    "tissues = []\n",
    "for tissue in tissue_list:\n",
    "\n",
    "    input_file = path + 'ind_results/filtered/all_homozygote/ind_all_homozygote_{0}_f.tsv'.format(tissue)\n",
    "    ind_data = pd.read_table(input_file, index_col=0)\n",
    "    if ind_data[ind_data['sample_ids'] == sample].shape[0] == 1:\n",
    "\n",
    "        df = pd.concat([df, ind_data[ind_data['sample_ids'] == sample]])\n",
    "        tissues.append(tissue)\n",
    "\n",
    "print(len(tissues))\n",
    "print(tissues)\n",
    "\n",
    "for i, data in df.iterrows():\n",
    "    print(data['tasks_results'])"
   ],
   "metadata": {
    "collapsed": false,
    "pycharm": {
     "name": "#%%\n"
    }
   }
  },
  {
   "cell_type": "code",
   "execution_count": 40,
   "outputs": [
    {
     "name": "stdout",
     "output_type": "stream",
     "text": [
      "liver\n",
      "adipose_tissue & 14 \\\\\n",
      "adrenal_gland & 12 \\\\\n",
      "blood & 9 \\\\\n",
      "brain & 15 \\\\\n",
      "heart & 14 \\\\\n",
      "kidney & 14 \\\\\n",
      "liver & 26 \\\\\n",
      "lung & 12 \\\\\n",
      "muscle & 15 \\\\\n",
      "nerve & 14 \\\\\n",
      "pancreas & 13 \\\\\n",
      "pituitary & 13 \\\\\n",
      "skin & 14 \\\\\n",
      "spleen & 13 \\\\\n",
      "thyroid & 13 \\\\\n",
      "---------------------------\n",
      "33\n",
      "{'HG04131', 'NA12045', 'NA21091', 'HG02756', 'HG03692', 'HG00651', 'NA18519', 'NA20291', 'HG02014', 'HG01440', 'NA20892', 'HG00107', 'NA18997', 'HG01989', 'NA19771', 'NA20827', 'HG02152', 'HG01142', 'NA20812', 'NA12546', 'HG02410', 'HG03499', 'HG02769', 'HG01378', 'NA19446', 'HG00704', 'HG01805', 'HG03663', 'HG02462', 'HG01384', 'NA20542', 'HG01809', 'HG02035'}\n"
     ]
    }
   ],
   "source": [
    "# Number of failed tasks\n",
    "\n",
    "path = 'C:/Users/Sigve/Genome_Data/results/'\n",
    "\n",
    "tissue_list = ['spleen', 'adipose_tissue', 'adrenal_gland', 'pituitary', 'thyroid', 'blood', 'brain', 'heart', 'kidney', 'liver', 'muscle', 'nerve', 'lung', 'skin', 'pancreas']\n",
    "tissue_list.sort()\n",
    "\n",
    "samples = []\n",
    "results = []\n",
    "for tissue in tissue_list:\n",
    "\n",
    "    input_file = path + 'ind_results/filtered/start_stop_het/full_tasks/ind_results_f_{0}_task_failures.tsv'.format(tissue)\n",
    "    ind_data = pd.read_table(input_file, index_col=0)\n",
    "    if ind_data.shape[1] > 2:\n",
    "\n",
    "        results.append([tissue, ind_data.shape[1] - 2])\n",
    "        samples += list(ind_data.columns[2:])\n",
    "\n",
    "        # Extra check smple\n",
    "        if 'HG00651' in list(ind_data.columns[2:]):\n",
    "            print(tissue)\n",
    "\n",
    "\n",
    "for r in results:\n",
    "    print(r[0] + ' & ' + str(r[1]) + ' \\\\\\\\')\n",
    "#Get unique IDS\n",
    "print('---------------------------')\n",
    "print(len(set(samples)))\n",
    "print(set(samples))"
   ],
   "metadata": {
    "collapsed": false,
    "pycharm": {
     "name": "#%%\n"
    }
   }
  },
  {
   "cell_type": "code",
   "execution_count": 36,
   "outputs": [
    {
     "name": "stdout",
     "output_type": "stream",
     "text": [
      "32\n",
      "NA12546\n"
     ]
    }
   ],
   "source": [
    "s = {'HG01142', 'HG01384', 'HG01378', 'NA20892', 'HG02035', 'HG03663', 'HG01989', 'HG02152', 'NA19771', 'NA19446', 'NA20291',\n",
    " 'NA20542', 'HG04131', 'NA18519', 'NA18519', 'HG01440', 'NA20827', 'HG00704', 'HG01809', 'HG02014', 'HG03692', 'HG02410',\n",
    "'HG02756', 'HG00651', 'HG01805', 'HG02769', 'NA20812', 'NA21091', 'NA12045', 'NA18997', 'HG03499', 'HG00107', 'HG02462'}\n",
    "\n",
    "st = {'HG04131', 'NA12045', 'NA21091', 'HG02756', 'HG03692', 'HG00651', 'NA18519', 'NA20291', 'HG02014', 'HG01440', 'NA20892', 'HG00107', 'NA18997', 'HG01989', 'NA19771', 'NA20827', 'HG02152', 'HG01142', 'NA20812', 'NA12546', 'HG02410', 'HG03499', 'HG02769', 'HG01378', 'NA19446', 'HG00704', 'HG01805', 'HG03663', 'HG02462', 'HG01384', 'NA20542', 'HG01809', 'HG02035'}\n",
    "\n",
    "print(len(s))\n",
    "\n",
    "for i in st:\n",
    "    if i not in s:\n",
    "        print(i)"
   ],
   "metadata": {
    "collapsed": false,
    "pycharm": {
     "name": "#%%\n"
    }
   }
  }
 ],
 "metadata": {
  "kernelspec": {
   "display_name": "Python 3",
   "language": "python",
   "name": "python3"
  },
  "language_info": {
   "codemirror_mode": {
    "name": "ipython",
    "version": 2
   },
   "file_extension": ".py",
   "mimetype": "text/x-python",
   "name": "python",
   "nbconvert_exporter": "python",
   "pygments_lexer": "ipython2",
   "version": "2.7.6"
  }
 },
 "nbformat": 4,
 "nbformat_minor": 0
}