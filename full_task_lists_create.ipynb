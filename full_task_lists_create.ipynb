{
 "cells": [
  {
   "cell_type": "code",
   "execution_count": 2,
   "metadata": {
    "collapsed": true
   },
   "outputs": [
    {
     "data": {
      "text/plain": "'Code to produce task lists with additional tasks for each tissue.'"
     },
     "execution_count": 2,
     "metadata": {},
     "output_type": "execute_result"
    }
   ],
   "source": [
    "import pandas as pd\n",
    "from src.mp_functions import knockout_FBA_w_tasks\n",
    "from src.FBA_scripts.met_task_functions import constrain_model, read_tasks\n",
    "\n",
    "\"\"\"Code to produce task lists with additional tasks for each tissue. At the bottom is code ro produce clean outputs.\"\"\"\n",
    "\n"
   ]
  },
  {
   "cell_type": "code",
   "execution_count": 2,
   "outputs": [
    {
     "name": "stdout",
     "output_type": "stream",
     "text": [
      "257\n",
      "240\n"
     ]
    }
   ],
   "source": [
    "#task_list_fix, removes should fail tasks\n",
    "file_path = 'C:/Users/Sigve/Genome_Data/Human1/Human1_GEM/tasks/full_tasks_orig.tsv'\n",
    "\n",
    "tasks_df = pd.read_table(file_path, index_col=0)\n",
    "print(tasks_df.shape[0])\n",
    "tasks_df.drop(29, inplace=True)\n",
    "tasks_df = tasks_df[tasks_df['shouldFail'].map(lambda x: x != 1)]\n",
    "tasks_df.drop(['shouldFail', 'printFluxes', 'comments', 'changed', 'LBrxn', 'UBrxn'], axis=1, inplace=True) #  'LBequ_2', 'LBequ_3',  'UBequ_2', 'UBequ_3'\n",
    "tasks_df.rename({'LBequ_1': 'LBequ', 'UBequ_1': 'UBequ'}, inplace=True, axis=1)\n",
    "tasks_df.reset_index(inplace=True, drop=True)\n",
    "print(tasks_df.shape[0])\n",
    "tasks_df.to_csv(path_or_buf='C:/Users/Sigve/Genome_Data/Human1/Human1_GEM/tasks/full_tasks_new.tsv', sep='\\t')\n"
   ],
   "metadata": {
    "collapsed": false,
    "pycharm": {
     "name": "#%%\n"
    }
   }
  },
  {
   "cell_type": "code",
   "execution_count": 14,
   "outputs": [
    {
     "name": "stdout",
     "output_type": "stream",
     "text": [
      "240\n",
      "222\n"
     ]
    }
   ],
   "source": [
    "# Removes tasks already listed in essential tasks\n",
    "file_path_1 = 'C:/Users/Sigve/Genome_Data/Human1/Human1_GEM/tasks/essential_tasks.tsv'\n",
    "tasks_df_1 = pd.read_table(file_path_1, index_col=0)\n",
    "\n",
    "file_path_2 = 'C:/Users/Sigve/Genome_Data/Human1/Human1_GEM/tasks/full_tasks_new.tsv'\n",
    "tasks_df_2 = pd.read_table(file_path_2, index_col=0)\n",
    "\n",
    "description_list = tasks_df_1['description'].tolist()\n",
    "\n",
    "print(tasks_df_2.shape[0])\n",
    "tasks_df_2 = tasks_df_2[tasks_df_2['description'].map(lambda x: not x in description_list)]\n",
    "print(tasks_df_2.shape[0])\n",
    "tasks_df_2.reset_index(inplace=True, drop=True)\n",
    "tasks_df_2.to_csv(path_or_buf='C:/Users/Sigve/Genome_Data/Human1/Human1_GEM/tasks/full_tasks_minus_ess_new.tsv', sep='\\t')"
   ],
   "metadata": {
    "collapsed": false,
    "pycharm": {
     "name": "#%%\n"
    }
   }
  },
  {
   "cell_type": "code",
   "execution_count": 11,
   "outputs": [
    {
     "name": "stdout",
     "output_type": "stream",
     "text": [
      "Read LP format model from file C:\\Users\\Sigve\\AppData\\Local\\Temp\\tmpe5lnosrk.lp\n",
      "Reading time = 0.06 seconds\n",
      ": 4714 rows, 13168 columns, 59336 nonzeros\n",
      "-----------------------\n",
      "Checking tasks for muscle:\n",
      "\n",
      "Failed to find metabolite: bilirubin [Extracellular]. Skipping task: 219: Bilirubin conjugation (minimal substrates, physiological excretion)\n"
     ]
    }
   ],
   "source": [
    "# Runs FBA to check tasks\n",
    "file_path_tasks ='C:/Users/Sigve/Genome_Data/Human1/Human1_GEM/tasks/full_tasks_minus_ess_new.tsv'\n",
    "tissues = ['muscle']#, 'brain', 'pancreas', 'adrenal_gland', 'muscle',]\n",
    "\n",
    "for tissue in tissues:\n",
    "    model_file_path = 'C:/Users/Sigve/Genome_Data/Human1/Human1_GEM/GTEx/{0}.xml'.format(tissue)\n",
    "    model_list = constrain_model(model_file_path, ALLMETSIN_IN=False)\n",
    "\n",
    "\n",
    "    # if a metabolite is not found, it will skip the task\n",
    "    # Any task where a metabolite is missing for a tissue needs to have its number added to 'ts'.\n",
    "    # This way a 0 can be added for that task.\n",
    "    # Also set missing to true\n",
    "    # Tissues with missing tasks will need to be rerun with the tissue list changed.\n",
    "    print('-----------------------')\n",
    "    print('Checking tasks for ' + tissue + ':')\n",
    "    tasks = read_tasks(file_path_tasks, model_list)\n",
    "\n",
    "    # If there is only one tissue, a break can be added to add the missing task\n",
    "##%%\n",
    "    res = pd.DataFrame([[tissue, [], 0, []]], columns=['sample_ids', 'gene_ids', 'solution', 'tasks_results'])\n",
    "    res = knockout_FBA_w_tasks(tasks, model_list, res)\n",
    "\n",
    "    task_results = res.iat[0, 3]\n",
    "\n",
    "    #Add task numbers in ts for those with missing metabolites\n",
    "    ts = [219]\n",
    "    for t in ts:\n",
    "        task_results = task_results[:t] + [0] + task_results[t:]\n",
    "\n",
    "    tasks_df = pd.read_table(file_path_tasks, index_col=0)\n",
    "    tasks_df['REF'] = task_results\n",
    "    tasks_df = tasks_df[tasks_df['REF'] == 1].drop(['REF', 'LBequ_2', 'LBequ_3', 'UBequ_2', 'UBequ_3'], axis=1)\n",
    "    tasks_df.to_csv(path_or_buf='C:/Users/Sigve/Genome_Data/Human1/Human1_GEM/tasks/tissue_full_tasks/full_tasks_minus_ess_{0}.tsv'.format(tissue), sep='\\t')\n",
    "    print('Number of tasks for this tissue: ' + str(tasks_df.shape[0]))\n",
    "    print('-----------------------')"
   ],
   "metadata": {
    "collapsed": false,
    "pycharm": {
     "name": "#%%\n"
    }
   }
  },
  {
   "cell_type": "code",
   "execution_count": 3,
   "outputs": [],
   "source": [
    "# Make clean outputs from FBA results, makes it easy to see with task failed for which sample.\n",
    "\n",
    "tissue_list = ['liver']#['pancreas', 'spleen', 'adipose_tissue', 'adrenal_gland', 'pituitary', 'thyroid', 'blood',\n",
    "               #'heart', 'kidney', 'liver', 'muscle', 'nerve', 'lung']\n",
    "tissue_list.sort()\n",
    "\n",
    "for tissue in tissue_list:\n",
    "\n",
    "    input_file = 'C:/Users/Sigve/Genome_Data/results/phewas_results/subcombs/start_stop_{0}_full_tasks_e.tsv'.format(tissue)\n",
    "    output_file = 'C:/Users/Sigve/Genome_Data/results/phewas_results/subcombs/start_stop_{0}_full_tasks_e_c.tsv'.format(tissue)\n",
    "\n",
    "    res = pd.read_table(input_file, index_col=0)\n",
    "    res = res[res['tasks_results'] != \"['ALL PASS']\"]\n",
    "    res['tasks_results'] = res['tasks_results'].apply(lambda x: [int(i) for i in x[1:-1].split(', ')])\n",
    "\n",
    "    dict = {}\n",
    "    for i, data in res.iterrows():\n",
    "        dict[data['sample_ids']] = data['tasks_results']\n",
    "\n",
    "    tasks_df_r = pd.DataFrame(dict)\n",
    "    #print(tasks_df_r)\n",
    "\n",
    "    file_path_t ='C:/Users/Sigve/Genome_Data/Human1/Human1_GEM/tasks/tissue_full_tasks/full_tasks_minus_ess_{0}.tsv'.format(tissue)\n",
    "    tasks_df_t = pd.read_table(file_path_t, index_col=0).reset_index()\n",
    "    tasks_df_t['task_id'] = tasks_df_t['index']#\n",
    "    tasks_df_t['_'*89 + 'description'] = tasks_df_t['description'].apply(lambda x:  '_'*(100-len(x)) + x)\n",
    "    tasks_df_t = tasks_df_t[['task_id', '_'*89 + 'description']]\n",
    "\n",
    "    tasks_df_t = tasks_df_t.merge(tasks_df_r, right_index=True, left_index=True)\n",
    "\n",
    "    tasks_df_t.to_csv(path_or_buf=output_file, sep='\\t')\n",
    "\n"
   ],
   "metadata": {
    "collapsed": false,
    "pycharm": {
     "name": "#%%\n"
    }
   }
  }
 ],
 "metadata": {
  "kernelspec": {
   "display_name": "Python 3",
   "language": "python",
   "name": "python3"
  },
  "language_info": {
   "codemirror_mode": {
    "name": "ipython",
    "version": 2
   },
   "file_extension": ".py",
   "mimetype": "text/x-python",
   "name": "python",
   "nbconvert_exporter": "python",
   "pygments_lexer": "ipython2",
   "version": "2.7.6"
  }
 },
 "nbformat": 4,
 "nbformat_minor": 0
}