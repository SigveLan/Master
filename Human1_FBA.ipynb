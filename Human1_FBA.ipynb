{
 "cells": [
  {
   "cell_type": "code",
   "execution_count": 2,
   "metadata": {
    "collapsed": true,
    "pycharm": {
     "name": "#%%\n"
    }
   },
   "outputs": [
    {
     "name": "stdout",
     "output_type": "stream",
     "text": [
      "Academic license - for non-commercial use only - expires 2022-10-03\n",
      "Using license file c:\\gurobi\\gurobi.lic\n",
      "Model load time: 7.678572 seconds\n"
     ]
    }
   ],
   "source": [
    "import pandas as pd\n",
    "import cobra.flux_analysis\n",
    "import time\n",
    "import numpy as np\n",
    "from functools import partial\n",
    "from src.mp_functions import combinations_subset, parallelize_dataframe, knockout_FBA\n",
    "\n",
    "\n",
    "\"\"\"A mess of a document with different code cells.\n",
    "Good to to use for any testing that involves the Recon3D model as it takes some time to load in.\"\"\"\n",
    "\n",
    "start_time = time.time()\n",
    "model_file_path = 'C:/Users/Sigve/Genome_Data/Human1/Human1_GEM/Human-GEM-brain.xml'\n",
    "model = cobra.io.read_sbml_model(model_file_path)\n",
    "\n",
    "end_time = time.time()\n",
    "print('Model load time: %.6f seconds' % (end_time - start_time))"
   ]
  },
  {
   "cell_type": "code",
   "execution_count": 3,
   "outputs": [
    {
     "name": "stderr",
     "output_type": "stream",
     "text": [
      "C:\\Users\\Sigve\\miniconda3\\envs\\Master\\lib\\site-packages\\numpy\\lib\\arraysetops.py:583: FutureWarning: elementwise comparison failed; returning scalar instead, but in the future will perform elementwise comparison\n",
      "  mask |= (ar1 == a)\n"
     ]
    },
    {
     "name": "stdout",
     "output_type": "stream",
     "text": [
      "1489931\n",
      "410311\n"
     ]
    }
   ],
   "source": [
    "# Prepare SNP combinations; lists genes to knock out by model id.\n",
    "combinations = pd.read_table('C:/Users/Sigve/Genome_Data/results/SNP_combinations_phewas_4_5_6.tsv', index_col=0)\n",
    "combinations['phewas_code'] = combinations['phewas_code'].apply(str)\n",
    "combinations = combinations[combinations['phewas_code'].str.contains('290.\\d*')]\n",
    "combinations['gene_ids'] = combinations['gene_ids'].apply(lambda x: x.split(';'))\n",
    "print(combinations.shape[0])\n",
    "\n",
    "genes = model.genes\n",
    "genes = [gene.id for gene in genes]\n",
    "\n",
    "# Removes combinations containing genes not in the model\n",
    "combinations = combinations[combinations['gene_ids'].apply(lambda x: all(gene in genes for gene in x))]\n",
    "print(combinations.shape[0])"
   ],
   "metadata": {
    "collapsed": false,
    "pycharm": {
     "name": "#%%\n"
    }
   }
  },
  {
   "cell_type": "code",
   "execution_count": 5,
   "outputs": [],
   "source": [
    "# Finds essential genes and gets the IDs\n",
    "essential_genes = cobra.flux_analysis.find_essential_genes(model, processes=8)\n",
    "essential_genes = [gene.id for gene in essential_genes]"
   ],
   "metadata": {
    "collapsed": false,
    "pycharm": {
     "name": "#%%\n"
    }
   }
  },
  {
   "cell_type": "code",
   "execution_count": 6,
   "outputs": [
    {
     "name": "stdout",
     "output_type": "stream",
     "text": [
      "Number of essential genes: 138\n",
      "312353\n"
     ]
    }
   ],
   "source": [
    "# Removes all combinations containing essential genes\n",
    "combinations = combinations[combinations['gene_ids'].apply(lambda x: all(gene not in essential_genes for gene in x))]\n",
    "print('Number of essential genes: ' + str(len(essential_genes)))\n",
    "print(combinations.shape[0])"
   ],
   "metadata": {
    "collapsed": false,
    "pycharm": {
     "name": "#%%\n"
    }
   }
  },
  {
   "cell_type": "code",
   "execution_count": 7,
   "outputs": [
    {
     "name": "stdout",
     "output_type": "stream",
     "text": [
      "10000\n",
      "32\n"
     ]
    }
   ],
   "source": [
    "# FBA code cell\n",
    "\n",
    "combinations_list = []\n",
    "n=10000\n",
    "for g, df in combinations.groupby(np.arange(len(combinations)) // n):\n",
    "    combinations_list.append(df)\n",
    "print(combinations_list[0].shape[0])\n",
    "print(len(combinations_list))"
   ],
   "metadata": {
    "collapsed": false,
    "pycharm": {
     "name": "#%%\n"
    }
   }
  },
  {
   "cell_type": "code",
   "execution_count": 8,
   "outputs": [
    {
     "ename": "KeyboardInterrupt",
     "evalue": "",
     "output_type": "error",
     "traceback": [
      "\u001B[1;31m---------------------------------------------------------------------------\u001B[0m",
      "\u001B[1;31mKeyboardInterrupt\u001B[0m                         Traceback (most recent call last)",
      "\u001B[1;32m~\\AppData\\Local\\Temp/ipykernel_6276/204234667.py\u001B[0m in \u001B[0;36m<module>\u001B[1;34m\u001B[0m\n\u001B[0;32m      2\u001B[0m \u001B[0mnum\u001B[0m \u001B[1;33m=\u001B[0m \u001B[1;36m1\u001B[0m\u001B[1;33m\u001B[0m\u001B[1;33m\u001B[0m\u001B[0m\n\u001B[0;32m      3\u001B[0m \u001B[1;32mfor\u001B[0m \u001B[0msub_df\u001B[0m \u001B[1;32min\u001B[0m \u001B[0mcombinations_list\u001B[0m\u001B[1;33m:\u001B[0m\u001B[1;33m\u001B[0m\u001B[1;33m\u001B[0m\u001B[0m\n\u001B[1;32m----> 4\u001B[1;33m     \u001B[0mtemp_df\u001B[0m \u001B[1;33m=\u001B[0m \u001B[0mparallelize_dataframe\u001B[0m\u001B[1;33m(\u001B[0m\u001B[0msub_df\u001B[0m\u001B[1;33m,\u001B[0m \u001B[0mpartial\u001B[0m\u001B[1;33m(\u001B[0m\u001B[0mcombinations_subset\u001B[0m\u001B[1;33m,\u001B[0m \u001B[0mpartial\u001B[0m\u001B[1;33m(\u001B[0m\u001B[0mknockout_FBA\u001B[0m\u001B[1;33m,\u001B[0m \u001B[0mmodel\u001B[0m\u001B[1;33m)\u001B[0m\u001B[1;33m)\u001B[0m\u001B[1;33m,\u001B[0m \u001B[1;36m12\u001B[0m\u001B[1;33m)\u001B[0m\u001B[1;33m\u001B[0m\u001B[1;33m\u001B[0m\u001B[0m\n\u001B[0m\u001B[0;32m      5\u001B[0m     \u001B[0mtemp_df\u001B[0m\u001B[1;33m.\u001B[0m\u001B[0mto_csv\u001B[0m\u001B[1;33m(\u001B[0m\u001B[0mpath_or_buf\u001B[0m\u001B[1;33m=\u001B[0m\u001B[1;34m'C:/Users/Sigve/Genome_Data/results/results_FBA/result_{0}.tsv'\u001B[0m\u001B[1;33m.\u001B[0m\u001B[0mformat\u001B[0m\u001B[1;33m(\u001B[0m\u001B[0mnum\u001B[0m\u001B[1;33m)\u001B[0m\u001B[1;33m,\u001B[0m \u001B[0msep\u001B[0m\u001B[1;33m=\u001B[0m\u001B[1;34m'\\t'\u001B[0m\u001B[1;33m)\u001B[0m\u001B[1;33m\u001B[0m\u001B[1;33m\u001B[0m\u001B[0m\n\u001B[0;32m      6\u001B[0m \u001B[1;33m\u001B[0m\u001B[0m\n",
      "\u001B[1;32m~\\PycharmProjects\\Master\\src\\mp_functions.py\u001B[0m in \u001B[0;36mparallelize_dataframe\u001B[1;34m(df, func, n_cores)\u001B[0m\n\u001B[0;32m     33\u001B[0m     \u001B[0mdf_split\u001B[0m \u001B[1;33m=\u001B[0m \u001B[0mnp\u001B[0m\u001B[1;33m.\u001B[0m\u001B[0marray_split\u001B[0m\u001B[1;33m(\u001B[0m\u001B[0mdf\u001B[0m\u001B[1;33m,\u001B[0m \u001B[0mn_cores\u001B[0m\u001B[1;33m)\u001B[0m\u001B[1;33m\u001B[0m\u001B[1;33m\u001B[0m\u001B[0m\n\u001B[0;32m     34\u001B[0m     \u001B[0mpool\u001B[0m \u001B[1;33m=\u001B[0m \u001B[0mPool\u001B[0m\u001B[1;33m(\u001B[0m\u001B[0mn_cores\u001B[0m\u001B[1;33m)\u001B[0m\u001B[1;33m\u001B[0m\u001B[1;33m\u001B[0m\u001B[0m\n\u001B[1;32m---> 35\u001B[1;33m     \u001B[0mdf\u001B[0m \u001B[1;33m=\u001B[0m \u001B[0mpd\u001B[0m\u001B[1;33m.\u001B[0m\u001B[0mconcat\u001B[0m\u001B[1;33m(\u001B[0m\u001B[0mpool\u001B[0m\u001B[1;33m.\u001B[0m\u001B[0mmap\u001B[0m\u001B[1;33m(\u001B[0m\u001B[0mfunc\u001B[0m\u001B[1;33m,\u001B[0m \u001B[0mdf_split\u001B[0m\u001B[1;33m)\u001B[0m\u001B[1;33m)\u001B[0m\u001B[1;33m\u001B[0m\u001B[1;33m\u001B[0m\u001B[0m\n\u001B[0m\u001B[0;32m     36\u001B[0m     \u001B[0mpool\u001B[0m\u001B[1;33m.\u001B[0m\u001B[0mclose\u001B[0m\u001B[1;33m(\u001B[0m\u001B[1;33m)\u001B[0m\u001B[1;33m\u001B[0m\u001B[1;33m\u001B[0m\u001B[0m\n\u001B[0;32m     37\u001B[0m     \u001B[0mpool\u001B[0m\u001B[1;33m.\u001B[0m\u001B[0mjoin\u001B[0m\u001B[1;33m(\u001B[0m\u001B[1;33m)\u001B[0m\u001B[1;33m\u001B[0m\u001B[1;33m\u001B[0m\u001B[0m\n",
      "\u001B[1;32m~\\miniconda3\\envs\\Master\\lib\\multiprocessing\\pool.py\u001B[0m in \u001B[0;36mmap\u001B[1;34m(self, func, iterable, chunksize)\u001B[0m\n\u001B[0;32m    362\u001B[0m         \u001B[1;32min\u001B[0m \u001B[0ma\u001B[0m \u001B[0mlist\u001B[0m \u001B[0mthat\u001B[0m \u001B[1;32mis\u001B[0m \u001B[0mreturned\u001B[0m\u001B[1;33m.\u001B[0m\u001B[1;33m\u001B[0m\u001B[1;33m\u001B[0m\u001B[0m\n\u001B[0;32m    363\u001B[0m         '''\n\u001B[1;32m--> 364\u001B[1;33m         \u001B[1;32mreturn\u001B[0m \u001B[0mself\u001B[0m\u001B[1;33m.\u001B[0m\u001B[0m_map_async\u001B[0m\u001B[1;33m(\u001B[0m\u001B[0mfunc\u001B[0m\u001B[1;33m,\u001B[0m \u001B[0miterable\u001B[0m\u001B[1;33m,\u001B[0m \u001B[0mmapstar\u001B[0m\u001B[1;33m,\u001B[0m \u001B[0mchunksize\u001B[0m\u001B[1;33m)\u001B[0m\u001B[1;33m.\u001B[0m\u001B[0mget\u001B[0m\u001B[1;33m(\u001B[0m\u001B[1;33m)\u001B[0m\u001B[1;33m\u001B[0m\u001B[1;33m\u001B[0m\u001B[0m\n\u001B[0m\u001B[0;32m    365\u001B[0m \u001B[1;33m\u001B[0m\u001B[0m\n\u001B[0;32m    366\u001B[0m     \u001B[1;32mdef\u001B[0m \u001B[0mstarmap\u001B[0m\u001B[1;33m(\u001B[0m\u001B[0mself\u001B[0m\u001B[1;33m,\u001B[0m \u001B[0mfunc\u001B[0m\u001B[1;33m,\u001B[0m \u001B[0miterable\u001B[0m\u001B[1;33m,\u001B[0m \u001B[0mchunksize\u001B[0m\u001B[1;33m=\u001B[0m\u001B[1;32mNone\u001B[0m\u001B[1;33m)\u001B[0m\u001B[1;33m:\u001B[0m\u001B[1;33m\u001B[0m\u001B[1;33m\u001B[0m\u001B[0m\n",
      "\u001B[1;32m~\\miniconda3\\envs\\Master\\lib\\multiprocessing\\pool.py\u001B[0m in \u001B[0;36mget\u001B[1;34m(self, timeout)\u001B[0m\n\u001B[0;32m    763\u001B[0m \u001B[1;33m\u001B[0m\u001B[0m\n\u001B[0;32m    764\u001B[0m     \u001B[1;32mdef\u001B[0m \u001B[0mget\u001B[0m\u001B[1;33m(\u001B[0m\u001B[0mself\u001B[0m\u001B[1;33m,\u001B[0m \u001B[0mtimeout\u001B[0m\u001B[1;33m=\u001B[0m\u001B[1;32mNone\u001B[0m\u001B[1;33m)\u001B[0m\u001B[1;33m:\u001B[0m\u001B[1;33m\u001B[0m\u001B[1;33m\u001B[0m\u001B[0m\n\u001B[1;32m--> 765\u001B[1;33m         \u001B[0mself\u001B[0m\u001B[1;33m.\u001B[0m\u001B[0mwait\u001B[0m\u001B[1;33m(\u001B[0m\u001B[0mtimeout\u001B[0m\u001B[1;33m)\u001B[0m\u001B[1;33m\u001B[0m\u001B[1;33m\u001B[0m\u001B[0m\n\u001B[0m\u001B[0;32m    766\u001B[0m         \u001B[1;32mif\u001B[0m \u001B[1;32mnot\u001B[0m \u001B[0mself\u001B[0m\u001B[1;33m.\u001B[0m\u001B[0mready\u001B[0m\u001B[1;33m(\u001B[0m\u001B[1;33m)\u001B[0m\u001B[1;33m:\u001B[0m\u001B[1;33m\u001B[0m\u001B[1;33m\u001B[0m\u001B[0m\n\u001B[0;32m    767\u001B[0m             \u001B[1;32mraise\u001B[0m \u001B[0mTimeoutError\u001B[0m\u001B[1;33m\u001B[0m\u001B[1;33m\u001B[0m\u001B[0m\n",
      "\u001B[1;32m~\\miniconda3\\envs\\Master\\lib\\multiprocessing\\pool.py\u001B[0m in \u001B[0;36mwait\u001B[1;34m(self, timeout)\u001B[0m\n\u001B[0;32m    760\u001B[0m \u001B[1;33m\u001B[0m\u001B[0m\n\u001B[0;32m    761\u001B[0m     \u001B[1;32mdef\u001B[0m \u001B[0mwait\u001B[0m\u001B[1;33m(\u001B[0m\u001B[0mself\u001B[0m\u001B[1;33m,\u001B[0m \u001B[0mtimeout\u001B[0m\u001B[1;33m=\u001B[0m\u001B[1;32mNone\u001B[0m\u001B[1;33m)\u001B[0m\u001B[1;33m:\u001B[0m\u001B[1;33m\u001B[0m\u001B[1;33m\u001B[0m\u001B[0m\n\u001B[1;32m--> 762\u001B[1;33m         \u001B[0mself\u001B[0m\u001B[1;33m.\u001B[0m\u001B[0m_event\u001B[0m\u001B[1;33m.\u001B[0m\u001B[0mwait\u001B[0m\u001B[1;33m(\u001B[0m\u001B[0mtimeout\u001B[0m\u001B[1;33m)\u001B[0m\u001B[1;33m\u001B[0m\u001B[1;33m\u001B[0m\u001B[0m\n\u001B[0m\u001B[0;32m    763\u001B[0m \u001B[1;33m\u001B[0m\u001B[0m\n\u001B[0;32m    764\u001B[0m     \u001B[1;32mdef\u001B[0m \u001B[0mget\u001B[0m\u001B[1;33m(\u001B[0m\u001B[0mself\u001B[0m\u001B[1;33m,\u001B[0m \u001B[0mtimeout\u001B[0m\u001B[1;33m=\u001B[0m\u001B[1;32mNone\u001B[0m\u001B[1;33m)\u001B[0m\u001B[1;33m:\u001B[0m\u001B[1;33m\u001B[0m\u001B[1;33m\u001B[0m\u001B[0m\n",
      "\u001B[1;32m~\\miniconda3\\envs\\Master\\lib\\threading.py\u001B[0m in \u001B[0;36mwait\u001B[1;34m(self, timeout)\u001B[0m\n\u001B[0;32m    572\u001B[0m             \u001B[0msignaled\u001B[0m \u001B[1;33m=\u001B[0m \u001B[0mself\u001B[0m\u001B[1;33m.\u001B[0m\u001B[0m_flag\u001B[0m\u001B[1;33m\u001B[0m\u001B[1;33m\u001B[0m\u001B[0m\n\u001B[0;32m    573\u001B[0m             \u001B[1;32mif\u001B[0m \u001B[1;32mnot\u001B[0m \u001B[0msignaled\u001B[0m\u001B[1;33m:\u001B[0m\u001B[1;33m\u001B[0m\u001B[1;33m\u001B[0m\u001B[0m\n\u001B[1;32m--> 574\u001B[1;33m                 \u001B[0msignaled\u001B[0m \u001B[1;33m=\u001B[0m \u001B[0mself\u001B[0m\u001B[1;33m.\u001B[0m\u001B[0m_cond\u001B[0m\u001B[1;33m.\u001B[0m\u001B[0mwait\u001B[0m\u001B[1;33m(\u001B[0m\u001B[0mtimeout\u001B[0m\u001B[1;33m)\u001B[0m\u001B[1;33m\u001B[0m\u001B[1;33m\u001B[0m\u001B[0m\n\u001B[0m\u001B[0;32m    575\u001B[0m             \u001B[1;32mreturn\u001B[0m \u001B[0msignaled\u001B[0m\u001B[1;33m\u001B[0m\u001B[1;33m\u001B[0m\u001B[0m\n\u001B[0;32m    576\u001B[0m \u001B[1;33m\u001B[0m\u001B[0m\n",
      "\u001B[1;32m~\\miniconda3\\envs\\Master\\lib\\threading.py\u001B[0m in \u001B[0;36mwait\u001B[1;34m(self, timeout)\u001B[0m\n\u001B[0;32m    310\u001B[0m         \u001B[1;32mtry\u001B[0m\u001B[1;33m:\u001B[0m    \u001B[1;31m# restore state no matter what (e.g., KeyboardInterrupt)\u001B[0m\u001B[1;33m\u001B[0m\u001B[1;33m\u001B[0m\u001B[0m\n\u001B[0;32m    311\u001B[0m             \u001B[1;32mif\u001B[0m \u001B[0mtimeout\u001B[0m \u001B[1;32mis\u001B[0m \u001B[1;32mNone\u001B[0m\u001B[1;33m:\u001B[0m\u001B[1;33m\u001B[0m\u001B[1;33m\u001B[0m\u001B[0m\n\u001B[1;32m--> 312\u001B[1;33m                 \u001B[0mwaiter\u001B[0m\u001B[1;33m.\u001B[0m\u001B[0macquire\u001B[0m\u001B[1;33m(\u001B[0m\u001B[1;33m)\u001B[0m\u001B[1;33m\u001B[0m\u001B[1;33m\u001B[0m\u001B[0m\n\u001B[0m\u001B[0;32m    313\u001B[0m                 \u001B[0mgotit\u001B[0m \u001B[1;33m=\u001B[0m \u001B[1;32mTrue\u001B[0m\u001B[1;33m\u001B[0m\u001B[1;33m\u001B[0m\u001B[0m\n\u001B[0;32m    314\u001B[0m             \u001B[1;32melse\u001B[0m\u001B[1;33m:\u001B[0m\u001B[1;33m\u001B[0m\u001B[1;33m\u001B[0m\u001B[0m\n",
      "\u001B[1;31mKeyboardInterrupt\u001B[0m: "
     ]
    }
   ],
   "source": [
    "start_time = time.time()\n",
    "num = 1\n",
    "for sub_df in combinations_list:\n",
    "    temp_df = parallelize_dataframe(sub_df, partial(combinations_subset, partial(knockout_FBA, model)), 12)\n",
    "    temp_df.to_csv(path_or_buf='C:/Users/Sigve/Genome_Data/results/results_FBA/result_{0}.tsv'.format(num), sep='\\t')\n",
    "    num += 1\n",
    "\n",
    "# Does not work if model imported as sbml for some reason, sometimes does though, apparently\n",
    "#combinations = parallelize_dataframe(combinations, partial(combinations_subset, partial(knockout_FBA, model)), 12)\n",
    "\n",
    "# Code for single thread FBA\n",
    "#combinations['results'] = combinations['gene_ids'].apply(partial(knockout_FBA, model))\n",
    "\n",
    "\n",
    "#combinations.to_csv(path_or_buf='C:/Users/Sigve/Genome_Data/results/test.tsv', sep='\\t')\n",
    "\n",
    "end_time = time.time()\n",
    "print('FBA run time: %.6f seconds' % (end_time - start_time))"
   ],
   "metadata": {
    "collapsed": false,
    "pycharm": {
     "name": "#%%\n"
    }
   }
  },
  {
   "cell_type": "code",
   "execution_count": 51,
   "outputs": [],
   "source": [
    "mask = combinations['results'].apply(lambda x: x.objective_value < 121)\n",
    "affected_runs = combinations[mask]\n",
    "affected_runs.to_csv(path_or_buf='C:/Users/Sigve/Genome_Data/results/affected_runs.tsv', sep='\\t')"
   ],
   "metadata": {
    "collapsed": false,
    "pycharm": {
     "name": "#%%\n"
    }
   }
  },
  {
   "cell_type": "code",
   "execution_count": null,
   "outputs": [],
   "source": [
    "# Check for non nominal results\n",
    "for i, result in combinations.iterrows():\n",
    "    res = result['results'].objective_value\n",
    "    if int(res) < 100:\n",
    "        pass"
   ],
   "metadata": {
    "collapsed": false,
    "pycharm": {
     "name": "#%%\n"
    }
   }
  },
  {
   "cell_type": "code",
   "execution_count": 6,
   "outputs": [
    {
     "data": {
      "text/plain": "ENSG00000155657    18\nENSG00000159063    13\nENSG00000142875    13\nENSG00000185803    11\nENSG00000126883     9\n                   ..\nENSG00000060762     1\nENSG00000198919     1\nENSG00000136872     1\nENSG00000075975     1\nENSG00000147548     1\nLength: 537, dtype: int64"
     },
     "execution_count": 6,
     "metadata": {},
     "output_type": "execute_result"
    }
   ],
   "source": [
    "gene_lists = combinations['gene_ids'].to_list()\n",
    "gene_lists = [ids for sublist in gene_lists for ids in sublist]\n",
    "\n",
    "counts = pd.Series(gene_lists).value_counts()\n",
    "counts"
   ],
   "metadata": {
    "collapsed": false,
    "pycharm": {
     "name": "#%%\n"
    }
   }
  },
  {
   "cell_type": "code",
   "execution_count": 36,
   "outputs": [
    {
     "data": {
      "text/plain": "<Gene ENSG00000176920 at 0x1f202179dc0>",
      "text/html": "\n        <table>\n            <tr>\n                <td><strong>Gene identifier</strong></td><td>ENSG00000176920</td>\n            </tr><tr>\n                <td><strong>Name</strong></td><td></td>\n            </tr><tr>\n                <td><strong>Memory address</strong></td>\n                <td>0x01f202179dc0</td>\n            </tr><tr>\n                <td><strong>Functional</strong></td><td>True</td>\n            </tr><tr>\n                <td><strong>In 14 reaction(s)</strong></td><td>\n                    MAR00904, MAR08294, MAR00886, MAR00883, MAR00864, MAR00908, MAR00909, MAR08280, MAR08262, MAR08221, MAR08286, MAR00866, MAR00898, MAR08291</td>\n            </tr>\n        </table>"
     },
     "execution_count": 36,
     "metadata": {},
     "output_type": "execute_result"
    }
   ],
   "source": [
    "# Test stuff\n",
    "\n",
    "#print(model.reactions.MAR04908.genes)\n",
    "#print(model.reactions.MAR04908.gene_reaction_rule)\n",
    "#print(model.genes.get_by_id('ENSG00000103024'))\n",
    "\n",
    "#model.genes.ENSG00000103024.knock_out()\n",
    "#gene_id = ['ENSG00000155657','ENSG00000159063','ENSG00000142875']\n",
    "\n",
    "#genes = [model.genes.get_by_id(i) for i in gene_id]\n",
    "gene = model.genes.get_by_id('ENSG00000176920')\n",
    "gene\n"
   ],
   "metadata": {
    "collapsed": false,
    "pycharm": {
     "name": "#%%\n"
    }
   }
  },
  {
   "cell_type": "code",
   "execution_count": 3,
   "outputs": [
    {
     "name": "stdout",
     "output_type": "stream",
     "text": [
      "1311\n"
     ]
    }
   ],
   "source": [
    "# Read in processed SNP data\n",
    "path = 'C:/Users/Sigve/Genome_Data/'\n",
    "SNP_file = path + 'results/SNPs_for_FBA.tsv'\n",
    "SNP_df = pd.read_table(SNP_file)\n",
    "\n",
    "# Get gene list\n",
    "genes = [model.genes.get_by_id(i) for i in set(SNP_df['gene_id'].to_list())]\n",
    "print(len(genes))\n",
    "\n",
    "single_deletion_results = cobra.flux_analysis.single_gene_deletion(model, genes, method='fba', processes=8)\n",
    "#double_deletion_results = cobra.flux_analysis.double_gene_deletion(model, genes, method='fba', processes=8)\n",
    "\n",
    "single_deletion_results.to_csv(path_or_buf=path + 'results/test_single.tsv', sep='\\t')\n",
    "#double_deletion_results.to_csv(path_or_buf=path + 'results/test_double.tsv', sep='\\t')"
   ],
   "metadata": {
    "collapsed": false,
    "pycharm": {
     "name": "#%%\n"
    }
   }
  },
  {
   "cell_type": "code",
   "execution_count": 13,
   "outputs": [
    {
     "name": "stdout",
     "output_type": "stream",
     "text": [
      "1261\n",
      "[{'ENSG00000052802'}, {'ENSG00000124006'}, {'ENSG00000197249'}, {'ENSG00000092068'}, {'ENSG00000146648'}, {'ENSG00000114738'}, {'ENSG00000165282'}, {'ENSG00000174886'}, {'ENSG00000169375'}, {'ENSG00000156515'}, {'ENSG00000079215'}, {'ENSG00000160752'}, {'ENSG00000164116'}, {'ENSG00000111817'}, {'ENSG00000152952'}, {'ENSG00000173540'}, {'ENSG00000184470'}, {'ENSG00000166484'}, {'ENSG00000149925'}, {'ENSG00000010404'}, {'ENSG00000152642'}, {'ENSG00000168487'}, {'ENSG00000112541'}, {'ENSG00000100596'}, {'ENSG00000177239'}, {'ENSG00000165349'}, {'ENSG00000196090'}, {'ENSG00000138061'}, {'ENSG00000017260'}, {'ENSG00000143199'}, {'ENSG00000108474'}, {'ENSG00000137700'}, {'ENSG00000145284'}, {'ENSG00000126522'}, {'ENSG00000060069'}, {'ENSG00000043514'}, {'ENSG00000171100'}, {'ENSG00000198886'}, {'ENSG00000139428'}, {'ENSG00000137868'}, {'ENSG00000198727'}, {'ENSG00000116096'}, {'ENSG00000171503'}, {'ENSG00000133216'}, {'ENSG00000069431'}, {'ENSG00000068438'}, {'ENSG00000160868'}, {'ENSG00000134910'}, {'ENSG00000004864'}, {'ENSG00000119414'}, {'ENSG00000198695'}, {'ENSG00000147155'}, {'ENSG00000139988'}, {'ENSG00000112425'}, {'ENSG00000124356'}, {'ENSG00000151498'}, {'ENSG00000101276'}, {'ENSG00000168411'}, {'ENSG00000067992'}, {'ENSG00000174358'}, {'ENSG00000101210'}, {'ENSG00000087053'}, {'ENSG00000099624'}, {'ENSG00000160584'}, {'ENSG00000179477'}, {'ENSG00000147684'}, {'ENSG00000081237'}, {'ENSG00000241935'}, {'ENSG00000086232'}, {'ENSG00000106633'}, {'ENSG00000072274'}, {'ENSG00000105639'}, {'ENSG00000148795'}, {'ENSG00000156413'}, {'ENSG00000131238'}, {'ENSG00000175536'}, {'ENSG00000184254'}, {'ENSG00000196498'}, {'ENSG00000167580'}, {'ENSG00000100393'}, {'ENSG00000178538'}, {'ENSG00000163513'}, {'ENSG00000117308'}, {'ENSG00000177666'}, {'ENSG00000197579'}, {'ENSG00000149269'}, {'ENSG00000178537'}, {'ENSG00000122194'}, {'ENSG00000126749'}, {'ENSG00000198814'}, {'ENSG00000131069'}, {'ENSG00000112473'}, {'ENSG00000166349'}, {'ENSG00000086848'}, {'ENSG00000173599'}, {'ENSG00000130175'}, {'ENSG00000111012'}, {'ENSG00000139318'}, {'ENSG00000184432'}, {'ENSG00000188641'}, {'ENSG00000085998'}, {'ENSG00000175283'}, {'ENSG00000140650'}, {'ENSG00000265203'}, {'ENSG00000076201'}, {'ENSG00000153936'}, {'ENSG00000005381'}, {'ENSG00000157764'}, {'ENSG00000174672'}, {'ENSG00000139531'}, {'ENSG00000114491'}, {'ENSG00000038382'}, {'ENSG00000095139'}, {'ENSG00000124486'}, {'ENSG00000169919'}, {'ENSG00000135409'}, {'ENSG00000100288'}, {'ENSG00000106080'}, {'ENSG00000116133'}, {'ENSG00000147804'}, {'ENSG00000106605'}, {'ENSG00000124491'}, {'ENSG00000176715'}, {'ENSG00000204385'}, {'ENSG00000196411'}, {'ENSG00000152332'}, {'ENSG00000079335'}, {'ENSG00000147044'}, {'ENSG00000198763'}, {'ENSG00000114200'}, {'ENSG00000169692'}, {'ENSG00000030304'}, {'ENSG00000166311'}, {'ENSG00000172893'}, {'ENSG00000140459'}, {'ENSG00000047457'}, {'ENSG00000117479'}, {'ENSG00000167371'}, {'ENSG00000032444'}, {'ENSG00000112053'}, {'ENSG00000077498'}, {'ENSG00000142627'}, {'ENSG00000178802'}, {'ENSG00000157399'}, {'ENSG00000120942'}, {'ENSG00000156650'}, {'ENSG00000100354'}, {'ENSG00000177542'}, {'ENSG00000156467'}, {'ENSG00000091436'}, {'ENSG00000184304'}, {'ENSG00000185973'}, {'ENSG00000153933'}, {'ENSG00000065883'}, {'ENSG00000014641'}, {'ENSG00000168827'}, {'ENSG00000166123'}, {'ENSG00000165029'}, {'ENSG00000198951'}, {'ENSG00000178127'}, {'ENSG00000004455'}, {'ENSG00000005471'}, {'ENSG00000099377'}, {'ENSG00000100030'}, {'ENSG00000126091'}, {'ENSG00000164023'}, {'ENSG00000012232'}, {'ENSG00000185532'}, {'ENSG00000165731'}, {'ENSG00000157103'}, {'ENSG00000170734'}, {'ENSG00000101986'}, {'ENSG00000109685'}, {'ENSG00000239900'}, {'ENSG00000176022'}, {'ENSG00000141756'}, {'ENSG00000102575'}, {'ENSG00000102383'}, {'ENSG00000197891'}, {'ENSG00000113790'}, {'ENSG00000073060'}, {'ENSG00000144741'}, {'ENSG00000159640'}, {'ENSG00000131174'}, {'ENSG00000242366'}, {'ENSG00000142208'}, {'ENSG00000110887'}, {'ENSG00000087299'}, {'ENSG00000171560'}, {'ENSG00000187486'}, {'ENSG00000135218'}, {'ENSG00000186111'}, {'ENSG00000100865'}, {'ENSG00000105607'}, {'ENSG00000125505'}, {'ENSG00000189221'}, {'ENSG00000116539'}, {'ENSG00000166794'}, {'ENSG00000147162'}, {'ENSG00000101247'}, {'ENSG00000070614'}, {'ENSG00000188467'}, {'ENSG00000077463'}, {'ENSG00000111670'}, {'ENSG00000135318'}, {'ENSG00000142731'}, {'ENSG00000076685'}, {'ENSG00000111732'}, {'ENSG00000072682'}, {'ENSG00000174640'}, {'ENSG00000011198'}, {'ENSG00000149541'}, {'ENSG00000102226'}, {'ENSG00000110719'}, {'ENSG00000154227'}, {'ENSG00000107537'}, {'ENSG00000182197'}, {'ENSG00000110066'}, {'ENSG00000137168'}, {'ENSG00000185883'}, {'ENSG00000151729'}, {'ENSG00000133742'}, {'ENSG00000122218'}, {'ENSG00000124212'}, {'ENSG00000131183'}, {'ENSG00000112992'}, {'ENSG00000167114'}, {'ENSG00000100564'}, {'ENSG00000122025'}, {'ENSG00000116748'}, {'ENSG00000102312'}, {'ENSG00000065154'}, {'ENSG00000111713'}, {'ENSG00000122643'}, {'ENSG00000121851'}, {'ENSG00000151632'}, {'ENSG00000144591'}, {'ENSG00000136872'}, {'ENSG00000119523'}, {'ENSG00000132837'}, {'ENSG00000164494'}, {'ENSG00000273820'}, {'ENSG00000135454'}, {'ENSG00000167258'}, {'ENSG00000163541'}, {'ENSG00000171862'}, {'ENSG00000105220'}, {'ENSG00000075413'}, {'ENSG00000138814'}, {'ENSG00000181019'}, {'ENSG00000146701'}, {'ENSG00000140374'}, {'ENSG00000148053'}, {'ENSG00000165025'}, {'ENSG00000203859'}, {'ENSG00000105552'}, {'ENSG00000143921'}, {'ENSG00000164904'}, {'ENSG00000186010'}, {'ENSG00000170266'}, {'ENSG00000132915'}, {'ENSG00000060762'}, {'ENSG00000112294'}, {'ENSG00000067842'}, {'ENSG00000136371'}, {'ENSG00000161513'}, {'ENSG00000139540'}, {'ENSG00000006071'}, {'ENSG00000122126'}, {'ENSG00000091137'}, {'ENSG00000039650'}, {'ENSG00000116106'}, {'ENSG00000140090'}, {'ENSG00000197943'}, {'ENSG00000070019'}, {'ENSG00000158125'}, {'ENSG00000147647'}, {'ENSG00000126583'}, {'ENSG00000064651'}, {'ENSG00000121879'}, {'ENSG00000110435'}, {'ENSG00000105204'}, {'ENSG00000149476'}, {'ENSG00000054392'}, {'ENSG00000158864'}, {'ENSG00000198668'}, {'ENSG00000069943'}, {'ENSG00000160211'}, {'ENSG00000115170'}, {'ENSG00000134853'}, {'ENSG00000164414'}, {'ENSG00000136143'}, {'ENSG00000112742'}, {'ENSG00000058404'}, {'ENSG00000102144'}, {'ENSG00000101849'}, {'ENSG00000127415'}, {'ENSG00000095059'}, {'ENSG00000240303'}, {'ENSG00000177000'}, {'ENSG00000115840'}, {'ENSG00000110717'}, {'ENSG00000165458'}, {'ENSG00000173614'}, {'ENSG00000173327'}, {'ENSG00000159459'}, {'ENSG00000101752'}, {'ENSG00000132964'}, {'ENSG00000198848'}, {'ENSG00000136908'}, {'ENSG00000135929'}, {'ENSG00000128052'}, {'ENSG00000185100'}, {'ENSG00000115850'}, {'ENSG00000105647'}, {'ENSG00000070610'}, {'ENSG00000171004'}, {'ENSG00000177156'}, {'ENSG00000081479'}, {'ENSG00000198400'}, {'ENSG00000174173'}, {'ENSG00000164708'}, {'ENSG00000130816'}, {'ENSG00000143811'}, {'ENSG00000142892'}, {'ENSG00000204217'}, {'ENSG00000137731'}, {'ENSG00000122008'}, {'ENSG00000170485'}, {'ENSG00000115525'}, {'ENSG00000104635'}, {'ENSG00000118515'}, {'ENSG00000054983'}, {'ENSG00000027847'}, {'ENSG00000146085'}, {'ENSG00000101438'}, {'ENSG00000259030'}, {'ENSG00000092295'}, {'ENSG00000085563'}, {'ENSG00000108439'}, {'ENSG00000103489'}, {'ENSG00000163931'}, {'ENSG00000135917'}, {'ENSG00000135845'}, {'ENSG00000130821'}, {'ENSG00000070669'}, {'ENSG00000164405'}, {'ENSG00000104907'}, {'ENSG00000135437'}, {'ENSG00000180879'}, {'ENSG00000178694'}, {'ENSG00000177628'}, {'ENSG00000166224'}, {'ENSG00000147123'}, {'ENSG00000105397'}, {'ENSG00000106397'}, {'ENSG00000175445'}, {'ENSG00000152234'}, {'ENSG00000136715'}, {'ENSG00000138079'}, {'ENSG00000074803'}, {'ENSG00000101846'}, {'ENSG00000145331'}, {'ENSG00000092439'}, {'ENSG00000169032'}, {'ENSG00000161217'}, {'ENSG00000122687'}, {'ENSG00000184979'}, {'ENSG00000100299'}, {'ENSG00000234906'}, {'ENSG00000119711'}, {'ENSG00000108784'}, {'ENSG00000146872'}, {'ENSG00000138777'}, {'ENSG00000073578'}, {'ENSG00000071553'}, {'ENSG00000172482'}, {'ENSG00000115919'}, {'ENSG00000185344'}, {'ENSG00000168237'}, {'ENSG00000135069'}, {'ENSG00000111837'}, {'ENSG00000008086'}, {'ENSG00000228716'}, {'ENSG00000197375'}, {'ENSG00000115085'}, {'ENSG00000067900'}, {'ENSG00000166136'}, {'ENSG00000097007'}, {'ENSG00000116745'}, {'ENSG00000068366'}, {'ENSG00000131389'}, {'ENSG00000171954'}, {'ENSG00000133256'}, {'ENSG00000198130'}, {'ENSG00000140675'}, {'ENSG00000214102'}, {'ENSG00000073734'}, {'ENSG00000159921'}, {'ENSG00000141551'}, {'ENSG00000157353'}, {'ENSG00000162434'}, {'ENSG00000151366'}, {'ENSG00000105409'}, {'ENSG00000013375'}, {'ENSG00000167601'}, {'ENSG00000110921'}, {'ENSG00000141349'}, {'ENSG00000083720'}, {'ENSG00000120156'}, {'ENSG00000133835'}, {'ENSG00000044446'}, {'ENSG00000143363'}, {'ENSG00000131653'}, {'ENSG00000124370'}, {'ENSG00000100243'}, {'ENSG00000106617'}, {'ENSG00000248098'}, {'ENSG00000099797'}, {'ENSG00000159692'}, {'ENSG00000102743'}, {'ENSG00000177646'}, {'ENSG00000079805'}, {'ENSG00000083123'}, {'ENSG00000109323'}, {'ENSG00000126261'}, {'ENSG00000113263'}, {'ENSG00000179520'}, {'ENSG00000151552'}, {'ENSG00000185527'}, {'ENSG00000130413'}, {'ENSG00000138823'}, {'ENSG00000107789'}, {'ENSG00000071054'}, {'ENSG00000072195'}, {'ENSG00000152779'}, {'ENSG00000276747'}, {'ENSG00000197121'}, {'ENSG00000198805'}, {'ENSG00000122966'}, {'ENSG00000101336'}, {'ENSG00000123454'}, {'ENSG00000152104'}, {'ENSG00000124155'}, {'ENSG00000142513'}, {'ENSG00000179148'}, {'ENSG00000164951'}, {'ENSG00000148090'}, {'ENSG00000169071'}, {'ENSG00000101901'}, {'ENSG00000231852'}, {'ENSG00000147224'}, {'ENSG00000171759'}, {'ENSG00000167588'}, {'ENSG00000092964'}, {'ENSG00000187091'}, {'ENSG00000114480'}, {'ENSG00000122971'}, {'ENSG00000101695'}, {'ENSG00000212907'}, {'ENSG00000256269'}, {'ENSG00000141458'}, {'ENSG00000138018'}, {'ENSG00000036473'}, {'ENSG00000122787'}, {'ENSG00000213316'}, {'ENSG00000130948'}, {'ENSG00000104055'}, {'ENSG00000181090'}, {'ENSG00000116171'}, {'ENSG00000106976'}, {'ENSG00000184983'}, {'ENSG00000010671'}, {'ENSG00000197296'}, {'ENSG00000171608'}, {'ENSG00000183048'}, {'ENSG00000100504'}, {'ENSG00000118094'}, {'ENSG00000140263'}, {'ENSG00000145725'}, {'ENSG00000172315'}, {'ENSG00000196839'}, {'ENSG00000130985'}, {'ENSG00000184752'}, {'ENSG00000104723'}, {'ENSG00000171320'}, {'ENSG00000135677'}, {'ENSG00000137869'}, {'ENSG00000134240'}, {'ENSG00000182866'}, {'ENSG00000163389'}, {'ENSG00000141485'}, {'ENSG00000213341'}, {'ENSG00000147606'}, {'ENSG00000171105'}, {'ENSG00000108946'}, {'ENSG00000102030'}, {'ENSG00000241973'}, {'ENSG00000147133'}, {'ENSG00000101306'}, {'ENSG00000088179'}, {'ENSG00000111846'}, {'ENSG00000156110'}, {'ENSG00000092621'}, {'ENSG00000139180'}, {'ENSG00000128655'}, {'ENSG00000025708'}, {'ENSG00000129083'}, {'ENSG00000109610'}, {'ENSG00000155111'}, {'ENSG00000163755'}, {'ENSG00000255730'}, {'ENSG00000103707'}, {'ENSG00000100033'}, {'ENSG00000141506'}, {'ENSG00000103507'}, {'ENSG00000125356'}, {'ENSG00000021488'}, {'ENSG00000204084'}, {'ENSG00000108528'}, {'ENSG00000087470'}, {'ENSG00000124713'}, {'ENSG00000272333'}, {'ENSG00000164867'}, {'ENSG00000167468'}, {'ENSG00000162688'}, {'ENSG00000198682'}, {'ENSG00000197894'}, {'ENSG00000157765'}, {'ENSG00000160867'}, {'ENSG00000182621'}, {'ENSG00000181038'}, {'ENSG00000131100'}, {'ENSG00000125166'}, {'ENSG00000181555'}, {'ENSG00000196136'}, {'ENSG00000174684'}, {'ENSG00000038002'}, {'ENSG00000033170'}, {'ENSG00000150540'}, {'ENSG00000163817'}, {'ENSG00000163754'}, {'ENSG00000138029'}, {'ENSG00000166548'}, {'ENSG00000068976'}, {'ENSG00000157540'}, {'ENSG00000174233'}, {'ENSG00000131844'}, {'ENSG00000167508'}, {'ENSG00000138363'}, {'ENSG00000184381'}, {'ENSG00000150768'}, {'ENSG00000107798'}, {'ENSG00000155850'}, {'ENSG00000141027'}, {'ENSG00000155657'}, {'ENSG00000018625'}, {'ENSG00000163631'}, {'ENSG00000139718'}, {'ENSG00000100348'}, {'ENSG00000119689'}, {'ENSG00000154252'}, {'ENSG00000110628'}, {'ENSG00000074621'}, {'ENSG00000117394'}, {'ENSG00000101444'}, {'ENSG00000198488'}, {'ENSG00000164742'}, {'ENSG00000126267'}, {'ENSG00000159650'}, {'ENSG00000012660'}, {'ENSG00000101577'}, {'ENSG00000131023'}, {'ENSG00000162551'}, {'ENSG00000068308'}, {'ENSG00000087586'}, {'ENSG00000187714'}, {'ENSG00000103876'}, {'ENSG00000178568'}, {'ENSG00000105641'}, {'ENSG00000164258'}, {'ENSG00000196296'}, {'ENSG00000185624'}, {'ENSG00000124615'}, {'ENSG00000167397'}, {'ENSG00000177189'}, {'ENSG00000009413'}, {'ENSG00000174951'}, {'ENSG00000066926'}, {'ENSG00000198931'}, {'ENSG00000130508'}, {'ENSG00000157184'}, {'ENSG00000090054'}, {'ENSG00000141736'}, {'ENSG00000064601'}, {'ENSG00000161653'}, {'ENSG00000101333'}, {'ENSG00000247746'}, {'ENSG00000049239'}, {'ENSG00000165841'}, {'ENSG00000083168'}, {'ENSG00000156983'}, {'ENSG00000147416'}, {'ENSG00000198888'}, {'ENSG00000198569'}, {'ENSG00000169169'}, {'ENSG00000113273'}, {'ENSG00000112367'}, {'ENSG00000091138'}, {'ENSG00000160200'}, {'ENSG00000070808'}, {'ENSG00000197594'}, {'ENSG00000113721'}, {'ENSG00000077782'}, {'ENSG00000147383'}, {'ENSG00000087111'}, {'ENSG00000131482'}, {'ENSG00000015532'}, {'ENSG00000167658'}, {'ENSG00000140443'}, {'ENSG00000198363'}, {'ENSG00000183765'}, {'ENSG00000117984'}, {'ENSG00000145675'}, {'ENSG00000173175'}, {'ENSG00000070214'}, {'ENSG00000165060'}, {'ENSG00000178741'}, {'ENSG00000164120'}, {'ENSG00000160282'}, {'ENSG00000178952'}, {'ENSG00000118520'}, {'ENSG00000072062'}, {'ENSG00000165688'}, {'ENSG00000110243'}, {'ENSG00000137275'}, {'ENSG00000068078'}, {'ENSG00000136881'}, {'ENSG00000140598'}, {'ENSG00000167792'}, {'ENSG00000114054'}, {'ENSG00000076351'}, {'ENSG00000171155'}, {'ENSG00000255072'}, {'ENSG00000100170'}, {'ENSG00000115339'}, {'ENSG00000168575'}, {'ENSG00000140905'}, {'ENSG00000084774'}, {'ENSG00000126934'}, {'ENSG00000119638'}, {'ENSG00000196517'}, {'ENSG00000119121'}, {'ENSG00000112077'}, {'ENSG00000109814'}, {'ENSG00000095380'}, {'ENSG00000175054'}, {'ENSG00000171302'}, {'ENSG00000108479'}, {'ENSG00000136643'}, {'ENSG00000140990'}, {'ENSG00000061938'}, {'ENSG00000181192'}, {'ENSG00000162733'}, {'ENSG00000153208'}, {'ENSG00000080819'}, {'ENSG00000124172'}, {'ENSG00000159131'}, {'ENSG00000171766'}, {'ENSG00000138075'}, {'ENSG00000092529'}, {'ENSG00000101464'}, {'ENSG00000132517'}, {'ENSG00000125779'}, {'ENSG00000151790'}, {'ENSG00000165671'}, {'ENSG00000147408'}, {'ENSG00000116337'}, {'ENSG00000102100'}, {'ENSG00000181830'}, {'ENSG00000096968'}, {'ENSG00000143627'}, {'ENSG00000145494'}, {'ENSG00000055332'}, {'ENSG00000164347'}, {'ENSG00000122863'}, {'ENSG00000140740'}, {'ENSG00000196743'}, {'ENSG00000112144'}, {'ENSG00000159899'}, {'ENSG00000169105'}, {'ENSG00000172817'}, {'ENSG00000115020'}, {'ENSG00000088305'}, {'ENSG00000128683'}, {'ENSG00000126562'}, {'ENSG00000160882'}, {'ENSG00000177565'}, {'ENSG00000100075'}, {'ENSG00000178814'}, {'ENSG00000103222'}, {'ENSG00000083799'}, {'ENSG00000116906'}, {'ENSG00000100714'}, {'ENSG00000172071'}, {'ENSG00000183032'}, {'ENSG00000186642'}, {'ENSG00000198712'}, {'ENSG00000105976'}, {'ENSG00000167996'}, {'ENSG00000183421'}, {'ENSG00000148660'}, {'ENSG00000104365'}, {'ENSG00000143753'}, {'ENSG00000012963'}, {'ENSG00000156471'}, {'ENSG00000110436'}, {'ENSG00000116984'}, {'ENSG00000198380'}, {'ENSG00000157087'}, {'ENSG00000147465'}, {'ENSG00000008311'}, {'ENSG00000105568'}, {'ENSG00000160226'}, {'ENSG00000158296'}, {'ENSG00000135821'}, {'ENSG00000198804'}, {'ENSG00000048392'}, {'ENSG00000084073'}, {'ENSG00000134812'}, {'ENSG00000113575'}, {'ENSG00000176920'}, {'ENSG00000169679'}, {'ENSG00000168000'}, {'ENSG00000204386'}, {'ENSG00000128928'}, {'ENSG00000142798'}, {'ENSG00000131495'}, {'ENSG00000165970'}, {'ENSG00000089597'}, {'ENSG00000115705'}, {'ENSG00000127947'}, {'ENSG00000160602'}, {'ENSG00000116771'}, {'ENSG00000119772'}, {'ENSG00000148384'}, {'ENSG00000172339'}, {'ENSG00000143933'}, {'ENSG00000121897'}, {'ENSG00000070915'}, {'ENSG00000147471'}, {'ENSG00000166035'}, {'ENSG00000135679'}, {'ENSG00000117620'}, {'ENSG00000172987'}, {'ENSG00000103546'}, {'ENSG00000122912'}, {'ENSG00000172977'}, {'ENSG00000160551'}, {'ENSG00000160285'}, {'ENSG00000112319'}, {'ENSG00000127481'}, {'ENSG00000175505'}, {'ENSG00000182578'}, {'ENSG00000119401'}, {'ENSG00000166340'}, {'ENSG00000060656'}, {'ENSG00000198899'}, {'ENSG00000151092'}, {'ENSG00000080493'}, {'ENSG00000001084'}, {'ENSG00000168137'}, {'ENSG00000115419'}, {'ENSG00000116675'}, {'ENSG00000253710'}, {'ENSG00000026103'}, {'ENSG00000136381'}, {'ENSG00000172269'}, {'ENSG00000138193'}, {'ENSG00000051382'}, {'ENSG00000137992'}, {'ENSG00000114786'}, {'ENSG00000107779'}, {'ENSG00000107165'}, {'ENSG00000156873'}, {'ENSG00000127125'}, {'ENSG00000142619'}, {'ENSG00000137713'}, {'ENSG00000004939'}, {'ENSG00000090402'}, {'ENSG00000115392'}, {'ENSG00000114062'}, {'ENSG00000180210'}, {'ENSG00000197496'}, {'ENSG00000182858'}, {'ENSG00000163932'}, {'ENSG00000100644'}, {'ENSG00000113231'}, {'ENSG00000117020'}, {'ENSG00000197563'}, {'ENSG00000183735'}, {'ENSG00000005339'}, {'ENSG00000095321'}, {'ENSG00000146733'}, {'ENSG00000018510'}, {'ENSG00000163719'}, {'ENSG00000132600'}, {'ENSG00000185324'}, {'ENSG00000130203'}, {'ENSG00000101365'}, {'ENSG00000136573'}, {'ENSG00000007933'}, {'ENSG00000078124'}, {'ENSG00000171885'}, {'ENSG00000009830'}, {'ENSG00000155380'}, {'ENSG00000095015'}, {'ENSG00000135697'}, {'ENSG00000117054'}, {'ENSG00000143252'}, {'ENSG00000173786'}, {'ENSG00000128039'}, {'ENSG00000188906'}, {'ENSG00000181523'}, {'ENSG00000102967'}, {'ENSG00000104331'}, {'ENSG00000106348'}, {'ENSG00000139304'}, {'ENSG00000241878'}, {'ENSG00000157064'}, {'ENSG00000204370'}, {'ENSG00000175564'}, {'ENSG00000010256'}, {'ENSG00000277161'}, {'ENSG00000101871'}, {'ENSG00000181035'}, {'ENSG00000143815'}, {'ENSG00000021826'}, {'ENSG00000037757'}, {'ENSG00000007541'}, {'ENSG00000084754'}, {'ENSG00000213930'}, {'ENSG00000078070'}, {'ENSG00000179091'}, {'ENSG00000170836'}, {'ENSG00000114739'}, {'ENSG00000153827'}, {'ENSG00000059377'}, {'ENSG00000106992'}, {'ENSG00000105146'}, {'ENSG00000023839'}, {'ENSG00000109861'}, {'ENSG00000040933'}, {'ENSG00000069020'}, {'ENSG00000140199'}, {'ENSG00000106799'}, {'ENSG00000149016'}, {'ENSG00000138449'}, {'ENSG00000188706'}, {'ENSG00000164134'}, {'ENSG00000128829'}, {'ENSG00000104313'}, {'ENSG00000115758'}, {'ENSG00000179163'}, {'ENSG00000115902'}, {'ENSG00000102125'}, {'ENSG00000075415'}, {'ENSG00000130414'}, {'ENSG00000060642'}, {'ENSG00000101974'}, {'ENSG00000111700'}, {'ENSG00000055609'}, {'ENSG00000248099'}, {'ENSG00000105810'}, {'ENSG00000174990'}, {'ENSG00000124164'}, {'ENSG00000138592'}, {'ENSG00000162882'}, {'ENSG00000198938'}, {'ENSG00000117305'}, {'ENSG00000106462'}, {'ENSG00000139151'}, {'ENSG00000185808'}, {'ENSG00000083290'}, {'ENSG00000091140'}, {'ENSG00000164172'}, {'ENSG00000188690'}, {'ENSG00000065534'}, {'ENSG00000106688'}, {'ENSG00000148677'}, {'ENSG00000197601'}, {'ENSG00000138413'}, {'ENSG00000137601'}, {'ENSG00000115275'}, {'ENSG00000170426'}, {'ENSG00000157404'}, {'ENSG00000145242'}, {'ENSG00000177192'}, {'ENSG00000156345'}, {'ENSG00000164933'}, {'ENSG00000137106'}, {'ENSG00000213614'}, {'ENSG00000142168'}, {'ENSG00000155016'}, {'ENSG00000140279'}, {'ENSG00000065613'}, {'ENSG00000068120'}, {'ENSG00000166819'}, {'ENSG00000124299'}, {'ENSG00000140521'}, {'ENSG00000154237'}, {'ENSG00000133059'}, {'ENSG00000158828'}, {'ENSG00000163344'}, {'ENSG00000139567'}, {'ENSG00000104774'}, {'ENSG00000118402'}, {'ENSG00000077264'}, {'ENSG00000136699'}, {'ENSG00000162836'}, {'ENSG00000164078'}, {'ENSG00000084674'}, {'ENSG00000167186'}, {'ENSG00000158104'}, {'ENSG00000171723'}, {'ENSG00000182054'}, {'ENSG00000102893'}, {'ENSG00000108381'}, {'ENSG00000100994'}, {'ENSG00000072506'}, {'ENSG00000101266'}, {'ENSG00000107611'}, {'ENSG00000085382'}, {'ENSG00000100412'}, {'ENSG00000090376'}, {'ENSG00000065361'}, {'ENSG00000105929'}, {'ENSG00000033011'}, {'ENSG00000148356'}, {'ENSG00000183010'}, {'ENSG00000141378'}, {'ENSG00000158578'}, {'ENSG00000091704'}, {'ENSG00000152556'}, {'ENSG00000242110'}, {'ENSG00000145217'}, {'ENSG00000198910'}, {'ENSG00000138411'}, {'ENSG00000113448'}, {'ENSG00000213689'}, {'ENSG00000165195'}, {'ENSG00000161798'}, {'ENSG00000171720'}, {'ENSG00000185483'}, {'ENSG00000125454'}, {'ENSG00000140057'}, {'ENSG00000142319'}, {'ENSG00000156885'}, {'ENSG00000170835'}, {'ENSG00000138207'}, {'ENSG00000138821'}, {'ENSG00000049759'}, {'ENSG00000123552'}, {'ENSG00000156510'}, {'ENSG00000213619'}, {'ENSG00000143315'}, {'ENSG00000115159'}, {'ENSG00000158089'}, {'ENSG00000214160'}, {'ENSG00000072778'}, {'ENSG00000174437'}, {'ENSG00000066230'}, {'ENSG00000078747'}, {'ENSG00000131979'}, {'ENSG00000166948'}, {'ENSG00000093072'}, {'ENSG00000092098'}, {'ENSG00000118058'}, {'ENSG00000198001'}, {'ENSG00000205678'}, {'ENSG00000103266'}, {'ENSG00000165102'}, {'ENSG00000130714'}, {'ENSG00000185825'}, {'ENSG00000143224'}, {'ENSG00000114378'}, {'ENSG00000082996'}, {'ENSG00000080166'}, {'ENSG00000166228'}, {'ENSG00000072310'}, {'ENSG00000174080'}, {'ENSG00000011405'}, {'ENSG00000213639'}, {'ENSG00000141012'}, {'ENSG00000110911'}, {'ENSG00000075239'}, {'ENSG00000145020'}, {'ENSG00000228253'}, {'ENSG00000118137'}, {'ENSG00000114573'}, {'ENSG00000079459'}, {'ENSG00000167972'}, {'ENSG00000116761'}, {'ENSG00000066322'}, {'ENSG00000155465'}, {'ENSG00000171094'}, {'ENSG00000197746'}, {'ENSG00000179295'}, {'ENSG00000111669'}, {'ENSG00000004961'}, {'ENSG00000174227'}, {'ENSG00000187555'}, {'ENSG00000161533'}, {'ENSG00000132518'}, {'ENSG00000119537'}, {'ENSG00000081923'}, {'ENSG00000163581'}, {'ENSG00000103657'}, {'ENSG00000079739'}, {'ENSG00000159063'}, {'ENSG00000156970'}, {'ENSG00000187566'}, {'ENSG00000074410'}, {'ENSG00000183044'}, {'ENSG00000168291'}, {'ENSG00000110090'}, {'ENSG00000110195'}, {'ENSG00000173085'}, {'ENSG00000108515'}, {'ENSG00000095777'}, {'ENSG00000167004'}, {'ENSG00000153015'}, {'ENSG00000244486'}, {'ENSG00000088002'}, {'ENSG00000132437'}, {'ENSG00000179085'}, {'ENSG00000154518'}, {'ENSG00000005483'}, {'ENSG00000113083'}, {'ENSG00000033627'}, {'ENSG00000186350'}, {'ENSG00000277893'}, {'ENSG00000100997'}, {'ENSG00000256525'}, {'ENSG00000146070'}, {'ENSG00000135341'}, {'ENSG00000169359'}, {'ENSG00000121207'}, {'ENSG00000198752'}, {'ENSG00000167306'}, {'ENSG00000204435'}, {'ENSG00000078061'}, {'ENSG00000117594'}, {'ENSG00000198691'}, {'ENSG00000113924'}, {'ENSG00000182890'}, {'ENSG00000130005'}, {'ENSG00000137124'}, {'ENSG00000130707'}, {'ENSG00000105221'}, {'ENSG00000153574'}, {'ENSG00000198840'}, {'ENSG00000168282'}, {'ENSG00000067177'}, {'ENSG00000163399'}, {'ENSG00000160014'}, {'ENSG00000277494'}, {'ENSG00000177084'}, {'ENSG00000105426'}, {'ENSG00000059573'}, {'ENSG00000116353'}, {'ENSG00000185974'}, {'ENSG00000086062'}, {'ENSG00000169814'}, {'ENSG00000138109'}, {'ENSG00000148218'}, {'ENSG00000186335'}, {'ENSG00000175309'}, {'ENSG00000131055'}, {'ENSG00000072210'}, {'ENSG00000006530'}, {'ENSG00000119899'}, {'ENSG00000172296'}, {'ENSG00000145476'}, {'ENSG00000165646'}, {'ENSG00000159267'}, {'ENSG00000115665'}, {'ENSG00000160209'}, {'ENSG00000110395'}, {'ENSG00000127884'}, {'ENSG00000100416'}, {'ENSG00000151348'}, {'ENSG00000114956'}, {'ENSG00000119013'}, {'ENSG00000060237'}, {'ENSG00000151148'}, {'ENSG00000187676'}, {'ENSG00000149311'}, {'ENSG00000143891'}, {'ENSG00000223802'}, {'ENSG00000197122'}, {'ENSG00000126088'}, {'ENSG00000168306'}, {'ENSG00000180176'}, {'ENSG00000095464'}, {'ENSG00000131873'}, {'ENSG00000006695'}, {'ENSG00000172572'}, {'ENSG00000179455'}, {'ENSG00000179142'}, {'ENSG00000169764'}, {'ENSG00000149177'}, {'ENSG00000181652'}, {'ENSG00000124253'}, {'ENSG00000133116'}, {'ENSG00000197444'}, {'ENSG00000176387'}, {'ENSG00000186153'}, {'ENSG00000102172'}, {'ENSG00000171298'}, {'ENSG00000159423'}, {'ENSG00000172331'}, {'ENSG00000182199'}, {'ENSG00000160688'}, {'ENSG00000101868'}, {'ENSG00000109929'}, {'ENSG00000165704'}, {'ENSG00000125255'}, {'ENSG00000115286'}, {'ENSG00000151224'}, {'ENSG00000130164'}, {'ENSG00000142875'}, {'ENSG00000101109'}, {'ENSG00000135744'}, {'ENSG00000167548'}, {'ENSG00000244038'}, {'ENSG00000111275'}, {'ENSG00000112759'}, {'ENSG00000117118'}, {'ENSG00000065675'}, {'ENSG00000178999'}, {'ENSG00000175535'}, {'ENSG00000104763'}, {'ENSG00000171132'}, {'ENSG00000183196'}, {'ENSG00000154310'}, {'ENSG00000104044'}, {'ENSG00000077721'}, {'ENSG00000138696'}, {'ENSG00000135446'}, {'ENSG00000077152'}, {'ENSG00000100749'}, {'ENSG00000138796'}, {'ENSG00000185803'}, {'ENSG00000138185'}, {'ENSG00000132155'}, {'ENSG00000186104'}, {'ENSG00000213398'}, {'ENSG00000124275'}, {'ENSG00000144659'}, {'ENSG00000134538'}, {'ENSG00000172890'}, {'ENSG00000150787'}, {'ENSG00000143387'}, {'ENSG00000247626'}, {'ENSG00000163114'}, {'ENSG00000144182'}, {'ENSG00000175198'}, {'ENSG00000070748'}, {'ENSG00000104687'}, {'ENSG00000079435'}, {'ENSG00000166411'}, {'ENSG00000154678'}, {'ENSG00000099381'}, {'ENSG00000165140'}, {'ENSG00000178445'}, {'ENSG00000143278'}, {'ENSG00000141469'}, {'ENSG00000197858'}, {'ENSG00000131828'}, {'ENSG00000185345'}, {'ENSG00000137760'}, {'ENSG00000100983'}, {'ENSG00000198786'}, {'ENSG00000198246'}, {'ENSG00000143641'}, {'ENSG00000138376'}, {'ENSG00000049860'}, {'ENSG00000253729'}, {'ENSG00000185000'}, {'ENSG00000140522'}, {'ENSG00000069667'}, {'ENSG00000100889'}, {'ENSG00000072756'}, {'ENSG00000159082'}, {'ENSG00000133805'}, {'ENSG00000102393'}, {'ENSG00000116704'}, {'ENSG00000158022'}, {'ENSG00000104267'}, {'ENSG00000125780'}, {'ENSG00000109667'}, {'ENSG00000088035'}, {'ENSG00000007168'}, {'ENSG00000162885'}, {'ENSG00000011275'}, {'ENSG00000113163'}, {'ENSG00000110245'}, {'ENSG00000125877'}, {'ENSG00000124140'}, {'ENSG00000241635'}, {'ENSG00000088451'}, {'ENSG00000127948'}, {'ENSG00000086758'}, {'ENSG00000166501'}, {'ENSG00000037280'}, {'ENSG00000130309'}, {'ENSG00000148672'}, {'ENSG00000091483'}, {'ENSG00000139053'}, {'ENSG00000152620'}, {'ENSG00000134324'}, {'ENSG00000090020'}, {'ENSG00000047936'}, {'ENSG00000131143'}, {'ENSG00000284844'}, {'ENSG00000075651'}, {'ENSG00000083444'}, {'ENSG00000103510'}, {'ENSG00000103150'}, {'ENSG00000132376'}, {'ENSG00000105379'}, {'ENSG00000259075'}, {'ENSG00000062822'}, {'ENSG00000172046'}, {'ENSG00000196177'}, {'ENSG00000105613'}, {'ENSG00000119723'}, {'ENSG00000118046'}, {'ENSG00000198650'}, {'ENSG00000000419'}, {'ENSG00000169021'}, {'ENSG00000167434'}, {'ENSG00000066468'}, {'ENSG00000135241'}, {'ENSG00000166816'}, {'ENSG00000072042'}, {'ENSG00000116711'}, {'ENSG00000148459'}, {'ENSG00000165059'}, {'ENSG00000117682'}, {'ENSG00000023228'}, {'ENSG00000165078'}, {'ENSG00000104812'}, {'ENSG00000065923'}, {'ENSG00000116039'}, {'ENSG00000147100'}, {'ENSG00000140287'}, {'ENSG00000240583'}, {'ENSG00000128731'}, {'ENSG00000185813'}]\n",
      "1261\n",
      "['ENSG00000052802', 'ENSG00000124006', 'ENSG00000197249', 'ENSG00000092068', 'ENSG00000146648', 'ENSG00000114738', 'ENSG00000165282', 'ENSG00000174886', 'ENSG00000169375', 'ENSG00000156515', 'ENSG00000079215', 'ENSG00000160752', 'ENSG00000164116', 'ENSG00000111817', 'ENSG00000152952', 'ENSG00000173540', 'ENSG00000184470', 'ENSG00000166484', 'ENSG00000149925', 'ENSG00000010404', 'ENSG00000152642', 'ENSG00000168487', 'ENSG00000112541', 'ENSG00000100596', 'ENSG00000177239', 'ENSG00000165349', 'ENSG00000196090', 'ENSG00000138061', 'ENSG00000017260', 'ENSG00000143199', 'ENSG00000108474', 'ENSG00000137700', 'ENSG00000145284', 'ENSG00000126522', 'ENSG00000060069', 'ENSG00000043514', 'ENSG00000171100', 'ENSG00000198886', 'ENSG00000139428', 'ENSG00000137868', 'ENSG00000198727', 'ENSG00000116096', 'ENSG00000171503', 'ENSG00000133216', 'ENSG00000069431', 'ENSG00000068438', 'ENSG00000160868', 'ENSG00000134910', 'ENSG00000004864', 'ENSG00000119414', 'ENSG00000198695', 'ENSG00000147155', 'ENSG00000139988', 'ENSG00000112425', 'ENSG00000124356', 'ENSG00000151498', 'ENSG00000101276', 'ENSG00000168411', 'ENSG00000067992', 'ENSG00000174358', 'ENSG00000101210', 'ENSG00000087053', 'ENSG00000099624', 'ENSG00000160584', 'ENSG00000179477', 'ENSG00000147684', 'ENSG00000081237', 'ENSG00000241935', 'ENSG00000086232', 'ENSG00000106633', 'ENSG00000072274', 'ENSG00000105639', 'ENSG00000148795', 'ENSG00000156413', 'ENSG00000131238', 'ENSG00000175536', 'ENSG00000184254', 'ENSG00000196498', 'ENSG00000167580', 'ENSG00000100393', 'ENSG00000178538', 'ENSG00000163513', 'ENSG00000117308', 'ENSG00000177666', 'ENSG00000197579', 'ENSG00000149269', 'ENSG00000178537', 'ENSG00000122194', 'ENSG00000126749', 'ENSG00000198814', 'ENSG00000131069', 'ENSG00000112473', 'ENSG00000166349', 'ENSG00000086848', 'ENSG00000173599', 'ENSG00000130175', 'ENSG00000111012', 'ENSG00000139318', 'ENSG00000184432', 'ENSG00000188641', 'ENSG00000085998', 'ENSG00000175283', 'ENSG00000140650', 'ENSG00000265203', 'ENSG00000076201', 'ENSG00000153936', 'ENSG00000005381', 'ENSG00000157764', 'ENSG00000174672', 'ENSG00000139531', 'ENSG00000114491', 'ENSG00000038382', 'ENSG00000095139', 'ENSG00000124486', 'ENSG00000169919', 'ENSG00000135409', 'ENSG00000100288', 'ENSG00000106080', 'ENSG00000116133', 'ENSG00000147804', 'ENSG00000106605', 'ENSG00000124491', 'ENSG00000176715', 'ENSG00000204385', 'ENSG00000196411', 'ENSG00000152332', 'ENSG00000079335', 'ENSG00000147044', 'ENSG00000198763', 'ENSG00000114200', 'ENSG00000169692', 'ENSG00000030304', 'ENSG00000166311', 'ENSG00000172893', 'ENSG00000140459', 'ENSG00000047457', 'ENSG00000117479', 'ENSG00000167371', 'ENSG00000032444', 'ENSG00000112053', 'ENSG00000077498', 'ENSG00000142627', 'ENSG00000178802', 'ENSG00000157399', 'ENSG00000120942', 'ENSG00000156650', 'ENSG00000100354', 'ENSG00000177542', 'ENSG00000156467', 'ENSG00000091436', 'ENSG00000184304', 'ENSG00000185973', 'ENSG00000153933', 'ENSG00000065883', 'ENSG00000014641', 'ENSG00000168827', 'ENSG00000166123', 'ENSG00000165029', 'ENSG00000198951', 'ENSG00000178127', 'ENSG00000004455', 'ENSG00000005471', 'ENSG00000099377', 'ENSG00000100030', 'ENSG00000126091', 'ENSG00000164023', 'ENSG00000012232', 'ENSG00000185532', 'ENSG00000165731', 'ENSG00000157103', 'ENSG00000170734', 'ENSG00000101986', 'ENSG00000109685', 'ENSG00000239900', 'ENSG00000176022', 'ENSG00000141756', 'ENSG00000102575', 'ENSG00000102383', 'ENSG00000197891', 'ENSG00000113790', 'ENSG00000073060', 'ENSG00000144741', 'ENSG00000159640', 'ENSG00000131174', 'ENSG00000242366', 'ENSG00000142208', 'ENSG00000110887', 'ENSG00000087299', 'ENSG00000171560', 'ENSG00000187486', 'ENSG00000135218', 'ENSG00000186111', 'ENSG00000100865', 'ENSG00000105607', 'ENSG00000125505', 'ENSG00000189221', 'ENSG00000116539', 'ENSG00000166794', 'ENSG00000147162', 'ENSG00000101247', 'ENSG00000070614', 'ENSG00000188467', 'ENSG00000077463', 'ENSG00000111670', 'ENSG00000135318', 'ENSG00000142731', 'ENSG00000076685', 'ENSG00000111732', 'ENSG00000072682', 'ENSG00000174640', 'ENSG00000011198', 'ENSG00000149541', 'ENSG00000102226', 'ENSG00000110719', 'ENSG00000154227', 'ENSG00000107537', 'ENSG00000182197', 'ENSG00000110066', 'ENSG00000137168', 'ENSG00000185883', 'ENSG00000151729', 'ENSG00000133742', 'ENSG00000122218', 'ENSG00000124212', 'ENSG00000131183', 'ENSG00000112992', 'ENSG00000167114', 'ENSG00000100564', 'ENSG00000122025', 'ENSG00000116748', 'ENSG00000102312', 'ENSG00000065154', 'ENSG00000111713', 'ENSG00000122643', 'ENSG00000121851', 'ENSG00000151632', 'ENSG00000144591', 'ENSG00000136872', 'ENSG00000119523', 'ENSG00000132837', 'ENSG00000164494', 'ENSG00000273820', 'ENSG00000135454', 'ENSG00000167258', 'ENSG00000163541', 'ENSG00000171862', 'ENSG00000105220', 'ENSG00000075413', 'ENSG00000138814', 'ENSG00000181019', 'ENSG00000146701', 'ENSG00000140374', 'ENSG00000148053', 'ENSG00000165025', 'ENSG00000203859', 'ENSG00000105552', 'ENSG00000143921', 'ENSG00000164904', 'ENSG00000186010', 'ENSG00000170266', 'ENSG00000132915', 'ENSG00000060762', 'ENSG00000112294', 'ENSG00000067842', 'ENSG00000136371', 'ENSG00000161513', 'ENSG00000139540', 'ENSG00000006071', 'ENSG00000122126', 'ENSG00000091137', 'ENSG00000039650', 'ENSG00000116106', 'ENSG00000140090', 'ENSG00000197943', 'ENSG00000070019', 'ENSG00000158125', 'ENSG00000147647', 'ENSG00000126583', 'ENSG00000064651', 'ENSG00000121879', 'ENSG00000110435', 'ENSG00000105204', 'ENSG00000149476', 'ENSG00000054392', 'ENSG00000158864', 'ENSG00000198668', 'ENSG00000069943', 'ENSG00000160211', 'ENSG00000115170', 'ENSG00000134853', 'ENSG00000164414', 'ENSG00000136143', 'ENSG00000112742', 'ENSG00000058404', 'ENSG00000102144', 'ENSG00000101849', 'ENSG00000127415', 'ENSG00000095059', 'ENSG00000240303', 'ENSG00000177000', 'ENSG00000115840', 'ENSG00000110717', 'ENSG00000165458', 'ENSG00000173614', 'ENSG00000173327', 'ENSG00000159459', 'ENSG00000101752', 'ENSG00000132964', 'ENSG00000198848', 'ENSG00000136908', 'ENSG00000135929', 'ENSG00000128052', 'ENSG00000185100', 'ENSG00000115850', 'ENSG00000105647', 'ENSG00000070610', 'ENSG00000171004', 'ENSG00000177156', 'ENSG00000081479', 'ENSG00000198400', 'ENSG00000174173', 'ENSG00000164708', 'ENSG00000130816', 'ENSG00000143811', 'ENSG00000142892', 'ENSG00000204217', 'ENSG00000137731', 'ENSG00000122008', 'ENSG00000170485', 'ENSG00000115525', 'ENSG00000104635', 'ENSG00000118515', 'ENSG00000054983', 'ENSG00000027847', 'ENSG00000146085', 'ENSG00000101438', 'ENSG00000259030', 'ENSG00000092295', 'ENSG00000085563', 'ENSG00000108439', 'ENSG00000103489', 'ENSG00000163931', 'ENSG00000135917', 'ENSG00000135845', 'ENSG00000130821', 'ENSG00000070669', 'ENSG00000164405', 'ENSG00000104907', 'ENSG00000135437', 'ENSG00000180879', 'ENSG00000178694', 'ENSG00000177628', 'ENSG00000166224', 'ENSG00000147123', 'ENSG00000105397', 'ENSG00000106397', 'ENSG00000175445', 'ENSG00000152234', 'ENSG00000136715', 'ENSG00000138079', 'ENSG00000074803', 'ENSG00000101846', 'ENSG00000145331', 'ENSG00000092439', 'ENSG00000169032', 'ENSG00000161217', 'ENSG00000122687', 'ENSG00000184979', 'ENSG00000100299', 'ENSG00000234906', 'ENSG00000119711', 'ENSG00000108784', 'ENSG00000146872', 'ENSG00000138777', 'ENSG00000073578', 'ENSG00000071553', 'ENSG00000172482', 'ENSG00000115919', 'ENSG00000185344', 'ENSG00000168237', 'ENSG00000135069', 'ENSG00000111837', 'ENSG00000008086', 'ENSG00000228716', 'ENSG00000197375', 'ENSG00000115085', 'ENSG00000067900', 'ENSG00000166136', 'ENSG00000097007', 'ENSG00000116745', 'ENSG00000068366', 'ENSG00000131389', 'ENSG00000171954', 'ENSG00000133256', 'ENSG00000198130', 'ENSG00000140675', 'ENSG00000214102', 'ENSG00000073734', 'ENSG00000159921', 'ENSG00000141551', 'ENSG00000157353', 'ENSG00000162434', 'ENSG00000151366', 'ENSG00000105409', 'ENSG00000013375', 'ENSG00000167601', 'ENSG00000110921', 'ENSG00000141349', 'ENSG00000083720', 'ENSG00000120156', 'ENSG00000133835', 'ENSG00000044446', 'ENSG00000143363', 'ENSG00000131653', 'ENSG00000124370', 'ENSG00000100243', 'ENSG00000106617', 'ENSG00000248098', 'ENSG00000099797', 'ENSG00000159692', 'ENSG00000102743', 'ENSG00000177646', 'ENSG00000079805', 'ENSG00000083123', 'ENSG00000109323', 'ENSG00000126261', 'ENSG00000113263', 'ENSG00000179520', 'ENSG00000151552', 'ENSG00000185527', 'ENSG00000130413', 'ENSG00000138823', 'ENSG00000107789', 'ENSG00000071054', 'ENSG00000072195', 'ENSG00000152779', 'ENSG00000276747', 'ENSG00000197121', 'ENSG00000198805', 'ENSG00000122966', 'ENSG00000101336', 'ENSG00000123454', 'ENSG00000152104', 'ENSG00000124155', 'ENSG00000142513', 'ENSG00000179148', 'ENSG00000164951', 'ENSG00000148090', 'ENSG00000169071', 'ENSG00000101901', 'ENSG00000231852', 'ENSG00000147224', 'ENSG00000171759', 'ENSG00000167588', 'ENSG00000092964', 'ENSG00000187091', 'ENSG00000114480', 'ENSG00000122971', 'ENSG00000101695', 'ENSG00000212907', 'ENSG00000256269', 'ENSG00000141458', 'ENSG00000138018', 'ENSG00000036473', 'ENSG00000122787', 'ENSG00000213316', 'ENSG00000130948', 'ENSG00000104055', 'ENSG00000181090', 'ENSG00000116171', 'ENSG00000106976', 'ENSG00000184983', 'ENSG00000010671', 'ENSG00000197296', 'ENSG00000171608', 'ENSG00000183048', 'ENSG00000100504', 'ENSG00000118094', 'ENSG00000140263', 'ENSG00000145725', 'ENSG00000172315', 'ENSG00000196839', 'ENSG00000130985', 'ENSG00000184752', 'ENSG00000104723', 'ENSG00000171320', 'ENSG00000135677', 'ENSG00000137869', 'ENSG00000134240', 'ENSG00000182866', 'ENSG00000163389', 'ENSG00000141485', 'ENSG00000213341', 'ENSG00000147606', 'ENSG00000171105', 'ENSG00000108946', 'ENSG00000102030', 'ENSG00000241973', 'ENSG00000147133', 'ENSG00000101306', 'ENSG00000088179', 'ENSG00000111846', 'ENSG00000156110', 'ENSG00000092621', 'ENSG00000139180', 'ENSG00000128655', 'ENSG00000025708', 'ENSG00000129083', 'ENSG00000109610', 'ENSG00000155111', 'ENSG00000163755', 'ENSG00000255730', 'ENSG00000103707', 'ENSG00000100033', 'ENSG00000141506', 'ENSG00000103507', 'ENSG00000125356', 'ENSG00000021488', 'ENSG00000204084', 'ENSG00000108528', 'ENSG00000087470', 'ENSG00000124713', 'ENSG00000272333', 'ENSG00000164867', 'ENSG00000167468', 'ENSG00000162688', 'ENSG00000198682', 'ENSG00000197894', 'ENSG00000157765', 'ENSG00000160867', 'ENSG00000182621', 'ENSG00000181038', 'ENSG00000131100', 'ENSG00000125166', 'ENSG00000181555', 'ENSG00000196136', 'ENSG00000174684', 'ENSG00000038002', 'ENSG00000033170', 'ENSG00000150540', 'ENSG00000163817', 'ENSG00000163754', 'ENSG00000138029', 'ENSG00000166548', 'ENSG00000068976', 'ENSG00000157540', 'ENSG00000174233', 'ENSG00000131844', 'ENSG00000167508', 'ENSG00000138363', 'ENSG00000184381', 'ENSG00000150768', 'ENSG00000107798', 'ENSG00000155850', 'ENSG00000141027', 'ENSG00000155657', 'ENSG00000018625', 'ENSG00000163631', 'ENSG00000139718', 'ENSG00000100348', 'ENSG00000119689', 'ENSG00000154252', 'ENSG00000110628', 'ENSG00000074621', 'ENSG00000117394', 'ENSG00000101444', 'ENSG00000198488', 'ENSG00000164742', 'ENSG00000126267', 'ENSG00000159650', 'ENSG00000012660', 'ENSG00000101577', 'ENSG00000131023', 'ENSG00000162551', 'ENSG00000068308', 'ENSG00000087586', 'ENSG00000187714', 'ENSG00000103876', 'ENSG00000178568', 'ENSG00000105641', 'ENSG00000164258', 'ENSG00000196296', 'ENSG00000185624', 'ENSG00000124615', 'ENSG00000167397', 'ENSG00000177189', 'ENSG00000009413', 'ENSG00000174951', 'ENSG00000066926', 'ENSG00000198931', 'ENSG00000130508', 'ENSG00000157184', 'ENSG00000090054', 'ENSG00000141736', 'ENSG00000064601', 'ENSG00000161653', 'ENSG00000101333', 'ENSG00000247746', 'ENSG00000049239', 'ENSG00000165841', 'ENSG00000083168', 'ENSG00000156983', 'ENSG00000147416', 'ENSG00000198888', 'ENSG00000198569', 'ENSG00000169169', 'ENSG00000113273', 'ENSG00000112367', 'ENSG00000091138', 'ENSG00000160200', 'ENSG00000070808', 'ENSG00000197594', 'ENSG00000113721', 'ENSG00000077782', 'ENSG00000147383', 'ENSG00000087111', 'ENSG00000131482', 'ENSG00000015532', 'ENSG00000167658', 'ENSG00000140443', 'ENSG00000198363', 'ENSG00000183765', 'ENSG00000117984', 'ENSG00000145675', 'ENSG00000173175', 'ENSG00000070214', 'ENSG00000165060', 'ENSG00000178741', 'ENSG00000164120', 'ENSG00000160282', 'ENSG00000178952', 'ENSG00000118520', 'ENSG00000072062', 'ENSG00000165688', 'ENSG00000110243', 'ENSG00000137275', 'ENSG00000068078', 'ENSG00000136881', 'ENSG00000140598', 'ENSG00000167792', 'ENSG00000114054', 'ENSG00000076351', 'ENSG00000171155', 'ENSG00000255072', 'ENSG00000100170', 'ENSG00000115339', 'ENSG00000168575', 'ENSG00000140905', 'ENSG00000084774', 'ENSG00000126934', 'ENSG00000119638', 'ENSG00000196517', 'ENSG00000119121', 'ENSG00000112077', 'ENSG00000109814', 'ENSG00000095380', 'ENSG00000175054', 'ENSG00000171302', 'ENSG00000108479', 'ENSG00000136643', 'ENSG00000140990', 'ENSG00000061938', 'ENSG00000181192', 'ENSG00000162733', 'ENSG00000153208', 'ENSG00000080819', 'ENSG00000124172', 'ENSG00000159131', 'ENSG00000171766', 'ENSG00000138075', 'ENSG00000092529', 'ENSG00000101464', 'ENSG00000132517', 'ENSG00000125779', 'ENSG00000151790', 'ENSG00000165671', 'ENSG00000147408', 'ENSG00000116337', 'ENSG00000102100', 'ENSG00000181830', 'ENSG00000096968', 'ENSG00000143627', 'ENSG00000145494', 'ENSG00000055332', 'ENSG00000164347', 'ENSG00000122863', 'ENSG00000140740', 'ENSG00000196743', 'ENSG00000112144', 'ENSG00000159899', 'ENSG00000169105', 'ENSG00000172817', 'ENSG00000115020', 'ENSG00000088305', 'ENSG00000128683', 'ENSG00000126562', 'ENSG00000160882', 'ENSG00000177565', 'ENSG00000100075', 'ENSG00000178814', 'ENSG00000103222', 'ENSG00000083799', 'ENSG00000116906', 'ENSG00000100714', 'ENSG00000172071', 'ENSG00000183032', 'ENSG00000186642', 'ENSG00000198712', 'ENSG00000105976', 'ENSG00000167996', 'ENSG00000183421', 'ENSG00000148660', 'ENSG00000104365', 'ENSG00000143753', 'ENSG00000012963', 'ENSG00000156471', 'ENSG00000110436', 'ENSG00000116984', 'ENSG00000198380', 'ENSG00000157087', 'ENSG00000147465', 'ENSG00000008311', 'ENSG00000105568', 'ENSG00000160226', 'ENSG00000158296', 'ENSG00000135821', 'ENSG00000198804', 'ENSG00000048392', 'ENSG00000084073', 'ENSG00000134812', 'ENSG00000113575', 'ENSG00000176920', 'ENSG00000169679', 'ENSG00000168000', 'ENSG00000204386', 'ENSG00000128928', 'ENSG00000142798', 'ENSG00000131495', 'ENSG00000165970', 'ENSG00000089597', 'ENSG00000115705', 'ENSG00000127947', 'ENSG00000160602', 'ENSG00000116771', 'ENSG00000119772', 'ENSG00000148384', 'ENSG00000172339', 'ENSG00000143933', 'ENSG00000121897', 'ENSG00000070915', 'ENSG00000147471', 'ENSG00000166035', 'ENSG00000135679', 'ENSG00000117620', 'ENSG00000172987', 'ENSG00000103546', 'ENSG00000122912', 'ENSG00000172977', 'ENSG00000160551', 'ENSG00000160285', 'ENSG00000112319', 'ENSG00000127481', 'ENSG00000175505', 'ENSG00000182578', 'ENSG00000119401', 'ENSG00000166340', 'ENSG00000060656', 'ENSG00000198899', 'ENSG00000151092', 'ENSG00000080493', 'ENSG00000001084', 'ENSG00000168137', 'ENSG00000115419', 'ENSG00000116675', 'ENSG00000253710', 'ENSG00000026103', 'ENSG00000136381', 'ENSG00000172269', 'ENSG00000138193', 'ENSG00000051382', 'ENSG00000137992', 'ENSG00000114786', 'ENSG00000107779', 'ENSG00000107165', 'ENSG00000156873', 'ENSG00000127125', 'ENSG00000142619', 'ENSG00000137713', 'ENSG00000004939', 'ENSG00000090402', 'ENSG00000115392', 'ENSG00000114062', 'ENSG00000180210', 'ENSG00000197496', 'ENSG00000182858', 'ENSG00000163932', 'ENSG00000100644', 'ENSG00000113231', 'ENSG00000117020', 'ENSG00000197563', 'ENSG00000183735', 'ENSG00000005339', 'ENSG00000095321', 'ENSG00000146733', 'ENSG00000018510', 'ENSG00000163719', 'ENSG00000132600', 'ENSG00000185324', 'ENSG00000130203', 'ENSG00000101365', 'ENSG00000136573', 'ENSG00000007933', 'ENSG00000078124', 'ENSG00000171885', 'ENSG00000009830', 'ENSG00000155380', 'ENSG00000095015', 'ENSG00000135697', 'ENSG00000117054', 'ENSG00000143252', 'ENSG00000173786', 'ENSG00000128039', 'ENSG00000188906', 'ENSG00000181523', 'ENSG00000102967', 'ENSG00000104331', 'ENSG00000106348', 'ENSG00000139304', 'ENSG00000241878', 'ENSG00000157064', 'ENSG00000204370', 'ENSG00000175564', 'ENSG00000010256', 'ENSG00000277161', 'ENSG00000101871', 'ENSG00000181035', 'ENSG00000143815', 'ENSG00000021826', 'ENSG00000037757', 'ENSG00000007541', 'ENSG00000084754', 'ENSG00000213930', 'ENSG00000078070', 'ENSG00000179091', 'ENSG00000170836', 'ENSG00000114739', 'ENSG00000153827', 'ENSG00000059377', 'ENSG00000106992', 'ENSG00000105146', 'ENSG00000023839', 'ENSG00000109861', 'ENSG00000040933', 'ENSG00000069020', 'ENSG00000140199', 'ENSG00000106799', 'ENSG00000149016', 'ENSG00000138449', 'ENSG00000188706', 'ENSG00000164134', 'ENSG00000128829', 'ENSG00000104313', 'ENSG00000115758', 'ENSG00000179163', 'ENSG00000115902', 'ENSG00000102125', 'ENSG00000075415', 'ENSG00000130414', 'ENSG00000060642', 'ENSG00000101974', 'ENSG00000111700', 'ENSG00000055609', 'ENSG00000248099', 'ENSG00000105810', 'ENSG00000174990', 'ENSG00000124164', 'ENSG00000138592', 'ENSG00000162882', 'ENSG00000198938', 'ENSG00000117305', 'ENSG00000106462', 'ENSG00000139151', 'ENSG00000185808', 'ENSG00000083290', 'ENSG00000091140', 'ENSG00000164172', 'ENSG00000188690', 'ENSG00000065534', 'ENSG00000106688', 'ENSG00000148677', 'ENSG00000197601', 'ENSG00000138413', 'ENSG00000137601', 'ENSG00000115275', 'ENSG00000170426', 'ENSG00000157404', 'ENSG00000145242', 'ENSG00000177192', 'ENSG00000156345', 'ENSG00000164933', 'ENSG00000137106', 'ENSG00000213614', 'ENSG00000142168', 'ENSG00000155016', 'ENSG00000140279', 'ENSG00000065613', 'ENSG00000068120', 'ENSG00000166819', 'ENSG00000124299', 'ENSG00000140521', 'ENSG00000154237', 'ENSG00000133059', 'ENSG00000158828', 'ENSG00000163344', 'ENSG00000139567', 'ENSG00000104774', 'ENSG00000118402', 'ENSG00000077264', 'ENSG00000136699', 'ENSG00000162836', 'ENSG00000164078', 'ENSG00000084674', 'ENSG00000167186', 'ENSG00000158104', 'ENSG00000171723', 'ENSG00000182054', 'ENSG00000102893', 'ENSG00000108381', 'ENSG00000100994', 'ENSG00000072506', 'ENSG00000101266', 'ENSG00000107611', 'ENSG00000085382', 'ENSG00000100412', 'ENSG00000090376', 'ENSG00000065361', 'ENSG00000105929', 'ENSG00000033011', 'ENSG00000148356', 'ENSG00000183010', 'ENSG00000141378', 'ENSG00000158578', 'ENSG00000091704', 'ENSG00000152556', 'ENSG00000242110', 'ENSG00000145217', 'ENSG00000198910', 'ENSG00000138411', 'ENSG00000113448', 'ENSG00000213689', 'ENSG00000165195', 'ENSG00000161798', 'ENSG00000171720', 'ENSG00000185483', 'ENSG00000125454', 'ENSG00000140057', 'ENSG00000142319', 'ENSG00000156885', 'ENSG00000170835', 'ENSG00000138207', 'ENSG00000138821', 'ENSG00000049759', 'ENSG00000123552', 'ENSG00000156510', 'ENSG00000213619', 'ENSG00000143315', 'ENSG00000115159', 'ENSG00000158089', 'ENSG00000214160', 'ENSG00000072778', 'ENSG00000174437', 'ENSG00000066230', 'ENSG00000078747', 'ENSG00000131979', 'ENSG00000166948', 'ENSG00000093072', 'ENSG00000092098', 'ENSG00000118058', 'ENSG00000198001', 'ENSG00000205678', 'ENSG00000103266', 'ENSG00000165102', 'ENSG00000130714', 'ENSG00000185825', 'ENSG00000143224', 'ENSG00000114378', 'ENSG00000082996', 'ENSG00000080166', 'ENSG00000166228', 'ENSG00000072310', 'ENSG00000174080', 'ENSG00000011405', 'ENSG00000213639', 'ENSG00000141012', 'ENSG00000110911', 'ENSG00000075239', 'ENSG00000145020', 'ENSG00000228253', 'ENSG00000118137', 'ENSG00000114573', 'ENSG00000079459', 'ENSG00000167972', 'ENSG00000116761', 'ENSG00000066322', 'ENSG00000155465', 'ENSG00000171094', 'ENSG00000197746', 'ENSG00000179295', 'ENSG00000111669', 'ENSG00000004961', 'ENSG00000174227', 'ENSG00000187555', 'ENSG00000161533', 'ENSG00000132518', 'ENSG00000119537', 'ENSG00000081923', 'ENSG00000163581', 'ENSG00000103657', 'ENSG00000079739', 'ENSG00000159063', 'ENSG00000156970', 'ENSG00000187566', 'ENSG00000074410', 'ENSG00000183044', 'ENSG00000168291', 'ENSG00000110090', 'ENSG00000110195', 'ENSG00000173085', 'ENSG00000108515', 'ENSG00000095777', 'ENSG00000167004', 'ENSG00000153015', 'ENSG00000244486', 'ENSG00000088002', 'ENSG00000132437', 'ENSG00000179085', 'ENSG00000154518', 'ENSG00000005483', 'ENSG00000113083', 'ENSG00000033627', 'ENSG00000186350', 'ENSG00000277893', 'ENSG00000100997', 'ENSG00000256525', 'ENSG00000146070', 'ENSG00000135341', 'ENSG00000169359', 'ENSG00000121207', 'ENSG00000198752', 'ENSG00000167306', 'ENSG00000204435', 'ENSG00000078061', 'ENSG00000117594', 'ENSG00000198691', 'ENSG00000113924', 'ENSG00000182890', 'ENSG00000130005', 'ENSG00000137124', 'ENSG00000130707', 'ENSG00000105221', 'ENSG00000153574', 'ENSG00000198840', 'ENSG00000168282', 'ENSG00000067177', 'ENSG00000163399', 'ENSG00000160014', 'ENSG00000277494', 'ENSG00000177084', 'ENSG00000105426', 'ENSG00000059573', 'ENSG00000116353', 'ENSG00000185974', 'ENSG00000086062', 'ENSG00000169814', 'ENSG00000138109', 'ENSG00000148218', 'ENSG00000186335', 'ENSG00000175309', 'ENSG00000131055', 'ENSG00000072210', 'ENSG00000006530', 'ENSG00000119899', 'ENSG00000172296', 'ENSG00000145476', 'ENSG00000165646', 'ENSG00000159267', 'ENSG00000115665', 'ENSG00000160209', 'ENSG00000110395', 'ENSG00000127884', 'ENSG00000100416', 'ENSG00000151348', 'ENSG00000114956', 'ENSG00000119013', 'ENSG00000060237', 'ENSG00000151148', 'ENSG00000187676', 'ENSG00000149311', 'ENSG00000143891', 'ENSG00000223802', 'ENSG00000197122', 'ENSG00000126088', 'ENSG00000168306', 'ENSG00000180176', 'ENSG00000095464', 'ENSG00000131873', 'ENSG00000006695', 'ENSG00000172572', 'ENSG00000179455', 'ENSG00000179142', 'ENSG00000169764', 'ENSG00000149177', 'ENSG00000181652', 'ENSG00000124253', 'ENSG00000133116', 'ENSG00000197444', 'ENSG00000176387', 'ENSG00000186153', 'ENSG00000102172', 'ENSG00000171298', 'ENSG00000159423', 'ENSG00000172331', 'ENSG00000182199', 'ENSG00000160688', 'ENSG00000101868', 'ENSG00000109929', 'ENSG00000165704', 'ENSG00000125255', 'ENSG00000115286', 'ENSG00000151224', 'ENSG00000130164', 'ENSG00000142875', 'ENSG00000101109', 'ENSG00000135744', 'ENSG00000167548', 'ENSG00000244038', 'ENSG00000111275', 'ENSG00000112759', 'ENSG00000117118', 'ENSG00000065675', 'ENSG00000178999', 'ENSG00000175535', 'ENSG00000104763', 'ENSG00000171132', 'ENSG00000183196', 'ENSG00000154310', 'ENSG00000104044', 'ENSG00000077721', 'ENSG00000138696', 'ENSG00000135446', 'ENSG00000077152', 'ENSG00000100749', 'ENSG00000138796', 'ENSG00000185803', 'ENSG00000138185', 'ENSG00000132155', 'ENSG00000186104', 'ENSG00000213398', 'ENSG00000124275', 'ENSG00000144659', 'ENSG00000134538', 'ENSG00000172890', 'ENSG00000150787', 'ENSG00000143387', 'ENSG00000247626', 'ENSG00000163114', 'ENSG00000144182', 'ENSG00000175198', 'ENSG00000070748', 'ENSG00000104687', 'ENSG00000079435', 'ENSG00000166411', 'ENSG00000154678', 'ENSG00000099381', 'ENSG00000165140', 'ENSG00000178445', 'ENSG00000143278', 'ENSG00000141469', 'ENSG00000197858', 'ENSG00000131828', 'ENSG00000185345', 'ENSG00000137760', 'ENSG00000100983', 'ENSG00000198786', 'ENSG00000198246', 'ENSG00000143641', 'ENSG00000138376', 'ENSG00000049860', 'ENSG00000253729', 'ENSG00000185000', 'ENSG00000140522', 'ENSG00000069667', 'ENSG00000100889', 'ENSG00000072756', 'ENSG00000159082', 'ENSG00000133805', 'ENSG00000102393', 'ENSG00000116704', 'ENSG00000158022', 'ENSG00000104267', 'ENSG00000125780', 'ENSG00000109667', 'ENSG00000088035', 'ENSG00000007168', 'ENSG00000162885', 'ENSG00000011275', 'ENSG00000113163', 'ENSG00000110245', 'ENSG00000125877', 'ENSG00000124140', 'ENSG00000241635', 'ENSG00000088451', 'ENSG00000127948', 'ENSG00000086758', 'ENSG00000166501', 'ENSG00000037280', 'ENSG00000130309', 'ENSG00000148672', 'ENSG00000091483', 'ENSG00000139053', 'ENSG00000152620', 'ENSG00000134324', 'ENSG00000090020', 'ENSG00000047936', 'ENSG00000131143', 'ENSG00000284844', 'ENSG00000075651', 'ENSG00000083444', 'ENSG00000103510', 'ENSG00000103150', 'ENSG00000132376', 'ENSG00000105379', 'ENSG00000259075', 'ENSG00000062822', 'ENSG00000172046', 'ENSG00000196177', 'ENSG00000105613', 'ENSG00000119723', 'ENSG00000118046', 'ENSG00000198650', 'ENSG00000000419', 'ENSG00000169021', 'ENSG00000167434', 'ENSG00000066468', 'ENSG00000135241', 'ENSG00000166816', 'ENSG00000072042', 'ENSG00000116711', 'ENSG00000148459', 'ENSG00000165059', 'ENSG00000117682', 'ENSG00000023228', 'ENSG00000165078', 'ENSG00000104812', 'ENSG00000065923', 'ENSG00000116039', 'ENSG00000147100', 'ENSG00000140287', 'ENSG00000240583', 'ENSG00000128731', 'ENSG00000185813']\n"
     ]
    }
   ],
   "source": [
    "# Remove single genes deletions that break the model before doing double deletion.\n",
    "print(single_deletion_results.shape[0])\n",
    "single_deletion_results = single_deletion_results[single_deletion_results['growth'] != 0]\n",
    "genes = single_deletion_results['ids'].to_list()\n",
    "print(genes)\n",
    "genes2 = [item for sublist in genes for item in sublist]\n",
    "print(len(genes2))\n",
    "print(genes2)"
   ],
   "metadata": {
    "collapsed": false,
    "pycharm": {
     "name": "#%%\n"
    }
   }
  },
  {
   "cell_type": "code",
   "execution_count": 11,
   "outputs": [
    {
     "name": "stdout",
     "output_type": "stream",
     "text": [
      "       snp_id  chr        pos  var\n",
      "0  rs10280711    7  157689088  G/A\n",
      "1  rs10280711    7  157689088  G/C\n",
      "2  rs10280711    7  157689088  G/T\n",
      "3  rs10463311    5  151031274  C/A\n",
      "4  rs10463311    5  151031274  C/G\n"
     ]
    }
   ],
   "source": [
    "SNPs = pd.read_table('C:/Users/Sigve/Genome_Data/SNP_data/ALS_variants/ALS_15_loci.tsv')\n",
    "SNPs.drop(columns='var_src', inplace=True)\n",
    "SNPs['ancestral'] = SNPs['var'].apply(lambda x: x[0])\n",
    "SNPs['var'] = SNPs['var'].apply(lambda x: x.split('/')[1:])\n",
    "SNPs = SNPs.explode('var', ignore_index=True)\n",
    "SNPs['var'] = SNPs['ancestral'] + '/' + SNPs['var']\n",
    "SNPs.drop(columns='ancestral', inplace=True)\n",
    "print(SNPs.head())\n",
    "\n",
    "SNPs.to_csv(path_or_buf='C:/Users/Sigve/Genome_Data/SNP_data/ALS_variants/ALS_15_loci_edit.tsv', sep='\\t')"
   ],
   "metadata": {
    "collapsed": false,
    "pycharm": {
     "name": "#%%\n"
    }
   }
  },
  {
   "cell_type": "code",
   "execution_count": 25,
   "outputs": [
    {
     "ename": "KeyError",
     "evalue": "'ENSG00000142168'",
     "output_type": "error",
     "traceback": [
      "\u001B[1;31m---------------------------------------------------------------------------\u001B[0m",
      "\u001B[1;31mKeyError\u001B[0m                                  Traceback (most recent call last)",
      "\u001B[1;32m~\\AppData\\Local\\Temp/ipykernel_12856/3787567700.py\u001B[0m in \u001B[0;36m<module>\u001B[1;34m\u001B[0m\n\u001B[0;32m      1\u001B[0m \u001B[1;32mwith\u001B[0m \u001B[0mmodel\u001B[0m\u001B[1;33m:\u001B[0m\u001B[1;33m\u001B[0m\u001B[1;33m\u001B[0m\u001B[0m\n\u001B[0;32m      2\u001B[0m     \u001B[1;31m#model.genes.get_by_id('ENSG00000160226').knock_out()\u001B[0m\u001B[1;33m\u001B[0m\u001B[1;33m\u001B[0m\u001B[1;33m\u001B[0m\u001B[0m\n\u001B[1;32m----> 3\u001B[1;33m     \u001B[0mmodel\u001B[0m\u001B[1;33m.\u001B[0m\u001B[0mgenes\u001B[0m\u001B[1;33m.\u001B[0m\u001B[0mget_by_id\u001B[0m\u001B[1;33m(\u001B[0m\u001B[1;34m'ENSG00000142168'\u001B[0m\u001B[1;33m)\u001B[0m\u001B[1;33m.\u001B[0m\u001B[0mknock_out\u001B[0m\u001B[1;33m(\u001B[0m\u001B[1;33m)\u001B[0m\u001B[1;33m\u001B[0m\u001B[1;33m\u001B[0m\u001B[0m\n\u001B[0m\u001B[0;32m      4\u001B[0m     \u001B[0mprint\u001B[0m\u001B[1;33m(\u001B[0m\u001B[0mmodel\u001B[0m\u001B[1;33m.\u001B[0m\u001B[0moptimize\u001B[0m\u001B[1;33m(\u001B[0m\u001B[0mobjective_sense\u001B[0m\u001B[1;33m=\u001B[0m\u001B[1;34m'maximize'\u001B[0m\u001B[1;33m)\u001B[0m\u001B[1;33m)\u001B[0m\u001B[1;33m\u001B[0m\u001B[1;33m\u001B[0m\u001B[0m\n\u001B[0;32m      5\u001B[0m \u001B[1;33m\u001B[0m\u001B[0m\n",
      "\u001B[1;32m~\\miniconda3\\envs\\Master\\lib\\site-packages\\cobra\\core\\dictlist.py\u001B[0m in \u001B[0;36mget_by_id\u001B[1;34m(self, id)\u001B[0m\n\u001B[0;32m     55\u001B[0m     \u001B[1;32mdef\u001B[0m \u001B[0mget_by_id\u001B[0m\u001B[1;33m(\u001B[0m\u001B[0mself\u001B[0m\u001B[1;33m,\u001B[0m \u001B[0mid\u001B[0m\u001B[1;33m)\u001B[0m\u001B[1;33m:\u001B[0m\u001B[1;33m\u001B[0m\u001B[1;33m\u001B[0m\u001B[0m\n\u001B[0;32m     56\u001B[0m         \u001B[1;34m\"\"\"return the element with a matching id\"\"\"\u001B[0m\u001B[1;33m\u001B[0m\u001B[1;33m\u001B[0m\u001B[0m\n\u001B[1;32m---> 57\u001B[1;33m         \u001B[1;32mreturn\u001B[0m \u001B[0mlist\u001B[0m\u001B[1;33m.\u001B[0m\u001B[0m__getitem__\u001B[0m\u001B[1;33m(\u001B[0m\u001B[0mself\u001B[0m\u001B[1;33m,\u001B[0m \u001B[0mself\u001B[0m\u001B[1;33m.\u001B[0m\u001B[0m_dict\u001B[0m\u001B[1;33m[\u001B[0m\u001B[0mid\u001B[0m\u001B[1;33m]\u001B[0m\u001B[1;33m)\u001B[0m\u001B[1;33m\u001B[0m\u001B[1;33m\u001B[0m\u001B[0m\n\u001B[0m\u001B[0;32m     58\u001B[0m \u001B[1;33m\u001B[0m\u001B[0m\n\u001B[0;32m     59\u001B[0m     \u001B[1;32mdef\u001B[0m \u001B[0mlist_attr\u001B[0m\u001B[1;33m(\u001B[0m\u001B[0mself\u001B[0m\u001B[1;33m,\u001B[0m \u001B[0mattribute\u001B[0m\u001B[1;33m)\u001B[0m\u001B[1;33m:\u001B[0m\u001B[1;33m\u001B[0m\u001B[1;33m\u001B[0m\u001B[0m\n",
      "\u001B[1;31mKeyError\u001B[0m: 'ENSG00000142168'"
     ]
    }
   ],
   "source": [
    "with model:\n",
    "    #model.genes.get_by_id('ENSG00000160226').knock_out()\n",
    "    #model.genes.get_by_id('ENSG00000142168').knock_out()\n",
    "    print(model.optimize(objective_sense='maximize'))"
   ],
   "metadata": {
    "collapsed": false,
    "pycharm": {
     "name": "#%%\n"
    }
   }
  },
  {
   "cell_type": "code",
   "execution_count": 21,
   "outputs": [
    {
     "name": "stdout",
     "output_type": "stream",
     "text": [
      "    chromosome         snp                          phewas phenotype  cases  \\\n",
      "0  19 45395619   rs2075650                       Alzheimer's disease    737   \n",
      "1  19 45395619   rs2075650                                 Dementias   1170   \n",
      "2     6 396321  rs12203592                         Actinic keratosis   2505   \n",
      "3   6 26093141   rs1800562                  Iron metabolism disorder     40   \n",
      "4  19 45395619   rs2075650  Delirium dementia and amnestic disorders   1566   \n",
      "\n",
      "        p-value  odds-ratio gene_name  phewas code  \\\n",
      "0  5.237000e-28       2.410    TOMM40       290.11   \n",
      "1  2.409000e-26       2.114    TOMM40       290.10   \n",
      "2  4.141000e-26       1.691      IRF4       702.10   \n",
      "3  3.409000e-25      12.270       HFE       275.10   \n",
      "4  8.027000e-24       1.841    TOMM40       290.00   \n",
      "\n",
      "                                   gwas-associations  \n",
      "0  Alzheimer's disease, Alzheimer's disease bioma...  \n",
      "1  Alzheimer's disease, Alzheimer's disease bioma...  \n",
      "2  Eye color, Hair color, Freckling, Progressive ...  \n",
      "3  Mean corpuscular hemoglobin, Glycated hemoglob...  \n",
      "4  Alzheimer's disease, Alzheimer's disease bioma...  \n",
      "<class 'pandas.core.series.Series'>\n",
      "0     rs2075650\n",
      "1    rs12203592\n",
      "2     rs1800562\n",
      "3     rs1329428\n",
      "4    rs17342717\n",
      "5     rs6742078\n",
      "6     rs4148325\n",
      "7      rs887829\n",
      "8    rs13194491\n",
      "9     rs2361502\n",
      "dtype: object\n",
      "3144\n"
     ]
    }
   ],
   "source": [
    "phewas = pd.read_csv('C:/Users/Sigve/Genome_Data/SNP_data/phewas/phewas-catalog.csv')\n",
    "\n",
    "print(phewas.head())\n",
    "\n",
    "phewas_ids = phewas['snp']\n",
    "phewas_ids = phewas_ids.unique()\n",
    "phewas_ids = pd.Series(phewas_ids)\n",
    "\n",
    "print(type(phewas_ids))\n",
    "print(phewas_ids[0:10])\n",
    "print(len(phewas_ids))\n",
    "phewas_ids.to_csv(path_or_buf='C:/Users/Sigve/Genome_Data/SNP_data/phewas/phewas_ids.tsv', sep='\\t', index=False)"
   ],
   "metadata": {
    "collapsed": false,
    "pycharm": {
     "name": "#%%\n"
    }
   }
  },
  {
   "cell_type": "code",
   "execution_count": 5,
   "outputs": [
    {
     "name": "stdout",
     "output_type": "stream",
     "text": [
      "5002\n",
      "      snp_id chr      pos  var\n",
      "1  rs3753242   1  2138242  C/T\n",
      "4  rs3748816   1  2595307  A/G\n",
      "5  rs3748816   1  2595307  A/T\n",
      "7  rs2651899   1  3167148  T/A\n",
      "8  rs2651899   1  3167148  T/C\n"
     ]
    }
   ],
   "source": [
    "phewas = pd.read_csv('C:/Users/Sigve/Genome_Data/SNP_data/phewas/phewas-catalog.csv')\n",
    "phewas_var = pd.read_table('C:/Users/Sigve/Genome_Data/SNP_data/phewas/phewas_variants.tsv')\n",
    "\n",
    "phewas = phewas.merge(phewas_var, left_on='snp', right_on='Variant name')\n",
    "#phewas = phewas[['snp', 'Chromosome/scaffold name','Chromosome/scaffold position start (bp)', 'Variant alleles', 'phewas code']]\n",
    "phewas.rename(columns={'snp': 'snp_id','Chromosome/scaffold name': 'chr', 'Variant alleles': 'var', 'Chromosome/scaffold position start (bp)': 'pos', 'phewas code': 'phewas_code'}, inplace=True)\n",
    "\n",
    "phewas['phewas_code'] = phewas['phewas_code'].apply(lambda x: str(x))\n",
    "#phewas = phewas.groupby(['snp', 'chr', 'pos', 'var'])['phewas_code'].apply(', '.join).reset_index()\n",
    "\n",
    "reference_phewas = phewas.drop(columns=['Variant name', 'chromosome', 'cases', 'gwas-associations'])\n",
    "phewas = reference_phewas[['snp_id', 'chr', 'pos', 'var']].drop_duplicates(subset=['snp_id']).sort_values(by=['chr', 'pos'])\n",
    "\n",
    "phewas['ancestral'] = phewas['var'].apply(lambda x: x[0])\n",
    "phewas['var'] = phewas['var'].apply(lambda x: x.split('/')[1:])\n",
    "phewas = phewas.explode('var', ignore_index=True)\n",
    "phewas['var'] = phewas['ancestral'] + '/' + phewas['var']\n",
    "phewas.drop(columns='ancestral', inplace=True)\n",
    "\n",
    "phewas.reset_index(inplace=True, drop=True)\n",
    "\n",
    "print(phewas.shape[0])\n",
    "\n",
    "#reference_phewas.to_csv(path_or_buf='C:/Users/Sigve/Genome_Data/SNP_data/phewas/phewas_ref.tsv', sep='\\t', index=False)\n",
    "#phewas.to_csv(path_or_buf='C:/Users/Sigve/Genome_Data/SNP_data/phewas/phewas_extracted_all.tsv', sep='\\t', index=False)\n",
    "#temp = reference_phewas[reference_phewas['phewas_code']==290.11]\n",
    "#temp.sort_values(by=['chr', 'pos'], inplace=True)\n",
    "#temp.to_csv(path_or_buf='C:/Users/Sigve/Genome_Data/SNP_data/phewas/test.tsv', sep='\\t', index=False)\n",
    "\n",
    "res = phewas[phewas['snp_id'].isin(reference_phewas[reference_phewas['phewas_code'].str.contains('250.\\d*')]['snp_id'])]\n",
    "\n",
    "res.to_csv(path_or_buf='C:/Users/Sigve/Genome_Data/SNP_data/phewas/phewas_extracted_250.tsv', sep='\\t', index=False)\n",
    "print(res.head())"
   ],
   "metadata": {
    "collapsed": false,
    "pycharm": {
     "name": "#%%\n"
    }
   }
  },
  {
   "cell_type": "code",
   "execution_count": 5,
   "outputs": [
    {
     "name": "stdout",
     "output_type": "stream",
     "text": [
      "['ENSG00000000419', 'ENSG00000000938', 'ENSG00000001036', 'ENSG00000001084', 'ENSG00000001630', 'ENSG00000002549', 'ENSG00000002587', 'ENSG00000003137', 'ENSG00000003987', 'ENSG00000003989', 'ENSG00000004455', 'ENSG00000004660', 'ENSG00000004779', 'ENSG00000004799', 'ENSG00000004864', 'ENSG00000005022', 'ENSG00000005075', 'ENSG00000005187', 'ENSG00000005249', 'ENSG00000005469', 'ENSG00000005483', 'ENSG00000005882', 'ENSG00000006062', 'ENSG00000006432', 'ENSG00000006530', 'ENSG00000006534', 'ENSG00000006625', 'ENSG00000006756', 'ENSG00000006757', 'ENSG00000006837', 'ENSG00000007047', 'ENSG00000007168', 'ENSG00000007216', 'ENSG00000007541', 'ENSG00000008086', 'ENSG00000008128', 'ENSG00000008130', 'ENSG00000008300', 'ENSG00000008311', 'ENSG00000008394', 'ENSG00000008513', 'ENSG00000009413', 'ENSG00000010219', 'ENSG00000010256', 'ENSG00000010404', 'ENSG00000010671', 'ENSG00000010810', 'ENSG00000010932', 'ENSG00000011009', 'ENSG00000011052', 'ENSG00000011198', 'ENSG00000011405', 'ENSG00000011485', 'ENSG00000011566', 'ENSG00000012232', 'ENSG00000012660', 'ENSG00000012779', 'ENSG00000012983', 'ENSG00000013288', 'ENSG00000013375', 'ENSG00000013392', 'ENSG00000013441', 'ENSG00000013503', 'ENSG00000014138', 'ENSG00000014257', 'ENSG00000014641', 'ENSG00000015520', 'ENSG00000015532', 'ENSG00000016391', 'ENSG00000016864', 'ENSG00000017260', 'ENSG00000017483', 'ENSG00000017797', 'ENSG00000018280', 'ENSG00000018510', 'ENSG00000019186', 'ENSG00000021826', 'ENSG00000023041', 'ENSG00000023228', 'ENSG00000023330', 'ENSG00000023572', 'ENSG00000023697', 'ENSG00000023839', 'ENSG00000023909', 'ENSG00000025708', 'ENSG00000025800', 'ENSG00000026103', 'ENSG00000026652', 'ENSG00000027075', 'ENSG00000027847', 'ENSG00000028116', 'ENSG00000030066', 'ENSG00000031698', 'ENSG00000032444', 'ENSG00000033011', 'ENSG00000033100', 'ENSG00000033170', 'ENSG00000033627', 'ENSG00000033867', 'ENSG00000034152', 'ENSG00000035664', 'ENSG00000035687', 'ENSG00000036530', 'ENSG00000037280', 'ENSG00000037757', 'ENSG00000038002', 'ENSG00000038210', 'ENSG00000038274', 'ENSG00000038382', 'ENSG00000039123', 'ENSG00000040199', 'ENSG00000040933', 'ENSG00000044446', 'ENSG00000047230', 'ENSG00000047249', 'ENSG00000047315', 'ENSG00000047410', 'ENSG00000047457', 'ENSG00000048392', 'ENSG00000049239', 'ENSG00000049860', 'ENSG00000050748', 'ENSG00000051382', 'ENSG00000052802', 'ENSG00000053371', 'ENSG00000054148', 'ENSG00000054179', 'ENSG00000054392', 'ENSG00000054983', 'ENSG00000055332', 'ENSG00000055609', 'ENSG00000056998', 'ENSG00000057252', 'ENSG00000058091', 'ENSG00000058600', 'ENSG00000058668', 'ENSG00000058729', 'ENSG00000058804', 'ENSG00000059377', 'ENSG00000059573', 'ENSG00000059758', 'ENSG00000059804', 'ENSG00000060069', 'ENSG00000060140', 'ENSG00000060237', 'ENSG00000060642', 'ENSG00000060656', 'ENSG00000060762', 'ENSG00000060971', 'ENSG00000060982', 'ENSG00000061918', 'ENSG00000061938', 'ENSG00000062282', 'ENSG00000062485', 'ENSG00000062822', 'ENSG00000063176', 'ENSG00000063601', 'ENSG00000063854', 'ENSG00000064225', 'ENSG00000064270', 'ENSG00000064393', 'ENSG00000064601', 'ENSG00000064651', 'ENSG00000064655', 'ENSG00000064763', 'ENSG00000065154', 'ENSG00000065243', 'ENSG00000065357', 'ENSG00000065361', 'ENSG00000065427', 'ENSG00000065518', 'ENSG00000065534', 'ENSG00000065559', 'ENSG00000065613', 'ENSG00000065615', 'ENSG00000065621', 'ENSG00000065833', 'ENSG00000065883', 'ENSG00000065911', 'ENSG00000065989', 'ENSG00000066056', 'ENSG00000066230', 'ENSG00000066322', 'ENSG00000066379', 'ENSG00000066468', 'ENSG00000066926', 'ENSG00000067057', 'ENSG00000067064', 'ENSG00000067113', 'ENSG00000067177', 'ENSG00000067225', 'ENSG00000067606', 'ENSG00000067829', 'ENSG00000067840', 'ENSG00000067900', 'ENSG00000067992', 'ENSG00000068001', 'ENSG00000068078', 'ENSG00000068120', 'ENSG00000068366', 'ENSG00000068383', 'ENSG00000068650', 'ENSG00000068654', 'ENSG00000068745', 'ENSG00000068903', 'ENSG00000068976', 'ENSG00000069020', 'ENSG00000069248', 'ENSG00000069431', 'ENSG00000069535', 'ENSG00000069943', 'ENSG00000069956', 'ENSG00000070159', 'ENSG00000070214', 'ENSG00000070501', 'ENSG00000070610', 'ENSG00000070614', 'ENSG00000070669', 'ENSG00000070731', 'ENSG00000070759', 'ENSG00000070770', 'ENSG00000070778', 'ENSG00000070961', 'ENSG00000071054', 'ENSG00000071073', 'ENSG00000071242', 'ENSG00000071553', 'ENSG00000071967', 'ENSG00000072041', 'ENSG00000072042', 'ENSG00000072062', 'ENSG00000072133', 'ENSG00000072135', 'ENSG00000072195', 'ENSG00000072210', 'ENSG00000072274', 'ENSG00000072310', 'ENSG00000072506', 'ENSG00000072518', 'ENSG00000072682', 'ENSG00000072756', 'ENSG00000072778', 'ENSG00000072786', 'ENSG00000073060', 'ENSG00000073417', 'ENSG00000073578', 'ENSG00000073711', 'ENSG00000073756', 'ENSG00000073803', 'ENSG00000073849', 'ENSG00000074211', 'ENSG00000074370', 'ENSG00000074410', 'ENSG00000074416', 'ENSG00000074590', 'ENSG00000074621', 'ENSG00000074696', 'ENSG00000074800', 'ENSG00000074966', 'ENSG00000075188', 'ENSG00000075239', 'ENSG00000075413', 'ENSG00000075415', 'ENSG00000075651', 'ENSG00000076201', 'ENSG00000076351', 'ENSG00000076555', 'ENSG00000076685', 'ENSG00000076984', 'ENSG00000077044', 'ENSG00000077264', 'ENSG00000077463', 'ENSG00000077498', 'ENSG00000077514', 'ENSG00000077782', 'ENSG00000078061', 'ENSG00000078070', 'ENSG00000078124', 'ENSG00000078142', 'ENSG00000078237', 'ENSG00000078269', 'ENSG00000078295', 'ENSG00000079215', 'ENSG00000079277', 'ENSG00000079335', 'ENSG00000079435', 'ENSG00000079459', 'ENSG00000079462', 'ENSG00000079739', 'ENSG00000079805', 'ENSG00000080166', 'ENSG00000080819', 'ENSG00000080823', 'ENSG00000081181', 'ENSG00000081237', 'ENSG00000081320', 'ENSG00000081377', 'ENSG00000081721', 'ENSG00000081760', 'ENSG00000081800', 'ENSG00000081913', 'ENSG00000081923', 'ENSG00000082212', 'ENSG00000083123', 'ENSG00000083223', 'ENSG00000083290', 'ENSG00000083720', 'ENSG00000083807', 'ENSG00000084090', 'ENSG00000084110', 'ENSG00000084112', 'ENSG00000084207', 'ENSG00000084453', 'ENSG00000084754', 'ENSG00000084774', 'ENSG00000085231', 'ENSG00000085415', 'ENSG00000085511', 'ENSG00000085662', 'ENSG00000085871', 'ENSG00000085998', 'ENSG00000086015', 'ENSG00000086062', 'ENSG00000086232', 'ENSG00000086544', 'ENSG00000086848', 'ENSG00000087008', 'ENSG00000087053', 'ENSG00000087076', 'ENSG00000087085', 'ENSG00000087095', 'ENSG00000087111', 'ENSG00000087157', 'ENSG00000087253', 'ENSG00000087470', 'ENSG00000087586', 'ENSG00000088002', 'ENSG00000088035', 'ENSG00000088179', 'ENSG00000088386', 'ENSG00000088766', 'ENSG00000088826', 'ENSG00000089022', 'ENSG00000089057', 'ENSG00000089250', 'ENSG00000089597', 'ENSG00000090013', 'ENSG00000090020', 'ENSG00000090054', 'ENSG00000090060', 'ENSG00000090266', 'ENSG00000090376', 'ENSG00000090661', 'ENSG00000090857', 'ENSG00000090861', 'ENSG00000090971', 'ENSG00000091140', 'ENSG00000091436', 'ENSG00000091483', 'ENSG00000091704', 'ENSG00000092009', 'ENSG00000092068', 'ENSG00000092445', 'ENSG00000092529', 'ENSG00000092621', 'ENSG00000092964', 'ENSG00000093000', 'ENSG00000093010', 'ENSG00000093072', 'ENSG00000093217', 'ENSG00000094841', 'ENSG00000094914', 'ENSG00000095015', 'ENSG00000095059', 'ENSG00000095139', 'ENSG00000095303', 'ENSG00000095319', 'ENSG00000095321', 'ENSG00000095380', 'ENSG00000095596', 'ENSG00000095917', 'ENSG00000096006', 'ENSG00000096063', 'ENSG00000096717', 'ENSG00000096968', 'ENSG00000097007', 'ENSG00000097021', 'ENSG00000097033', 'ENSG00000097046', 'ENSG00000099194', 'ENSG00000099308', 'ENSG00000099377', 'ENSG00000099381', 'ENSG00000099624', 'ENSG00000099795', 'ENSG00000099797', 'ENSG00000099810', 'ENSG00000099817', 'ENSG00000099821', 'ENSG00000099875', 'ENSG00000099904', 'ENSG00000099984', 'ENSG00000099998', 'ENSG00000100030', 'ENSG00000100031', 'ENSG00000100033', 'ENSG00000100034', 'ENSG00000100075', 'ENSG00000100078', 'ENSG00000100092', 'ENSG00000100101', 'ENSG00000100116', 'ENSG00000100142', 'ENSG00000100156', 'ENSG00000100170', 'ENSG00000100197', 'ENSG00000100243', 'ENSG00000100288', 'ENSG00000100292', 'ENSG00000100294', 'ENSG00000100299', 'ENSG00000100330', 'ENSG00000100344', 'ENSG00000100348', 'ENSG00000100354', 'ENSG00000100372', 'ENSG00000100412', 'ENSG00000100413', 'ENSG00000100417', 'ENSG00000100422', 'ENSG00000100448', 'ENSG00000100479', 'ENSG00000100490', 'ENSG00000100504', 'ENSG00000100522', 'ENSG00000100526', 'ENSG00000100554', 'ENSG00000100564', 'ENSG00000100577', 'ENSG00000100596', 'ENSG00000100600', 'ENSG00000100605', 'ENSG00000100614', 'ENSG00000100626', 'ENSG00000100644', 'ENSG00000100652', 'ENSG00000100714', 'ENSG00000100749', 'ENSG00000100784', 'ENSG00000100889', 'ENSG00000100938', 'ENSG00000100979', 'ENSG00000100983', 'ENSG00000100994', 'ENSG00000100997', 'ENSG00000101049', 'ENSG00000101109', 'ENSG00000101146', 'ENSG00000101160', 'ENSG00000101187', 'ENSG00000101210', 'ENSG00000101213', 'ENSG00000101224', 'ENSG00000101255', 'ENSG00000101266', 'ENSG00000101276', 'ENSG00000101290', 'ENSG00000101333', 'ENSG00000101336', 'ENSG00000101365', 'ENSG00000101444', 'ENSG00000101464', 'ENSG00000101473', 'ENSG00000101558', 'ENSG00000101577', 'ENSG00000101638', 'ENSG00000101751', 'ENSG00000101782', 'ENSG00000101846', 'ENSG00000101868', 'ENSG00000101901', 'ENSG00000101911', 'ENSG00000101945', 'ENSG00000101974', 'ENSG00000101986', 'ENSG00000102010', 'ENSG00000102030', 'ENSG00000102032', 'ENSG00000102078', 'ENSG00000102096', 'ENSG00000102100', 'ENSG00000102125', 'ENSG00000102144', 'ENSG00000102172', 'ENSG00000102225', 'ENSG00000102312', 'ENSG00000102393', 'ENSG00000102572', 'ENSG00000102575', 'ENSG00000102595', 'ENSG00000102743', 'ENSG00000102755', 'ENSG00000102780', 'ENSG00000102882', 'ENSG00000102893', 'ENSG00000102900', 'ENSG00000102967', 'ENSG00000102978', 'ENSG00000103024', 'ENSG00000103044', 'ENSG00000103056', 'ENSG00000103064', 'ENSG00000103066', 'ENSG00000103150', 'ENSG00000103202', 'ENSG00000103222', 'ENSG00000103253', 'ENSG00000103257', 'ENSG00000103415', 'ENSG00000103485', 'ENSG00000103489', 'ENSG00000103502', 'ENSG00000103569', 'ENSG00000103653', 'ENSG00000103740', 'ENSG00000103811', 'ENSG00000103876', 'ENSG00000104044', 'ENSG00000104205', 'ENSG00000104219', 'ENSG00000104267', 'ENSG00000104312', 'ENSG00000104325', 'ENSG00000104331', 'ENSG00000104365', 'ENSG00000104375', 'ENSG00000104522', 'ENSG00000104524', 'ENSG00000104549', 'ENSG00000104635', 'ENSG00000104687', 'ENSG00000104695', 'ENSG00000104723', 'ENSG00000104763', 'ENSG00000104774', 'ENSG00000104812', 'ENSG00000104814', 'ENSG00000104823', 'ENSG00000104879', 'ENSG00000104885', 'ENSG00000104888', 'ENSG00000104936', 'ENSG00000105053', 'ENSG00000105143', 'ENSG00000105146', 'ENSG00000105204', 'ENSG00000105220', 'ENSG00000105221', 'ENSG00000105223', 'ENSG00000105254', 'ENSG00000105258', 'ENSG00000105281', 'ENSG00000105287', 'ENSG00000105355', 'ENSG00000105379', 'ENSG00000105397', 'ENSG00000105398', 'ENSG00000105426', 'ENSG00000105499', 'ENSG00000105509', 'ENSG00000105516', 'ENSG00000105520', 'ENSG00000105552', 'ENSG00000105568', 'ENSG00000105607', 'ENSG00000105613', 'ENSG00000105639', 'ENSG00000105647', 'ENSG00000105655', 'ENSG00000105669', 'ENSG00000105810', 'ENSG00000105835', 'ENSG00000105852', 'ENSG00000105854', 'ENSG00000105929', 'ENSG00000105953', 'ENSG00000105976', 'ENSG00000106049', 'ENSG00000106105', 'ENSG00000106123', 'ENSG00000106258', 'ENSG00000106278', 'ENSG00000106348', 'ENSG00000106392', 'ENSG00000106462', 'ENSG00000106605', 'ENSG00000106617', 'ENSG00000106628', 'ENSG00000106636', 'ENSG00000106683', 'ENSG00000106688', 'ENSG00000106733', 'ENSG00000106799', 'ENSG00000106853', 'ENSG00000106976', 'ENSG00000106992', 'ENSG00000107140', 'ENSG00000107159', 'ENSG00000107242', 'ENSG00000107317', 'ENSG00000107537', 'ENSG00000107643', 'ENSG00000107758', 'ENSG00000107779', 'ENSG00000107789', 'ENSG00000107798', 'ENSG00000107819', 'ENSG00000107902', 'ENSG00000107951', 'ENSG00000107968', 'ENSG00000108242', 'ENSG00000108381', 'ENSG00000108439', 'ENSG00000108443', 'ENSG00000108468', 'ENSG00000108474', 'ENSG00000108479', 'ENSG00000108515', 'ENSG00000108528', 'ENSG00000108559', 'ENSG00000108602', 'ENSG00000108784', 'ENSG00000108786', 'ENSG00000108799', 'ENSG00000108813', 'ENSG00000108839', 'ENSG00000108846', 'ENSG00000108861', 'ENSG00000108932', 'ENSG00000108946', 'ENSG00000108984', 'ENSG00000109065', 'ENSG00000109107', 'ENSG00000109193', 'ENSG00000109323', 'ENSG00000109390', 'ENSG00000109452', 'ENSG00000109576', 'ENSG00000109586', 'ENSG00000109610', 'ENSG00000109667', 'ENSG00000109685', 'ENSG00000109743', 'ENSG00000109814', 'ENSG00000109854', 'ENSG00000109861', 'ENSG00000109929', 'ENSG00000110066', 'ENSG00000110080', 'ENSG00000110090', 'ENSG00000110195', 'ENSG00000110328', 'ENSG00000110422', 'ENSG00000110435', 'ENSG00000110446', 'ENSG00000110536', 'ENSG00000110583', 'ENSG00000110619', 'ENSG00000110713', 'ENSG00000110717', 'ENSG00000110719', 'ENSG00000110721', 'ENSG00000110871', 'ENSG00000110911', 'ENSG00000110921', 'ENSG00000110931', 'ENSG00000110955', 'ENSG00000110958', 'ENSG00000111058', 'ENSG00000111077', 'ENSG00000111144', 'ENSG00000111237', 'ENSG00000111261', 'ENSG00000111266', 'ENSG00000111271', 'ENSG00000111275', 'ENSG00000111371', 'ENSG00000111445', 'ENSG00000111581', 'ENSG00000111640', 'ENSG00000111666', 'ENSG00000111669', 'ENSG00000111674', 'ENSG00000111679', 'ENSG00000111684', 'ENSG00000111696', 'ENSG00000111700', 'ENSG00000111716', 'ENSG00000111726', 'ENSG00000111728', 'ENSG00000111775', 'ENSG00000111817', 'ENSG00000111846', 'ENSG00000111885', 'ENSG00000111962', 'ENSG00000112062', 'ENSG00000112079', 'ENSG00000112096', 'ENSG00000112144', 'ENSG00000112245', 'ENSG00000112294', 'ENSG00000112299', 'ENSG00000112304', 'ENSG00000112309', 'ENSG00000112367', 'ENSG00000112394', 'ENSG00000112425', 'ENSG00000112655', 'ENSG00000112679', 'ENSG00000112695', 'ENSG00000112699', 'ENSG00000112739', 'ENSG00000112742', 'ENSG00000112759', 'ENSG00000112874', 'ENSG00000112893', 'ENSG00000112941', 'ENSG00000112972', 'ENSG00000112992', 'ENSG00000113161', 'ENSG00000113163', 'ENSG00000113231', 'ENSG00000113240', 'ENSG00000113273', 'ENSG00000113356', 'ENSG00000113407', 'ENSG00000113448', 'ENSG00000113456', 'ENSG00000113504', 'ENSG00000113552', 'ENSG00000113569', 'ENSG00000113575', 'ENSG00000113643', 'ENSG00000113657', 'ENSG00000113712', 'ENSG00000113721', 'ENSG00000113732', 'ENSG00000113790', 'ENSG00000113924', 'ENSG00000114021', 'ENSG00000114054', 'ENSG00000114115', 'ENSG00000114200', 'ENSG00000114268', 'ENSG00000114302', 'ENSG00000114378', 'ENSG00000114480', 'ENSG00000114491', 'ENSG00000114573', 'ENSG00000114670', 'ENSG00000114738', 'ENSG00000114739', 'ENSG00000114770', 'ENSG00000114771', 'ENSG00000114786', 'ENSG00000114902', 'ENSG00000114904', 'ENSG00000114923', 'ENSG00000114956', 'ENSG00000115020', 'ENSG00000115085', 'ENSG00000115159', 'ENSG00000115170', 'ENSG00000115241', 'ENSG00000115252', 'ENSG00000115275', 'ENSG00000115286', 'ENSG00000115339', 'ENSG00000115350', 'ENSG00000115361', 'ENSG00000115419', 'ENSG00000115421', 'ENSG00000115425', 'ENSG00000115488', 'ENSG00000115525', 'ENSG00000115526', 'ENSG00000115556', 'ENSG00000115652', 'ENSG00000115657', 'ENSG00000115661', 'ENSG00000115677', 'ENSG00000115687', 'ENSG00000115694', 'ENSG00000115758', 'ENSG00000115825', 'ENSG00000115840', 'ENSG00000115866', 'ENSG00000115884', 'ENSG00000115896', 'ENSG00000115902', 'ENSG00000115919', 'ENSG00000115977', 'ENSG00000116039', 'ENSG00000116096', 'ENSG00000116106', 'ENSG00000116120', 'ENSG00000116133', 'ENSG00000116141', 'ENSG00000116157', 'ENSG00000116171', 'ENSG00000116199', 'ENSG00000116337', 'ENSG00000116353', 'ENSG00000116459', 'ENSG00000116539', 'ENSG00000116649', 'ENSG00000116675', 'ENSG00000116704', 'ENSG00000116711', 'ENSG00000116761', 'ENSG00000116783', 'ENSG00000116791', 'ENSG00000116906', 'ENSG00000116984', 'ENSG00000117020', 'ENSG00000117054', 'ENSG00000117115', 'ENSG00000117118', 'ENSG00000117143', 'ENSG00000117266', 'ENSG00000117305', 'ENSG00000117308', 'ENSG00000117394', 'ENSG00000117410', 'ENSG00000117411', 'ENSG00000117448', 'ENSG00000117450', 'ENSG00000117461', 'ENSG00000117479', 'ENSG00000117480', 'ENSG00000117528', 'ENSG00000117592', 'ENSG00000117594', 'ENSG00000117600', 'ENSG00000117620', 'ENSG00000117643', 'ENSG00000117650', 'ENSG00000117676', 'ENSG00000117682', 'ENSG00000117834', 'ENSG00000117984', 'ENSG00000118046', 'ENSG00000118058', 'ENSG00000118276', 'ENSG00000118298', 'ENSG00000118363', 'ENSG00000118402', 'ENSG00000118515', 'ENSG00000118520', 'ENSG00000118596', 'ENSG00000118705', 'ENSG00000119013', 'ENSG00000119227', 'ENSG00000119392', 'ENSG00000119408', 'ENSG00000119414', 'ENSG00000119421', 'ENSG00000119514', 'ENSG00000119523', 'ENSG00000119537', 'ENSG00000119638', 'ENSG00000119640', 'ENSG00000119673', 'ENSG00000119689', 'ENSG00000119711', 'ENSG00000119723', 'ENSG00000119899', 'ENSG00000119915', 'ENSG00000119927', 'ENSG00000119938', 'ENSG00000120053', 'ENSG00000120129', 'ENSG00000120137', 'ENSG00000120156', 'ENSG00000120253', 'ENSG00000120254', 'ENSG00000120437', 'ENSG00000120539', 'ENSG00000120697', 'ENSG00000120820', 'ENSG00000120875', 'ENSG00000120910', 'ENSG00000120915', 'ENSG00000120992', 'ENSG00000121039', 'ENSG00000121281', 'ENSG00000121310', 'ENSG00000121361', 'ENSG00000121578', 'ENSG00000121579', 'ENSG00000121691', 'ENSG00000121769', 'ENSG00000121851', 'ENSG00000121879', 'ENSG00000121900', 'ENSG00000121989', 'ENSG00000122008', 'ENSG00000122126', 'ENSG00000122218', 'ENSG00000122254', 'ENSG00000122390', 'ENSG00000122484', 'ENSG00000122643', 'ENSG00000122678', 'ENSG00000122729', 'ENSG00000122787', 'ENSG00000122863', 'ENSG00000122884', 'ENSG00000122912', 'ENSG00000122966', 'ENSG00000122971', 'ENSG00000123130', 'ENSG00000123143', 'ENSG00000123360', 'ENSG00000123374', 'ENSG00000123505', 'ENSG00000123643', 'ENSG00000123684', 'ENSG00000123689', 'ENSG00000123739', 'ENSG00000123836', 'ENSG00000123983', 'ENSG00000123989', 'ENSG00000124006', 'ENSG00000124067', 'ENSG00000124155', 'ENSG00000124164', 'ENSG00000124172', 'ENSG00000124181', 'ENSG00000124212', 'ENSG00000124299', 'ENSG00000124357', 'ENSG00000124370', 'ENSG00000124406', 'ENSG00000124523', 'ENSG00000124596', 'ENSG00000124713', 'ENSG00000124767', 'ENSG00000124784', 'ENSG00000124789', 'ENSG00000125166', 'ENSG00000125246', 'ENSG00000125257', 'ENSG00000125356', 'ENSG00000125430', 'ENSG00000125450', 'ENSG00000125454', 'ENSG00000125458', 'ENSG00000125505', 'ENSG00000125630', 'ENSG00000125651', 'ENSG00000125772', 'ENSG00000125779', 'ENSG00000125834', 'ENSG00000125877', 'ENSG00000126088', 'ENSG00000126091', 'ENSG00000126264', 'ENSG00000126267', 'ENSG00000126432', 'ENSG00000126522', 'ENSG00000126821', 'ENSG00000126883', 'ENSG00000126934', 'ENSG00000127080', 'ENSG00000127125', 'ENSG00000127184', 'ENSG00000127329', 'ENSG00000127334', 'ENSG00000127415', 'ENSG00000127540', 'ENSG00000127564', 'ENSG00000127884', 'ENSG00000127947', 'ENSG00000127952', 'ENSG00000128039', 'ENSG00000128050', 'ENSG00000128052', 'ENSG00000128059', 'ENSG00000128242', 'ENSG00000128268', 'ENSG00000128274', 'ENSG00000128309', 'ENSG00000128311', 'ENSG00000128524', 'ENSG00000128609', 'ENSG00000128829', 'ENSG00000128918', 'ENSG00000128928', 'ENSG00000128951', 'ENSG00000129083', 'ENSG00000129128', 'ENSG00000129151', 'ENSG00000129167', 'ENSG00000129187', 'ENSG00000129219', 'ENSG00000129353', 'ENSG00000129465', 'ENSG00000129467', 'ENSG00000129562', 'ENSG00000129596', 'ENSG00000130005', 'ENSG00000130052', 'ENSG00000130066', 'ENSG00000130164', 'ENSG00000130175', 'ENSG00000130203', 'ENSG00000130208', 'ENSG00000130227', 'ENSG00000130304', 'ENSG00000130313', 'ENSG00000130414', 'ENSG00000130508', 'ENSG00000130649', 'ENSG00000130653', 'ENSG00000130669', 'ENSG00000130707', 'ENSG00000130717', 'ENSG00000130758', 'ENSG00000130821', 'ENSG00000130958', 'ENSG00000130988', 'ENSG00000131023', 'ENSG00000131055', 'ENSG00000131067', 'ENSG00000131069', 'ENSG00000131100', 'ENSG00000131143', 'ENSG00000131174', 'ENSG00000131203', 'ENSG00000131238', 'ENSG00000131373', 'ENSG00000131386', 'ENSG00000131389', 'ENSG00000131400', 'ENSG00000131446', 'ENSG00000131459', 'ENSG00000131471', 'ENSG00000131473', 'ENSG00000131480', 'ENSG00000131495', 'ENSG00000131686', 'ENSG00000131730', 'ENSG00000131748', 'ENSG00000131771', 'ENSG00000131791', 'ENSG00000131828', 'ENSG00000131844', 'ENSG00000131873', 'ENSG00000131979', 'ENSG00000132155', 'ENSG00000132164', 'ENSG00000132182', 'ENSG00000132196', 'ENSG00000132323', 'ENSG00000132330', 'ENSG00000132334', 'ENSG00000132356', 'ENSG00000132376', 'ENSG00000132382', 'ENSG00000132423', 'ENSG00000132437', 'ENSG00000132517', 'ENSG00000132570', 'ENSG00000132664', 'ENSG00000132670', 'ENSG00000132677', 'ENSG00000132746', 'ENSG00000132793', 'ENSG00000132840', 'ENSG00000132958', 'ENSG00000132964', 'ENSG00000133027', 'ENSG00000133048', 'ENSG00000133056', 'ENSG00000133059', 'ENSG00000133083', 'ENSG00000133121', 'ENSG00000133216', 'ENSG00000133247', 'ENSG00000133275', 'ENSG00000133313', 'ENSG00000133315', 'ENSG00000133433', 'ENSG00000133460', 'ENSG00000133706', 'ENSG00000133731', 'ENSG00000133805', 'ENSG00000133835', 'ENSG00000134013', 'ENSG00000134058', 'ENSG00000134070', 'ENSG00000134072', 'ENSG00000134184', 'ENSG00000134201', 'ENSG00000134202', 'ENSG00000134240', 'ENSG00000134255', 'ENSG00000134294', 'ENSG00000134318', 'ENSG00000134324', 'ENSG00000134326', 'ENSG00000134333', 'ENSG00000134440', 'ENSG00000134538', 'ENSG00000134575', 'ENSG00000134602', 'ENSG00000134684', 'ENSG00000134716', 'ENSG00000134744', 'ENSG00000134780', 'ENSG00000134824', 'ENSG00000134853', 'ENSG00000134864', 'ENSG00000134882', 'ENSG00000134910', 'ENSG00000135002', 'ENSG00000135047', 'ENSG00000135069', 'ENSG00000135090', 'ENSG00000135218', 'ENSG00000135220', 'ENSG00000135241', 'ENSG00000135250', 'ENSG00000135318', 'ENSG00000135341', 'ENSG00000135372', 'ENSG00000135390', 'ENSG00000135423', 'ENSG00000135437', 'ENSG00000135446', 'ENSG00000135447', 'ENSG00000135454', 'ENSG00000135503', 'ENSG00000135587', 'ENSG00000135605', 'ENSG00000135677', 'ENSG00000135740', 'ENSG00000135778', 'ENSG00000135821', 'ENSG00000135838', 'ENSG00000135845', 'ENSG00000135917', 'ENSG00000135929', 'ENSG00000135940', 'ENSG00000136010', 'ENSG00000136098', 'ENSG00000136143', 'ENSG00000136169', 'ENSG00000136213', 'ENSG00000136243', 'ENSG00000136247', 'ENSG00000136371', 'ENSG00000136381', 'ENSG00000136521', 'ENSG00000136628', 'ENSG00000136643', 'ENSG00000136699', 'ENSG00000136720', 'ENSG00000136731', 'ENSG00000136807', 'ENSG00000136810', 'ENSG00000136840', 'ENSG00000136856', 'ENSG00000136877', 'ENSG00000136881', 'ENSG00000136888', 'ENSG00000136908', 'ENSG00000136943', 'ENSG00000137054', 'ENSG00000137106', 'ENSG00000137124', 'ENSG00000137193', 'ENSG00000137198', 'ENSG00000137275', 'ENSG00000137392', 'ENSG00000137491', 'ENSG00000137496', 'ENSG00000137563', 'ENSG00000137601', 'ENSG00000137700', 'ENSG00000137713', 'ENSG00000137764', 'ENSG00000137770', 'ENSG00000137841', 'ENSG00000137843', 'ENSG00000137857', 'ENSG00000137944', 'ENSG00000137968', 'ENSG00000137992', 'ENSG00000138018', 'ENSG00000138029', 'ENSG00000138030', 'ENSG00000138031', 'ENSG00000138032', 'ENSG00000138061', 'ENSG00000138074', 'ENSG00000138135', 'ENSG00000138166', 'ENSG00000138185', 'ENSG00000138193', 'ENSG00000138207', 'ENSG00000138356', 'ENSG00000138363', 'ENSG00000138413', 'ENSG00000138449', 'ENSG00000138604', 'ENSG00000138621', 'ENSG00000138641', 'ENSG00000138669', 'ENSG00000138678', 'ENSG00000138735', 'ENSG00000138744', 'ENSG00000138750', 'ENSG00000138756', 'ENSG00000138777', 'ENSG00000138796', 'ENSG00000138801', 'ENSG00000138814', 'ENSG00000138821', 'ENSG00000139044', 'ENSG00000139133', 'ENSG00000139144', 'ENSG00000139163', 'ENSG00000139180', 'ENSG00000139209', 'ENSG00000139278', 'ENSG00000139318', 'ENSG00000139370', 'ENSG00000139410', 'ENSG00000139428', 'ENSG00000139433', 'ENSG00000139496', 'ENSG00000139505', 'ENSG00000139514', 'ENSG00000139531', 'ENSG00000139547', 'ENSG00000139567', 'ENSG00000139624', 'ENSG00000139625', 'ENSG00000139629', 'ENSG00000139631', 'ENSG00000139684', 'ENSG00000139718', 'ENSG00000139908', 'ENSG00000139914', 'ENSG00000139988', 'ENSG00000140057', 'ENSG00000140105', 'ENSG00000140199', 'ENSG00000140263', 'ENSG00000140279', 'ENSG00000140284', 'ENSG00000140287', 'ENSG00000140297', 'ENSG00000140374', 'ENSG00000140400', 'ENSG00000140443', 'ENSG00000140465', 'ENSG00000140474', 'ENSG00000140505', 'ENSG00000140519', 'ENSG00000140521', 'ENSG00000140538', 'ENSG00000140598', 'ENSG00000140612', 'ENSG00000140650', 'ENSG00000140740', 'ENSG00000140905', 'ENSG00000140990', 'ENSG00000140992', 'ENSG00000141012', 'ENSG00000141179', 'ENSG00000141279', 'ENSG00000141298', 'ENSG00000141338', 'ENSG00000141349', 'ENSG00000141401', 'ENSG00000141424', 'ENSG00000141429', 'ENSG00000141446', 'ENSG00000141458', 'ENSG00000141503', 'ENSG00000141504', 'ENSG00000141506', 'ENSG00000141526', 'ENSG00000141551', 'ENSG00000141560', 'ENSG00000141698', 'ENSG00000141736', 'ENSG00000141744', 'ENSG00000141873', 'ENSG00000141934', 'ENSG00000141959', 'ENSG00000142046', 'ENSG00000142082', 'ENSG00000142102', 'ENSG00000142149', 'ENSG00000142168', 'ENSG00000142185', 'ENSG00000142208', 'ENSG00000142235', 'ENSG00000142494', 'ENSG00000142583', 'ENSG00000142623', 'ENSG00000142627', 'ENSG00000142657', 'ENSG00000142731', 'ENSG00000142733', 'ENSG00000142798', 'ENSG00000142875', 'ENSG00000142892', 'ENSG00000142920', 'ENSG00000142949', 'ENSG00000142973', 'ENSG00000143036', 'ENSG00000143149', 'ENSG00000143156', 'ENSG00000143158', 'ENSG00000143179', 'ENSG00000143198', 'ENSG00000143224', 'ENSG00000143252', 'ENSG00000143315', 'ENSG00000143322', 'ENSG00000143344', 'ENSG00000143363', 'ENSG00000143379', 'ENSG00000143387', 'ENSG00000143393', 'ENSG00000143398', 'ENSG00000143418', 'ENSG00000143479', 'ENSG00000143507', 'ENSG00000143515', 'ENSG00000143554', 'ENSG00000143570', 'ENSG00000143630', 'ENSG00000143641', 'ENSG00000143653', 'ENSG00000143674', 'ENSG00000143727', 'ENSG00000143753', 'ENSG00000143772', 'ENSG00000143774', 'ENSG00000143776', 'ENSG00000143797', 'ENSG00000143811', 'ENSG00000143815', 'ENSG00000143819', 'ENSG00000143845', 'ENSG00000143882', 'ENSG00000143933', 'ENSG00000144048', 'ENSG00000144136', 'ENSG00000144182', 'ENSG00000144231', 'ENSG00000144362', 'ENSG00000144579', 'ENSG00000144591', 'ENSG00000144659', 'ENSG00000144677', 'ENSG00000144724', 'ENSG00000144741', 'ENSG00000144843', 'ENSG00000144908', 'ENSG00000145020', 'ENSG00000145214', 'ENSG00000145217', 'ENSG00000145283', 'ENSG00000145284', 'ENSG00000145293', 'ENSG00000145337', 'ENSG00000145349', 'ENSG00000145391', 'ENSG00000145439', 'ENSG00000145476', 'ENSG00000145494', 'ENSG00000145545', 'ENSG00000145632', 'ENSG00000145675', 'ENSG00000145725', 'ENSG00000145949', 'ENSG00000146066', 'ENSG00000146070', 'ENSG00000146072', 'ENSG00000146085', 'ENSG00000146233', 'ENSG00000146411', 'ENSG00000146426', 'ENSG00000146477', 'ENSG00000146587', 'ENSG00000146648', 'ENSG00000146701', 'ENSG00000146733', 'ENSG00000146872', 'ENSG00000147044', 'ENSG00000147100', 'ENSG00000147119', 'ENSG00000147123', 'ENSG00000147133', 'ENSG00000147155', 'ENSG00000147162', 'ENSG00000147224', 'ENSG00000147383', 'ENSG00000147408', 'ENSG00000147416', 'ENSG00000147454', 'ENSG00000147465', 'ENSG00000147471', 'ENSG00000147535', 'ENSG00000147548', 'ENSG00000147576', 'ENSG00000147669', 'ENSG00000147684', 'ENSG00000147804', 'ENSG00000147813', 'ENSG00000147853', 'ENSG00000147872', 'ENSG00000148053', 'ENSG00000148090', 'ENSG00000148154', 'ENSG00000148218', 'ENSG00000148229', 'ENSG00000148288', 'ENSG00000148334', 'ENSG00000148344', 'ENSG00000148384', 'ENSG00000148459', 'ENSG00000148606', 'ENSG00000148660', 'ENSG00000148672', 'ENSG00000148795', 'ENSG00000148834', 'ENSG00000149016', 'ENSG00000149084', 'ENSG00000149089', 'ENSG00000149091', 'ENSG00000149150', 'ENSG00000149177', 'ENSG00000149269', 'ENSG00000149311', 'ENSG00000149313', 'ENSG00000149380', 'ENSG00000149476', 'ENSG00000149485', 'ENSG00000149527', 'ENSG00000149541', 'ENSG00000149554', 'ENSG00000149782', 'ENSG00000149809', 'ENSG00000149923', 'ENSG00000149925', 'ENSG00000149930', 'ENSG00000150457', 'ENSG00000150540', 'ENSG00000150712', 'ENSG00000150768', 'ENSG00000150787', 'ENSG00000150867', 'ENSG00000151012', 'ENSG00000151093', 'ENSG00000151116', 'ENSG00000151151', 'ENSG00000151224', 'ENSG00000151229', 'ENSG00000151292', 'ENSG00000151348', 'ENSG00000151366', 'ENSG00000151376', 'ENSG00000151414', 'ENSG00000151422', 'ENSG00000151498', 'ENSG00000151552', 'ENSG00000151611', 'ENSG00000151632', 'ENSG00000151665', 'ENSG00000151689', 'ENSG00000151726', 'ENSG00000151729', 'ENSG00000152104', 'ENSG00000152127', 'ENSG00000152234', 'ENSG00000152256', 'ENSG00000152332', 'ENSG00000152455', 'ENSG00000152556', 'ENSG00000152620', 'ENSG00000152642', 'ENSG00000152782', 'ENSG00000152894', 'ENSG00000152904', 'ENSG00000152953', 'ENSG00000153201', 'ENSG00000153207', 'ENSG00000153208', 'ENSG00000153291', 'ENSG00000153395', 'ENSG00000153574', 'ENSG00000153786', 'ENSG00000153933', 'ENSG00000153936', 'ENSG00000154027', 'ENSG00000154227', 'ENSG00000154229', 'ENSG00000154237', 'ENSG00000154305', 'ENSG00000154310', 'ENSG00000154330', 'ENSG00000154518', 'ENSG00000154723', 'ENSG00000154822', 'ENSG00000154928', 'ENSG00000154930', 'ENSG00000155016', 'ENSG00000155085', 'ENSG00000155093', 'ENSG00000155097', 'ENSG00000155099', 'ENSG00000155111', 'ENSG00000155189', 'ENSG00000155252', 'ENSG00000155287', 'ENSG00000155368', 'ENSG00000155380', 'ENSG00000155465', 'ENSG00000155561', 'ENSG00000155850', 'ENSG00000155893', 'ENSG00000156096', 'ENSG00000156110', 'ENSG00000156136', 'ENSG00000156345', 'ENSG00000156411', 'ENSG00000156467', 'ENSG00000156471', 'ENSG00000156475', 'ENSG00000156508', 'ENSG00000156515', 'ENSG00000156599', 'ENSG00000156689', 'ENSG00000156711', 'ENSG00000156795', 'ENSG00000156873', 'ENSG00000156885', 'ENSG00000156958', 'ENSG00000156970', 'ENSG00000156973', 'ENSG00000157020', 'ENSG00000157045', 'ENSG00000157064', 'ENSG00000157103', 'ENSG00000157106', 'ENSG00000157184', 'ENSG00000157326', 'ENSG00000157349', 'ENSG00000157350', 'ENSG00000157353', 'ENSG00000157404', 'ENSG00000157426', 'ENSG00000157540', 'ENSG00000157593', 'ENSG00000157764', 'ENSG00000157881', 'ENSG00000158006', 'ENSG00000158008', 'ENSG00000158019', 'ENSG00000158050', 'ENSG00000158079', 'ENSG00000158089', 'ENSG00000158125', 'ENSG00000158161', 'ENSG00000158296', 'ENSG00000158402', 'ENSG00000158467', 'ENSG00000158470', 'ENSG00000158623', 'ENSG00000158669', 'ENSG00000158716', 'ENSG00000158786', 'ENSG00000158825', 'ENSG00000158828', 'ENSG00000158850', 'ENSG00000158864', 'ENSG00000159063', 'ENSG00000159082', 'ENSG00000159131', 'ENSG00000159199', 'ENSG00000159228', 'ENSG00000159231', 'ENSG00000159267', 'ENSG00000159322', 'ENSG00000159337', 'ENSG00000159348', 'ENSG00000159399', 'ENSG00000159423', 'ENSG00000159433', 'ENSG00000159593', 'ENSG00000159640', 'ENSG00000159692', 'ENSG00000159714', 'ENSG00000159720', 'ENSG00000159792', 'ENSG00000159899', 'ENSG00000159921', 'ENSG00000160014', 'ENSG00000160075', 'ENSG00000160145', 'ENSG00000160179', 'ENSG00000160190', 'ENSG00000160191', 'ENSG00000160194', 'ENSG00000160200', 'ENSG00000160209', 'ENSG00000160211', 'ENSG00000160216', 'ENSG00000160226', 'ENSG00000160285', 'ENSG00000160326', 'ENSG00000160408', 'ENSG00000160439', 'ENSG00000160446', 'ENSG00000160447', 'ENSG00000160469', 'ENSG00000160471', 'ENSG00000160539', 'ENSG00000160551', 'ENSG00000160584', 'ENSG00000160602', 'ENSG00000160688', 'ENSG00000160752', 'ENSG00000160867', 'ENSG00000160868', 'ENSG00000161013', 'ENSG00000161217', 'ENSG00000161267', 'ENSG00000161281', 'ENSG00000161533', 'ENSG00000161653', 'ENSG00000161714', 'ENSG00000161798', 'ENSG00000161860', 'ENSG00000161980', 'ENSG00000162040', 'ENSG00000162066', 'ENSG00000162104', 'ENSG00000162139', 'ENSG00000162302', 'ENSG00000162368', 'ENSG00000162383', 'ENSG00000162407', 'ENSG00000162408', 'ENSG00000162409', 'ENSG00000162433', 'ENSG00000162434', 'ENSG00000162482', 'ENSG00000162496', 'ENSG00000162526', 'ENSG00000162551', 'ENSG00000162688', 'ENSG00000162694', 'ENSG00000162733', 'ENSG00000162813', 'ENSG00000162836', 'ENSG00000162882', 'ENSG00000162885', 'ENSG00000162889', 'ENSG00000163002', 'ENSG00000163082', 'ENSG00000163106', 'ENSG00000163131', 'ENSG00000163281', 'ENSG00000163344', 'ENSG00000163349', 'ENSG00000163389', 'ENSG00000163393', 'ENSG00000163482', 'ENSG00000163513', 'ENSG00000163521', 'ENSG00000163527', 'ENSG00000163541', 'ENSG00000163545', 'ENSG00000163558', 'ENSG00000163590', 'ENSG00000163624', 'ENSG00000163629', 'ENSG00000163631', 'ENSG00000163644', 'ENSG00000163655', 'ENSG00000163684', 'ENSG00000163686', 'ENSG00000163719', 'ENSG00000163738', 'ENSG00000163754', 'ENSG00000163755', 'ENSG00000163785', 'ENSG00000163788', 'ENSG00000163803', 'ENSG00000163812', 'ENSG00000163864', 'ENSG00000163882', 'ENSG00000163902', 'ENSG00000163931', 'ENSG00000163932', 'ENSG00000163959', 'ENSG00000163964', 'ENSG00000164023', 'ENSG00000164039', 'ENSG00000164053', 'ENSG00000164068', 'ENSG00000164078', 'ENSG00000164086', 'ENSG00000164088', 'ENSG00000164116', 'ENSG00000164120', 'ENSG00000164181', 'ENSG00000164211', 'ENSG00000164258', 'ENSG00000164294', 'ENSG00000164329', 'ENSG00000164332', 'ENSG00000164347', 'ENSG00000164405', 'ENSG00000164414', 'ENSG00000164434', 'ENSG00000164466', 'ENSG00000164494', 'ENSG00000164535', 'ENSG00000164543', 'ENSG00000164574', 'ENSG00000164638', 'ENSG00000164687', 'ENSG00000164707', 'ENSG00000164708', 'ENSG00000164715', 'ENSG00000164733', 'ENSG00000164776', 'ENSG00000164867', 'ENSG00000164879', 'ENSG00000164885', 'ENSG00000164889', 'ENSG00000164896', 'ENSG00000164904', 'ENSG00000164919', 'ENSG00000164951', 'ENSG00000165025', 'ENSG00000165029', 'ENSG00000165060', 'ENSG00000165092', 'ENSG00000165102', 'ENSG00000165140', 'ENSG00000165195', 'ENSG00000165238', 'ENSG00000165264', 'ENSG00000165269', 'ENSG00000165272', 'ENSG00000165282', 'ENSG00000165304', 'ENSG00000165434', 'ENSG00000165457', 'ENSG00000165458', 'ENSG00000165475', 'ENSG00000165591', 'ENSG00000165609', 'ENSG00000165629', 'ENSG00000165646', 'ENSG00000165671', 'ENSG00000165672', 'ENSG00000165688', 'ENSG00000165695', 'ENSG00000165704', 'ENSG00000165752', 'ENSG00000165782', 'ENSG00000165794', 'ENSG00000165996', 'ENSG00000166016', 'ENSG00000166123', 'ENSG00000166136', 'ENSG00000166165', 'ENSG00000166169', 'ENSG00000166183', 'ENSG00000166224', 'ENSG00000166228', 'ENSG00000166262', 'ENSG00000166311', 'ENSG00000166333', 'ENSG00000166340', 'ENSG00000166394', 'ENSG00000166411', 'ENSG00000166483', 'ENSG00000166484', 'ENSG00000166501', 'ENSG00000166507', 'ENSG00000166548', 'ENSG00000166562', 'ENSG00000166741', 'ENSG00000166747', 'ENSG00000166816', 'ENSG00000166819', 'ENSG00000166821', 'ENSG00000166825', 'ENSG00000166851', 'ENSG00000166908', 'ENSG00000166986', 'ENSG00000167065', 'ENSG00000167103', 'ENSG00000167107', 'ENSG00000167114', 'ENSG00000167130', 'ENSG00000167186', 'ENSG00000167258', 'ENSG00000167280', 'ENSG00000167283', 'ENSG00000167306', 'ENSG00000167315', 'ENSG00000167325', 'ENSG00000167363', 'ENSG00000167393', 'ENSG00000167434', 'ENSG00000167468', 'ENSG00000167508', 'ENSG00000167548', 'ENSG00000167588', 'ENSG00000167600', 'ENSG00000167601', 'ENSG00000167657', 'ENSG00000167658', 'ENSG00000167676', 'ENSG00000167699', 'ENSG00000167701', 'ENSG00000167703', 'ENSG00000167720', 'ENSG00000167733', 'ENSG00000167741', 'ENSG00000167769', 'ENSG00000167772', 'ENSG00000167778', 'ENSG00000167792', 'ENSG00000167815', 'ENSG00000167863', 'ENSG00000167900', 'ENSG00000167910', 'ENSG00000167969', 'ENSG00000167972', 'ENSG00000167996', 'ENSG00000168000', 'ENSG00000168002', 'ENSG00000168003', 'ENSG00000168032', 'ENSG00000168038', 'ENSG00000168067', 'ENSG00000168078', 'ENSG00000168092', 'ENSG00000168237', 'ENSG00000168282', 'ENSG00000168291', 'ENSG00000168306', 'ENSG00000168350', 'ENSG00000168393', 'ENSG00000168404', 'ENSG00000168487', 'ENSG00000168495', 'ENSG00000168575', 'ENSG00000168653', 'ENSG00000168671', 'ENSG00000168679', 'ENSG00000168710', 'ENSG00000168765', 'ENSG00000168781', 'ENSG00000168827', 'ENSG00000168906', 'ENSG00000168907', 'ENSG00000168918', 'ENSG00000168970', 'ENSG00000169020', 'ENSG00000169021', 'ENSG00000169032', 'ENSG00000169071', 'ENSG00000169100', 'ENSG00000169105', 'ENSG00000169118', 'ENSG00000169169', 'ENSG00000169180', 'ENSG00000169239', 'ENSG00000169255', 'ENSG00000169299', 'ENSG00000169302', 'ENSG00000169359', 'ENSG00000169398', 'ENSG00000169410', 'ENSG00000169418', 'ENSG00000169660', 'ENSG00000169679', 'ENSG00000169692', 'ENSG00000169710', 'ENSG00000169738', 'ENSG00000169764', 'ENSG00000169814', 'ENSG00000169826', 'ENSG00000169919', 'ENSG00000169967', 'ENSG00000170145', 'ENSG00000170190', 'ENSG00000170191', 'ENSG00000170222', 'ENSG00000170266', 'ENSG00000170271', 'ENSG00000170312', 'ENSG00000170323', 'ENSG00000170340', 'ENSG00000170364', 'ENSG00000170385', 'ENSG00000170390', 'ENSG00000170426', 'ENSG00000170445', 'ENSG00000170482', 'ENSG00000170485', 'ENSG00000170502', 'ENSG00000170516', 'ENSG00000170522', 'ENSG00000170525', 'ENSG00000170634', 'ENSG00000170734', 'ENSG00000170786', 'ENSG00000170835', 'ENSG00000170836', 'ENSG00000170899', 'ENSG00000170906', 'ENSG00000170961', 'ENSG00000171097', 'ENSG00000171100', 'ENSG00000171105', 'ENSG00000171124', 'ENSG00000171132', 'ENSG00000171155', 'ENSG00000171174', 'ENSG00000171219', 'ENSG00000171234', 'ENSG00000171298', 'ENSG00000171302', 'ENSG00000171307', 'ENSG00000171310', 'ENSG00000171314', 'ENSG00000171408', 'ENSG00000171453', 'ENSG00000171503', 'ENSG00000171608', 'ENSG00000171766', 'ENSG00000171793', 'ENSG00000171848', 'ENSG00000171862', 'ENSG00000171954', 'ENSG00000172053', 'ENSG00000172071', 'ENSG00000172113', 'ENSG00000172197', 'ENSG00000172236', 'ENSG00000172264', 'ENSG00000172269', 'ENSG00000172292', 'ENSG00000172296', 'ENSG00000172315', 'ENSG00000172331', 'ENSG00000172339', 'ENSG00000172340', 'ENSG00000172345', 'ENSG00000172456', 'ENSG00000172482', 'ENSG00000172508', 'ENSG00000172531', 'ENSG00000172543', 'ENSG00000172572', 'ENSG00000172613', 'ENSG00000172728', 'ENSG00000172782', 'ENSG00000172817', 'ENSG00000172828', 'ENSG00000172830', 'ENSG00000172831', 'ENSG00000172840', 'ENSG00000172890', 'ENSG00000172893', 'ENSG00000172939', 'ENSG00000172954', 'ENSG00000172987', 'ENSG00000173083', 'ENSG00000173085', 'ENSG00000173175', 'ENSG00000173221', 'ENSG00000173281', 'ENSG00000173327', 'ENSG00000173418', 'ENSG00000173482', 'ENSG00000173517', 'ENSG00000173540', 'ENSG00000173597', 'ENSG00000173598', 'ENSG00000173599', 'ENSG00000173610', 'ENSG00000173614', 'ENSG00000173638', 'ENSG00000173660', 'ENSG00000173786', 'ENSG00000173846', 'ENSG00000173915', 'ENSG00000174080', 'ENSG00000174156', 'ENSG00000174165', 'ENSG00000174227', 'ENSG00000174233', 'ENSG00000174292', 'ENSG00000174327', 'ENSG00000174437', 'ENSG00000174502', 'ENSG00000174607', 'ENSG00000174640', 'ENSG00000174669', 'ENSG00000174684', 'ENSG00000174886', 'ENSG00000174915', 'ENSG00000174951', 'ENSG00000175003', 'ENSG00000175040', 'ENSG00000175048', 'ENSG00000175054', 'ENSG00000175066', 'ENSG00000175164', 'ENSG00000175198', 'ENSG00000175215', 'ENSG00000175264', 'ENSG00000175283', 'ENSG00000175309', 'ENSG00000175354', 'ENSG00000175445', 'ENSG00000175482', 'ENSG00000175505', 'ENSG00000175535', 'ENSG00000175548', 'ENSG00000175564', 'ENSG00000175567', 'ENSG00000175592', 'ENSG00000175634', 'ENSG00000175711', 'ENSG00000175893', 'ENSG00000176022', 'ENSG00000176095', 'ENSG00000176105', 'ENSG00000176153', 'ENSG00000176170', 'ENSG00000176194', 'ENSG00000176340', 'ENSG00000176383', 'ENSG00000176387', 'ENSG00000176393', 'ENSG00000176444', 'ENSG00000176454', 'ENSG00000176463', 'ENSG00000176485', 'ENSG00000176597', 'ENSG00000176715', 'ENSG00000176890', 'ENSG00000176920', 'ENSG00000176928', 'ENSG00000176974', 'ENSG00000177000', 'ENSG00000177054', 'ENSG00000177076', 'ENSG00000177084', 'ENSG00000177156', 'ENSG00000177169', 'ENSG00000177189', 'ENSG00000177191', 'ENSG00000177239', 'ENSG00000177542', 'ENSG00000177628', 'ENSG00000177646', 'ENSG00000177666', 'ENSG00000177700', 'ENSG00000178035', 'ENSG00000178093', 'ENSG00000178127', 'ENSG00000178234', 'ENSG00000178445', 'ENSG00000178537', 'ENSG00000178607', 'ENSG00000178700', 'ENSG00000178741', 'ENSG00000178773', 'ENSG00000178802', 'ENSG00000178814', 'ENSG00000178921', 'ENSG00000178950', 'ENSG00000178952', 'ENSG00000178999', 'ENSG00000179085', 'ENSG00000179091', 'ENSG00000179115', 'ENSG00000179148', 'ENSG00000179163', 'ENSG00000179295', 'ENSG00000179335', 'ENSG00000179477', 'ENSG00000179593', 'ENSG00000179598', 'ENSG00000179913', 'ENSG00000179958', 'ENSG00000180011', 'ENSG00000180370', 'ENSG00000180432', 'ENSG00000180638', 'ENSG00000180773', 'ENSG00000180776', 'ENSG00000180817', 'ENSG00000180879', 'ENSG00000180953', 'ENSG00000181019', 'ENSG00000181035', 'ENSG00000181045', 'ENSG00000181085', 'ENSG00000181090', 'ENSG00000181192', 'ENSG00000181222', 'ENSG00000181409', 'ENSG00000181523', 'ENSG00000181555', 'ENSG00000181652', 'ENSG00000181789', 'ENSG00000181804', 'ENSG00000181830', 'ENSG00000181856', 'ENSG00000181915', 'ENSG00000182022', 'ENSG00000182054', 'ENSG00000182197', 'ENSG00000182199', 'ENSG00000182224', 'ENSG00000182272', 'ENSG00000182511', 'ENSG00000182541', 'ENSG00000182551', 'ENSG00000182578', 'ENSG00000182580', 'ENSG00000182621', 'ENSG00000182858', 'ENSG00000183010', 'ENSG00000183023', 'ENSG00000183044', 'ENSG00000183048', 'ENSG00000183049', 'ENSG00000183077', 'ENSG00000183421', 'ENSG00000183479', 'ENSG00000183549', 'ENSG00000183648', 'ENSG00000183696', 'ENSG00000183735', 'ENSG00000183760', 'ENSG00000183765', 'ENSG00000183778', 'ENSG00000183828', 'ENSG00000183943', 'ENSG00000183955', 'ENSG00000184007', 'ENSG00000184076', 'ENSG00000184154', 'ENSG00000184203', 'ENSG00000184216', 'ENSG00000184227', 'ENSG00000184254', 'ENSG00000184304', 'ENSG00000184307', 'ENSG00000184343', 'ENSG00000184381', 'ENSG00000184432', 'ENSG00000184470', 'ENSG00000184489', 'ENSG00000184545', 'ENSG00000184588', 'ENSG00000184752', 'ENSG00000184788', 'ENSG00000184860', 'ENSG00000184983', 'ENSG00000185000', 'ENSG00000185015', 'ENSG00000185052', 'ENSG00000185100', 'ENSG00000185133', 'ENSG00000185274', 'ENSG00000185324', 'ENSG00000185344', 'ENSG00000185386', 'ENSG00000185420', 'ENSG00000185483', 'ENSG00000185532', 'ENSG00000185803', 'ENSG00000185808', 'ENSG00000185813', 'ENSG00000185818', 'ENSG00000185825', 'ENSG00000185875', 'ENSG00000185883', 'ENSG00000185973', 'ENSG00000186010', 'ENSG00000186104', 'ENSG00000186111', 'ENSG00000186115', 'ENSG00000186141', 'ENSG00000186153', 'ENSG00000186184', 'ENSG00000186204', 'ENSG00000186281', 'ENSG00000186298', 'ENSG00000186377', 'ENSG00000186529', 'ENSG00000186642', 'ENSG00000186716', 'ENSG00000186792', 'ENSG00000186908', 'ENSG00000187091', 'ENSG00000187097', 'ENSG00000187134', 'ENSG00000187210', 'ENSG00000187486', 'ENSG00000187531', 'ENSG00000187581', 'ENSG00000187630', 'ENSG00000187676', 'ENSG00000188089', 'ENSG00000188130', 'ENSG00000188191', 'ENSG00000188257', 'ENSG00000188266', 'ENSG00000188322', 'ENSG00000188542', 'ENSG00000188641', 'ENSG00000188687', 'ENSG00000188690', 'ENSG00000188706', 'ENSG00000188818', 'ENSG00000188906', 'ENSG00000188921', 'ENSG00000189043', 'ENSG00000189221', 'ENSG00000189366', 'ENSG00000196136', 'ENSG00000196139', 'ENSG00000196177', 'ENSG00000196296', 'ENSG00000196305', 'ENSG00000196313', 'ENSG00000196368', 'ENSG00000196371', 'ENSG00000196396', 'ENSG00000196411', 'ENSG00000196455', 'ENSG00000196502', 'ENSG00000196511', 'ENSG00000196517', 'ENSG00000196547', 'ENSG00000196616', 'ENSG00000196730', 'ENSG00000196743', 'ENSG00000196839', 'ENSG00000196950', 'ENSG00000196968', 'ENSG00000197093', 'ENSG00000197119', 'ENSG00000197121', 'ENSG00000197122', 'ENSG00000197142', 'ENSG00000197208', 'ENSG00000197217', 'ENSG00000197253', 'ENSG00000197296', 'ENSG00000197355', 'ENSG00000197375', 'ENSG00000197406', 'ENSG00000197442', 'ENSG00000197448', 'ENSG00000197496', 'ENSG00000197506', 'ENSG00000197563', 'ENSG00000197580', 'ENSG00000197586', 'ENSG00000197594', 'ENSG00000197601', 'ENSG00000197713', 'ENSG00000197746', 'ENSG00000197763', 'ENSG00000197858', 'ENSG00000197894', 'ENSG00000197943', 'ENSG00000197959', 'ENSG00000198001', 'ENSG00000198074', 'ENSG00000198088', 'ENSG00000198108', 'ENSG00000198130', 'ENSG00000198162', 'ENSG00000198189', 'ENSG00000198246', 'ENSG00000198276', 'ENSG00000198355', 'ENSG00000198380', 'ENSG00000198431', 'ENSG00000198488', 'ENSG00000198586', 'ENSG00000198610', 'ENSG00000198648', 'ENSG00000198668', 'ENSG00000198682', 'ENSG00000198695', 'ENSG00000198712', 'ENSG00000198721', 'ENSG00000198727', 'ENSG00000198743', 'ENSG00000198752', 'ENSG00000198753', 'ENSG00000198763', 'ENSG00000198786', 'ENSG00000198804', 'ENSG00000198805', 'ENSG00000198814', 'ENSG00000198825', 'ENSG00000198840', 'ENSG00000198848', 'ENSG00000198886', 'ENSG00000198888', 'ENSG00000198899', 'ENSG00000198909', 'ENSG00000198910', 'ENSG00000198931', 'ENSG00000198938', 'ENSG00000198951', 'ENSG00000198964', 'ENSG00000203837', 'ENSG00000203857', 'ENSG00000204084', 'ENSG00000204160', 'ENSG00000204217', 'ENSG00000204228', 'ENSG00000204310', 'ENSG00000204344', 'ENSG00000204370', 'ENSG00000204371', 'ENSG00000204386', 'ENSG00000204394', 'ENSG00000204435', 'ENSG00000204580', 'ENSG00000205060', 'ENSG00000205268', 'ENSG00000205309', 'ENSG00000205560', 'ENSG00000205808', 'ENSG00000205923', 'ENSG00000206077', 'ENSG00000206190', 'ENSG00000206203', 'ENSG00000206527', 'ENSG00000211445', 'ENSG00000211448', 'ENSG00000211455', 'ENSG00000211456', 'ENSG00000212907', 'ENSG00000213024', 'ENSG00000213160', 'ENSG00000213341', 'ENSG00000213366', 'ENSG00000213398', 'ENSG00000213614', 'ENSG00000213619', 'ENSG00000213639', 'ENSG00000213689', 'ENSG00000213760', 'ENSG00000213920', 'ENSG00000213923', 'ENSG00000213930', 'ENSG00000214013', 'ENSG00000214160', 'ENSG00000214530', 'ENSG00000215883', 'ENSG00000221823', 'ENSG00000221914', 'ENSG00000221968', 'ENSG00000221988', 'ENSG00000223572', 'ENSG00000225697', 'ENSG00000228253', 'ENSG00000228716', 'ENSG00000228727', 'ENSG00000233276', 'ENSG00000235863', 'ENSG00000237172', 'ENSG00000237289', 'ENSG00000239672', 'ENSG00000239900', 'ENSG00000240038', 'ENSG00000240583', 'ENSG00000240857', 'ENSG00000241119', 'ENSG00000241258', 'ENSG00000241343', 'ENSG00000241404', 'ENSG00000241468', 'ENSG00000241837', 'ENSG00000241878', 'ENSG00000241935', 'ENSG00000241973', 'ENSG00000242110', 'ENSG00000242366', 'ENSG00000242612', 'ENSG00000243477', 'ENSG00000243678', 'ENSG00000243708', 'ENSG00000243989', 'ENSG00000244038', 'ENSG00000244486', 'ENSG00000247077', 'ENSG00000248098', 'ENSG00000248333', 'ENSG00000250506', 'ENSG00000250565', 'ENSG00000250741', 'ENSG00000253710', 'ENSG00000253729', 'ENSG00000254087', 'ENSG00000254505', 'ENSG00000254685', 'ENSG00000255072', 'ENSG00000256043', 'ENSG00000256269', 'ENSG00000256525', 'ENSG00000257594', 'ENSG00000259030', 'ENSG00000259075', 'ENSG00000259431', 'ENSG00000259916', 'ENSG00000263528', 'ENSG00000265203', 'ENSG00000266200', 'ENSG00000268104', 'ENSG00000268606', 'ENSG00000272325', 'ENSG00000272333', 'ENSG00000272916', 'ENSG00000273841', 'ENSG00000274252', 'ENSG00000274391', 'ENSG00000274588', 'ENSG00000275183', 'ENSG00000275342', 'ENSG00000276023', 'ENSG00000276231', 'ENSG00000276293', 'ENSG00000276747', 'ENSG00000277161', 'ENSG00000277494', 'ENSG00000277893', 'ENSG00000278540', 'ENSG00000282301', 'ENSG00000284844', 'ENSG00000285043', 'ENSG00000285269', 'ENSG00000288702', 'ENSG00000288705']\n"
     ]
    }
   ],
   "source": [
    "# Filter genes by submodel\n",
    "genes = model.genes\n",
    "genes = [gene.id for gene in genes]\n",
    "print(genes)\n",
    "filtered_SNPs = pd.read_table('C:/Users/Sigve/Genome_Data/results/SNPs_for_FBA.tsv', index_col=0)\n",
    "\n",
    "filtered_SNPs = filtered_SNPs[filtered_SNPs['gene_id'].str.contains('|'.join(genes), regex=True)]\n",
    "filtered_SNPs.reset_index(inplace=True, drop=True)\n",
    "filtered_SNPs.to_csv(path_or_buf='C:/Users/Sigve/Genome_Data/results/SNPs_for_FBA.tsv',  sep='\\t')"
   ],
   "metadata": {
    "collapsed": false,
    "pycharm": {
     "name": "#%%\n"
    }
   }
  },
  {
   "cell_type": "code",
   "execution_count": 4,
   "outputs": [
    {
     "name": "stdout",
     "output_type": "stream",
     "text": [
      "    chrom    pos        ref alt         rsids nearest_genes  \\\n",
      "0       1  10612          A   C  rs1441784962         OR4F5   \n",
      "1       1  10894          G   A           NaN         OR4F5   \n",
      "2       1  10915          G   A           NaN         OR4F5   \n",
      "3       1  10930          G   A           NaN         OR4F5   \n",
      "4       1  10989          G   A           NaN         OR4F5   \n",
      "5       1  11171      CCTTG   C           NaN         OR4F5   \n",
      "6       1  13973          T   C           NaN         OR4F5   \n",
      "7       1  14003          C   T           NaN         OR4F5   \n",
      "8       1  14022          G   A           NaN         OR4F5   \n",
      "9       1  16096        CTG   C  rs1158604711         OR4F5   \n",
      "10      1  23197     TTAAAA   T  rs1220638906         OR4F5   \n",
      "11      1  23308          G   C           NaN         OR4F5   \n",
      "12      1  24928          A   G           NaN         OR4F5   \n",
      "13      1  24963         GT   G           NaN         OR4F5   \n",
      "14      1  29126          T   C           NaN         OR4F5   \n",
      "15      1  31020          G   T           NaN         OR4F5   \n",
      "16      1  39601          T   C  rs1570401114         OR4F5   \n",
      "17      1  39743         TA   T           NaN         OR4F5   \n",
      "18      1  39897          C   T           NaN         OR4F5   \n",
      "19      1  47338          G   C  rs1212069996         OR4F5   \n",
      "20      1  47628        AAT   A           NaN         OR4F5   \n",
      "21      1  47647          G   T           NaN         OR4F5   \n",
      "22      1  48824          T   C           NaN         OR4F5   \n",
      "23      1  48867        TAC   T  rs1487659219         OR4F5   \n",
      "24      1  49850          C   T           NaN         OR4F5   \n",
      "25      1  51083         AT   A           NaN         OR4F5   \n",
      "26      1  52727          C   G     rs2691278         OR4F5   \n",
      "27      1  53552          A   G           NaN         OR4F5   \n",
      "28      1  54272          A   G  rs1424399433         OR4F5   \n",
      "29      1  54490          G   A   rs141149254         OR4F5   \n",
      "30      1  55342          G   C  rs1312387168         OR4F5   \n",
      "31      1  56641          C   T  rs1403682964         OR4F5   \n",
      "32      1  58441  ATAGACCGC   A  rs1359219863         OR4F5   \n",
      "33      1  60113     CTTCAT   C  rs1348133722         OR4F5   \n",
      "34      1  60351          A   G    rs62637817         OR4F5   \n",
      "35      1  60783          A   T  rs1242779979         OR4F5   \n",
      "36      1  62445          T   A  rs1369445257         OR4F5   \n",
      "37      1  64931          G   A    rs62639104         OR4F5   \n",
      "38      1  66861          C   T    rs28375825         OR4F5   \n",
      "39      1  68807          A   G  rs1487991286         OR4F5   \n",
      "\n",
      "                           consequence   pval   beta  sebeta        af  \\\n",
      "0                upstream_gene_variant  0.590 -1.500   2.800  0.000052   \n",
      "1                upstream_gene_variant  0.500  0.700   1.000  0.000660   \n",
      "2                upstream_gene_variant  0.980 -0.027   1.100  0.000490   \n",
      "3                upstream_gene_variant  0.890  0.120   0.830  0.001300   \n",
      "4                upstream_gene_variant  0.730  0.240   0.700  0.001600   \n",
      "5                upstream_gene_variant  0.170  0.210   0.150  0.041000   \n",
      "6   non_coding_transcript_exon_variant  0.350  2.300   2.500  0.000240   \n",
      "7   non_coding_transcript_exon_variant  0.770 -0.690   2.400  0.000220   \n",
      "8   non_coding_transcript_exon_variant  0.840 -0.490   2.500  0.000180   \n",
      "9                       intron_variant  0.550 -1.400   2.300  0.000074   \n",
      "10                      intron_variant  0.450  0.300   0.400  0.005800   \n",
      "11                      intron_variant  0.350 -0.230   0.250  0.015000   \n",
      "12                      intron_variant  0.890 -0.094   0.690  0.001500   \n",
      "13                      intron_variant  0.480  0.160   0.230  0.017000   \n",
      "14                      intron_variant  0.700 -0.490   1.300  0.000410   \n",
      "15  non_coding_transcript_exon_variant  0.830  0.820   3.800  0.000075   \n",
      "16               upstream_gene_variant  0.740 -0.470   1.400  0.000480   \n",
      "17               upstream_gene_variant  0.240  1.400   1.200  0.000560   \n",
      "18               upstream_gene_variant  0.730 -1.200   3.400  0.000073   \n",
      "19                  intergenic_variant  0.630 -1.300   2.700  0.000053   \n",
      "20               upstream_gene_variant  0.720  1.100   3.200  0.000200   \n",
      "21               upstream_gene_variant  0.880 -0.100   0.700  0.001800   \n",
      "22               upstream_gene_variant  0.110 -0.260   0.160  0.038000   \n",
      "23               upstream_gene_variant  0.300  0.680   0.650  0.002100   \n",
      "24               upstream_gene_variant  0.710  0.380   1.000  0.000550   \n",
      "25               upstream_gene_variant  0.770 -0.130   0.450  0.004100   \n",
      "26  non_coding_transcript_exon_variant  0.800 -0.610   2.500  0.000230   \n",
      "27               upstream_gene_variant  0.520 -0.780   1.200  0.000330   \n",
      "28               upstream_gene_variant  0.500 -2.100   3.100  0.000061   \n",
      "29               upstream_gene_variant  0.700  0.031   0.079  0.190000   \n",
      "30               upstream_gene_variant  0.340  2.100   2.200  0.000090   \n",
      "31               upstream_gene_variant  0.590 -1.600   3.000  0.000062   \n",
      "32                      intron_variant  0.560 -1.000   1.800  0.000110   \n",
      "33                      intron_variant  0.027  5.100   2.300  0.000190   \n",
      "34                      intron_variant  0.850  0.026   0.130  0.061000   \n",
      "35                      intron_variant  0.540 -1.700   2.800  0.000110   \n",
      "36                      intron_variant  0.440 -1.500   2.000  0.000100   \n",
      "37               upstream_gene_variant  0.680  0.056   0.140  0.059000   \n",
      "38                      intron_variant  0.370 -0.200   0.230  0.020000   \n",
      "39                      intron_variant  0.690 -0.340   0.850  0.000680   \n",
      "\n",
      "     case_af  control_af  tstat  \n",
      "0   0.000006    0.000052 -0.190  \n",
      "1   0.000860    0.000660  0.660  \n",
      "2   0.000510    0.000490 -0.025  \n",
      "3   0.001300    0.001300  0.170  \n",
      "4   0.001700    0.001600  0.490  \n",
      "5   0.044000    0.041000  9.000  \n",
      "6   0.000320    0.000240  0.370  \n",
      "7   0.000180    0.000220 -0.120  \n",
      "8   0.000160    0.000180 -0.079  \n",
      "9   0.000002    0.000075 -0.260  \n",
      "10  0.006300    0.005800  1.900  \n",
      "11  0.014000    0.015000 -3.800  \n",
      "12  0.001500    0.001500 -0.200  \n",
      "13  0.018000    0.017000  3.000  \n",
      "14  0.000340    0.000410 -0.300  \n",
      "15  0.000081    0.000075  0.056  \n",
      "16  0.000400    0.000480 -0.230  \n",
      "17  0.000820    0.000560  1.000  \n",
      "18  0.000051    0.000073 -0.100  \n",
      "19  0.000000    0.000053 -0.180  \n",
      "20  0.000230    0.000200  0.110  \n",
      "21  0.001700    0.001800 -0.210  \n",
      "22  0.036000    0.038000 -9.800  \n",
      "23  0.002500    0.002100  1.600  \n",
      "24  0.000650    0.000550  0.360  \n",
      "25  0.004000    0.004100 -0.650  \n",
      "26  0.000190    0.000230 -0.100  \n",
      "27  0.000210    0.000330 -0.520  \n",
      "28  0.000006    0.000061 -0.220  \n",
      "29  0.190000    0.190000  4.900  \n",
      "30  0.000220    0.000090  0.440  \n",
      "31  0.000000    0.000062 -0.180  \n",
      "32  0.000024    0.000110 -0.330  \n",
      "33  0.000500    0.000190  1.200  \n",
      "34  0.061000    0.061000  1.400  \n",
      "35  0.000061    0.000110 -0.220  \n",
      "36  0.000000    0.000110 -0.380  \n",
      "37  0.060000    0.059000  3.000  \n",
      "38  0.019000    0.020000 -3.900  \n",
      "39  0.000580    0.000680 -0.470  \n"
     ]
    }
   ],
   "source": [],
   "metadata": {
    "collapsed": false,
    "pycharm": {
     "name": "#%%\n"
    }
   }
  }
 ],
 "metadata": {
  "kernelspec": {
   "display_name": "Python 3",
   "language": "python",
   "name": "python3"
  },
  "language_info": {
   "codemirror_mode": {
    "name": "ipython",
    "version": 2
   },
   "file_extension": ".py",
   "mimetype": "text/x-python",
   "name": "python",
   "nbconvert_exporter": "python",
   "pygments_lexer": "ipython2",
   "version": "2.7.6"
  }
 },
 "nbformat": 4,
 "nbformat_minor": 0
}