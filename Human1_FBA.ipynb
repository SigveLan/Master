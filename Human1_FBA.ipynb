{
 "cells": [
  {
   "cell_type": "code",
   "execution_count": 2,
   "metadata": {
    "collapsed": true,
    "pycharm": {
     "name": "#%%\n"
    }
   },
   "outputs": [
    {
     "name": "stdout",
     "output_type": "stream",
     "text": [
      "Academic license - for non-commercial use only - expires 2022-10-03\n",
      "Using license file c:\\gurobi\\gurobi.lic\n",
      "Model load time: 42.933011 seconds\n"
     ]
    }
   ],
   "source": [
    "import pandas as pd\n",
    "import cobra.flux_analysis\n",
    "import time\n",
    "from functools import partial\n",
    "from src.mp_functions import combinations_subset, parallelize_dataframe, knockout_FBA\n",
    "\n",
    "\n",
    "\"\"\"A mess of a document with different code cells.\n",
    "Good to to use for any testing that involves the Recon3D model as it takes some time to load in.\"\"\"\n",
    "\n",
    "start_time = time.time()\n",
    "model_file_path = 'C:/Users/Sigve/Genome_Data/Human1/Human1_GEM/Human-GEM.mat'\n",
    "model = cobra.io.load_matlab_model(model_file_path)\n",
    "\n",
    "end_time = time.time()\n",
    "print('Model load time: %.6f seconds' % (end_time - start_time))"
   ]
  },
  {
   "cell_type": "code",
   "execution_count": 3,
   "outputs": [],
   "source": [
    "SNP_results = pd.read_table('C:/Users/Sigve/Genome_Data/results/SNPs_non_synonymous.tsv', index_col=0)\n",
    "\n",
    "# Prepare SNP combinations; lists genes to knock out by model id.\n",
    "combinations = pd.read_table('C:/Users/Sigve/Genome_Data/results/SNP_combinations.tsv', index_col=0)\n",
    "combinations['gene_ids'] = combinations['gene_ids'].apply(lambda x: x.split(';'))\n"
   ],
   "metadata": {
    "collapsed": false,
    "pycharm": {
     "name": "#%%\n"
    }
   }
  },
  {
   "cell_type": "code",
   "execution_count": 4,
   "outputs": [
    {
     "name": "stdout",
     "output_type": "stream",
     "text": [
      "FBA run time: 46.810802 seconds\n"
     ]
    }
   ],
   "source": [
    "# FBA code cell\n",
    "start_time = time.time()\n",
    "\n",
    "\n",
    "# Does not work if model imported as sbml for some reason\n",
    "combinations = parallelize_dataframe(combinations, partial(combinations_subset, partial(knockout_FBA, model)), 8)\n",
    "\n",
    "# Code for single thread FBA\n",
    "#combinations['results'] = combinations['gene_ids'].apply(partial(knockout_FBA, model))\n",
    "\n",
    "\n",
    "combinations.to_csv(path_or_buf='C:/Users/Sigve/Genome_Data/results/test.tsv', sep='\\t')\n",
    "\n",
    "end_time = time.time()\n",
    "print('FBA run time: %.6f seconds' % (end_time - start_time))"
   ],
   "metadata": {
    "collapsed": false,
    "pycharm": {
     "name": "#%%\n"
    }
   }
  },
  {
   "cell_type": "code",
   "execution_count": 5,
   "outputs": [
    {
     "name": "stdout",
     "output_type": "stream",
     "text": [
      "SNP_ids     rs9827;rs4988323;rs547552367;rs182737113;rs190...\n",
      "gene_ids    [ENSG00000078237, ENSG00000124789, ENSG0000011...\n",
      "results                     <Solution 0.000 at 0x1ad370f3940>\n",
      "Name: 1, dtype: object\n",
      "SNP_ids     rs531900792;rs187915150;rs61752937;rs61753543;...\n",
      "gene_ids    [ENSG00000133706, ENSG00000162434, ENSG0000012...\n",
      "results                     <Solution 0.000 at 0x1ad3ad204f0>\n",
      "Name: 4, dtype: object\n",
      "SNP_ids     rs546148482;rs117145430;rs9997664;rs140078589;...\n",
      "gene_ids    [ENSG00000110328, ENSG00000139370, ENSG0000012...\n",
      "results                     <Solution 0.000 at 0x1ad3ad07e80>\n",
      "Name: 7, dtype: object\n",
      "SNP_ids     rs181476100;rs189865294;rs548917691;rs74583923...\n",
      "gene_ids    [ENSG00000130816, ENSG00000031698, ENSG0000017...\n",
      "results                     <Solution 0.000 at 0x1ad3ad09b20>\n",
      "Name: 10, dtype: object\n",
      "SNP_ids     rs138534343;rs149122082;rs140611183;rs56466485...\n",
      "gene_ids    [ENSG00000010219, ENSG00000117543, ENSG0000015...\n",
      "results                     <Solution 0.000 at 0x1ad38f5b0a0>\n",
      "Name: 24, dtype: object\n",
      "SNP_ids     rs149516642;rs202213704;rs532170204;rs14003336...\n",
      "gene_ids    [ENSG00000127481, ENSG00000205808, ENSG0000016...\n",
      "results                     <Solution 0.000 at 0x1ad370f3bb0>\n",
      "Name: 25, dtype: object\n",
      "SNP_ids     rs531678054;rs188260549;rs201659022;rs11745964...\n",
      "gene_ids    [ENSG00000159063, ENSG00000155313, ENSG0000012...\n",
      "results                     <Solution 0.000 at 0x1ad38803130>\n",
      "Name: 26, dtype: object\n",
      "SNP_ids                    rs41313335;rs200130757;rs181391360\n",
      "gene_ids    [ENSG00000126883, ENSG00000060762, ENSG0000027...\n",
      "results                     <Solution 0.000 at 0x1ad387db190>\n",
      "Name: 27, dtype: object\n",
      "SNP_ids     rs62028301;rs185404214;rs184843856;rs534963429...\n",
      "gene_ids    [ENSG00000182578, ENSG00000160014, ENSG0000013...\n",
      "results                     <Solution 0.000 at 0x1ad36ef03a0>\n",
      "Name: 34, dtype: object\n",
      "SNP_ids     rs41313335;rs539744059;rs186885763;rs192839993...\n",
      "gene_ids    [ENSG00000275342, ENSG00000126883, ENSG0000016...\n",
      "results                     <Solution 0.000 at 0x1ad36ef0fa0>\n",
      "Name: 36, dtype: object\n",
      "SNP_ids     rs565561615;rs188832143;rs368911648;rs75242197...\n",
      "gene_ids    [ENSG00000074416, ENSG00000132681, ENSG0000011...\n",
      "results                     <Solution 0.000 at 0x1ad36f0bbe0>\n",
      "Name: 38, dtype: object\n",
      "SNP_ids     rs7195766;rs563864559;rs115192201;rs182526962;...\n",
      "gene_ids    [ENSG00000173175, ENSG00000125450, ENSG0000008...\n",
      "results                     <Solution 0.000 at 0x1ad36f01460>\n",
      "Name: 42, dtype: object\n",
      "SNP_ids     rs138667170;rs191358047;rs140611183;rs13801262...\n",
      "gene_ids    [ENSG00000159063, ENSG00000167900, ENSG0000011...\n",
      "results                     <Solution 0.000 at 0x1ad36ef9ca0>\n",
      "Name: 46, dtype: object\n",
      "SNP_ids       rs528265680;rs137866662;rs563146508;rs186000461\n",
      "gene_ids    [ENSG00000135587, ENSG00000163631, ENSG0000011...\n",
      "results                     <Solution 0.000 at 0x1ad36efaee0>\n",
      "Name: 49, dtype: object\n",
      "SNP_ids     rs7195766;rs533902103;rs1805458;rs187765712;rs...\n",
      "gene_ids    [ENSG00000083799, ENSG00000152894, ENSG0000010...\n",
      "results                     <Solution 0.000 at 0x1ad370f3190>\n",
      "Name: 50, dtype: object\n",
      "SNP_ids     rs144972633;rs560509981;rs534963429;rs14886739...\n",
      "gene_ids    [ENSG00000150712, ENSG00000141736, ENSG0000010...\n",
      "results                     <Solution 0.000 at 0x1ad387e2c70>\n",
      "Name: 60, dtype: object\n",
      "SNP_ids                    rs567205851;rs138012628;rs28854896\n",
      "gene_ids    [ENSG00000166986, ENSG00000103150, ENSG0000013...\n",
      "results                     <Solution 0.000 at 0x1ad37008370>\n",
      "Name: 69, dtype: object\n",
      "SNP_ids     rs561160805;rs62436102;rs777919568;rs570255072...\n",
      "gene_ids    [ENSG00000011485, ENSG00000155085, ENSG0000013...\n",
      "results                     <Solution 0.000 at 0x1ad37008970>\n",
      "Name: 70, dtype: object\n",
      "SNP_ids     rs75112878;rs574629052;rs536105762;rs184843856...\n",
      "gene_ids    [ENSG00000175198, ENSG00000160014, ENSG0000018...\n",
      "results                     <Solution 0.000 at 0x1ad36ffe5b0>\n",
      "Name: 72, dtype: object\n",
      "SNP_ids     rs553333705;rs576625945;rs567513251;rs7871698;...\n",
      "gene_ids    [ENSG00000130816, ENSG00000137204, ENSG0000014...\n",
      "results                     <Solution 0.000 at 0x1ad37266cd0>\n",
      "Name: 79, dtype: object\n",
      "SNP_ids     rs563864559;rs184275835;rs376165197;rs18559193...\n",
      "gene_ids    [ENSG00000133706, ENSG00000196139, ENSG0000015...\n",
      "results                     <Solution 0.000 at 0x1ad38519a30>\n",
      "Name: 86, dtype: object\n",
      "SNP_ids     rs9683346;rs376165197;rs182917152;rs146424681;...\n",
      "gene_ids    [ENSG00000160145, ENSG00000126883, ENSG0000019...\n",
      "results                     <Solution 0.000 at 0x1ad385248b0>\n",
      "Name: 91, dtype: object\n",
      "SNP_ids                   rs571750511;rs145228873;rs145967302\n",
      "gene_ids    [ENSG00000130816, ENSG00000173193, ENSG0000004...\n",
      "results                     <Solution 0.000 at 0x1ad38543ca0>\n",
      "Name: 98, dtype: object\n",
      "SNP_ids     rs145811180;rs541931001;rs147722079;rs54989189...\n",
      "gene_ids    [ENSG00000163295, ENSG00000162688, ENSG0000014...\n",
      "results                   <Solution 155.555 at 0x1ad3856d190>\n",
      "Name: 100, dtype: object\n",
      "SNP_ids       rs193032675;rs753599032;rs187915150;rs191164783\n",
      "gene_ids    [ENSG00000115657, ENSG00000149527, ENSG0000016...\n",
      "results                     <Solution 0.000 at 0x1ad36a3c640>\n",
      "Name: 102, dtype: object\n",
      "SNP_ids     rs753595065;rs191758317;rs184022095;rs20221370...\n",
      "gene_ids    [ENSG00000104951, ENSG00000148090, ENSG0000016...\n",
      "results                     <Solution 0.000 at 0x1ad3733dc10>\n",
      "Name: 107, dtype: object\n",
      "SNP_ids     rs187870461;rs529916810;rs17400325;rs538348882...\n",
      "gene_ids    [ENSG00000121879, ENSG00000159063, ENSG0000015...\n",
      "results                     <Solution 0.000 at 0x1ad3737c250>\n",
      "Name: 108, dtype: object\n",
      "SNP_ids     rs546529100;rs117145430;rs189251397;rs54891769...\n",
      "gene_ids    [ENSG00000031698, ENSG00000136877, ENSG0000008...\n",
      "results                     <Solution 0.000 at 0x1ad3737d730>\n",
      "Name: 114, dtype: object\n",
      "SNP_ids     rs565561615;rs140611183;rs9997664;rs145127755;...\n",
      "gene_ids    [ENSG00000125450, ENSG00000114062, ENSG0000007...\n",
      "results                     <Solution 0.000 at 0x1ad37346e50>\n",
      "Name: 118, dtype: object\n",
      "SNP_ids     rs567899360;rs541428129;rs139196637;rs56833078...\n",
      "gene_ids    [ENSG00000133083, ENSG00000091436, ENSG0000014...\n",
      "results                     <Solution 0.000 at 0x1ad37370c10>\n",
      "Name: 120, dtype: object\n",
      "SNP_ids     rs145811180;rs116838088;rs549278344;rs11147692...\n",
      "gene_ids    [ENSG00000162688, ENSG00000037757, ENSG0000007...\n",
      "results                   <Solution 155.555 at 0x1ad37372250>\n",
      "Name: 121, dtype: object\n",
      "SNP_ids     rs138667170;rs149315260;rs185404214;rs52877227...\n",
      "gene_ids    [ENSG00000038382, ENSG00000138750, ENSG0000011...\n",
      "results                     <Solution 0.000 at 0x1ad36f2af40>\n",
      "Name: 128, dtype: object\n",
      "SNP_ids                   rs191266198;rs371015963;rs183577828\n",
      "gene_ids    [ENSG00000133706, ENSG00000158089, ENSG0000016...\n",
      "results                     <Solution 0.000 at 0x1ad385786d0>\n",
      "Name: 135, dtype: object\n",
      "SNP_ids       rs753595972;rs779667041;rs149176417;rs183577828\n",
      "gene_ids    [ENSG00000133706, ENSG00000117461, ENSG0000018...\n",
      "results                     <Solution 0.000 at 0x1ad38580310>\n",
      "Name: 137, dtype: object\n",
      "SNP_ids     rs184192680;rs140144995;rs180724576;rs14669813...\n",
      "gene_ids    [ENSG00000162688, ENSG00000126088, ENSG0000012...\n",
      "results                   <Solution 155.555 at 0x1ad3724b190>\n",
      "Name: 142, dtype: object\n",
      "SNP_ids     rs530682126;rs190772927;rs112190237;rs11327888...\n",
      "gene_ids    [ENSG00000142875, ENSG00000141736, ENSG0000016...\n",
      "results                     <Solution 0.000 at 0x1ad372669d0>\n",
      "Name: 146, dtype: object\n",
      "SNP_ids     rs184192680;rs185867127;rs576625945;rs14718543...\n",
      "gene_ids    [ENSG00000162688, ENSG00000097046, ENSG0000017...\n",
      "results                   <Solution 155.555 at 0x1ad37266fd0>\n",
      "Name: 147, dtype: object\n",
      "SNP_ids     rs558047438;rs752457024;rs111254644;rs56386455...\n",
      "gene_ids    [ENSG00000133706, ENSG00000164023, ENSG0000010...\n",
      "results                     <Solution 0.000 at 0x1ad36a3c760>\n",
      "Name: 161, dtype: object\n",
      "SNP_ids       rs188290292;rs144688186;rs574553597;rs542537167\n",
      "gene_ids    [ENSG00000059377, ENSG00000124789, ENSG0000012...\n",
      "results                     <Solution 0.000 at 0x1ad36a29a60>\n",
      "Name: 172, dtype: object\n",
      "SNP_ids     rs541428129;rs190646469;rs7871698;rs186896996;...\n",
      "gene_ids    [ENSG00000150712, ENSG00000168159, ENSG0000012...\n",
      "results                     <Solution 0.000 at 0x1ad373469d0>\n",
      "Name: 178, dtype: object\n",
      "SNP_ids     rs140144995;rs147417369;rs9827;rs758991403;rs5...\n",
      "gene_ids    [ENSG00000177084, ENSG00000169814, ENSG0000007...\n",
      "results                     <Solution 0.000 at 0x1ad37183640>\n",
      "Name: 184, dtype: object\n",
      "SNP_ids     rs117723174;rs146349610;rs140611183;rs52991681...\n",
      "gene_ids    [ENSG00000157020, ENSG00000054267, ENSG0000011...\n",
      "results                     <Solution 0.000 at 0x1ad385b1280>\n",
      "Name: 186, dtype: object\n",
      "SNP_ids                     rs144499466;rs771374146;rs7871698\n",
      "gene_ids    [ENSG00000151292, ENSG00000126883, ENSG0000012...\n",
      "results                     <Solution 0.000 at 0x1ad385bb4c0>\n",
      "Name: 189, dtype: object\n",
      "SNP_ids     rs187033484;rs190646469;rs188025650;rs77181143...\n",
      "gene_ids    [ENSG00000065613, ENSG00000124568, ENSG0000012...\n",
      "results                     <Solution 0.000 at 0x1ad385bbac0>\n",
      "Name: 190, dtype: object\n"
     ]
    }
   ],
   "source": [
    "# Check for non nominal results\n",
    "for i, result in combinations.iterrows():\n",
    "    res = result['results'].objective_value\n",
    "    if int(res) < 187:\n",
    "        print(result)"
   ],
   "metadata": {
    "collapsed": false,
    "pycharm": {
     "name": "#%%\n"
    }
   }
  },
  {
   "cell_type": "code",
   "execution_count": 6,
   "outputs": [
    {
     "data": {
      "text/plain": "ENSG00000155657    18\nENSG00000159063    13\nENSG00000142875    13\nENSG00000185803    11\nENSG00000126883     9\n                   ..\nENSG00000060762     1\nENSG00000198919     1\nENSG00000136872     1\nENSG00000075975     1\nENSG00000147548     1\nLength: 537, dtype: int64"
     },
     "execution_count": 6,
     "metadata": {},
     "output_type": "execute_result"
    }
   ],
   "source": [
    "gene_lists = combinations['gene_ids'].to_list()\n",
    "gene_lists = [ids for sublist in gene_lists for ids in sublist]\n",
    "\n",
    "counts = pd.Series(gene_lists).value_counts()\n",
    "counts"
   ],
   "metadata": {
    "collapsed": false,
    "pycharm": {
     "name": "#%%\n"
    }
   }
  },
  {
   "cell_type": "code",
   "execution_count": 7,
   "outputs": [
    {
     "name": "stdout",
     "output_type": "stream",
     "text": [
      "ENSG00000103024\n"
     ]
    },
    {
     "data": {
      "text/plain": "<Gene ENSG00000103024 at 0x1ad3d74d7f0>",
      "text/html": "\n        <table>\n            <tr>\n                <td><strong>Gene identifier</strong></td><td>ENSG00000103024</td>\n            </tr><tr>\n                <td><strong>Name</strong></td><td></td>\n            </tr><tr>\n                <td><strong>Memory address</strong></td>\n                <td>0x01ad3d74d7f0</td>\n            </tr><tr>\n                <td><strong>Functional</strong></td><td>False</td>\n            </tr><tr>\n                <td><strong>In 26 reaction(s)</strong></td><td>\n                    MAR07883, MAR04908, MAR04675, MAR04291, MAR04016, MAR04907, MAR04570, MAR04670, MAR07890, MAR04635, MAR04018, MAR04572, MAR07894, MAR06614, MAR07878, MAR04420, MAR04673, MAR06615, MAR04906,...</td>\n            </tr>\n        </table>"
     },
     "execution_count": 7,
     "metadata": {},
     "output_type": "execute_result"
    }
   ],
   "source": [
    "# Test stuff\n",
    "\n",
    "#print(model.reactions.MAR04908.genes)\n",
    "#print(model.reactions.MAR04908.gene_reaction_rule)\n",
    "print(model.genes.get_by_id('ENSG00000103024'))\n",
    "\n",
    "#model.genes.ENSG00000103024.knock_out()\n",
    "gene = model.genes.get_by_id('ENSG00000103024')\n",
    "gene\n"
   ],
   "metadata": {
    "collapsed": false,
    "pycharm": {
     "name": "#%%\n"
    }
   }
  }
 ],
 "metadata": {
  "kernelspec": {
   "display_name": "Python 3",
   "language": "python",
   "name": "python3"
  },
  "language_info": {
   "codemirror_mode": {
    "name": "ipython",
    "version": 2
   },
   "file_extension": ".py",
   "mimetype": "text/x-python",
   "name": "python",
   "nbconvert_exporter": "python",
   "pygments_lexer": "ipython2",
   "version": "2.7.6"
  }
 },
 "nbformat": 4,
 "nbformat_minor": 0
}