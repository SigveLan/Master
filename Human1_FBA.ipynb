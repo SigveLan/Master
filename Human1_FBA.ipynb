{
 "cells": [
  {
   "cell_type": "code",
   "execution_count": 5,
   "metadata": {
    "collapsed": true,
    "pycharm": {
     "name": "#%%\n"
    }
   },
   "outputs": [
    {
     "name": "stdout",
     "output_type": "stream",
     "text": [
      "Model load time: 43.273007 seconds\n"
     ]
    }
   ],
   "source": [
    "import pandas as pd\n",
    "import cobra.flux_analysis\n",
    "import time\n",
    "from functools import partial\n",
    "from src.mp_functions import combinations_subset, parallelize_dataframe, knockout_FBA\n",
    "\n",
    "\n",
    "\"\"\"A mess of a document with different code cells.\n",
    "Good to to use for any testing that involves the Recon3D model as it takes some time to load in.\"\"\"\n",
    "\n",
    "start_time = time.time()\n",
    "model_file_path = 'C:/Users/Sigve/Genome_Data/Human1/Human1_GEM/Human-GEM.mat'\n",
    "model = cobra.io.load_matlab_model(model_file_path)\n",
    "\n",
    "end_time = time.time()\n",
    "print('Model load time: %.6f seconds' % (end_time - start_time))"
   ]
  },
  {
   "cell_type": "code",
   "execution_count": 2,
   "outputs": [
    {
     "name": "stderr",
     "output_type": "stream",
     "text": [
      "C:\\Users\\Sigve\\miniconda3\\envs\\Master\\lib\\site-packages\\IPython\\core\\interactiveshell.py:3441: DtypeWarning: Columns (2) have mixed types.Specify dtype option on import or set low_memory=False.\n",
      "  exec(code_obj, self.user_global_ns, self.user_ns)\n"
     ]
    }
   ],
   "source": [
    "SNP_results = pd.read_table('C:/Users/Sigve/Genome_Data/results/SNPs_non_synonymous.tsv', index_col=0)\n",
    "\n",
    "# Prepare SNP combinations; lists genes to knock out by model id.\n",
    "combinations = pd.read_table('C:/Users/Sigve/Genome_Data/results/SNP_combinations.tsv', index_col=0)\n",
    "combinations['gene_ids'] = combinations['gene_ids'].apply(lambda x: x.split(';'))\n"
   ],
   "metadata": {
    "collapsed": false,
    "pycharm": {
     "name": "#%%\n"
    }
   }
  },
  {
   "cell_type": "code",
   "execution_count": 7,
   "outputs": [
    {
     "name": "stdout",
     "output_type": "stream",
     "text": [
      "FBA run time: 172.728217 seconds\n"
     ]
    }
   ],
   "source": [
    "# FBA code cell\n",
    "start_time = time.time()\n",
    "\n",
    "\n",
    "# Does not work if model imported as sbml for some reason\n",
    "combinations = parallelize_dataframe(combinations, partial(combinations_subset, partial(knockout_FBA, model)), 8)\n",
    "\n",
    "# Code for single thread FBA\n",
    "#combinations['results'] = combinations['gene_ids'].apply(partial(knockout_FBA, model))\n",
    "\n",
    "\n",
    "combinations.to_csv(path_or_buf='C:/Users/Sigve/Genome_Data/results/test.tsv', sep='\\t')\n",
    "\n",
    "end_time = time.time()\n",
    "print('FBA run time: %.6f seconds' % (end_time - start_time))"
   ],
   "metadata": {
    "collapsed": false,
    "pycharm": {
     "name": "#%%\n"
    }
   }
  },
  {
   "cell_type": "code",
   "execution_count": 5,
   "outputs": [
    {
     "name": "stdout",
     "output_type": "stream",
     "text": [
      "SNP_ids     rs9827;rs4988323;rs547552367;rs182737113;rs190...\n",
      "gene_ids    [ENSG00000078237, ENSG00000124789, ENSG0000011...\n",
      "results                     <Solution 0.000 at 0x1ad370f3940>\n",
      "Name: 1, dtype: object\n",
      "SNP_ids     rs531900792;rs187915150;rs61752937;rs61753543;...\n",
      "gene_ids    [ENSG00000133706, ENSG00000162434, ENSG0000012...\n",
      "results                     <Solution 0.000 at 0x1ad3ad204f0>\n",
      "Name: 4, dtype: object\n",
      "SNP_ids     rs546148482;rs117145430;rs9997664;rs140078589;...\n",
      "gene_ids    [ENSG00000110328, ENSG00000139370, ENSG0000012...\n",
      "results                     <Solution 0.000 at 0x1ad3ad07e80>\n",
      "Name: 7, dtype: object\n",
      "SNP_ids     rs181476100;rs189865294;rs548917691;rs74583923...\n",
      "gene_ids    [ENSG00000130816, ENSG00000031698, ENSG0000017...\n",
      "results                     <Solution 0.000 at 0x1ad3ad09b20>\n",
      "Name: 10, dtype: object\n",
      "SNP_ids     rs138534343;rs149122082;rs140611183;rs56466485...\n",
      "gene_ids    [ENSG00000010219, ENSG00000117543, ENSG0000015...\n",
      "results                     <Solution 0.000 at 0x1ad38f5b0a0>\n",
      "Name: 24, dtype: object\n",
      "SNP_ids     rs149516642;rs202213704;rs532170204;rs14003336...\n",
      "gene_ids    [ENSG00000127481, ENSG00000205808, ENSG0000016...\n",
      "results                     <Solution 0.000 at 0x1ad370f3bb0>\n",
      "Name: 25, dtype: object\n",
      "SNP_ids     rs531678054;rs188260549;rs201659022;rs11745964...\n",
      "gene_ids    [ENSG00000159063, ENSG00000155313, ENSG0000012...\n",
      "results                     <Solution 0.000 at 0x1ad38803130>\n",
      "Name: 26, dtype: object\n",
      "SNP_ids                    rs41313335;rs200130757;rs181391360\n",
      "gene_ids    [ENSG00000126883, ENSG00000060762, ENSG0000027...\n",
      "results                     <Solution 0.000 at 0x1ad387db190>\n",
      "Name: 27, dtype: object\n",
      "SNP_ids     rs62028301;rs185404214;rs184843856;rs534963429...\n",
      "gene_ids    [ENSG00000182578, ENSG00000160014, ENSG0000013...\n",
      "results                     <Solution 0.000 at 0x1ad36ef03a0>\n",
      "Name: 34, dtype: object\n",
      "SNP_ids     rs41313335;rs539744059;rs186885763;rs192839993...\n",
      "gene_ids    [ENSG00000275342, ENSG00000126883, ENSG0000016...\n",
      "results                     <Solution 0.000 at 0x1ad36ef0fa0>\n",
      "Name: 36, dtype: object\n",
      "SNP_ids     rs565561615;rs188832143;rs368911648;rs75242197...\n",
      "gene_ids    [ENSG00000074416, ENSG00000132681, ENSG0000011...\n",
      "results                     <Solution 0.000 at 0x1ad36f0bbe0>\n",
      "Name: 38, dtype: object\n",
      "SNP_ids     rs7195766;rs563864559;rs115192201;rs182526962;...\n",
      "gene_ids    [ENSG00000173175, ENSG00000125450, ENSG0000008...\n",
      "results                     <Solution 0.000 at 0x1ad36f01460>\n",
      "Name: 42, dtype: object\n",
      "SNP_ids     rs138667170;rs191358047;rs140611183;rs13801262...\n",
      "gene_ids    [ENSG00000159063, ENSG00000167900, ENSG0000011...\n",
      "results                     <Solution 0.000 at 0x1ad36ef9ca0>\n",
      "Name: 46, dtype: object\n",
      "SNP_ids       rs528265680;rs137866662;rs563146508;rs186000461\n",
      "gene_ids    [ENSG00000135587, ENSG00000163631, ENSG0000011...\n",
      "results                     <Solution 0.000 at 0x1ad36efaee0>\n",
      "Name: 49, dtype: object\n",
      "SNP_ids     rs7195766;rs533902103;rs1805458;rs187765712;rs...\n",
      "gene_ids    [ENSG00000083799, ENSG00000152894, ENSG0000010...\n",
      "results                     <Solution 0.000 at 0x1ad370f3190>\n",
      "Name: 50, dtype: object\n",
      "SNP_ids     rs144972633;rs560509981;rs534963429;rs14886739...\n",
      "gene_ids    [ENSG00000150712, ENSG00000141736, ENSG0000010...\n",
      "results                     <Solution 0.000 at 0x1ad387e2c70>\n",
      "Name: 60, dtype: object\n",
      "SNP_ids                    rs567205851;rs138012628;rs28854896\n",
      "gene_ids    [ENSG00000166986, ENSG00000103150, ENSG0000013...\n",
      "results                     <Solution 0.000 at 0x1ad37008370>\n",
      "Name: 69, dtype: object\n",
      "SNP_ids     rs561160805;rs62436102;rs777919568;rs570255072...\n",
      "gene_ids    [ENSG00000011485, ENSG00000155085, ENSG0000013...\n",
      "results                     <Solution 0.000 at 0x1ad37008970>\n",
      "Name: 70, dtype: object\n",
      "SNP_ids     rs75112878;rs574629052;rs536105762;rs184843856...\n",
      "gene_ids    [ENSG00000175198, ENSG00000160014, ENSG0000018...\n",
      "results                     <Solution 0.000 at 0x1ad36ffe5b0>\n",
      "Name: 72, dtype: object\n",
      "SNP_ids     rs553333705;rs576625945;rs567513251;rs7871698;...\n",
      "gene_ids    [ENSG00000130816, ENSG00000137204, ENSG0000014...\n",
      "results                     <Solution 0.000 at 0x1ad37266cd0>\n",
      "Name: 79, dtype: object\n",
      "SNP_ids     rs563864559;rs184275835;rs376165197;rs18559193...\n",
      "gene_ids    [ENSG00000133706, ENSG00000196139, ENSG0000015...\n",
      "results                     <Solution 0.000 at 0x1ad38519a30>\n",
      "Name: 86, dtype: object\n",
      "SNP_ids     rs9683346;rs376165197;rs182917152;rs146424681;...\n",
      "gene_ids    [ENSG00000160145, ENSG00000126883, ENSG0000019...\n",
      "results                     <Solution 0.000 at 0x1ad385248b0>\n",
      "Name: 91, dtype: object\n",
      "SNP_ids                   rs571750511;rs145228873;rs145967302\n",
      "gene_ids    [ENSG00000130816, ENSG00000173193, ENSG0000004...\n",
      "results                     <Solution 0.000 at 0x1ad38543ca0>\n",
      "Name: 98, dtype: object\n",
      "SNP_ids     rs145811180;rs541931001;rs147722079;rs54989189...\n",
      "gene_ids    [ENSG00000163295, ENSG00000162688, ENSG0000014...\n",
      "results                   <Solution 155.555 at 0x1ad3856d190>\n",
      "Name: 100, dtype: object\n",
      "SNP_ids       rs193032675;rs753599032;rs187915150;rs191164783\n",
      "gene_ids    [ENSG00000115657, ENSG00000149527, ENSG0000016...\n",
      "results                     <Solution 0.000 at 0x1ad36a3c640>\n",
      "Name: 102, dtype: object\n",
      "SNP_ids     rs753595065;rs191758317;rs184022095;rs20221370...\n",
      "gene_ids    [ENSG00000104951, ENSG00000148090, ENSG0000016...\n",
      "results                     <Solution 0.000 at 0x1ad3733dc10>\n",
      "Name: 107, dtype: object\n",
      "SNP_ids     rs187870461;rs529916810;rs17400325;rs538348882...\n",
      "gene_ids    [ENSG00000121879, ENSG00000159063, ENSG0000015...\n",
      "results                     <Solution 0.000 at 0x1ad3737c250>\n",
      "Name: 108, dtype: object\n",
      "SNP_ids     rs546529100;rs117145430;rs189251397;rs54891769...\n",
      "gene_ids    [ENSG00000031698, ENSG00000136877, ENSG0000008...\n",
      "results                     <Solution 0.000 at 0x1ad3737d730>\n",
      "Name: 114, dtype: object\n",
      "SNP_ids     rs565561615;rs140611183;rs9997664;rs145127755;...\n",
      "gene_ids    [ENSG00000125450, ENSG00000114062, ENSG0000007...\n",
      "results                     <Solution 0.000 at 0x1ad37346e50>\n",
      "Name: 118, dtype: object\n",
      "SNP_ids     rs567899360;rs541428129;rs139196637;rs56833078...\n",
      "gene_ids    [ENSG00000133083, ENSG00000091436, ENSG0000014...\n",
      "results                     <Solution 0.000 at 0x1ad37370c10>\n",
      "Name: 120, dtype: object\n",
      "SNP_ids     rs145811180;rs116838088;rs549278344;rs11147692...\n",
      "gene_ids    [ENSG00000162688, ENSG00000037757, ENSG0000007...\n",
      "results                   <Solution 155.555 at 0x1ad37372250>\n",
      "Name: 121, dtype: object\n",
      "SNP_ids     rs138667170;rs149315260;rs185404214;rs52877227...\n",
      "gene_ids    [ENSG00000038382, ENSG00000138750, ENSG0000011...\n",
      "results                     <Solution 0.000 at 0x1ad36f2af40>\n",
      "Name: 128, dtype: object\n",
      "SNP_ids                   rs191266198;rs371015963;rs183577828\n",
      "gene_ids    [ENSG00000133706, ENSG00000158089, ENSG0000016...\n",
      "results                     <Solution 0.000 at 0x1ad385786d0>\n",
      "Name: 135, dtype: object\n",
      "SNP_ids       rs753595972;rs779667041;rs149176417;rs183577828\n",
      "gene_ids    [ENSG00000133706, ENSG00000117461, ENSG0000018...\n",
      "results                     <Solution 0.000 at 0x1ad38580310>\n",
      "Name: 137, dtype: object\n",
      "SNP_ids     rs184192680;rs140144995;rs180724576;rs14669813...\n",
      "gene_ids    [ENSG00000162688, ENSG00000126088, ENSG0000012...\n",
      "results                   <Solution 155.555 at 0x1ad3724b190>\n",
      "Name: 142, dtype: object\n",
      "SNP_ids     rs530682126;rs190772927;rs112190237;rs11327888...\n",
      "gene_ids    [ENSG00000142875, ENSG00000141736, ENSG0000016...\n",
      "results                     <Solution 0.000 at 0x1ad372669d0>\n",
      "Name: 146, dtype: object\n",
      "SNP_ids     rs184192680;rs185867127;rs576625945;rs14718543...\n",
      "gene_ids    [ENSG00000162688, ENSG00000097046, ENSG0000017...\n",
      "results                   <Solution 155.555 at 0x1ad37266fd0>\n",
      "Name: 147, dtype: object\n",
      "SNP_ids     rs558047438;rs752457024;rs111254644;rs56386455...\n",
      "gene_ids    [ENSG00000133706, ENSG00000164023, ENSG0000010...\n",
      "results                     <Solution 0.000 at 0x1ad36a3c760>\n",
      "Name: 161, dtype: object\n",
      "SNP_ids       rs188290292;rs144688186;rs574553597;rs542537167\n",
      "gene_ids    [ENSG00000059377, ENSG00000124789, ENSG0000012...\n",
      "results                     <Solution 0.000 at 0x1ad36a29a60>\n",
      "Name: 172, dtype: object\n",
      "SNP_ids     rs541428129;rs190646469;rs7871698;rs186896996;...\n",
      "gene_ids    [ENSG00000150712, ENSG00000168159, ENSG0000012...\n",
      "results                     <Solution 0.000 at 0x1ad373469d0>\n",
      "Name: 178, dtype: object\n",
      "SNP_ids     rs140144995;rs147417369;rs9827;rs758991403;rs5...\n",
      "gene_ids    [ENSG00000177084, ENSG00000169814, ENSG0000007...\n",
      "results                     <Solution 0.000 at 0x1ad37183640>\n",
      "Name: 184, dtype: object\n",
      "SNP_ids     rs117723174;rs146349610;rs140611183;rs52991681...\n",
      "gene_ids    [ENSG00000157020, ENSG00000054267, ENSG0000011...\n",
      "results                     <Solution 0.000 at 0x1ad385b1280>\n",
      "Name: 186, dtype: object\n",
      "SNP_ids                     rs144499466;rs771374146;rs7871698\n",
      "gene_ids    [ENSG00000151292, ENSG00000126883, ENSG0000012...\n",
      "results                     <Solution 0.000 at 0x1ad385bb4c0>\n",
      "Name: 189, dtype: object\n",
      "SNP_ids     rs187033484;rs190646469;rs188025650;rs77181143...\n",
      "gene_ids    [ENSG00000065613, ENSG00000124568, ENSG0000012...\n",
      "results                     <Solution 0.000 at 0x1ad385bbac0>\n",
      "Name: 190, dtype: object\n"
     ]
    }
   ],
   "source": [
    "# Check for non nominal results\n",
    "for i, result in combinations.iterrows():\n",
    "    res = result['results'].objective_value\n",
    "    if int(res) < 187:\n",
    "        print(result)"
   ],
   "metadata": {
    "collapsed": false,
    "pycharm": {
     "name": "#%%\n"
    }
   }
  },
  {
   "cell_type": "code",
   "execution_count": 6,
   "outputs": [
    {
     "data": {
      "text/plain": "ENSG00000155657    18\nENSG00000159063    13\nENSG00000142875    13\nENSG00000185803    11\nENSG00000126883     9\n                   ..\nENSG00000060762     1\nENSG00000198919     1\nENSG00000136872     1\nENSG00000075975     1\nENSG00000147548     1\nLength: 537, dtype: int64"
     },
     "execution_count": 6,
     "metadata": {},
     "output_type": "execute_result"
    }
   ],
   "source": [
    "gene_lists = combinations['gene_ids'].to_list()\n",
    "gene_lists = [ids for sublist in gene_lists for ids in sublist]\n",
    "\n",
    "counts = pd.Series(gene_lists).value_counts()\n",
    "counts"
   ],
   "metadata": {
    "collapsed": false,
    "pycharm": {
     "name": "#%%\n"
    }
   }
  },
  {
   "cell_type": "code",
   "execution_count": 3,
   "outputs": [
    {
     "ename": "AttributeError",
     "evalue": "DictList has no attribute or entry ENSG00000227232",
     "output_type": "error",
     "traceback": [
      "\u001B[1;31m---------------------------------------------------------------------------\u001B[0m",
      "\u001B[1;31mKeyError\u001B[0m                                  Traceback (most recent call last)",
      "\u001B[1;32m~\\miniconda3\\envs\\Master\\lib\\site-packages\\cobra\\core\\dictlist.py\u001B[0m in \u001B[0;36m__getattr__\u001B[1;34m(self, attr)\u001B[0m\n\u001B[0;32m    451\u001B[0m         \u001B[1;32mtry\u001B[0m\u001B[1;33m:\u001B[0m\u001B[1;33m\u001B[0m\u001B[1;33m\u001B[0m\u001B[0m\n\u001B[1;32m--> 452\u001B[1;33m             \u001B[1;32mreturn\u001B[0m \u001B[0mDictList\u001B[0m\u001B[1;33m.\u001B[0m\u001B[0mget_by_id\u001B[0m\u001B[1;33m(\u001B[0m\u001B[0mself\u001B[0m\u001B[1;33m,\u001B[0m \u001B[0mattr\u001B[0m\u001B[1;33m)\u001B[0m\u001B[1;33m\u001B[0m\u001B[1;33m\u001B[0m\u001B[0m\n\u001B[0m\u001B[0;32m    453\u001B[0m         \u001B[1;32mexcept\u001B[0m \u001B[0mKeyError\u001B[0m\u001B[1;33m:\u001B[0m\u001B[1;33m\u001B[0m\u001B[1;33m\u001B[0m\u001B[0m\n",
      "\u001B[1;32m~\\miniconda3\\envs\\Master\\lib\\site-packages\\cobra\\core\\dictlist.py\u001B[0m in \u001B[0;36mget_by_id\u001B[1;34m(self, id)\u001B[0m\n\u001B[0;32m     56\u001B[0m         \u001B[1;34m\"\"\"return the element with a matching id\"\"\"\u001B[0m\u001B[1;33m\u001B[0m\u001B[1;33m\u001B[0m\u001B[0m\n\u001B[1;32m---> 57\u001B[1;33m         \u001B[1;32mreturn\u001B[0m \u001B[0mlist\u001B[0m\u001B[1;33m.\u001B[0m\u001B[0m__getitem__\u001B[0m\u001B[1;33m(\u001B[0m\u001B[0mself\u001B[0m\u001B[1;33m,\u001B[0m \u001B[0mself\u001B[0m\u001B[1;33m.\u001B[0m\u001B[0m_dict\u001B[0m\u001B[1;33m[\u001B[0m\u001B[0mid\u001B[0m\u001B[1;33m]\u001B[0m\u001B[1;33m)\u001B[0m\u001B[1;33m\u001B[0m\u001B[1;33m\u001B[0m\u001B[0m\n\u001B[0m\u001B[0;32m     58\u001B[0m \u001B[1;33m\u001B[0m\u001B[0m\n",
      "\u001B[1;31mKeyError\u001B[0m: 'ENSG00000227232'",
      "\nDuring handling of the above exception, another exception occurred:\n",
      "\u001B[1;31mAttributeError\u001B[0m                            Traceback (most recent call last)",
      "\u001B[1;32m~\\AppData\\Local\\Temp/ipykernel_12856/546901753.py\u001B[0m in \u001B[0;36m<module>\u001B[1;34m\u001B[0m\n\u001B[0;32m      9\u001B[0m \u001B[1;33m\u001B[0m\u001B[0m\n\u001B[0;32m     10\u001B[0m \u001B[0mgenes\u001B[0m \u001B[1;33m=\u001B[0m \u001B[1;33m[\u001B[0m\u001B[0mmodel\u001B[0m\u001B[1;33m.\u001B[0m\u001B[0mgenes\u001B[0m\u001B[1;33m.\u001B[0m\u001B[0mget_by_id\u001B[0m\u001B[1;33m(\u001B[0m\u001B[0mi\u001B[0m\u001B[1;33m)\u001B[0m \u001B[1;32mfor\u001B[0m \u001B[0mi\u001B[0m \u001B[1;32min\u001B[0m \u001B[0mgene_id\u001B[0m\u001B[1;33m]\u001B[0m\u001B[1;33m\u001B[0m\u001B[1;33m\u001B[0m\u001B[0m\n\u001B[1;32m---> 11\u001B[1;33m \u001B[0mgene\u001B[0m \u001B[1;33m=\u001B[0m \u001B[0mmodel\u001B[0m\u001B[1;33m.\u001B[0m\u001B[0mgenes\u001B[0m\u001B[1;33m.\u001B[0m\u001B[0mENSG00000227232\u001B[0m\u001B[1;33m\u001B[0m\u001B[1;33m\u001B[0m\u001B[0m\n\u001B[0m\u001B[0;32m     12\u001B[0m \u001B[0mgene\u001B[0m\u001B[1;33m\u001B[0m\u001B[1;33m\u001B[0m\u001B[0m\n\u001B[0;32m     13\u001B[0m \u001B[1;33m\u001B[0m\u001B[0m\n",
      "\u001B[1;32m~\\miniconda3\\envs\\Master\\lib\\site-packages\\cobra\\core\\dictlist.py\u001B[0m in \u001B[0;36m__getattr__\u001B[1;34m(self, attr)\u001B[0m\n\u001B[0;32m    452\u001B[0m             \u001B[1;32mreturn\u001B[0m \u001B[0mDictList\u001B[0m\u001B[1;33m.\u001B[0m\u001B[0mget_by_id\u001B[0m\u001B[1;33m(\u001B[0m\u001B[0mself\u001B[0m\u001B[1;33m,\u001B[0m \u001B[0mattr\u001B[0m\u001B[1;33m)\u001B[0m\u001B[1;33m\u001B[0m\u001B[1;33m\u001B[0m\u001B[0m\n\u001B[0;32m    453\u001B[0m         \u001B[1;32mexcept\u001B[0m \u001B[0mKeyError\u001B[0m\u001B[1;33m:\u001B[0m\u001B[1;33m\u001B[0m\u001B[1;33m\u001B[0m\u001B[0m\n\u001B[1;32m--> 454\u001B[1;33m             \u001B[1;32mraise\u001B[0m \u001B[0mAttributeError\u001B[0m\u001B[1;33m(\u001B[0m\u001B[1;34m\"DictList has no attribute or entry %s\"\u001B[0m \u001B[1;33m%\u001B[0m \u001B[0mattr\u001B[0m\u001B[1;33m)\u001B[0m\u001B[1;33m\u001B[0m\u001B[1;33m\u001B[0m\u001B[0m\n\u001B[0m\u001B[0;32m    455\u001B[0m \u001B[1;33m\u001B[0m\u001B[0m\n\u001B[0;32m    456\u001B[0m     \u001B[1;32mdef\u001B[0m \u001B[0m__dir__\u001B[0m\u001B[1;33m(\u001B[0m\u001B[0mself\u001B[0m\u001B[1;33m)\u001B[0m\u001B[1;33m:\u001B[0m\u001B[1;33m\u001B[0m\u001B[1;33m\u001B[0m\u001B[0m\n",
      "\u001B[1;31mAttributeError\u001B[0m: DictList has no attribute or entry ENSG00000227232"
     ]
    }
   ],
   "source": [
    "# Test stuff\n",
    "\n",
    "#print(model.reactions.MAR04908.genes)\n",
    "#print(model.reactions.MAR04908.gene_reaction_rule)\n",
    "#print(model.genes.get_by_id('ENSG00000103024'))\n",
    "\n",
    "#model.genes.ENSG00000103024.knock_out()\n",
    "gene_id = ['ENSG00000155657','ENSG00000159063','ENSG00000142875']\n",
    "\n",
    "genes = [model.genes.get_by_id(i) for i in gene_id]\n",
    "#gene = model.genes.get_by_id('ENSG00000227232')\n",
    "genes\n"
   ],
   "metadata": {
    "collapsed": false,
    "pycharm": {
     "name": "#%%\n"
    }
   }
  },
  {
   "cell_type": "code",
   "execution_count": 3,
   "outputs": [
    {
     "name": "stdout",
     "output_type": "stream",
     "text": [
      "1311\n"
     ]
    }
   ],
   "source": [
    "# Read in processed SNP data\n",
    "path = 'C:/Users/Sigve/Genome_Data/'\n",
    "SNP_file = path + 'results/SNPs_for_FBA.tsv'\n",
    "SNP_df = pd.read_table(SNP_file)\n",
    "\n",
    "# Get gene list\n",
    "genes = [model.genes.get_by_id(i) for i in set(SNP_df['gene_id'].to_list())]\n",
    "print(len(genes))\n",
    "\n",
    "single_deletion_results = cobra.flux_analysis.single_gene_deletion(model, genes, method='fba', processes=8)\n",
    "#double_deletion_results = cobra.flux_analysis.double_gene_deletion(model, genes, method='fba', processes=8)\n",
    "\n",
    "single_deletion_results.to_csv(path_or_buf=path + 'results/test_single.tsv', sep='\\t')\n",
    "#double_deletion_results.to_csv(path_or_buf=path + 'results/test_double.tsv', sep='\\t')"
   ],
   "metadata": {
    "collapsed": false,
    "pycharm": {
     "name": "#%%\n"
    }
   }
  },
  {
   "cell_type": "code",
   "execution_count": 13,
   "outputs": [
    {
     "name": "stdout",
     "output_type": "stream",
     "text": [
      "1261\n",
      "[{'ENSG00000052802'}, {'ENSG00000124006'}, {'ENSG00000197249'}, {'ENSG00000092068'}, {'ENSG00000146648'}, {'ENSG00000114738'}, {'ENSG00000165282'}, {'ENSG00000174886'}, {'ENSG00000169375'}, {'ENSG00000156515'}, {'ENSG00000079215'}, {'ENSG00000160752'}, {'ENSG00000164116'}, {'ENSG00000111817'}, {'ENSG00000152952'}, {'ENSG00000173540'}, {'ENSG00000184470'}, {'ENSG00000166484'}, {'ENSG00000149925'}, {'ENSG00000010404'}, {'ENSG00000152642'}, {'ENSG00000168487'}, {'ENSG00000112541'}, {'ENSG00000100596'}, {'ENSG00000177239'}, {'ENSG00000165349'}, {'ENSG00000196090'}, {'ENSG00000138061'}, {'ENSG00000017260'}, {'ENSG00000143199'}, {'ENSG00000108474'}, {'ENSG00000137700'}, {'ENSG00000145284'}, {'ENSG00000126522'}, {'ENSG00000060069'}, {'ENSG00000043514'}, {'ENSG00000171100'}, {'ENSG00000198886'}, {'ENSG00000139428'}, {'ENSG00000137868'}, {'ENSG00000198727'}, {'ENSG00000116096'}, {'ENSG00000171503'}, {'ENSG00000133216'}, {'ENSG00000069431'}, {'ENSG00000068438'}, {'ENSG00000160868'}, {'ENSG00000134910'}, {'ENSG00000004864'}, {'ENSG00000119414'}, {'ENSG00000198695'}, {'ENSG00000147155'}, {'ENSG00000139988'}, {'ENSG00000112425'}, {'ENSG00000124356'}, {'ENSG00000151498'}, {'ENSG00000101276'}, {'ENSG00000168411'}, {'ENSG00000067992'}, {'ENSG00000174358'}, {'ENSG00000101210'}, {'ENSG00000087053'}, {'ENSG00000099624'}, {'ENSG00000160584'}, {'ENSG00000179477'}, {'ENSG00000147684'}, {'ENSG00000081237'}, {'ENSG00000241935'}, {'ENSG00000086232'}, {'ENSG00000106633'}, {'ENSG00000072274'}, {'ENSG00000105639'}, {'ENSG00000148795'}, {'ENSG00000156413'}, {'ENSG00000131238'}, {'ENSG00000175536'}, {'ENSG00000184254'}, {'ENSG00000196498'}, {'ENSG00000167580'}, {'ENSG00000100393'}, {'ENSG00000178538'}, {'ENSG00000163513'}, {'ENSG00000117308'}, {'ENSG00000177666'}, {'ENSG00000197579'}, {'ENSG00000149269'}, {'ENSG00000178537'}, {'ENSG00000122194'}, {'ENSG00000126749'}, {'ENSG00000198814'}, {'ENSG00000131069'}, {'ENSG00000112473'}, {'ENSG00000166349'}, {'ENSG00000086848'}, {'ENSG00000173599'}, {'ENSG00000130175'}, {'ENSG00000111012'}, {'ENSG00000139318'}, {'ENSG00000184432'}, {'ENSG00000188641'}, {'ENSG00000085998'}, {'ENSG00000175283'}, {'ENSG00000140650'}, {'ENSG00000265203'}, {'ENSG00000076201'}, {'ENSG00000153936'}, {'ENSG00000005381'}, {'ENSG00000157764'}, {'ENSG00000174672'}, {'ENSG00000139531'}, {'ENSG00000114491'}, {'ENSG00000038382'}, {'ENSG00000095139'}, {'ENSG00000124486'}, {'ENSG00000169919'}, {'ENSG00000135409'}, {'ENSG00000100288'}, {'ENSG00000106080'}, {'ENSG00000116133'}, {'ENSG00000147804'}, {'ENSG00000106605'}, {'ENSG00000124491'}, {'ENSG00000176715'}, {'ENSG00000204385'}, {'ENSG00000196411'}, {'ENSG00000152332'}, {'ENSG00000079335'}, {'ENSG00000147044'}, {'ENSG00000198763'}, {'ENSG00000114200'}, {'ENSG00000169692'}, {'ENSG00000030304'}, {'ENSG00000166311'}, {'ENSG00000172893'}, {'ENSG00000140459'}, {'ENSG00000047457'}, {'ENSG00000117479'}, {'ENSG00000167371'}, {'ENSG00000032444'}, {'ENSG00000112053'}, {'ENSG00000077498'}, {'ENSG00000142627'}, {'ENSG00000178802'}, {'ENSG00000157399'}, {'ENSG00000120942'}, {'ENSG00000156650'}, {'ENSG00000100354'}, {'ENSG00000177542'}, {'ENSG00000156467'}, {'ENSG00000091436'}, {'ENSG00000184304'}, {'ENSG00000185973'}, {'ENSG00000153933'}, {'ENSG00000065883'}, {'ENSG00000014641'}, {'ENSG00000168827'}, {'ENSG00000166123'}, {'ENSG00000165029'}, {'ENSG00000198951'}, {'ENSG00000178127'}, {'ENSG00000004455'}, {'ENSG00000005471'}, {'ENSG00000099377'}, {'ENSG00000100030'}, {'ENSG00000126091'}, {'ENSG00000164023'}, {'ENSG00000012232'}, {'ENSG00000185532'}, {'ENSG00000165731'}, {'ENSG00000157103'}, {'ENSG00000170734'}, {'ENSG00000101986'}, {'ENSG00000109685'}, {'ENSG00000239900'}, {'ENSG00000176022'}, {'ENSG00000141756'}, {'ENSG00000102575'}, {'ENSG00000102383'}, {'ENSG00000197891'}, {'ENSG00000113790'}, {'ENSG00000073060'}, {'ENSG00000144741'}, {'ENSG00000159640'}, {'ENSG00000131174'}, {'ENSG00000242366'}, {'ENSG00000142208'}, {'ENSG00000110887'}, {'ENSG00000087299'}, {'ENSG00000171560'}, {'ENSG00000187486'}, {'ENSG00000135218'}, {'ENSG00000186111'}, {'ENSG00000100865'}, {'ENSG00000105607'}, {'ENSG00000125505'}, {'ENSG00000189221'}, {'ENSG00000116539'}, {'ENSG00000166794'}, {'ENSG00000147162'}, {'ENSG00000101247'}, {'ENSG00000070614'}, {'ENSG00000188467'}, {'ENSG00000077463'}, {'ENSG00000111670'}, {'ENSG00000135318'}, {'ENSG00000142731'}, {'ENSG00000076685'}, {'ENSG00000111732'}, {'ENSG00000072682'}, {'ENSG00000174640'}, {'ENSG00000011198'}, {'ENSG00000149541'}, {'ENSG00000102226'}, {'ENSG00000110719'}, {'ENSG00000154227'}, {'ENSG00000107537'}, {'ENSG00000182197'}, {'ENSG00000110066'}, {'ENSG00000137168'}, {'ENSG00000185883'}, {'ENSG00000151729'}, {'ENSG00000133742'}, {'ENSG00000122218'}, {'ENSG00000124212'}, {'ENSG00000131183'}, {'ENSG00000112992'}, {'ENSG00000167114'}, {'ENSG00000100564'}, {'ENSG00000122025'}, {'ENSG00000116748'}, {'ENSG00000102312'}, {'ENSG00000065154'}, {'ENSG00000111713'}, {'ENSG00000122643'}, {'ENSG00000121851'}, {'ENSG00000151632'}, {'ENSG00000144591'}, {'ENSG00000136872'}, {'ENSG00000119523'}, {'ENSG00000132837'}, {'ENSG00000164494'}, {'ENSG00000273820'}, {'ENSG00000135454'}, {'ENSG00000167258'}, {'ENSG00000163541'}, {'ENSG00000171862'}, {'ENSG00000105220'}, {'ENSG00000075413'}, {'ENSG00000138814'}, {'ENSG00000181019'}, {'ENSG00000146701'}, {'ENSG00000140374'}, {'ENSG00000148053'}, {'ENSG00000165025'}, {'ENSG00000203859'}, {'ENSG00000105552'}, {'ENSG00000143921'}, {'ENSG00000164904'}, {'ENSG00000186010'}, {'ENSG00000170266'}, {'ENSG00000132915'}, {'ENSG00000060762'}, {'ENSG00000112294'}, {'ENSG00000067842'}, {'ENSG00000136371'}, {'ENSG00000161513'}, {'ENSG00000139540'}, {'ENSG00000006071'}, {'ENSG00000122126'}, {'ENSG00000091137'}, {'ENSG00000039650'}, {'ENSG00000116106'}, {'ENSG00000140090'}, {'ENSG00000197943'}, {'ENSG00000070019'}, {'ENSG00000158125'}, {'ENSG00000147647'}, {'ENSG00000126583'}, {'ENSG00000064651'}, {'ENSG00000121879'}, {'ENSG00000110435'}, {'ENSG00000105204'}, {'ENSG00000149476'}, {'ENSG00000054392'}, {'ENSG00000158864'}, {'ENSG00000198668'}, {'ENSG00000069943'}, {'ENSG00000160211'}, {'ENSG00000115170'}, {'ENSG00000134853'}, {'ENSG00000164414'}, {'ENSG00000136143'}, {'ENSG00000112742'}, {'ENSG00000058404'}, {'ENSG00000102144'}, {'ENSG00000101849'}, {'ENSG00000127415'}, {'ENSG00000095059'}, {'ENSG00000240303'}, {'ENSG00000177000'}, {'ENSG00000115840'}, {'ENSG00000110717'}, {'ENSG00000165458'}, {'ENSG00000173614'}, {'ENSG00000173327'}, {'ENSG00000159459'}, {'ENSG00000101752'}, {'ENSG00000132964'}, {'ENSG00000198848'}, {'ENSG00000136908'}, {'ENSG00000135929'}, {'ENSG00000128052'}, {'ENSG00000185100'}, {'ENSG00000115850'}, {'ENSG00000105647'}, {'ENSG00000070610'}, {'ENSG00000171004'}, {'ENSG00000177156'}, {'ENSG00000081479'}, {'ENSG00000198400'}, {'ENSG00000174173'}, {'ENSG00000164708'}, {'ENSG00000130816'}, {'ENSG00000143811'}, {'ENSG00000142892'}, {'ENSG00000204217'}, {'ENSG00000137731'}, {'ENSG00000122008'}, {'ENSG00000170485'}, {'ENSG00000115525'}, {'ENSG00000104635'}, {'ENSG00000118515'}, {'ENSG00000054983'}, {'ENSG00000027847'}, {'ENSG00000146085'}, {'ENSG00000101438'}, {'ENSG00000259030'}, {'ENSG00000092295'}, {'ENSG00000085563'}, {'ENSG00000108439'}, {'ENSG00000103489'}, {'ENSG00000163931'}, {'ENSG00000135917'}, {'ENSG00000135845'}, {'ENSG00000130821'}, {'ENSG00000070669'}, {'ENSG00000164405'}, {'ENSG00000104907'}, {'ENSG00000135437'}, {'ENSG00000180879'}, {'ENSG00000178694'}, {'ENSG00000177628'}, {'ENSG00000166224'}, {'ENSG00000147123'}, {'ENSG00000105397'}, {'ENSG00000106397'}, {'ENSG00000175445'}, {'ENSG00000152234'}, {'ENSG00000136715'}, {'ENSG00000138079'}, {'ENSG00000074803'}, {'ENSG00000101846'}, {'ENSG00000145331'}, {'ENSG00000092439'}, {'ENSG00000169032'}, {'ENSG00000161217'}, {'ENSG00000122687'}, {'ENSG00000184979'}, {'ENSG00000100299'}, {'ENSG00000234906'}, {'ENSG00000119711'}, {'ENSG00000108784'}, {'ENSG00000146872'}, {'ENSG00000138777'}, {'ENSG00000073578'}, {'ENSG00000071553'}, {'ENSG00000172482'}, {'ENSG00000115919'}, {'ENSG00000185344'}, {'ENSG00000168237'}, {'ENSG00000135069'}, {'ENSG00000111837'}, {'ENSG00000008086'}, {'ENSG00000228716'}, {'ENSG00000197375'}, {'ENSG00000115085'}, {'ENSG00000067900'}, {'ENSG00000166136'}, {'ENSG00000097007'}, {'ENSG00000116745'}, {'ENSG00000068366'}, {'ENSG00000131389'}, {'ENSG00000171954'}, {'ENSG00000133256'}, {'ENSG00000198130'}, {'ENSG00000140675'}, {'ENSG00000214102'}, {'ENSG00000073734'}, {'ENSG00000159921'}, {'ENSG00000141551'}, {'ENSG00000157353'}, {'ENSG00000162434'}, {'ENSG00000151366'}, {'ENSG00000105409'}, {'ENSG00000013375'}, {'ENSG00000167601'}, {'ENSG00000110921'}, {'ENSG00000141349'}, {'ENSG00000083720'}, {'ENSG00000120156'}, {'ENSG00000133835'}, {'ENSG00000044446'}, {'ENSG00000143363'}, {'ENSG00000131653'}, {'ENSG00000124370'}, {'ENSG00000100243'}, {'ENSG00000106617'}, {'ENSG00000248098'}, {'ENSG00000099797'}, {'ENSG00000159692'}, {'ENSG00000102743'}, {'ENSG00000177646'}, {'ENSG00000079805'}, {'ENSG00000083123'}, {'ENSG00000109323'}, {'ENSG00000126261'}, {'ENSG00000113263'}, {'ENSG00000179520'}, {'ENSG00000151552'}, {'ENSG00000185527'}, {'ENSG00000130413'}, {'ENSG00000138823'}, {'ENSG00000107789'}, {'ENSG00000071054'}, {'ENSG00000072195'}, {'ENSG00000152779'}, {'ENSG00000276747'}, {'ENSG00000197121'}, {'ENSG00000198805'}, {'ENSG00000122966'}, {'ENSG00000101336'}, {'ENSG00000123454'}, {'ENSG00000152104'}, {'ENSG00000124155'}, {'ENSG00000142513'}, {'ENSG00000179148'}, {'ENSG00000164951'}, {'ENSG00000148090'}, {'ENSG00000169071'}, {'ENSG00000101901'}, {'ENSG00000231852'}, {'ENSG00000147224'}, {'ENSG00000171759'}, {'ENSG00000167588'}, {'ENSG00000092964'}, {'ENSG00000187091'}, {'ENSG00000114480'}, {'ENSG00000122971'}, {'ENSG00000101695'}, {'ENSG00000212907'}, {'ENSG00000256269'}, {'ENSG00000141458'}, {'ENSG00000138018'}, {'ENSG00000036473'}, {'ENSG00000122787'}, {'ENSG00000213316'}, {'ENSG00000130948'}, {'ENSG00000104055'}, {'ENSG00000181090'}, {'ENSG00000116171'}, {'ENSG00000106976'}, {'ENSG00000184983'}, {'ENSG00000010671'}, {'ENSG00000197296'}, {'ENSG00000171608'}, {'ENSG00000183048'}, {'ENSG00000100504'}, {'ENSG00000118094'}, {'ENSG00000140263'}, {'ENSG00000145725'}, {'ENSG00000172315'}, {'ENSG00000196839'}, {'ENSG00000130985'}, {'ENSG00000184752'}, {'ENSG00000104723'}, {'ENSG00000171320'}, {'ENSG00000135677'}, {'ENSG00000137869'}, {'ENSG00000134240'}, {'ENSG00000182866'}, {'ENSG00000163389'}, {'ENSG00000141485'}, {'ENSG00000213341'}, {'ENSG00000147606'}, {'ENSG00000171105'}, {'ENSG00000108946'}, {'ENSG00000102030'}, {'ENSG00000241973'}, {'ENSG00000147133'}, {'ENSG00000101306'}, {'ENSG00000088179'}, {'ENSG00000111846'}, {'ENSG00000156110'}, {'ENSG00000092621'}, {'ENSG00000139180'}, {'ENSG00000128655'}, {'ENSG00000025708'}, {'ENSG00000129083'}, {'ENSG00000109610'}, {'ENSG00000155111'}, {'ENSG00000163755'}, {'ENSG00000255730'}, {'ENSG00000103707'}, {'ENSG00000100033'}, {'ENSG00000141506'}, {'ENSG00000103507'}, {'ENSG00000125356'}, {'ENSG00000021488'}, {'ENSG00000204084'}, {'ENSG00000108528'}, {'ENSG00000087470'}, {'ENSG00000124713'}, {'ENSG00000272333'}, {'ENSG00000164867'}, {'ENSG00000167468'}, {'ENSG00000162688'}, {'ENSG00000198682'}, {'ENSG00000197894'}, {'ENSG00000157765'}, {'ENSG00000160867'}, {'ENSG00000182621'}, {'ENSG00000181038'}, {'ENSG00000131100'}, {'ENSG00000125166'}, {'ENSG00000181555'}, {'ENSG00000196136'}, {'ENSG00000174684'}, {'ENSG00000038002'}, {'ENSG00000033170'}, {'ENSG00000150540'}, {'ENSG00000163817'}, {'ENSG00000163754'}, {'ENSG00000138029'}, {'ENSG00000166548'}, {'ENSG00000068976'}, {'ENSG00000157540'}, {'ENSG00000174233'}, {'ENSG00000131844'}, {'ENSG00000167508'}, {'ENSG00000138363'}, {'ENSG00000184381'}, {'ENSG00000150768'}, {'ENSG00000107798'}, {'ENSG00000155850'}, {'ENSG00000141027'}, {'ENSG00000155657'}, {'ENSG00000018625'}, {'ENSG00000163631'}, {'ENSG00000139718'}, {'ENSG00000100348'}, {'ENSG00000119689'}, {'ENSG00000154252'}, {'ENSG00000110628'}, {'ENSG00000074621'}, {'ENSG00000117394'}, {'ENSG00000101444'}, {'ENSG00000198488'}, {'ENSG00000164742'}, {'ENSG00000126267'}, {'ENSG00000159650'}, {'ENSG00000012660'}, {'ENSG00000101577'}, {'ENSG00000131023'}, {'ENSG00000162551'}, {'ENSG00000068308'}, {'ENSG00000087586'}, {'ENSG00000187714'}, {'ENSG00000103876'}, {'ENSG00000178568'}, {'ENSG00000105641'}, {'ENSG00000164258'}, {'ENSG00000196296'}, {'ENSG00000185624'}, {'ENSG00000124615'}, {'ENSG00000167397'}, {'ENSG00000177189'}, {'ENSG00000009413'}, {'ENSG00000174951'}, {'ENSG00000066926'}, {'ENSG00000198931'}, {'ENSG00000130508'}, {'ENSG00000157184'}, {'ENSG00000090054'}, {'ENSG00000141736'}, {'ENSG00000064601'}, {'ENSG00000161653'}, {'ENSG00000101333'}, {'ENSG00000247746'}, {'ENSG00000049239'}, {'ENSG00000165841'}, {'ENSG00000083168'}, {'ENSG00000156983'}, {'ENSG00000147416'}, {'ENSG00000198888'}, {'ENSG00000198569'}, {'ENSG00000169169'}, {'ENSG00000113273'}, {'ENSG00000112367'}, {'ENSG00000091138'}, {'ENSG00000160200'}, {'ENSG00000070808'}, {'ENSG00000197594'}, {'ENSG00000113721'}, {'ENSG00000077782'}, {'ENSG00000147383'}, {'ENSG00000087111'}, {'ENSG00000131482'}, {'ENSG00000015532'}, {'ENSG00000167658'}, {'ENSG00000140443'}, {'ENSG00000198363'}, {'ENSG00000183765'}, {'ENSG00000117984'}, {'ENSG00000145675'}, {'ENSG00000173175'}, {'ENSG00000070214'}, {'ENSG00000165060'}, {'ENSG00000178741'}, {'ENSG00000164120'}, {'ENSG00000160282'}, {'ENSG00000178952'}, {'ENSG00000118520'}, {'ENSG00000072062'}, {'ENSG00000165688'}, {'ENSG00000110243'}, {'ENSG00000137275'}, {'ENSG00000068078'}, {'ENSG00000136881'}, {'ENSG00000140598'}, {'ENSG00000167792'}, {'ENSG00000114054'}, {'ENSG00000076351'}, {'ENSG00000171155'}, {'ENSG00000255072'}, {'ENSG00000100170'}, {'ENSG00000115339'}, {'ENSG00000168575'}, {'ENSG00000140905'}, {'ENSG00000084774'}, {'ENSG00000126934'}, {'ENSG00000119638'}, {'ENSG00000196517'}, {'ENSG00000119121'}, {'ENSG00000112077'}, {'ENSG00000109814'}, {'ENSG00000095380'}, {'ENSG00000175054'}, {'ENSG00000171302'}, {'ENSG00000108479'}, {'ENSG00000136643'}, {'ENSG00000140990'}, {'ENSG00000061938'}, {'ENSG00000181192'}, {'ENSG00000162733'}, {'ENSG00000153208'}, {'ENSG00000080819'}, {'ENSG00000124172'}, {'ENSG00000159131'}, {'ENSG00000171766'}, {'ENSG00000138075'}, {'ENSG00000092529'}, {'ENSG00000101464'}, {'ENSG00000132517'}, {'ENSG00000125779'}, {'ENSG00000151790'}, {'ENSG00000165671'}, {'ENSG00000147408'}, {'ENSG00000116337'}, {'ENSG00000102100'}, {'ENSG00000181830'}, {'ENSG00000096968'}, {'ENSG00000143627'}, {'ENSG00000145494'}, {'ENSG00000055332'}, {'ENSG00000164347'}, {'ENSG00000122863'}, {'ENSG00000140740'}, {'ENSG00000196743'}, {'ENSG00000112144'}, {'ENSG00000159899'}, {'ENSG00000169105'}, {'ENSG00000172817'}, {'ENSG00000115020'}, {'ENSG00000088305'}, {'ENSG00000128683'}, {'ENSG00000126562'}, {'ENSG00000160882'}, {'ENSG00000177565'}, {'ENSG00000100075'}, {'ENSG00000178814'}, {'ENSG00000103222'}, {'ENSG00000083799'}, {'ENSG00000116906'}, {'ENSG00000100714'}, {'ENSG00000172071'}, {'ENSG00000183032'}, {'ENSG00000186642'}, {'ENSG00000198712'}, {'ENSG00000105976'}, {'ENSG00000167996'}, {'ENSG00000183421'}, {'ENSG00000148660'}, {'ENSG00000104365'}, {'ENSG00000143753'}, {'ENSG00000012963'}, {'ENSG00000156471'}, {'ENSG00000110436'}, {'ENSG00000116984'}, {'ENSG00000198380'}, {'ENSG00000157087'}, {'ENSG00000147465'}, {'ENSG00000008311'}, {'ENSG00000105568'}, {'ENSG00000160226'}, {'ENSG00000158296'}, {'ENSG00000135821'}, {'ENSG00000198804'}, {'ENSG00000048392'}, {'ENSG00000084073'}, {'ENSG00000134812'}, {'ENSG00000113575'}, {'ENSG00000176920'}, {'ENSG00000169679'}, {'ENSG00000168000'}, {'ENSG00000204386'}, {'ENSG00000128928'}, {'ENSG00000142798'}, {'ENSG00000131495'}, {'ENSG00000165970'}, {'ENSG00000089597'}, {'ENSG00000115705'}, {'ENSG00000127947'}, {'ENSG00000160602'}, {'ENSG00000116771'}, {'ENSG00000119772'}, {'ENSG00000148384'}, {'ENSG00000172339'}, {'ENSG00000143933'}, {'ENSG00000121897'}, {'ENSG00000070915'}, {'ENSG00000147471'}, {'ENSG00000166035'}, {'ENSG00000135679'}, {'ENSG00000117620'}, {'ENSG00000172987'}, {'ENSG00000103546'}, {'ENSG00000122912'}, {'ENSG00000172977'}, {'ENSG00000160551'}, {'ENSG00000160285'}, {'ENSG00000112319'}, {'ENSG00000127481'}, {'ENSG00000175505'}, {'ENSG00000182578'}, {'ENSG00000119401'}, {'ENSG00000166340'}, {'ENSG00000060656'}, {'ENSG00000198899'}, {'ENSG00000151092'}, {'ENSG00000080493'}, {'ENSG00000001084'}, {'ENSG00000168137'}, {'ENSG00000115419'}, {'ENSG00000116675'}, {'ENSG00000253710'}, {'ENSG00000026103'}, {'ENSG00000136381'}, {'ENSG00000172269'}, {'ENSG00000138193'}, {'ENSG00000051382'}, {'ENSG00000137992'}, {'ENSG00000114786'}, {'ENSG00000107779'}, {'ENSG00000107165'}, {'ENSG00000156873'}, {'ENSG00000127125'}, {'ENSG00000142619'}, {'ENSG00000137713'}, {'ENSG00000004939'}, {'ENSG00000090402'}, {'ENSG00000115392'}, {'ENSG00000114062'}, {'ENSG00000180210'}, {'ENSG00000197496'}, {'ENSG00000182858'}, {'ENSG00000163932'}, {'ENSG00000100644'}, {'ENSG00000113231'}, {'ENSG00000117020'}, {'ENSG00000197563'}, {'ENSG00000183735'}, {'ENSG00000005339'}, {'ENSG00000095321'}, {'ENSG00000146733'}, {'ENSG00000018510'}, {'ENSG00000163719'}, {'ENSG00000132600'}, {'ENSG00000185324'}, {'ENSG00000130203'}, {'ENSG00000101365'}, {'ENSG00000136573'}, {'ENSG00000007933'}, {'ENSG00000078124'}, {'ENSG00000171885'}, {'ENSG00000009830'}, {'ENSG00000155380'}, {'ENSG00000095015'}, {'ENSG00000135697'}, {'ENSG00000117054'}, {'ENSG00000143252'}, {'ENSG00000173786'}, {'ENSG00000128039'}, {'ENSG00000188906'}, {'ENSG00000181523'}, {'ENSG00000102967'}, {'ENSG00000104331'}, {'ENSG00000106348'}, {'ENSG00000139304'}, {'ENSG00000241878'}, {'ENSG00000157064'}, {'ENSG00000204370'}, {'ENSG00000175564'}, {'ENSG00000010256'}, {'ENSG00000277161'}, {'ENSG00000101871'}, {'ENSG00000181035'}, {'ENSG00000143815'}, {'ENSG00000021826'}, {'ENSG00000037757'}, {'ENSG00000007541'}, {'ENSG00000084754'}, {'ENSG00000213930'}, {'ENSG00000078070'}, {'ENSG00000179091'}, {'ENSG00000170836'}, {'ENSG00000114739'}, {'ENSG00000153827'}, {'ENSG00000059377'}, {'ENSG00000106992'}, {'ENSG00000105146'}, {'ENSG00000023839'}, {'ENSG00000109861'}, {'ENSG00000040933'}, {'ENSG00000069020'}, {'ENSG00000140199'}, {'ENSG00000106799'}, {'ENSG00000149016'}, {'ENSG00000138449'}, {'ENSG00000188706'}, {'ENSG00000164134'}, {'ENSG00000128829'}, {'ENSG00000104313'}, {'ENSG00000115758'}, {'ENSG00000179163'}, {'ENSG00000115902'}, {'ENSG00000102125'}, {'ENSG00000075415'}, {'ENSG00000130414'}, {'ENSG00000060642'}, {'ENSG00000101974'}, {'ENSG00000111700'}, {'ENSG00000055609'}, {'ENSG00000248099'}, {'ENSG00000105810'}, {'ENSG00000174990'}, {'ENSG00000124164'}, {'ENSG00000138592'}, {'ENSG00000162882'}, {'ENSG00000198938'}, {'ENSG00000117305'}, {'ENSG00000106462'}, {'ENSG00000139151'}, {'ENSG00000185808'}, {'ENSG00000083290'}, {'ENSG00000091140'}, {'ENSG00000164172'}, {'ENSG00000188690'}, {'ENSG00000065534'}, {'ENSG00000106688'}, {'ENSG00000148677'}, {'ENSG00000197601'}, {'ENSG00000138413'}, {'ENSG00000137601'}, {'ENSG00000115275'}, {'ENSG00000170426'}, {'ENSG00000157404'}, {'ENSG00000145242'}, {'ENSG00000177192'}, {'ENSG00000156345'}, {'ENSG00000164933'}, {'ENSG00000137106'}, {'ENSG00000213614'}, {'ENSG00000142168'}, {'ENSG00000155016'}, {'ENSG00000140279'}, {'ENSG00000065613'}, {'ENSG00000068120'}, {'ENSG00000166819'}, {'ENSG00000124299'}, {'ENSG00000140521'}, {'ENSG00000154237'}, {'ENSG00000133059'}, {'ENSG00000158828'}, {'ENSG00000163344'}, {'ENSG00000139567'}, {'ENSG00000104774'}, {'ENSG00000118402'}, {'ENSG00000077264'}, {'ENSG00000136699'}, {'ENSG00000162836'}, {'ENSG00000164078'}, {'ENSG00000084674'}, {'ENSG00000167186'}, {'ENSG00000158104'}, {'ENSG00000171723'}, {'ENSG00000182054'}, {'ENSG00000102893'}, {'ENSG00000108381'}, {'ENSG00000100994'}, {'ENSG00000072506'}, {'ENSG00000101266'}, {'ENSG00000107611'}, {'ENSG00000085382'}, {'ENSG00000100412'}, {'ENSG00000090376'}, {'ENSG00000065361'}, {'ENSG00000105929'}, {'ENSG00000033011'}, {'ENSG00000148356'}, {'ENSG00000183010'}, {'ENSG00000141378'}, {'ENSG00000158578'}, {'ENSG00000091704'}, {'ENSG00000152556'}, {'ENSG00000242110'}, {'ENSG00000145217'}, {'ENSG00000198910'}, {'ENSG00000138411'}, {'ENSG00000113448'}, {'ENSG00000213689'}, {'ENSG00000165195'}, {'ENSG00000161798'}, {'ENSG00000171720'}, {'ENSG00000185483'}, {'ENSG00000125454'}, {'ENSG00000140057'}, {'ENSG00000142319'}, {'ENSG00000156885'}, {'ENSG00000170835'}, {'ENSG00000138207'}, {'ENSG00000138821'}, {'ENSG00000049759'}, {'ENSG00000123552'}, {'ENSG00000156510'}, {'ENSG00000213619'}, {'ENSG00000143315'}, {'ENSG00000115159'}, {'ENSG00000158089'}, {'ENSG00000214160'}, {'ENSG00000072778'}, {'ENSG00000174437'}, {'ENSG00000066230'}, {'ENSG00000078747'}, {'ENSG00000131979'}, {'ENSG00000166948'}, {'ENSG00000093072'}, {'ENSG00000092098'}, {'ENSG00000118058'}, {'ENSG00000198001'}, {'ENSG00000205678'}, {'ENSG00000103266'}, {'ENSG00000165102'}, {'ENSG00000130714'}, {'ENSG00000185825'}, {'ENSG00000143224'}, {'ENSG00000114378'}, {'ENSG00000082996'}, {'ENSG00000080166'}, {'ENSG00000166228'}, {'ENSG00000072310'}, {'ENSG00000174080'}, {'ENSG00000011405'}, {'ENSG00000213639'}, {'ENSG00000141012'}, {'ENSG00000110911'}, {'ENSG00000075239'}, {'ENSG00000145020'}, {'ENSG00000228253'}, {'ENSG00000118137'}, {'ENSG00000114573'}, {'ENSG00000079459'}, {'ENSG00000167972'}, {'ENSG00000116761'}, {'ENSG00000066322'}, {'ENSG00000155465'}, {'ENSG00000171094'}, {'ENSG00000197746'}, {'ENSG00000179295'}, {'ENSG00000111669'}, {'ENSG00000004961'}, {'ENSG00000174227'}, {'ENSG00000187555'}, {'ENSG00000161533'}, {'ENSG00000132518'}, {'ENSG00000119537'}, {'ENSG00000081923'}, {'ENSG00000163581'}, {'ENSG00000103657'}, {'ENSG00000079739'}, {'ENSG00000159063'}, {'ENSG00000156970'}, {'ENSG00000187566'}, {'ENSG00000074410'}, {'ENSG00000183044'}, {'ENSG00000168291'}, {'ENSG00000110090'}, {'ENSG00000110195'}, {'ENSG00000173085'}, {'ENSG00000108515'}, {'ENSG00000095777'}, {'ENSG00000167004'}, {'ENSG00000153015'}, {'ENSG00000244486'}, {'ENSG00000088002'}, {'ENSG00000132437'}, {'ENSG00000179085'}, {'ENSG00000154518'}, {'ENSG00000005483'}, {'ENSG00000113083'}, {'ENSG00000033627'}, {'ENSG00000186350'}, {'ENSG00000277893'}, {'ENSG00000100997'}, {'ENSG00000256525'}, {'ENSG00000146070'}, {'ENSG00000135341'}, {'ENSG00000169359'}, {'ENSG00000121207'}, {'ENSG00000198752'}, {'ENSG00000167306'}, {'ENSG00000204435'}, {'ENSG00000078061'}, {'ENSG00000117594'}, {'ENSG00000198691'}, {'ENSG00000113924'}, {'ENSG00000182890'}, {'ENSG00000130005'}, {'ENSG00000137124'}, {'ENSG00000130707'}, {'ENSG00000105221'}, {'ENSG00000153574'}, {'ENSG00000198840'}, {'ENSG00000168282'}, {'ENSG00000067177'}, {'ENSG00000163399'}, {'ENSG00000160014'}, {'ENSG00000277494'}, {'ENSG00000177084'}, {'ENSG00000105426'}, {'ENSG00000059573'}, {'ENSG00000116353'}, {'ENSG00000185974'}, {'ENSG00000086062'}, {'ENSG00000169814'}, {'ENSG00000138109'}, {'ENSG00000148218'}, {'ENSG00000186335'}, {'ENSG00000175309'}, {'ENSG00000131055'}, {'ENSG00000072210'}, {'ENSG00000006530'}, {'ENSG00000119899'}, {'ENSG00000172296'}, {'ENSG00000145476'}, {'ENSG00000165646'}, {'ENSG00000159267'}, {'ENSG00000115665'}, {'ENSG00000160209'}, {'ENSG00000110395'}, {'ENSG00000127884'}, {'ENSG00000100416'}, {'ENSG00000151348'}, {'ENSG00000114956'}, {'ENSG00000119013'}, {'ENSG00000060237'}, {'ENSG00000151148'}, {'ENSG00000187676'}, {'ENSG00000149311'}, {'ENSG00000143891'}, {'ENSG00000223802'}, {'ENSG00000197122'}, {'ENSG00000126088'}, {'ENSG00000168306'}, {'ENSG00000180176'}, {'ENSG00000095464'}, {'ENSG00000131873'}, {'ENSG00000006695'}, {'ENSG00000172572'}, {'ENSG00000179455'}, {'ENSG00000179142'}, {'ENSG00000169764'}, {'ENSG00000149177'}, {'ENSG00000181652'}, {'ENSG00000124253'}, {'ENSG00000133116'}, {'ENSG00000197444'}, {'ENSG00000176387'}, {'ENSG00000186153'}, {'ENSG00000102172'}, {'ENSG00000171298'}, {'ENSG00000159423'}, {'ENSG00000172331'}, {'ENSG00000182199'}, {'ENSG00000160688'}, {'ENSG00000101868'}, {'ENSG00000109929'}, {'ENSG00000165704'}, {'ENSG00000125255'}, {'ENSG00000115286'}, {'ENSG00000151224'}, {'ENSG00000130164'}, {'ENSG00000142875'}, {'ENSG00000101109'}, {'ENSG00000135744'}, {'ENSG00000167548'}, {'ENSG00000244038'}, {'ENSG00000111275'}, {'ENSG00000112759'}, {'ENSG00000117118'}, {'ENSG00000065675'}, {'ENSG00000178999'}, {'ENSG00000175535'}, {'ENSG00000104763'}, {'ENSG00000171132'}, {'ENSG00000183196'}, {'ENSG00000154310'}, {'ENSG00000104044'}, {'ENSG00000077721'}, {'ENSG00000138696'}, {'ENSG00000135446'}, {'ENSG00000077152'}, {'ENSG00000100749'}, {'ENSG00000138796'}, {'ENSG00000185803'}, {'ENSG00000138185'}, {'ENSG00000132155'}, {'ENSG00000186104'}, {'ENSG00000213398'}, {'ENSG00000124275'}, {'ENSG00000144659'}, {'ENSG00000134538'}, {'ENSG00000172890'}, {'ENSG00000150787'}, {'ENSG00000143387'}, {'ENSG00000247626'}, {'ENSG00000163114'}, {'ENSG00000144182'}, {'ENSG00000175198'}, {'ENSG00000070748'}, {'ENSG00000104687'}, {'ENSG00000079435'}, {'ENSG00000166411'}, {'ENSG00000154678'}, {'ENSG00000099381'}, {'ENSG00000165140'}, {'ENSG00000178445'}, {'ENSG00000143278'}, {'ENSG00000141469'}, {'ENSG00000197858'}, {'ENSG00000131828'}, {'ENSG00000185345'}, {'ENSG00000137760'}, {'ENSG00000100983'}, {'ENSG00000198786'}, {'ENSG00000198246'}, {'ENSG00000143641'}, {'ENSG00000138376'}, {'ENSG00000049860'}, {'ENSG00000253729'}, {'ENSG00000185000'}, {'ENSG00000140522'}, {'ENSG00000069667'}, {'ENSG00000100889'}, {'ENSG00000072756'}, {'ENSG00000159082'}, {'ENSG00000133805'}, {'ENSG00000102393'}, {'ENSG00000116704'}, {'ENSG00000158022'}, {'ENSG00000104267'}, {'ENSG00000125780'}, {'ENSG00000109667'}, {'ENSG00000088035'}, {'ENSG00000007168'}, {'ENSG00000162885'}, {'ENSG00000011275'}, {'ENSG00000113163'}, {'ENSG00000110245'}, {'ENSG00000125877'}, {'ENSG00000124140'}, {'ENSG00000241635'}, {'ENSG00000088451'}, {'ENSG00000127948'}, {'ENSG00000086758'}, {'ENSG00000166501'}, {'ENSG00000037280'}, {'ENSG00000130309'}, {'ENSG00000148672'}, {'ENSG00000091483'}, {'ENSG00000139053'}, {'ENSG00000152620'}, {'ENSG00000134324'}, {'ENSG00000090020'}, {'ENSG00000047936'}, {'ENSG00000131143'}, {'ENSG00000284844'}, {'ENSG00000075651'}, {'ENSG00000083444'}, {'ENSG00000103510'}, {'ENSG00000103150'}, {'ENSG00000132376'}, {'ENSG00000105379'}, {'ENSG00000259075'}, {'ENSG00000062822'}, {'ENSG00000172046'}, {'ENSG00000196177'}, {'ENSG00000105613'}, {'ENSG00000119723'}, {'ENSG00000118046'}, {'ENSG00000198650'}, {'ENSG00000000419'}, {'ENSG00000169021'}, {'ENSG00000167434'}, {'ENSG00000066468'}, {'ENSG00000135241'}, {'ENSG00000166816'}, {'ENSG00000072042'}, {'ENSG00000116711'}, {'ENSG00000148459'}, {'ENSG00000165059'}, {'ENSG00000117682'}, {'ENSG00000023228'}, {'ENSG00000165078'}, {'ENSG00000104812'}, {'ENSG00000065923'}, {'ENSG00000116039'}, {'ENSG00000147100'}, {'ENSG00000140287'}, {'ENSG00000240583'}, {'ENSG00000128731'}, {'ENSG00000185813'}]\n",
      "1261\n",
      "['ENSG00000052802', 'ENSG00000124006', 'ENSG00000197249', 'ENSG00000092068', 'ENSG00000146648', 'ENSG00000114738', 'ENSG00000165282', 'ENSG00000174886', 'ENSG00000169375', 'ENSG00000156515', 'ENSG00000079215', 'ENSG00000160752', 'ENSG00000164116', 'ENSG00000111817', 'ENSG00000152952', 'ENSG00000173540', 'ENSG00000184470', 'ENSG00000166484', 'ENSG00000149925', 'ENSG00000010404', 'ENSG00000152642', 'ENSG00000168487', 'ENSG00000112541', 'ENSG00000100596', 'ENSG00000177239', 'ENSG00000165349', 'ENSG00000196090', 'ENSG00000138061', 'ENSG00000017260', 'ENSG00000143199', 'ENSG00000108474', 'ENSG00000137700', 'ENSG00000145284', 'ENSG00000126522', 'ENSG00000060069', 'ENSG00000043514', 'ENSG00000171100', 'ENSG00000198886', 'ENSG00000139428', 'ENSG00000137868', 'ENSG00000198727', 'ENSG00000116096', 'ENSG00000171503', 'ENSG00000133216', 'ENSG00000069431', 'ENSG00000068438', 'ENSG00000160868', 'ENSG00000134910', 'ENSG00000004864', 'ENSG00000119414', 'ENSG00000198695', 'ENSG00000147155', 'ENSG00000139988', 'ENSG00000112425', 'ENSG00000124356', 'ENSG00000151498', 'ENSG00000101276', 'ENSG00000168411', 'ENSG00000067992', 'ENSG00000174358', 'ENSG00000101210', 'ENSG00000087053', 'ENSG00000099624', 'ENSG00000160584', 'ENSG00000179477', 'ENSG00000147684', 'ENSG00000081237', 'ENSG00000241935', 'ENSG00000086232', 'ENSG00000106633', 'ENSG00000072274', 'ENSG00000105639', 'ENSG00000148795', 'ENSG00000156413', 'ENSG00000131238', 'ENSG00000175536', 'ENSG00000184254', 'ENSG00000196498', 'ENSG00000167580', 'ENSG00000100393', 'ENSG00000178538', 'ENSG00000163513', 'ENSG00000117308', 'ENSG00000177666', 'ENSG00000197579', 'ENSG00000149269', 'ENSG00000178537', 'ENSG00000122194', 'ENSG00000126749', 'ENSG00000198814', 'ENSG00000131069', 'ENSG00000112473', 'ENSG00000166349', 'ENSG00000086848', 'ENSG00000173599', 'ENSG00000130175', 'ENSG00000111012', 'ENSG00000139318', 'ENSG00000184432', 'ENSG00000188641', 'ENSG00000085998', 'ENSG00000175283', 'ENSG00000140650', 'ENSG00000265203', 'ENSG00000076201', 'ENSG00000153936', 'ENSG00000005381', 'ENSG00000157764', 'ENSG00000174672', 'ENSG00000139531', 'ENSG00000114491', 'ENSG00000038382', 'ENSG00000095139', 'ENSG00000124486', 'ENSG00000169919', 'ENSG00000135409', 'ENSG00000100288', 'ENSG00000106080', 'ENSG00000116133', 'ENSG00000147804', 'ENSG00000106605', 'ENSG00000124491', 'ENSG00000176715', 'ENSG00000204385', 'ENSG00000196411', 'ENSG00000152332', 'ENSG00000079335', 'ENSG00000147044', 'ENSG00000198763', 'ENSG00000114200', 'ENSG00000169692', 'ENSG00000030304', 'ENSG00000166311', 'ENSG00000172893', 'ENSG00000140459', 'ENSG00000047457', 'ENSG00000117479', 'ENSG00000167371', 'ENSG00000032444', 'ENSG00000112053', 'ENSG00000077498', 'ENSG00000142627', 'ENSG00000178802', 'ENSG00000157399', 'ENSG00000120942', 'ENSG00000156650', 'ENSG00000100354', 'ENSG00000177542', 'ENSG00000156467', 'ENSG00000091436', 'ENSG00000184304', 'ENSG00000185973', 'ENSG00000153933', 'ENSG00000065883', 'ENSG00000014641', 'ENSG00000168827', 'ENSG00000166123', 'ENSG00000165029', 'ENSG00000198951', 'ENSG00000178127', 'ENSG00000004455', 'ENSG00000005471', 'ENSG00000099377', 'ENSG00000100030', 'ENSG00000126091', 'ENSG00000164023', 'ENSG00000012232', 'ENSG00000185532', 'ENSG00000165731', 'ENSG00000157103', 'ENSG00000170734', 'ENSG00000101986', 'ENSG00000109685', 'ENSG00000239900', 'ENSG00000176022', 'ENSG00000141756', 'ENSG00000102575', 'ENSG00000102383', 'ENSG00000197891', 'ENSG00000113790', 'ENSG00000073060', 'ENSG00000144741', 'ENSG00000159640', 'ENSG00000131174', 'ENSG00000242366', 'ENSG00000142208', 'ENSG00000110887', 'ENSG00000087299', 'ENSG00000171560', 'ENSG00000187486', 'ENSG00000135218', 'ENSG00000186111', 'ENSG00000100865', 'ENSG00000105607', 'ENSG00000125505', 'ENSG00000189221', 'ENSG00000116539', 'ENSG00000166794', 'ENSG00000147162', 'ENSG00000101247', 'ENSG00000070614', 'ENSG00000188467', 'ENSG00000077463', 'ENSG00000111670', 'ENSG00000135318', 'ENSG00000142731', 'ENSG00000076685', 'ENSG00000111732', 'ENSG00000072682', 'ENSG00000174640', 'ENSG00000011198', 'ENSG00000149541', 'ENSG00000102226', 'ENSG00000110719', 'ENSG00000154227', 'ENSG00000107537', 'ENSG00000182197', 'ENSG00000110066', 'ENSG00000137168', 'ENSG00000185883', 'ENSG00000151729', 'ENSG00000133742', 'ENSG00000122218', 'ENSG00000124212', 'ENSG00000131183', 'ENSG00000112992', 'ENSG00000167114', 'ENSG00000100564', 'ENSG00000122025', 'ENSG00000116748', 'ENSG00000102312', 'ENSG00000065154', 'ENSG00000111713', 'ENSG00000122643', 'ENSG00000121851', 'ENSG00000151632', 'ENSG00000144591', 'ENSG00000136872', 'ENSG00000119523', 'ENSG00000132837', 'ENSG00000164494', 'ENSG00000273820', 'ENSG00000135454', 'ENSG00000167258', 'ENSG00000163541', 'ENSG00000171862', 'ENSG00000105220', 'ENSG00000075413', 'ENSG00000138814', 'ENSG00000181019', 'ENSG00000146701', 'ENSG00000140374', 'ENSG00000148053', 'ENSG00000165025', 'ENSG00000203859', 'ENSG00000105552', 'ENSG00000143921', 'ENSG00000164904', 'ENSG00000186010', 'ENSG00000170266', 'ENSG00000132915', 'ENSG00000060762', 'ENSG00000112294', 'ENSG00000067842', 'ENSG00000136371', 'ENSG00000161513', 'ENSG00000139540', 'ENSG00000006071', 'ENSG00000122126', 'ENSG00000091137', 'ENSG00000039650', 'ENSG00000116106', 'ENSG00000140090', 'ENSG00000197943', 'ENSG00000070019', 'ENSG00000158125', 'ENSG00000147647', 'ENSG00000126583', 'ENSG00000064651', 'ENSG00000121879', 'ENSG00000110435', 'ENSG00000105204', 'ENSG00000149476', 'ENSG00000054392', 'ENSG00000158864', 'ENSG00000198668', 'ENSG00000069943', 'ENSG00000160211', 'ENSG00000115170', 'ENSG00000134853', 'ENSG00000164414', 'ENSG00000136143', 'ENSG00000112742', 'ENSG00000058404', 'ENSG00000102144', 'ENSG00000101849', 'ENSG00000127415', 'ENSG00000095059', 'ENSG00000240303', 'ENSG00000177000', 'ENSG00000115840', 'ENSG00000110717', 'ENSG00000165458', 'ENSG00000173614', 'ENSG00000173327', 'ENSG00000159459', 'ENSG00000101752', 'ENSG00000132964', 'ENSG00000198848', 'ENSG00000136908', 'ENSG00000135929', 'ENSG00000128052', 'ENSG00000185100', 'ENSG00000115850', 'ENSG00000105647', 'ENSG00000070610', 'ENSG00000171004', 'ENSG00000177156', 'ENSG00000081479', 'ENSG00000198400', 'ENSG00000174173', 'ENSG00000164708', 'ENSG00000130816', 'ENSG00000143811', 'ENSG00000142892', 'ENSG00000204217', 'ENSG00000137731', 'ENSG00000122008', 'ENSG00000170485', 'ENSG00000115525', 'ENSG00000104635', 'ENSG00000118515', 'ENSG00000054983', 'ENSG00000027847', 'ENSG00000146085', 'ENSG00000101438', 'ENSG00000259030', 'ENSG00000092295', 'ENSG00000085563', 'ENSG00000108439', 'ENSG00000103489', 'ENSG00000163931', 'ENSG00000135917', 'ENSG00000135845', 'ENSG00000130821', 'ENSG00000070669', 'ENSG00000164405', 'ENSG00000104907', 'ENSG00000135437', 'ENSG00000180879', 'ENSG00000178694', 'ENSG00000177628', 'ENSG00000166224', 'ENSG00000147123', 'ENSG00000105397', 'ENSG00000106397', 'ENSG00000175445', 'ENSG00000152234', 'ENSG00000136715', 'ENSG00000138079', 'ENSG00000074803', 'ENSG00000101846', 'ENSG00000145331', 'ENSG00000092439', 'ENSG00000169032', 'ENSG00000161217', 'ENSG00000122687', 'ENSG00000184979', 'ENSG00000100299', 'ENSG00000234906', 'ENSG00000119711', 'ENSG00000108784', 'ENSG00000146872', 'ENSG00000138777', 'ENSG00000073578', 'ENSG00000071553', 'ENSG00000172482', 'ENSG00000115919', 'ENSG00000185344', 'ENSG00000168237', 'ENSG00000135069', 'ENSG00000111837', 'ENSG00000008086', 'ENSG00000228716', 'ENSG00000197375', 'ENSG00000115085', 'ENSG00000067900', 'ENSG00000166136', 'ENSG00000097007', 'ENSG00000116745', 'ENSG00000068366', 'ENSG00000131389', 'ENSG00000171954', 'ENSG00000133256', 'ENSG00000198130', 'ENSG00000140675', 'ENSG00000214102', 'ENSG00000073734', 'ENSG00000159921', 'ENSG00000141551', 'ENSG00000157353', 'ENSG00000162434', 'ENSG00000151366', 'ENSG00000105409', 'ENSG00000013375', 'ENSG00000167601', 'ENSG00000110921', 'ENSG00000141349', 'ENSG00000083720', 'ENSG00000120156', 'ENSG00000133835', 'ENSG00000044446', 'ENSG00000143363', 'ENSG00000131653', 'ENSG00000124370', 'ENSG00000100243', 'ENSG00000106617', 'ENSG00000248098', 'ENSG00000099797', 'ENSG00000159692', 'ENSG00000102743', 'ENSG00000177646', 'ENSG00000079805', 'ENSG00000083123', 'ENSG00000109323', 'ENSG00000126261', 'ENSG00000113263', 'ENSG00000179520', 'ENSG00000151552', 'ENSG00000185527', 'ENSG00000130413', 'ENSG00000138823', 'ENSG00000107789', 'ENSG00000071054', 'ENSG00000072195', 'ENSG00000152779', 'ENSG00000276747', 'ENSG00000197121', 'ENSG00000198805', 'ENSG00000122966', 'ENSG00000101336', 'ENSG00000123454', 'ENSG00000152104', 'ENSG00000124155', 'ENSG00000142513', 'ENSG00000179148', 'ENSG00000164951', 'ENSG00000148090', 'ENSG00000169071', 'ENSG00000101901', 'ENSG00000231852', 'ENSG00000147224', 'ENSG00000171759', 'ENSG00000167588', 'ENSG00000092964', 'ENSG00000187091', 'ENSG00000114480', 'ENSG00000122971', 'ENSG00000101695', 'ENSG00000212907', 'ENSG00000256269', 'ENSG00000141458', 'ENSG00000138018', 'ENSG00000036473', 'ENSG00000122787', 'ENSG00000213316', 'ENSG00000130948', 'ENSG00000104055', 'ENSG00000181090', 'ENSG00000116171', 'ENSG00000106976', 'ENSG00000184983', 'ENSG00000010671', 'ENSG00000197296', 'ENSG00000171608', 'ENSG00000183048', 'ENSG00000100504', 'ENSG00000118094', 'ENSG00000140263', 'ENSG00000145725', 'ENSG00000172315', 'ENSG00000196839', 'ENSG00000130985', 'ENSG00000184752', 'ENSG00000104723', 'ENSG00000171320', 'ENSG00000135677', 'ENSG00000137869', 'ENSG00000134240', 'ENSG00000182866', 'ENSG00000163389', 'ENSG00000141485', 'ENSG00000213341', 'ENSG00000147606', 'ENSG00000171105', 'ENSG00000108946', 'ENSG00000102030', 'ENSG00000241973', 'ENSG00000147133', 'ENSG00000101306', 'ENSG00000088179', 'ENSG00000111846', 'ENSG00000156110', 'ENSG00000092621', 'ENSG00000139180', 'ENSG00000128655', 'ENSG00000025708', 'ENSG00000129083', 'ENSG00000109610', 'ENSG00000155111', 'ENSG00000163755', 'ENSG00000255730', 'ENSG00000103707', 'ENSG00000100033', 'ENSG00000141506', 'ENSG00000103507', 'ENSG00000125356', 'ENSG00000021488', 'ENSG00000204084', 'ENSG00000108528', 'ENSG00000087470', 'ENSG00000124713', 'ENSG00000272333', 'ENSG00000164867', 'ENSG00000167468', 'ENSG00000162688', 'ENSG00000198682', 'ENSG00000197894', 'ENSG00000157765', 'ENSG00000160867', 'ENSG00000182621', 'ENSG00000181038', 'ENSG00000131100', 'ENSG00000125166', 'ENSG00000181555', 'ENSG00000196136', 'ENSG00000174684', 'ENSG00000038002', 'ENSG00000033170', 'ENSG00000150540', 'ENSG00000163817', 'ENSG00000163754', 'ENSG00000138029', 'ENSG00000166548', 'ENSG00000068976', 'ENSG00000157540', 'ENSG00000174233', 'ENSG00000131844', 'ENSG00000167508', 'ENSG00000138363', 'ENSG00000184381', 'ENSG00000150768', 'ENSG00000107798', 'ENSG00000155850', 'ENSG00000141027', 'ENSG00000155657', 'ENSG00000018625', 'ENSG00000163631', 'ENSG00000139718', 'ENSG00000100348', 'ENSG00000119689', 'ENSG00000154252', 'ENSG00000110628', 'ENSG00000074621', 'ENSG00000117394', 'ENSG00000101444', 'ENSG00000198488', 'ENSG00000164742', 'ENSG00000126267', 'ENSG00000159650', 'ENSG00000012660', 'ENSG00000101577', 'ENSG00000131023', 'ENSG00000162551', 'ENSG00000068308', 'ENSG00000087586', 'ENSG00000187714', 'ENSG00000103876', 'ENSG00000178568', 'ENSG00000105641', 'ENSG00000164258', 'ENSG00000196296', 'ENSG00000185624', 'ENSG00000124615', 'ENSG00000167397', 'ENSG00000177189', 'ENSG00000009413', 'ENSG00000174951', 'ENSG00000066926', 'ENSG00000198931', 'ENSG00000130508', 'ENSG00000157184', 'ENSG00000090054', 'ENSG00000141736', 'ENSG00000064601', 'ENSG00000161653', 'ENSG00000101333', 'ENSG00000247746', 'ENSG00000049239', 'ENSG00000165841', 'ENSG00000083168', 'ENSG00000156983', 'ENSG00000147416', 'ENSG00000198888', 'ENSG00000198569', 'ENSG00000169169', 'ENSG00000113273', 'ENSG00000112367', 'ENSG00000091138', 'ENSG00000160200', 'ENSG00000070808', 'ENSG00000197594', 'ENSG00000113721', 'ENSG00000077782', 'ENSG00000147383', 'ENSG00000087111', 'ENSG00000131482', 'ENSG00000015532', 'ENSG00000167658', 'ENSG00000140443', 'ENSG00000198363', 'ENSG00000183765', 'ENSG00000117984', 'ENSG00000145675', 'ENSG00000173175', 'ENSG00000070214', 'ENSG00000165060', 'ENSG00000178741', 'ENSG00000164120', 'ENSG00000160282', 'ENSG00000178952', 'ENSG00000118520', 'ENSG00000072062', 'ENSG00000165688', 'ENSG00000110243', 'ENSG00000137275', 'ENSG00000068078', 'ENSG00000136881', 'ENSG00000140598', 'ENSG00000167792', 'ENSG00000114054', 'ENSG00000076351', 'ENSG00000171155', 'ENSG00000255072', 'ENSG00000100170', 'ENSG00000115339', 'ENSG00000168575', 'ENSG00000140905', 'ENSG00000084774', 'ENSG00000126934', 'ENSG00000119638', 'ENSG00000196517', 'ENSG00000119121', 'ENSG00000112077', 'ENSG00000109814', 'ENSG00000095380', 'ENSG00000175054', 'ENSG00000171302', 'ENSG00000108479', 'ENSG00000136643', 'ENSG00000140990', 'ENSG00000061938', 'ENSG00000181192', 'ENSG00000162733', 'ENSG00000153208', 'ENSG00000080819', 'ENSG00000124172', 'ENSG00000159131', 'ENSG00000171766', 'ENSG00000138075', 'ENSG00000092529', 'ENSG00000101464', 'ENSG00000132517', 'ENSG00000125779', 'ENSG00000151790', 'ENSG00000165671', 'ENSG00000147408', 'ENSG00000116337', 'ENSG00000102100', 'ENSG00000181830', 'ENSG00000096968', 'ENSG00000143627', 'ENSG00000145494', 'ENSG00000055332', 'ENSG00000164347', 'ENSG00000122863', 'ENSG00000140740', 'ENSG00000196743', 'ENSG00000112144', 'ENSG00000159899', 'ENSG00000169105', 'ENSG00000172817', 'ENSG00000115020', 'ENSG00000088305', 'ENSG00000128683', 'ENSG00000126562', 'ENSG00000160882', 'ENSG00000177565', 'ENSG00000100075', 'ENSG00000178814', 'ENSG00000103222', 'ENSG00000083799', 'ENSG00000116906', 'ENSG00000100714', 'ENSG00000172071', 'ENSG00000183032', 'ENSG00000186642', 'ENSG00000198712', 'ENSG00000105976', 'ENSG00000167996', 'ENSG00000183421', 'ENSG00000148660', 'ENSG00000104365', 'ENSG00000143753', 'ENSG00000012963', 'ENSG00000156471', 'ENSG00000110436', 'ENSG00000116984', 'ENSG00000198380', 'ENSG00000157087', 'ENSG00000147465', 'ENSG00000008311', 'ENSG00000105568', 'ENSG00000160226', 'ENSG00000158296', 'ENSG00000135821', 'ENSG00000198804', 'ENSG00000048392', 'ENSG00000084073', 'ENSG00000134812', 'ENSG00000113575', 'ENSG00000176920', 'ENSG00000169679', 'ENSG00000168000', 'ENSG00000204386', 'ENSG00000128928', 'ENSG00000142798', 'ENSG00000131495', 'ENSG00000165970', 'ENSG00000089597', 'ENSG00000115705', 'ENSG00000127947', 'ENSG00000160602', 'ENSG00000116771', 'ENSG00000119772', 'ENSG00000148384', 'ENSG00000172339', 'ENSG00000143933', 'ENSG00000121897', 'ENSG00000070915', 'ENSG00000147471', 'ENSG00000166035', 'ENSG00000135679', 'ENSG00000117620', 'ENSG00000172987', 'ENSG00000103546', 'ENSG00000122912', 'ENSG00000172977', 'ENSG00000160551', 'ENSG00000160285', 'ENSG00000112319', 'ENSG00000127481', 'ENSG00000175505', 'ENSG00000182578', 'ENSG00000119401', 'ENSG00000166340', 'ENSG00000060656', 'ENSG00000198899', 'ENSG00000151092', 'ENSG00000080493', 'ENSG00000001084', 'ENSG00000168137', 'ENSG00000115419', 'ENSG00000116675', 'ENSG00000253710', 'ENSG00000026103', 'ENSG00000136381', 'ENSG00000172269', 'ENSG00000138193', 'ENSG00000051382', 'ENSG00000137992', 'ENSG00000114786', 'ENSG00000107779', 'ENSG00000107165', 'ENSG00000156873', 'ENSG00000127125', 'ENSG00000142619', 'ENSG00000137713', 'ENSG00000004939', 'ENSG00000090402', 'ENSG00000115392', 'ENSG00000114062', 'ENSG00000180210', 'ENSG00000197496', 'ENSG00000182858', 'ENSG00000163932', 'ENSG00000100644', 'ENSG00000113231', 'ENSG00000117020', 'ENSG00000197563', 'ENSG00000183735', 'ENSG00000005339', 'ENSG00000095321', 'ENSG00000146733', 'ENSG00000018510', 'ENSG00000163719', 'ENSG00000132600', 'ENSG00000185324', 'ENSG00000130203', 'ENSG00000101365', 'ENSG00000136573', 'ENSG00000007933', 'ENSG00000078124', 'ENSG00000171885', 'ENSG00000009830', 'ENSG00000155380', 'ENSG00000095015', 'ENSG00000135697', 'ENSG00000117054', 'ENSG00000143252', 'ENSG00000173786', 'ENSG00000128039', 'ENSG00000188906', 'ENSG00000181523', 'ENSG00000102967', 'ENSG00000104331', 'ENSG00000106348', 'ENSG00000139304', 'ENSG00000241878', 'ENSG00000157064', 'ENSG00000204370', 'ENSG00000175564', 'ENSG00000010256', 'ENSG00000277161', 'ENSG00000101871', 'ENSG00000181035', 'ENSG00000143815', 'ENSG00000021826', 'ENSG00000037757', 'ENSG00000007541', 'ENSG00000084754', 'ENSG00000213930', 'ENSG00000078070', 'ENSG00000179091', 'ENSG00000170836', 'ENSG00000114739', 'ENSG00000153827', 'ENSG00000059377', 'ENSG00000106992', 'ENSG00000105146', 'ENSG00000023839', 'ENSG00000109861', 'ENSG00000040933', 'ENSG00000069020', 'ENSG00000140199', 'ENSG00000106799', 'ENSG00000149016', 'ENSG00000138449', 'ENSG00000188706', 'ENSG00000164134', 'ENSG00000128829', 'ENSG00000104313', 'ENSG00000115758', 'ENSG00000179163', 'ENSG00000115902', 'ENSG00000102125', 'ENSG00000075415', 'ENSG00000130414', 'ENSG00000060642', 'ENSG00000101974', 'ENSG00000111700', 'ENSG00000055609', 'ENSG00000248099', 'ENSG00000105810', 'ENSG00000174990', 'ENSG00000124164', 'ENSG00000138592', 'ENSG00000162882', 'ENSG00000198938', 'ENSG00000117305', 'ENSG00000106462', 'ENSG00000139151', 'ENSG00000185808', 'ENSG00000083290', 'ENSG00000091140', 'ENSG00000164172', 'ENSG00000188690', 'ENSG00000065534', 'ENSG00000106688', 'ENSG00000148677', 'ENSG00000197601', 'ENSG00000138413', 'ENSG00000137601', 'ENSG00000115275', 'ENSG00000170426', 'ENSG00000157404', 'ENSG00000145242', 'ENSG00000177192', 'ENSG00000156345', 'ENSG00000164933', 'ENSG00000137106', 'ENSG00000213614', 'ENSG00000142168', 'ENSG00000155016', 'ENSG00000140279', 'ENSG00000065613', 'ENSG00000068120', 'ENSG00000166819', 'ENSG00000124299', 'ENSG00000140521', 'ENSG00000154237', 'ENSG00000133059', 'ENSG00000158828', 'ENSG00000163344', 'ENSG00000139567', 'ENSG00000104774', 'ENSG00000118402', 'ENSG00000077264', 'ENSG00000136699', 'ENSG00000162836', 'ENSG00000164078', 'ENSG00000084674', 'ENSG00000167186', 'ENSG00000158104', 'ENSG00000171723', 'ENSG00000182054', 'ENSG00000102893', 'ENSG00000108381', 'ENSG00000100994', 'ENSG00000072506', 'ENSG00000101266', 'ENSG00000107611', 'ENSG00000085382', 'ENSG00000100412', 'ENSG00000090376', 'ENSG00000065361', 'ENSG00000105929', 'ENSG00000033011', 'ENSG00000148356', 'ENSG00000183010', 'ENSG00000141378', 'ENSG00000158578', 'ENSG00000091704', 'ENSG00000152556', 'ENSG00000242110', 'ENSG00000145217', 'ENSG00000198910', 'ENSG00000138411', 'ENSG00000113448', 'ENSG00000213689', 'ENSG00000165195', 'ENSG00000161798', 'ENSG00000171720', 'ENSG00000185483', 'ENSG00000125454', 'ENSG00000140057', 'ENSG00000142319', 'ENSG00000156885', 'ENSG00000170835', 'ENSG00000138207', 'ENSG00000138821', 'ENSG00000049759', 'ENSG00000123552', 'ENSG00000156510', 'ENSG00000213619', 'ENSG00000143315', 'ENSG00000115159', 'ENSG00000158089', 'ENSG00000214160', 'ENSG00000072778', 'ENSG00000174437', 'ENSG00000066230', 'ENSG00000078747', 'ENSG00000131979', 'ENSG00000166948', 'ENSG00000093072', 'ENSG00000092098', 'ENSG00000118058', 'ENSG00000198001', 'ENSG00000205678', 'ENSG00000103266', 'ENSG00000165102', 'ENSG00000130714', 'ENSG00000185825', 'ENSG00000143224', 'ENSG00000114378', 'ENSG00000082996', 'ENSG00000080166', 'ENSG00000166228', 'ENSG00000072310', 'ENSG00000174080', 'ENSG00000011405', 'ENSG00000213639', 'ENSG00000141012', 'ENSG00000110911', 'ENSG00000075239', 'ENSG00000145020', 'ENSG00000228253', 'ENSG00000118137', 'ENSG00000114573', 'ENSG00000079459', 'ENSG00000167972', 'ENSG00000116761', 'ENSG00000066322', 'ENSG00000155465', 'ENSG00000171094', 'ENSG00000197746', 'ENSG00000179295', 'ENSG00000111669', 'ENSG00000004961', 'ENSG00000174227', 'ENSG00000187555', 'ENSG00000161533', 'ENSG00000132518', 'ENSG00000119537', 'ENSG00000081923', 'ENSG00000163581', 'ENSG00000103657', 'ENSG00000079739', 'ENSG00000159063', 'ENSG00000156970', 'ENSG00000187566', 'ENSG00000074410', 'ENSG00000183044', 'ENSG00000168291', 'ENSG00000110090', 'ENSG00000110195', 'ENSG00000173085', 'ENSG00000108515', 'ENSG00000095777', 'ENSG00000167004', 'ENSG00000153015', 'ENSG00000244486', 'ENSG00000088002', 'ENSG00000132437', 'ENSG00000179085', 'ENSG00000154518', 'ENSG00000005483', 'ENSG00000113083', 'ENSG00000033627', 'ENSG00000186350', 'ENSG00000277893', 'ENSG00000100997', 'ENSG00000256525', 'ENSG00000146070', 'ENSG00000135341', 'ENSG00000169359', 'ENSG00000121207', 'ENSG00000198752', 'ENSG00000167306', 'ENSG00000204435', 'ENSG00000078061', 'ENSG00000117594', 'ENSG00000198691', 'ENSG00000113924', 'ENSG00000182890', 'ENSG00000130005', 'ENSG00000137124', 'ENSG00000130707', 'ENSG00000105221', 'ENSG00000153574', 'ENSG00000198840', 'ENSG00000168282', 'ENSG00000067177', 'ENSG00000163399', 'ENSG00000160014', 'ENSG00000277494', 'ENSG00000177084', 'ENSG00000105426', 'ENSG00000059573', 'ENSG00000116353', 'ENSG00000185974', 'ENSG00000086062', 'ENSG00000169814', 'ENSG00000138109', 'ENSG00000148218', 'ENSG00000186335', 'ENSG00000175309', 'ENSG00000131055', 'ENSG00000072210', 'ENSG00000006530', 'ENSG00000119899', 'ENSG00000172296', 'ENSG00000145476', 'ENSG00000165646', 'ENSG00000159267', 'ENSG00000115665', 'ENSG00000160209', 'ENSG00000110395', 'ENSG00000127884', 'ENSG00000100416', 'ENSG00000151348', 'ENSG00000114956', 'ENSG00000119013', 'ENSG00000060237', 'ENSG00000151148', 'ENSG00000187676', 'ENSG00000149311', 'ENSG00000143891', 'ENSG00000223802', 'ENSG00000197122', 'ENSG00000126088', 'ENSG00000168306', 'ENSG00000180176', 'ENSG00000095464', 'ENSG00000131873', 'ENSG00000006695', 'ENSG00000172572', 'ENSG00000179455', 'ENSG00000179142', 'ENSG00000169764', 'ENSG00000149177', 'ENSG00000181652', 'ENSG00000124253', 'ENSG00000133116', 'ENSG00000197444', 'ENSG00000176387', 'ENSG00000186153', 'ENSG00000102172', 'ENSG00000171298', 'ENSG00000159423', 'ENSG00000172331', 'ENSG00000182199', 'ENSG00000160688', 'ENSG00000101868', 'ENSG00000109929', 'ENSG00000165704', 'ENSG00000125255', 'ENSG00000115286', 'ENSG00000151224', 'ENSG00000130164', 'ENSG00000142875', 'ENSG00000101109', 'ENSG00000135744', 'ENSG00000167548', 'ENSG00000244038', 'ENSG00000111275', 'ENSG00000112759', 'ENSG00000117118', 'ENSG00000065675', 'ENSG00000178999', 'ENSG00000175535', 'ENSG00000104763', 'ENSG00000171132', 'ENSG00000183196', 'ENSG00000154310', 'ENSG00000104044', 'ENSG00000077721', 'ENSG00000138696', 'ENSG00000135446', 'ENSG00000077152', 'ENSG00000100749', 'ENSG00000138796', 'ENSG00000185803', 'ENSG00000138185', 'ENSG00000132155', 'ENSG00000186104', 'ENSG00000213398', 'ENSG00000124275', 'ENSG00000144659', 'ENSG00000134538', 'ENSG00000172890', 'ENSG00000150787', 'ENSG00000143387', 'ENSG00000247626', 'ENSG00000163114', 'ENSG00000144182', 'ENSG00000175198', 'ENSG00000070748', 'ENSG00000104687', 'ENSG00000079435', 'ENSG00000166411', 'ENSG00000154678', 'ENSG00000099381', 'ENSG00000165140', 'ENSG00000178445', 'ENSG00000143278', 'ENSG00000141469', 'ENSG00000197858', 'ENSG00000131828', 'ENSG00000185345', 'ENSG00000137760', 'ENSG00000100983', 'ENSG00000198786', 'ENSG00000198246', 'ENSG00000143641', 'ENSG00000138376', 'ENSG00000049860', 'ENSG00000253729', 'ENSG00000185000', 'ENSG00000140522', 'ENSG00000069667', 'ENSG00000100889', 'ENSG00000072756', 'ENSG00000159082', 'ENSG00000133805', 'ENSG00000102393', 'ENSG00000116704', 'ENSG00000158022', 'ENSG00000104267', 'ENSG00000125780', 'ENSG00000109667', 'ENSG00000088035', 'ENSG00000007168', 'ENSG00000162885', 'ENSG00000011275', 'ENSG00000113163', 'ENSG00000110245', 'ENSG00000125877', 'ENSG00000124140', 'ENSG00000241635', 'ENSG00000088451', 'ENSG00000127948', 'ENSG00000086758', 'ENSG00000166501', 'ENSG00000037280', 'ENSG00000130309', 'ENSG00000148672', 'ENSG00000091483', 'ENSG00000139053', 'ENSG00000152620', 'ENSG00000134324', 'ENSG00000090020', 'ENSG00000047936', 'ENSG00000131143', 'ENSG00000284844', 'ENSG00000075651', 'ENSG00000083444', 'ENSG00000103510', 'ENSG00000103150', 'ENSG00000132376', 'ENSG00000105379', 'ENSG00000259075', 'ENSG00000062822', 'ENSG00000172046', 'ENSG00000196177', 'ENSG00000105613', 'ENSG00000119723', 'ENSG00000118046', 'ENSG00000198650', 'ENSG00000000419', 'ENSG00000169021', 'ENSG00000167434', 'ENSG00000066468', 'ENSG00000135241', 'ENSG00000166816', 'ENSG00000072042', 'ENSG00000116711', 'ENSG00000148459', 'ENSG00000165059', 'ENSG00000117682', 'ENSG00000023228', 'ENSG00000165078', 'ENSG00000104812', 'ENSG00000065923', 'ENSG00000116039', 'ENSG00000147100', 'ENSG00000140287', 'ENSG00000240583', 'ENSG00000128731', 'ENSG00000185813']\n"
     ]
    }
   ],
   "source": [
    "# Remove single genes deletions that break the model before doing double deletion.\n",
    "print(single_deletion_results.shape[0])\n",
    "single_deletion_results = single_deletion_results[single_deletion_results['growth'] != 0]\n",
    "genes = single_deletion_results['ids'].to_list()\n",
    "print(genes)\n",
    "genes2 = [item for sublist in genes for item in sublist]\n",
    "print(len(genes2))\n",
    "print(genes2)"
   ],
   "metadata": {
    "collapsed": false,
    "pycharm": {
     "name": "#%%\n"
    }
   }
  },
  {
   "cell_type": "code",
   "execution_count": 11,
   "outputs": [
    {
     "name": "stdout",
     "output_type": "stream",
     "text": [
      "       snp_id  chr        pos  var\n",
      "0  rs10280711    7  157689088  G/A\n",
      "1  rs10280711    7  157689088  G/C\n",
      "2  rs10280711    7  157689088  G/T\n",
      "3  rs10463311    5  151031274  C/A\n",
      "4  rs10463311    5  151031274  C/G\n"
     ]
    }
   ],
   "source": [
    "SNPs = pd.read_table('C:/Users/Sigve/Genome_Data/SNP_data/ALS_variants/ALS_15_loci.tsv')\n",
    "SNPs.drop(columns='var_src', inplace=True)\n",
    "SNPs['ancestral'] = SNPs['var'].apply(lambda x: x[0])\n",
    "SNPs['var'] = SNPs['var'].apply(lambda x: x.split('/')[1:])\n",
    "SNPs = SNPs.explode('var', ignore_index=True)\n",
    "SNPs['var'] = SNPs['ancestral'] + '/' + SNPs['var']\n",
    "SNPs.drop(columns='ancestral', inplace=True)\n",
    "print(SNPs.head())\n",
    "\n",
    "SNPs.to_csv(path_or_buf='C:/Users/Sigve/Genome_Data/SNP_data/ALS_variants/ALS_15_loci_edit.tsv', sep='\\t')"
   ],
   "metadata": {
    "collapsed": false,
    "pycharm": {
     "name": "#%%\n"
    }
   }
  },
  {
   "cell_type": "code",
   "execution_count": 25,
   "outputs": [
    {
     "ename": "KeyError",
     "evalue": "'ENSG00000142168'",
     "output_type": "error",
     "traceback": [
      "\u001B[1;31m---------------------------------------------------------------------------\u001B[0m",
      "\u001B[1;31mKeyError\u001B[0m                                  Traceback (most recent call last)",
      "\u001B[1;32m~\\AppData\\Local\\Temp/ipykernel_12856/3787567700.py\u001B[0m in \u001B[0;36m<module>\u001B[1;34m\u001B[0m\n\u001B[0;32m      1\u001B[0m \u001B[1;32mwith\u001B[0m \u001B[0mmodel\u001B[0m\u001B[1;33m:\u001B[0m\u001B[1;33m\u001B[0m\u001B[1;33m\u001B[0m\u001B[0m\n\u001B[0;32m      2\u001B[0m     \u001B[1;31m#model.genes.get_by_id('ENSG00000160226').knock_out()\u001B[0m\u001B[1;33m\u001B[0m\u001B[1;33m\u001B[0m\u001B[1;33m\u001B[0m\u001B[0m\n\u001B[1;32m----> 3\u001B[1;33m     \u001B[0mmodel\u001B[0m\u001B[1;33m.\u001B[0m\u001B[0mgenes\u001B[0m\u001B[1;33m.\u001B[0m\u001B[0mget_by_id\u001B[0m\u001B[1;33m(\u001B[0m\u001B[1;34m'ENSG00000142168'\u001B[0m\u001B[1;33m)\u001B[0m\u001B[1;33m.\u001B[0m\u001B[0mknock_out\u001B[0m\u001B[1;33m(\u001B[0m\u001B[1;33m)\u001B[0m\u001B[1;33m\u001B[0m\u001B[1;33m\u001B[0m\u001B[0m\n\u001B[0m\u001B[0;32m      4\u001B[0m     \u001B[0mprint\u001B[0m\u001B[1;33m(\u001B[0m\u001B[0mmodel\u001B[0m\u001B[1;33m.\u001B[0m\u001B[0moptimize\u001B[0m\u001B[1;33m(\u001B[0m\u001B[0mobjective_sense\u001B[0m\u001B[1;33m=\u001B[0m\u001B[1;34m'maximize'\u001B[0m\u001B[1;33m)\u001B[0m\u001B[1;33m)\u001B[0m\u001B[1;33m\u001B[0m\u001B[1;33m\u001B[0m\u001B[0m\n\u001B[0;32m      5\u001B[0m \u001B[1;33m\u001B[0m\u001B[0m\n",
      "\u001B[1;32m~\\miniconda3\\envs\\Master\\lib\\site-packages\\cobra\\core\\dictlist.py\u001B[0m in \u001B[0;36mget_by_id\u001B[1;34m(self, id)\u001B[0m\n\u001B[0;32m     55\u001B[0m     \u001B[1;32mdef\u001B[0m \u001B[0mget_by_id\u001B[0m\u001B[1;33m(\u001B[0m\u001B[0mself\u001B[0m\u001B[1;33m,\u001B[0m \u001B[0mid\u001B[0m\u001B[1;33m)\u001B[0m\u001B[1;33m:\u001B[0m\u001B[1;33m\u001B[0m\u001B[1;33m\u001B[0m\u001B[0m\n\u001B[0;32m     56\u001B[0m         \u001B[1;34m\"\"\"return the element with a matching id\"\"\"\u001B[0m\u001B[1;33m\u001B[0m\u001B[1;33m\u001B[0m\u001B[0m\n\u001B[1;32m---> 57\u001B[1;33m         \u001B[1;32mreturn\u001B[0m \u001B[0mlist\u001B[0m\u001B[1;33m.\u001B[0m\u001B[0m__getitem__\u001B[0m\u001B[1;33m(\u001B[0m\u001B[0mself\u001B[0m\u001B[1;33m,\u001B[0m \u001B[0mself\u001B[0m\u001B[1;33m.\u001B[0m\u001B[0m_dict\u001B[0m\u001B[1;33m[\u001B[0m\u001B[0mid\u001B[0m\u001B[1;33m]\u001B[0m\u001B[1;33m)\u001B[0m\u001B[1;33m\u001B[0m\u001B[1;33m\u001B[0m\u001B[0m\n\u001B[0m\u001B[0;32m     58\u001B[0m \u001B[1;33m\u001B[0m\u001B[0m\n\u001B[0;32m     59\u001B[0m     \u001B[1;32mdef\u001B[0m \u001B[0mlist_attr\u001B[0m\u001B[1;33m(\u001B[0m\u001B[0mself\u001B[0m\u001B[1;33m,\u001B[0m \u001B[0mattribute\u001B[0m\u001B[1;33m)\u001B[0m\u001B[1;33m:\u001B[0m\u001B[1;33m\u001B[0m\u001B[1;33m\u001B[0m\u001B[0m\n",
      "\u001B[1;31mKeyError\u001B[0m: 'ENSG00000142168'"
     ]
    }
   ],
   "source": [
    "with model:\n",
    "    #model.genes.get_by_id('ENSG00000160226').knock_out()\n",
    "    #model.genes.get_by_id('ENSG00000142168').knock_out()\n",
    "    print(model.optimize(objective_sense='maximize'))"
   ],
   "metadata": {
    "collapsed": false,
    "pycharm": {
     "name": "#%%\n"
    }
   }
  },
  {
   "cell_type": "code",
   "execution_count": 21,
   "outputs": [
    {
     "name": "stdout",
     "output_type": "stream",
     "text": [
      "    chromosome         snp                          phewas phenotype  cases  \\\n",
      "0  19 45395619   rs2075650                       Alzheimer's disease    737   \n",
      "1  19 45395619   rs2075650                                 Dementias   1170   \n",
      "2     6 396321  rs12203592                         Actinic keratosis   2505   \n",
      "3   6 26093141   rs1800562                  Iron metabolism disorder     40   \n",
      "4  19 45395619   rs2075650  Delirium dementia and amnestic disorders   1566   \n",
      "\n",
      "        p-value  odds-ratio gene_name  phewas code  \\\n",
      "0  5.237000e-28       2.410    TOMM40       290.11   \n",
      "1  2.409000e-26       2.114    TOMM40       290.10   \n",
      "2  4.141000e-26       1.691      IRF4       702.10   \n",
      "3  3.409000e-25      12.270       HFE       275.10   \n",
      "4  8.027000e-24       1.841    TOMM40       290.00   \n",
      "\n",
      "                                   gwas-associations  \n",
      "0  Alzheimer's disease, Alzheimer's disease bioma...  \n",
      "1  Alzheimer's disease, Alzheimer's disease bioma...  \n",
      "2  Eye color, Hair color, Freckling, Progressive ...  \n",
      "3  Mean corpuscular hemoglobin, Glycated hemoglob...  \n",
      "4  Alzheimer's disease, Alzheimer's disease bioma...  \n",
      "<class 'pandas.core.series.Series'>\n",
      "0     rs2075650\n",
      "1    rs12203592\n",
      "2     rs1800562\n",
      "3     rs1329428\n",
      "4    rs17342717\n",
      "5     rs6742078\n",
      "6     rs4148325\n",
      "7      rs887829\n",
      "8    rs13194491\n",
      "9     rs2361502\n",
      "dtype: object\n",
      "3144\n"
     ]
    }
   ],
   "source": [
    "phewas = pd.read_csv('C:/Users/Sigve/Genome_Data/SNP_data/phewas/phewas-catalog.csv')\n",
    "\n",
    "print(phewas.head())\n",
    "\n",
    "phewas_ids = phewas['snp']\n",
    "phewas_ids = phewas_ids.unique()\n",
    "phewas_ids = pd.Series(phewas_ids)\n",
    "\n",
    "print(type(phewas_ids))\n",
    "print(phewas_ids[0:10])\n",
    "print(len(phewas_ids))\n",
    "phewas_ids.to_csv(path_or_buf='C:/Users/Sigve/Genome_Data/SNP_data/phewas/phewas_ids.tsv', sep='\\t', index=False)"
   ],
   "metadata": {
    "collapsed": false,
    "pycharm": {
     "name": "#%%\n"
    }
   }
  },
  {
   "cell_type": "code",
   "execution_count": 75,
   "outputs": [
    {
     "name": "stdout",
     "output_type": "stream",
     "text": [
      "5002\n",
      "      snp_id chr      pos  var\n",
      "4  rs3748816   1  2595307  A/G\n",
      "5  rs3748816   1  2595307  A/T\n",
      "7  rs2651899   1  3167148  T/A\n",
      "8  rs2651899   1  3167148  T/C\n",
      "9   rs966321   1  4255144  G/C\n"
     ]
    }
   ],
   "source": [
    "phewas = pd.read_csv('C:/Users/Sigve/Genome_Data/SNP_data/phewas/phewas-catalog.csv')\n",
    "phewas_var = pd.read_table('C:/Users/Sigve/Genome_Data/SNP_data/phewas/phewas_variants.tsv')\n",
    "\n",
    "phewas = phewas.merge(phewas_var, left_on='snp', right_on='Variant name')\n",
    "#phewas = phewas[['snp', 'Chromosome/scaffold name','Chromosome/scaffold position start (bp)', 'Variant alleles', 'phewas code']]\n",
    "phewas.rename(columns={'snp': 'snp_id','Chromosome/scaffold name': 'chr', 'Variant alleles': 'var', 'Chromosome/scaffold position start (bp)': 'pos', 'phewas code': 'phewas_code'}, inplace=True)\n",
    "\n",
    "phewas['phewas_code'] = phewas['phewas_code'].apply(lambda x: str(x))\n",
    "#phewas = phewas.groupby(['snp', 'chr', 'pos', 'var'])['phewas_code'].apply(', '.join).reset_index()\n",
    "\n",
    "reference_phewas = phewas.drop(columns=['Variant name', 'chromosome', 'cases', 'gwas-associations'])\n",
    "phewas = reference_phewas[['snp_id', 'chr', 'pos', 'var']].drop_duplicates(subset=['snp_id']).sort_values(by=['chr', 'pos'])\n",
    "\n",
    "phewas['ancestral'] = phewas['var'].apply(lambda x: x[0])\n",
    "phewas['var'] = phewas['var'].apply(lambda x: x.split('/')[1:])\n",
    "phewas = phewas.explode('var', ignore_index=True)\n",
    "phewas['var'] = phewas['ancestral'] + '/' + phewas['var']\n",
    "phewas.drop(columns='ancestral', inplace=True)\n",
    "\n",
    "phewas.reset_index(inplace=True, drop=True)\n",
    "\n",
    "print(phewas.shape[0])\n",
    "\n",
    "#reference_phewas.to_csv(path_or_buf='C:/Users/Sigve/Genome_Data/SNP_data/phewas/phewas_ref.tsv', sep='\\t', index=False)\n",
    "#phewas.to_csv(path_or_buf='C:/Users/Sigve/Genome_Data/SNP_data/phewas/phewas_extracted_all.tsv', sep='\\t', index=False)\n",
    "#temp = reference_phewas[reference_phewas['phewas_code']==290.11]\n",
    "#temp.sort_values(by=['chr', 'pos'], inplace=True)\n",
    "#temp.to_csv(path_or_buf='C:/Users/Sigve/Genome_Data/SNP_data/phewas/test.tsv', sep='\\t', index=False)\n",
    "\n",
    "res = phewas[phewas['snp_id'].isin(reference_phewas[reference_phewas['phewas_code'].str.contains('290.\\d*')]['snp_id'])]\n",
    "\n",
    "res.to_csv(path_or_buf='C:/Users/Sigve/Genome_Data/SNP_data/phewas/phewas_extracted_290.tsv', sep='\\t', index=False)\n",
    "print(res.head())\n"
   ],
   "metadata": {
    "collapsed": false,
    "pycharm": {
     "name": "#%%\n"
    }
   }
  }
 ],
 "metadata": {
  "kernelspec": {
   "display_name": "Python 3",
   "language": "python",
   "name": "python3"
  },
  "language_info": {
   "codemirror_mode": {
    "name": "ipython",
    "version": 2
   },
   "file_extension": ".py",
   "mimetype": "text/x-python",
   "name": "python",
   "nbconvert_exporter": "python",
   "pygments_lexer": "ipython2",
   "version": "2.7.6"
  }
 },
 "nbformat": 4,
 "nbformat_minor": 0
}