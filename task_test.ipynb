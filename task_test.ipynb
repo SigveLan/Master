{
 "cells": [
  {
   "cell_type": "code",
   "execution_count": 1,
   "metadata": {
    "collapsed": true
   },
   "outputs": [
    {
     "name": "stdout",
     "output_type": "stream",
     "text": [
      "Academic license - for non-commercial use only - expires 2022-10-03\n",
      "Using license file c:\\gurobi\\gurobi.lic\n",
      "Model load time: 29.321142 seconds\n"
     ]
    }
   ],
   "source": [
    "\n",
    "import itertools\n",
    "from copy import deepcopy\n",
    "import pandas as pd\n",
    "import cobra.flux_analysis\n",
    "from cobra import Metabolite, Reaction, Model\n",
    "import time\n",
    "import numpy as np\n",
    "from functools import partial\n",
    "from src.mp_functions import combinations_subset, parallelize_dataframe, knockout_FBA\n",
    "\n",
    "from functools import partial\n",
    "from src.met_task_functions import get_met_ids, constrain_model, create_reactions\n",
    "\n",
    "\n",
    "\"\"\"A mess of a document with different code cells.\n",
    "Good to to use for any testing that involves the Recon3D model as it takes some time to load in.\"\"\"\n",
    "\n",
    "start_time = time.time()\n",
    "model_file_path = 'C:/Users/Sigve/Genome_Data/Human1/Human1_GEM/GTEx/brain.xml'\n",
    "model = cobra.io.read_sbml_model(model_file_path)\n",
    "\n",
    "\n",
    "end_time = time.time()\n",
    "print('Model load time: %.6f seconds' % (end_time - start_time))"
   ]
  },
  {
   "cell_type": "code",
   "execution_count": 22,
   "outputs": [
    {
     "name": "stdout",
     "output_type": "stream",
     "text": [
      "Read LP format model from file C:\\Users\\Sigve\\AppData\\Local\\Temp\\tmplzeolpto.lp\n",
      "Reading time = 0.07 seconds\n",
      ": 5482 rows, 15138 columns, 66608 nonzeros\n",
      "Read LP format model from file C:\\Users\\Sigve\\AppData\\Local\\Temp\\tmpzj5b9nmc.lp\n",
      "Reading time = 0.07 seconds\n",
      ": 5482 rows, 15138 columns, 66608 nonzeros\n",
      "Model Exported from COBRA Toolbox\n",
      "Model Exported from COBRA Toolbox\n",
      "Model Exported from COBRA Toolbox\n"
     ]
    }
   ],
   "source": [
    "t_model = model.copy()\n",
    "#t_model.name = 't_model'\n",
    "u_model = model.copy()\n",
    "print(model.name)\n",
    "print(t_model.name)\n",
    "print(u_model.name)"
   ],
   "metadata": {
    "collapsed": false,
    "pycharm": {
     "name": "#%%\n"
    }
   }
  },
  {
   "cell_type": "code",
   "execution_count": 23,
   "outputs": [
    {
     "name": "stderr",
     "output_type": "stream",
     "text": [
      "There are no boundary reactions in this model. Therefore, specific types of boundary reactions such as 'exchanges', 'demands' or 'sinks' cannot be identified.\n"
     ]
    },
    {
     "name": "stdout",
     "output_type": "stream",
     "text": [
      "0\n"
     ]
    }
   ],
   "source": [
    "for rx in t_model.exchanges:\n",
    "    m = list(rx.metabolites.keys())[0]\n",
    "    boundary_met = Metabolite(m.id[:-4] + 'x[x]', formula=m.formula, name=' '.join(m.name.split(' ')[:-1]) + ' [Boundary]', compartment='x')\n",
    "    rx.add_metabolites({boundary_met: 1})\n",
    "\n",
    "print(len(t_model.exchanges))"
   ],
   "metadata": {
    "collapsed": false,
    "pycharm": {
     "name": "#%%\n"
    }
   }
  },
  {
   "cell_type": "code",
   "execution_count": 24,
   "outputs": [
    {
     "name": "stdout",
     "output_type": "stream",
     "text": [
      "Model Exported from COBRA Toolbox\n",
      "6348\n",
      "5482\n",
      "5482\n"
     ]
    }
   ],
   "source": [
    "print(t_model.name)\n",
    "print(len(t_model.metabolites))\n",
    "print(len(model.metabolites))\n",
    "print(len(u_model.metabolites))"
   ],
   "metadata": {
    "collapsed": false,
    "pycharm": {
     "name": "#%%\n"
    }
   }
  },
  {
   "cell_type": "code",
   "execution_count": 33,
   "outputs": [
    {
     "name": "stdout",
     "output_type": "stream",
     "text": [
      "CHO2R\n",
      "NEFA blood pool in [Boundary]\n",
      "frozenset({<Reaction HMR_9033 at 0x253014a1b80>})\n",
      "HMR_0015: m02560s[s] --> 0.0048 m00003s[s] + 0.0016 m00008s[s] + 0.0016 m00010s[s] + 0.0001 m00017s[s] + 0.0001 m00019s[s] + 0.0001 m00021s[s] + 0.0001 m00094s[s] + 0.0001 m00104s[s] + 0.0001 m00111s[s] + 0.0001 m00114s[s] + 0.0001 m00115s[s] + 0.0001 m00117s[s] + 0.0001 m00128s[s] + 0.0001 m00132s[s] + 0.0001 m00135s[s] + 0.0001 m00260s[s] + 0.0001 m00265s[s] + 0.0001 m00315s[s] + 0.0001 m00341s[s] + 0.0001 m01197s[s] + 0.0001 m01207s[s] + 0.0001 m01235s[s] + 0.0001 m01238s[s] + 0.0017 m01291s[s] + 0.0137 m01362s[s] + 0.0007 m01373s[s] + 0.0005 m01432s[s] + 0.0001 m01582s[s] + 0.0002 m01583s[s] + 0.0001 m01584s[s] + 0.0001 m01585s[s] + 0.0046 m01689s[s] + 0.0025 m01696s[s] + 0.0019 m01741s[s] + 0.0011 m01771s[s] + 0.0001 m01778s[s] + 0.002 m01784s[s] + 0.0048 m01932s[s] + 0.0001 m02053s[s] + 0.0034 m02344s[s] + 0.0012 m02385s[s] + 0.071 m02387s[s] + 0.0005 m02389s[s] + 0.0056 m02456s[s] + 0.0005 m02457s[s] + 0.0283 m02494s[s] + 0.0003 m02564s[s] + 0.0001 m02613s[s] + 0.3746 m02646s[s] + 0.0001 m02648s[s] + 0.2949 m02674s[s] + 0.0686 m02675s[s] + 0.003 m02690s[s] + 0.0001 m02745s[s] + 0.1031 m02938s[s] + 0.0001 m02939s[s] + 0.0002 m03045s[s] + 0.0001 m03051s[s] + 0.0001 m03153s[s]\n",
      "HMR_9033: m02560s[s] <=> \n"
     ]
    }
   ],
   "source": [
    "t = t_model.metabolites.get_by_id('m02560x[x]')\n",
    "print(t.formula)\n",
    "print(t.name)\n",
    "print(t.reactions)\n",
    "\n",
    "r1 = model.reactions.get_by_id('HMR_0015')\n",
    "r2 = model.reactions.get_by_id('HMR_9033')\n",
    "print(r1)\n",
    "print(r2)"
   ],
   "metadata": {
    "collapsed": false,
    "pycharm": {
     "name": "#%%\n"
    }
   }
  },
  {
   "cell_type": "code",
   "execution_count": 173,
   "outputs": [
    {
     "name": "stdout",
     "output_type": "stream",
     "text": [
      "   id                                    description  shouldFail  printFluxes  \\\n",
      "0  ER  Aerobic rephosphorylation of ATP from glucose           0            0   \n",
      "1  ER               Aerobic rephosphorylation of GTP           0            0   \n",
      "2  ER               Aerobic rephosphorylation of CTP           0            0   \n",
      "3  ER               Aerobic rephosphorylation of UTP           0            0   \n",
      "4  BS                          ATP de novo synthesis           0            0   \n",
      "\n",
      "   comments                        inputs     LBin                 UBin  \\\n",
      "0       NaN             'O2[s]glucose[s]'      0,0            1000,1000   \n",
      "1       NaN             'O2[s]glucose[s]'      0,0            1000,1000   \n",
      "2       NaN             'O2[s]glucose[s]'      0,0            1000,1000   \n",
      "3       NaN             'O2[s]glucose[s]'      0,0            1000,1000   \n",
      "4       NaN  'O2[s]glucose[s]NH3[s]Pi[s]'  0,0,0,0  1000,1000,1000,1000   \n",
      "\n",
      "                outputs  LBout           UBout  \\\n",
      "0        'H2O[s]CO2[s]'    0,0       1000,1000   \n",
      "1        'H2O[s]CO2[s]'    0,0       1000,1000   \n",
      "2        'H2O[s]CO2[s]'    0,0       1000,1000   \n",
      "3        'H2O[s]CO2[s]'    0,0       1000,1000   \n",
      "4  'H2O[s]CO2[s]ATP[c]'  0,0,1  1000,1000,1000   \n",
      "\n",
      "                                    equations   LBequ   UBequ  changed  LBrxn  \\\n",
      "0   ATP[c] + H2O[c] => ADP[c] + Pi[c] + H+[c]     1.0  1000.0      NaN    NaN   \n",
      "1   GTP[c] + H2O[c] => GDP[c] + Pi[c] + H+[c]     1.0  1000.0      NaN    NaN   \n",
      "2   CTP[c] + H2O[c] => CDP[c] + Pi[c] + H+[c]     1.0  1000.0      NaN    NaN   \n",
      "3   UTP[c] + H2O[c] => UDP[c] + Pi[c] + H+[c]     1.0  1000.0      NaN    NaN   \n",
      "4  ATP[c] + H2O[c] <=> ADP[c] + Pi[c] + H+[c] -1000.0  1000.0      NaN    NaN   \n",
      "\n",
      "   UBrxn  \n",
      "0    NaN  \n",
      "1    NaN  \n",
      "2    NaN  \n",
      "3    NaN  \n",
      "4    NaN  \n"
     ]
    }
   ],
   "source": [
    "# Import table\n",
    "tasks = pd.read_table('C:/Users/Sigve/Genome_Data/Human1/Human1_GEM/tasks/essential_tasks.tsv')\n",
    "\n",
    "print(tasks.head())"
   ],
   "metadata": {
    "collapsed": false,
    "pycharm": {
     "name": "#%%\n"
    }
   }
  },
  {
   "cell_type": "code",
   "execution_count": 174,
   "outputs": [
    {
     "name": "stdout",
     "output_type": "stream",
     "text": [
      "   id                                    description  shouldFail  printFluxes  \\\n",
      "0  ER  Aerobic rephosphorylation of ATP from glucose           0            0   \n",
      "1  ER               Aerobic rephosphorylation of GTP           0            0   \n",
      "2  ER               Aerobic rephosphorylation of CTP           0            0   \n",
      "3  ER               Aerobic rephosphorylation of UTP           0            0   \n",
      "4  BS                          ATP de novo synthesis           0            0   \n",
      "\n",
      "   comments                              inputs          LBin  \\\n",
      "0       NaN                 [O2[s], glucose[s]]        [0, 0]   \n",
      "1       NaN                 [O2[s], glucose[s]]        [0, 0]   \n",
      "2       NaN                 [O2[s], glucose[s]]        [0, 0]   \n",
      "3       NaN                 [O2[s], glucose[s]]        [0, 0]   \n",
      "4       NaN  [O2[s], glucose[s], NH3[s], Pi[s]]  [0, 0, 0, 0]   \n",
      "\n",
      "                       UBin                   outputs      LBout  \\\n",
      "0              [1000, 1000]          [H2O[s], CO2[s]]     [0, 0]   \n",
      "1              [1000, 1000]          [H2O[s], CO2[s]]     [0, 0]   \n",
      "2              [1000, 1000]          [H2O[s], CO2[s]]     [0, 0]   \n",
      "3              [1000, 1000]          [H2O[s], CO2[s]]     [0, 0]   \n",
      "4  [1000, 1000, 1000, 1000]  [H2O[s], CO2[s], ATP[c]]  [0, 0, 1]   \n",
      "\n",
      "                UBout                                   equations   LBequ  \\\n",
      "0        [1000, 1000]   ATP[c] + H2O[c] => ADP[c] + Pi[c] + H+[c]     1.0   \n",
      "1        [1000, 1000]   GTP[c] + H2O[c] => GDP[c] + Pi[c] + H+[c]     1.0   \n",
      "2        [1000, 1000]   CTP[c] + H2O[c] => CDP[c] + Pi[c] + H+[c]     1.0   \n",
      "3        [1000, 1000]   UTP[c] + H2O[c] => UDP[c] + Pi[c] + H+[c]     1.0   \n",
      "4  [1000, 1000, 1000]  ATP[c] + H2O[c] <=> ADP[c] + Pi[c] + H+[c] -1000.0   \n",
      "\n",
      "    UBequ  changed  LBrxn  UBrxn  \n",
      "0  1000.0      NaN    NaN    NaN  \n",
      "1  1000.0      NaN    NaN    NaN  \n",
      "2  1000.0      NaN    NaN    NaN  \n",
      "3  1000.0      NaN    NaN    NaN  \n",
      "4  1000.0      NaN    NaN    NaN  \n"
     ]
    }
   ],
   "source": [
    "# Formating data\n",
    "tasks['LBin'] = tasks['LBin'].apply(lambda x: x.split(','))\n",
    "tasks['LBout'] = tasks['LBout'].apply(lambda x: x.split(','))\n",
    "tasks['UBin'] = tasks['UBin'].apply(lambda x: x.split(','))\n",
    "tasks['UBout'] = tasks['UBout'].apply(lambda x: x.split(','))\n",
    "\n",
    "d = ']'\n",
    "tasks['inputs'] = tasks['inputs'].apply(lambda x: [e+d for e in x[1:-1].split(d)][0:-1])\n",
    "tasks['outputs'] = tasks['outputs'].apply(lambda x: [e+d for e in x[1:-1].split(d)][0:-1])\n",
    "tasks['equations'] = tasks['equations'].apply(str)\n",
    "print(tasks.head())"
   ],
   "metadata": {
    "collapsed": false,
    "pycharm": {
     "name": "#%%\n"
    }
   }
  },
  {
   "cell_type": "code",
   "execution_count": 81,
   "outputs": [],
   "source": [
    "comps = {'s': 'Extracellular',\n",
    "'p': 'Peroxisome',\n",
    "'m': 'Mitochondria',\n",
    "'c': 'Cytosol',\n",
    "'l': 'Lysosome',\n",
    "'r': 'Endoplasmic reticulum',\n",
    "'g': 'Golgi apparatus',\n",
    "'n': 'Nucleus',\n",
    "'i': 'Inner mitochondria',\n",
    "'x': 'Boundary'}"
   ],
   "metadata": {
    "collapsed": false,
    "pycharm": {
     "name": "#%%\n"
    }
   }
  },
  {
   "cell_type": "code",
   "execution_count": 175,
   "outputs": [
    {
     "name": "stdout",
     "output_type": "stream",
     "text": [
      "120\n"
     ]
    }
   ],
   "source": [
    "met_list = []\n",
    "\n",
    "for i, data in tasks.iterrows():\n",
    "    l = []\n",
    "    if data['equations'] != 'nan':\n",
    "        l = data['equations'].split(' ')\n",
    "        l = [item for item in l if item[-1] == ']']\n",
    "\n",
    "    met_list = met_list + data['inputs'] + data['outputs'] + l\n",
    "\n",
    "\n",
    "met_list = list(set(met_list))\n",
    "print(len(met_list))\n"
   ],
   "metadata": {
    "collapsed": false,
    "pycharm": {
     "name": "#%%\n"
    }
   }
  },
  {
   "cell_type": "code",
   "execution_count": 176,
   "outputs": [
    {
     "name": "stdout",
     "output_type": "stream",
     "text": [
      "120\n"
     ]
    }
   ],
   "source": [
    "mets = t_model.metabolites\n",
    "\n",
    "met_ids = {}\n",
    "for met in met_list:\n",
    "\n",
    "\n",
    "    if met[:-3] == 'ALLMETSIN':\n",
    "        met_ids[met] = 'ALLMETSIN'\n",
    "\n",
    "    elif met[:-3] == 'ALLMETS':\n",
    "        met_ids[met] = 'ALLMETS'\n",
    "\n",
    "    else:\n",
    "        comp = met[-2]\n",
    "        temp = met[:-3] + ' [{0}]'.format(comps[comp])\n",
    "        for m in mets:\n",
    "            if m.name == temp:\n",
    "                met_ids[met] = m\n",
    "                break\n",
    "        else:\n",
    "            # Failed to find\n",
    "            print(temp)\n",
    "            print(met)\n",
    "\n",
    "\n",
    "print(len(met_ids))"
   ],
   "metadata": {
    "collapsed": false,
    "pycharm": {
     "name": "#%%\n"
    }
   }
  },
  {
   "cell_type": "code",
   "execution_count": 177,
   "outputs": [
    {
     "name": "stdout",
     "output_type": "stream",
     "text": [
      "['biomass[s]', 'arginine[s]', 'histidine[s]', 'lysine[s]', 'methionine[s]', 'phenylalanine[s]', 'tryptophan[s]', 'tyrosine[s]', 'alanine[s]', 'glycine[s]', 'serine[s]', 'threonine[s]', 'aspartate[s]', 'glutamate[s]', 'asparagine[s]', 'glutamine[s]', 'isoleucine[s]', 'leucine[s]', 'proline[s]', 'valine[s]', 'cysteine[s]', 'thiamin[s]', 'hypoxanthine[s]', 'folate[s]', 'biotin[s]', 'pantothenate[s]', 'choline[s]', 'inositol[s]', 'nicotinamide[s]', 'pyridoxine[s]', 'riboflavin[s]', 'thymidine[s]', 'aquacob(III)alamin[s]', 'lipoic acid[s]', 'glucose[s]', 'sulfate[s]', 'linoleate[s]', 'linolenate[s]', 'O2[s]', 'H2O[s]', 'retinoate[s]', 'Fe2+[s]', 'Pi[s]', 'alpha-tocopherol[s]', 'gamma-tocopherol[s]']\n",
      "45\n",
      "45\n"
     ]
    }
   ],
   "source": [
    "tasks.at[56, 'outputs']= [tasks.at[56, 'outputs'][1]] + tasks.at[56, 'inputs']\n",
    "tasks.at[56, 'LBout']= [tasks.at[56, 'LBout'][1]] + tasks.at[56, 'LBin']\n",
    "tasks.at[56, 'UBout']= [tasks.at[56, 'UBout'][1]] + tasks.at[56, 'UBin']\n",
    "\n",
    "print(tasks.loc[56].at['outputs'])\n",
    "print(len(tasks.loc[56].at['LBout']))\n",
    "print(len(tasks.loc[56].at['UBout']))"
   ],
   "metadata": {
    "collapsed": false,
    "pycharm": {
     "name": "#%%\n"
    }
   }
  },
  {
   "cell_type": "code",
   "execution_count": null,
   "outputs": [],
   "source": [],
   "metadata": {
    "collapsed": false,
    "pycharm": {
     "name": "#%%\n"
    }
   }
  },
  {
   "cell_type": "code",
   "execution_count": 178,
   "outputs": [],
   "source": [
    "rx_list = []\n",
    "in_list = []\n",
    "out_list = []\n",
    "for ind, data in tasks.iterrows():\n",
    "\n",
    "    for i, name, ml, lbs, ubs in zip([1, -1], ['in', 'out'], [data.inputs, data.outputs], [data.LBin, data.LBout], [data.UBin, data.UBout]):\n",
    "        rxl = []\n",
    "        for j, m, lb, ub in zip( range(len(ml)),ml, lbs, ubs):\n",
    "            rx = Reaction('ess_{0}_{1}_{2}'.format(ind+1, name, j))\n",
    "            rx.add_metabolites({met_ids[m]: i})\n",
    "            rx.lower_bound = float(lb)\n",
    "            rx.upper_bound = float(ub)\n",
    "            rxl.append(rx)\n",
    "        if name == 'in':\n",
    "            in_list.append(rxl)\n",
    "        else:\n",
    "            out_list.append(rxl)\n",
    "\n",
    "    if data.equations != 'nan':\n",
    "        t = [ [ met_ids[subsub] for subsub in sub.split(' ') if len(subsub)>1] for sub in data.equations.split('=') ]\n",
    "        d = {}\n",
    "\n",
    "        for i, ml in zip([-1, 1], t):\n",
    "            for m in ml:\n",
    "                d[m] = i\n",
    "\n",
    "        rx = Reaction('ess_{0}'.format(ind+1))\n",
    "        rx.add_metabolites(d)\n",
    "        rx.lower_bound = float(data.LBequ)\n",
    "        rx.upper_bound = float(data.UBequ)\n",
    "        rx.name = data.description\n",
    "\n",
    "        rx_list.append(rx)\n",
    "\n",
    "    else:\n",
    "        rx_list.append('nan')\n",
    "task_list = pd.DataFrame(list(zip(in_list, out_list, rx_list)), columns=['in_rx', 'out_rx', 'equ'])"
   ],
   "metadata": {
    "collapsed": false,
    "pycharm": {
     "name": "#%%\n"
    }
   }
  },
  {
   "cell_type": "code",
   "execution_count": 179,
   "outputs": [
    {
     "name": "stdout",
     "output_type": "stream",
     "text": [
      "<Solution 0.000 at 0x253a7d555e0>\n"
     ]
    }
   ],
   "source": [
    "print(t_model.optimize())"
   ],
   "metadata": {
    "collapsed": false,
    "pycharm": {
     "name": "#%%\n"
    }
   }
  },
  {
   "cell_type": "code",
   "execution_count": 226,
   "outputs": [
    {
     "name": "stderr",
     "output_type": "stream",
     "text": [
      "C:\\Users\\Sigve\\miniconda3\\envs\\Master\\lib\\site-packages\\cobra\\util\\solver.py:554: UserWarning: Solver status is 'infeasible'.\n",
      "  warn(f\"Solver status is '{status}'.\", UserWarning)\n"
     ]
    }
   ],
   "source": [
    "n=0\n",
    "sol = cobra.Solution\n",
    "res = []\n",
    "for ind, data in task_list.iterrows():\n",
    "\n",
    "    n+=1\n",
    "    if n>60:\n",
    "        break\n",
    "    #print(data.equ)\n",
    "\n",
    "\n",
    "    with t_model:\n",
    "        \n",
    "        for rx in data.in_rx + data.out_rx:\n",
    "            t_model.add_reaction(rx)\n",
    "\n",
    "        if data.equ != 'nan':\n",
    "            t_model.add_reaction(data.equ)\n",
    "\n",
    "        for gene_id in [\"ENSG00000165449\", \"ENSG00000100714\"]:\n",
    "            t_model.genes.get_by_id(gene_id).knock_out()\n",
    "\n",
    "        sol = t_model.optimize()\n",
    "\n",
    "    res.append(sol.objective_value)\n",
    "\n",
    "\n",
    "\n"
   ],
   "metadata": {
    "collapsed": false,
    "pycharm": {
     "name": "#%%\n"
    }
   }
  },
  {
   "cell_type": "code",
   "execution_count": 210,
   "outputs": [
    {
     "name": "stdout",
     "output_type": "stream",
     "text": [
      "None\n"
     ]
    }
   ],
   "source": [
    "print(res[50])"
   ],
   "metadata": {
    "collapsed": false,
    "pycharm": {
     "name": "#%%\n"
    }
   }
  },
  {
   "cell_type": "code",
   "execution_count": 225,
   "outputs": [
    {
     "name": "stdout",
     "output_type": "stream",
     "text": [
      "<Solution infeasible at 0x25308513b50>\n",
      "[<Reaction ess_37_in_0 at 0x253a7075f70>, <Reaction ess_37_in_1 at 0x25301258220>, <Reaction ess_37_in_2 at 0x253012580a0>]\n",
      "[<Reaction ess_37_out_0 at 0x25301258580>, <Reaction ess_37_out_1 at 0x25301258280>, <Reaction ess_37_out_2 at 0x25301259bb0>, <Reaction ess_37_out_3 at 0x25301259610>]\n",
      "Series([], Name: fluxes, dtype: float64)\n"
     ]
    }
   ],
   "source": [
    "print(sol)\n",
    "print(task_list.iloc[36, 0])\n",
    "print(task_list.iloc[36, 1])\n",
    "\n",
    "\n",
    "res_2 = sol.fluxes\n",
    "\n",
    "print(res_2[res_2 != 0])"
   ],
   "metadata": {
    "collapsed": false,
    "pycharm": {
     "name": "#%%\n"
    }
   }
  },
  {
   "cell_type": "code",
   "execution_count": 2,
   "outputs": [
    {
     "name": "stdout",
     "output_type": "stream",
     "text": [
      "Read LP format model from file C:\\Users\\Sigve\\AppData\\Local\\Temp\\tmp8tcpa5hj.lp\n",
      "Reading time = 0.07 seconds\n",
      ": 5482 rows, 15138 columns, 66608 nonzeros\n",
      "Read LP format model from file C:\\Users\\Sigve\\AppData\\Local\\Temp\\tmp9qhr9leh.lp\n",
      "Reading time = 0.08 seconds\n",
      ": 5482 rows, 15138 columns, 66608 nonzeros\n",
      "Read LP format model from file C:\\Users\\Sigve\\AppData\\Local\\Temp\\tmprz1gae6w.lp\n",
      "Reading time = 0.07 seconds\n",
      ": 5482 rows, 15138 columns, 66608 nonzeros\n"
     ]
    }
   ],
   "source": [
    "model_list = constrain_model(model, ALLMETSIN=True)"
   ],
   "metadata": {
    "collapsed": false,
    "pycharm": {
     "name": "#%%\n"
    }
   }
  },
  {
   "cell_type": "code",
   "execution_count": 37,
   "outputs": [],
   "source": [
    "tasks_df = pd.read_table('C:/Users/Sigve/Genome_Data/Human1/Human1_GEM/tasks/essential_tasks.tsv')\n",
    "# Formatting data\n",
    "for b in ['LBin', 'LBout', 'UBin', 'UBout']:\n",
    "    tasks_df[b] = tasks_df[b].apply(lambda x: x.split(','))\n",
    "\n",
    "for put in ['inputs', 'outputs']:\n",
    "    tasks_df[put] = tasks_df[put].apply(lambda x: [e + ']' for e in x[1:-1].split(']')][0:-1])\n",
    "\n",
    "tasks_df['equations'] = tasks_df['equations'].apply(str)\n",
    "\n",
    "tasks_df[['met_ids', 'model_num']] = tasks_df.apply(partial(get_met_ids, model_list), axis=1, result_type ='expand')\n",
    "\n",
    "tasks_df = create_reactions(tasks_df)"
   ],
   "metadata": {
    "collapsed": false,
    "pycharm": {
     "name": "#%%\n"
    }
   }
  },
  {
   "cell_type": "code",
   "execution_count": 39,
   "outputs": [],
   "source": [
    "def optimize_model(tasks_df: pd.DataFrame, model_list: list, gene_ids: list, ) -> list:\n",
    "\n",
    "    with model_list[0]:\n",
    "        for gene_id in gene_ids:\n",
    "            try:\n",
    "                model.genes.get_by_id(gene_id).knock_out()\n",
    "            except KeyError:\n",
    "                return gene_id + ' not in model.'\n",
    "        res = [model.optimize().objective_value]\n",
    "\n",
    "    for ind, data in tasks_df.iterrows():\n",
    "        t_model = model_list[data.model_num]\n",
    "        with t_model:\n",
    "            for subset in [data.in_rx, data.out_rx]:\n",
    "\n",
    "                for rx in subset:\n",
    "                    if rx == 'ALLMETSIN':\n",
    "                        for r in subset[1:]:\n",
    "                            for m2 in r.metabolites:\n",
    "                                for r2 in m2.reactions:\n",
    "                                    if r2.boundary and r2.id != r.id:\n",
    "                                        r2.add_metabolites({Metabolite(m2.id[:-4] + 'x[x]', formula=m2.formula,\n",
    "                                        name=' '.join(m2.name.split(' ')[:-1]) + ' [Boundary]', compartment='x'): 1})\n",
    "\n",
    "\n",
    "\n",
    "                        continue\n",
    "                    t_model.add_reaction(rx)\n",
    "\n",
    "                if data.equ != 'nan':\n",
    "                    t_model.add_reaction(data.equ)\n",
    "\n",
    "                for gene_id in gene_ids:\n",
    "                     t_model.genes.get_by_id(gene_id).knock_out()\n",
    "\n",
    "            if t_model.optimize().objective_value is None:\n",
    "                res.append(0)\n",
    "            else:\n",
    "                res.append(1)\n",
    "    return res"
   ],
   "metadata": {
    "collapsed": false,
    "pycharm": {
     "name": "#%%\n"
    }
   }
  },
  {
   "cell_type": "code",
   "execution_count": 40,
   "outputs": [
    {
     "name": "stderr",
     "output_type": "stream",
     "text": [
      "Ignoring reaction 'ess_1' since it already exists.\n",
      "Ignoring reaction 'ess_2' since it already exists.\n",
      "Ignoring reaction 'ess_3' since it already exists.\n",
      "Ignoring reaction 'ess_4' since it already exists.\n",
      "Ignoring reaction 'ess_5' since it already exists.\n",
      "C:\\Users\\Sigve\\miniconda3\\envs\\Master\\lib\\site-packages\\cobra\\util\\solver.py:554: UserWarning: Solver status is 'infeasible'.\n",
      "  warn(f\"Solver status is '{status}'.\", UserWarning)\n",
      "Ignoring reaction 'ess_6' since it already exists.\n",
      "Ignoring reaction 'ess_7' since it already exists.\n",
      "Ignoring reaction 'ess_8' since it already exists.\n",
      "Ignoring reaction 'ess_9' since it already exists.\n",
      "Ignoring reaction 'ess_10' since it already exists.\n",
      "Ignoring reaction 'ess_11' since it already exists.\n",
      "Ignoring reaction 'ess_12' since it already exists.\n",
      "Ignoring reaction 'ess_23' since it already exists.\n",
      "Ignoring reaction 'ess_33' since it already exists.\n",
      "Ignoring reaction 'ess_36' since it already exists.\n",
      "Ignoring reaction 'ess_40' since it already exists.\n",
      "Ignoring reaction 'ess_41' since it already exists.\n",
      "Ignoring reaction 'ess_43' since it already exists.\n",
      "Ignoring reaction 'ess_45' since it already exists.\n",
      "Ignoring reaction 'ess_46' since it already exists.\n",
      "Ignoring reaction 'ess_49' since it already exists.\n",
      "Ignoring reaction 'ess_50' since it already exists.\n",
      "Ignoring reaction 'ess_51' since it already exists.\n",
      "Ignoring reaction 'ess_52' since it already exists.\n",
      "Ignoring reaction 'ess_53' since it already exists.\n",
      "Ignoring reaction 'ess_54' since it already exists.\n",
      "Ignoring reaction 'ess_56' since it already exists.\n",
      "Ignoring reaction 'ess_1' since it already exists.\n",
      "Ignoring reaction 'ess_2' since it already exists.\n",
      "Ignoring reaction 'ess_3' since it already exists.\n",
      "Ignoring reaction 'ess_4' since it already exists.\n",
      "Ignoring reaction 'ess_5' since it already exists.\n",
      "Ignoring reaction 'ess_6' since it already exists.\n",
      "Ignoring reaction 'ess_7' since it already exists.\n",
      "Ignoring reaction 'ess_8' since it already exists.\n",
      "Ignoring reaction 'ess_9' since it already exists.\n",
      "Ignoring reaction 'ess_10' since it already exists.\n",
      "Ignoring reaction 'ess_11' since it already exists.\n",
      "Ignoring reaction 'ess_12' since it already exists.\n",
      "Ignoring reaction 'ess_23' since it already exists.\n",
      "Ignoring reaction 'ess_33' since it already exists.\n",
      "Ignoring reaction 'ess_36' since it already exists.\n",
      "Ignoring reaction 'ess_40' since it already exists.\n",
      "Ignoring reaction 'ess_41' since it already exists.\n",
      "Ignoring reaction 'ess_43' since it already exists.\n",
      "Ignoring reaction 'ess_45' since it already exists.\n",
      "Ignoring reaction 'ess_46' since it already exists.\n",
      "Ignoring reaction 'ess_49' since it already exists.\n",
      "Ignoring reaction 'ess_50' since it already exists.\n",
      "Ignoring reaction 'ess_51' since it already exists.\n",
      "Ignoring reaction 'ess_52' since it already exists.\n",
      "Ignoring reaction 'ess_53' since it already exists.\n",
      "Ignoring reaction 'ess_54' since it already exists.\n",
      "Ignoring reaction 'ess_56' since it already exists.\n",
      "Ignoring reaction 'ess_1' since it already exists.\n",
      "Ignoring reaction 'ess_2' since it already exists.\n",
      "Ignoring reaction 'ess_3' since it already exists.\n",
      "Ignoring reaction 'ess_4' since it already exists.\n",
      "Ignoring reaction 'ess_5' since it already exists.\n",
      "Ignoring reaction 'ess_6' since it already exists.\n",
      "Ignoring reaction 'ess_7' since it already exists.\n",
      "Ignoring reaction 'ess_8' since it already exists.\n",
      "Ignoring reaction 'ess_9' since it already exists.\n",
      "Ignoring reaction 'ess_10' since it already exists.\n",
      "Ignoring reaction 'ess_11' since it already exists.\n",
      "Ignoring reaction 'ess_12' since it already exists.\n",
      "Ignoring reaction 'ess_23' since it already exists.\n",
      "Ignoring reaction 'ess_33' since it already exists.\n",
      "Ignoring reaction 'ess_36' since it already exists.\n",
      "Ignoring reaction 'ess_40' since it already exists.\n",
      "Ignoring reaction 'ess_41' since it already exists.\n",
      "Ignoring reaction 'ess_43' since it already exists.\n",
      "Ignoring reaction 'ess_45' since it already exists.\n",
      "Ignoring reaction 'ess_46' since it already exists.\n",
      "Ignoring reaction 'ess_49' since it already exists.\n",
      "Ignoring reaction 'ess_50' since it already exists.\n",
      "Ignoring reaction 'ess_51' since it already exists.\n",
      "Ignoring reaction 'ess_52' since it already exists.\n",
      "Ignoring reaction 'ess_53' since it already exists.\n",
      "Ignoring reaction 'ess_54' since it already exists.\n",
      "Ignoring reaction 'ess_56' since it already exists.\n",
      "Ignoring reaction 'ess_1' since it already exists.\n",
      "Ignoring reaction 'ess_2' since it already exists.\n",
      "Ignoring reaction 'ess_3' since it already exists.\n",
      "Ignoring reaction 'ess_4' since it already exists.\n",
      "Ignoring reaction 'ess_5' since it already exists.\n",
      "Ignoring reaction 'ess_6' since it already exists.\n",
      "Ignoring reaction 'ess_7' since it already exists.\n",
      "Ignoring reaction 'ess_8' since it already exists.\n",
      "Ignoring reaction 'ess_9' since it already exists.\n",
      "Ignoring reaction 'ess_10' since it already exists.\n",
      "Ignoring reaction 'ess_11' since it already exists.\n",
      "Ignoring reaction 'ess_12' since it already exists.\n",
      "Ignoring reaction 'ess_23' since it already exists.\n",
      "Ignoring reaction 'ess_33' since it already exists.\n",
      "Ignoring reaction 'ess_36' since it already exists.\n",
      "Ignoring reaction 'ess_40' since it already exists.\n",
      "Ignoring reaction 'ess_41' since it already exists.\n",
      "Ignoring reaction 'ess_43' since it already exists.\n",
      "Ignoring reaction 'ess_45' since it already exists.\n",
      "Ignoring reaction 'ess_46' since it already exists.\n",
      "Ignoring reaction 'ess_49' since it already exists.\n",
      "Ignoring reaction 'ess_50' since it already exists.\n",
      "Ignoring reaction 'ess_51' since it already exists.\n",
      "Ignoring reaction 'ess_52' since it already exists.\n",
      "Ignoring reaction 'ess_53' since it already exists.\n",
      "Ignoring reaction 'ess_54' since it already exists.\n",
      "Ignoring reaction 'ess_56' since it already exists.\n",
      "Ignoring reaction 'ess_1' since it already exists.\n",
      "Ignoring reaction 'ess_2' since it already exists.\n",
      "Ignoring reaction 'ess_3' since it already exists.\n",
      "Ignoring reaction 'ess_4' since it already exists.\n",
      "Ignoring reaction 'ess_5' since it already exists.\n",
      "Ignoring reaction 'ess_6' since it already exists.\n",
      "Ignoring reaction 'ess_7' since it already exists.\n",
      "Ignoring reaction 'ess_8' since it already exists.\n",
      "Ignoring reaction 'ess_9' since it already exists.\n",
      "Ignoring reaction 'ess_10' since it already exists.\n",
      "Ignoring reaction 'ess_11' since it already exists.\n",
      "Ignoring reaction 'ess_12' since it already exists.\n",
      "Ignoring reaction 'ess_23' since it already exists.\n",
      "Ignoring reaction 'ess_33' since it already exists.\n",
      "Ignoring reaction 'ess_36' since it already exists.\n",
      "Ignoring reaction 'ess_40' since it already exists.\n",
      "Ignoring reaction 'ess_41' since it already exists.\n",
      "Ignoring reaction 'ess_43' since it already exists.\n",
      "Ignoring reaction 'ess_45' since it already exists.\n",
      "Ignoring reaction 'ess_46' since it already exists.\n",
      "Ignoring reaction 'ess_49' since it already exists.\n",
      "Ignoring reaction 'ess_50' since it already exists.\n",
      "Ignoring reaction 'ess_51' since it already exists.\n",
      "Ignoring reaction 'ess_52' since it already exists.\n",
      "Ignoring reaction 'ess_53' since it already exists.\n",
      "Ignoring reaction 'ess_54' since it already exists.\n",
      "Ignoring reaction 'ess_56' since it already exists.\n"
     ]
    }
   ],
   "source": [
    "gene_combs = pd.DataFrame([[[\"ENSG00000165449\", \"ENSG00000100714\"]],[[\"ENSG00000113790\", \"ENSG00000064651\"]],\n",
    "                           [[\"ENSG00000165449\",\"ENSG00000073060\"]], [[\"ENSG00000135390\",\"ENSG00000147813\"]],\n",
    "                           [[\"ENSG00000135390\", \"ENSG00000113790\"]]], columns=['gene_ids'])\n",
    "\n",
    "gene_combs['results'] = gene_combs['gene_ids'].apply(partial(optimize_model, tasks_df, model_list))\n",
    "\n"
   ],
   "metadata": {
    "collapsed": false,
    "pycharm": {
     "name": "#%%\n"
    }
   }
  },
  {
   "cell_type": "code",
   "execution_count": null,
   "outputs": [],
   "source": [
    "\"\"\"                    for m2 in ml[1:]:\n",
    "                        for r in data['met_ids'][m2].reactions:\n",
    "                            if r.boundary:\n",
    "                                r.add_metabolites({Metabolite(m2.id[:-4] + 'x[x]', formula=m2.formula,\n",
    "                                    name=' '.join(m2.name.split(' ')[:-1]) + ' [Boundary]', compartment='x'): 1})\"\"\""
   ],
   "metadata": {
    "collapsed": false,
    "pycharm": {
     "name": "#%%\n"
    }
   }
  },
  {
   "cell_type": "code",
   "execution_count": 41,
   "outputs": [],
   "source": [
    "l1 = [85.965573859666,1,1,1,1,0,1,0,1,0,1,0,1,1,1,1,1,1,1,1,1,1,1,1,1,1,1,1,1,1,1,1,1,1,1,1,1,1,1,1,1,1,1,1,1,1,1,1,1,1,1,1,1,1,0,0,0,1]\n",
    "l2 = [82.565018953425,1,1,1,1,1,1,1,1,1,1,1,1,1,1,1,1,1,1,1,1,1,1,1,1,1,1,1,1,1,1,1,1,1,1,1,1,1,1,1,1,1,1,1,0,1,0,1,1,0,0,0,0,1,1,1,1,1]\n",
    "l3 = [85.965573859666,1,1,1,1,1,1,1,1,1,1,1,1,1,1,1,1,1,1,1,1,1,1,1,1,1,1,1,1,1,1,1,1,1,1,1,1,1,1,1,1,1,1,1,1,1,1,1,1,1,1,1,1,1,1,1,1,0]\n",
    "l4 = [80.742793911265,1,1,1,1,1,1,1,1,1,1,1,1,1,1,1,1,1,1,1,1,1,1,1,1,1,1,1,1,1,1,1,1,1,1,1,0,1,1,1,0,1,1,1,1,1,1,1,1,1,1,1,1,1,1,1,1,1]\n",
    "l5 = [75.354916259585,1,1,1,1,1,1,1,1,1,1,1,1,1,1,1,1,1,1,1,1,1,1,1,1,1,1,1,1,1,1,1,1,1,1,1,0,1,1,1,0,1,1,1,0,1,0,1,1,0,0,0,0,1,1,1,1,1]"
   ],
   "metadata": {
    "collapsed": false,
    "pycharm": {
     "name": "#%%\n"
    }
   }
  },
  {
   "cell_type": "code",
   "execution_count": 46,
   "outputs": [
    {
     "name": "stdout",
     "output_type": "stream",
     "text": [
      "        0      1\n",
      "0    True   True\n",
      "1    True   True\n",
      "2    True   True\n",
      "3    True   True\n",
      "4    True   True\n",
      "5    True   True\n",
      "6    True   True\n",
      "7    True   True\n",
      "8    True   True\n",
      "9    True   True\n",
      "10   True   True\n",
      "11   True   True\n",
      "12   True   True\n",
      "13   True   True\n",
      "14   True   True\n",
      "15   True   True\n",
      "16   True   True\n",
      "17   True   True\n",
      "18   True   True\n",
      "19   True   True\n",
      "20   True   True\n",
      "21   True   True\n",
      "22   True   True\n",
      "23   True   True\n",
      "24   True   True\n",
      "25   True   True\n",
      "26   True   True\n",
      "27   True   True\n",
      "28   True   True\n",
      "29   True   True\n",
      "30   True   True\n",
      "31   True   True\n",
      "32   True   True\n",
      "33   True   True\n",
      "34   True   True\n",
      "35   True   True\n",
      "36  False  False\n",
      "37   True   True\n",
      "38   True   True\n",
      "39   True   True\n",
      "40  False  False\n",
      "41   True   True\n",
      "42   True   True\n",
      "43   True   True\n",
      "44  False  False\n",
      "45   True   True\n",
      "46  False  False\n",
      "47   True   True\n",
      "48   True   True\n",
      "49  False  False\n",
      "50  False  False\n",
      "51  False  False\n",
      "52  False  False\n",
      "53   True   True\n",
      "54   True   True\n",
      "55   True   True\n",
      "56   True   True\n",
      "57   True   True\n"
     ]
    }
   ],
   "source": [
    "res_df = pd.DataFrame(list(zip([bool(i) for i in gene_combs['results'].iloc[4]], [bool(i) for i in l5])))\n",
    "print(res_df)"
   ],
   "metadata": {
    "collapsed": false,
    "pycharm": {
     "name": "#%%\n"
    }
   }
  },
  {
   "cell_type": "code",
   "execution_count": 8,
   "outputs": [
    {
     "name": "stdout",
     "output_type": "stream",
     "text": [
      "                             gene_ids  \\\n",
      "0  [ENSG00000165449, ENSG00000100714]   \n",
      "1  [ENSG00000113790, ENSG00000064651]   \n",
      "2  [ENSG00000165449, ENSG00000073060]   \n",
      "3  [ENSG00000135390, ENSG00000147813]   \n",
      "4  [ENSG00000135390, ENSG00000113790]   \n",
      "\n",
      "                                             results  \n",
      "0  [85.96557385966628, 1, 1, 1, 1, 0, 1, 0, 1, 0,...  \n",
      "1  [82.5650189534255, 1, 1, 1, 1, 1, 1, 1, 1, 1, ...  \n",
      "2  [85.9655738596663, 1, 1, 1, 1, 1, 1, 1, 1, 1, ...  \n",
      "3  [80.74279391126501, 1, 1, 1, 1, 1, 1, 1, 1, 1,...  \n",
      "4  [75.35491625958501, 1, 1, 1, 1, 1, 1, 1, 1, 1,...  \n"
     ]
    }
   ],
   "source": [
    "print(gene_combs)"
   ],
   "metadata": {
    "collapsed": false,
    "pycharm": {
     "name": "#%%\n"
    }
   }
  },
  {
   "cell_type": "code",
   "execution_count": 13,
   "outputs": [
    {
     "ename": "KeyError",
     "evalue": "'ess_1'",
     "output_type": "error",
     "traceback": [
      "\u001B[1;31m---------------------------------------------------------------------------\u001B[0m",
      "\u001B[1;31mKeyError\u001B[0m                                  Traceback (most recent call last)",
      "\u001B[1;32m~\\AppData\\Local\\Temp/ipykernel_11224/3236133500.py\u001B[0m in \u001B[0;36m<module>\u001B[1;34m\u001B[0m\n\u001B[1;32m----> 1\u001B[1;33m \u001B[0mprint\u001B[0m\u001B[1;33m(\u001B[0m\u001B[0mmodel_list\u001B[0m\u001B[1;33m[\u001B[0m\u001B[1;36m1\u001B[0m\u001B[1;33m]\u001B[0m\u001B[1;33m.\u001B[0m\u001B[0mreactions\u001B[0m\u001B[1;33m.\u001B[0m\u001B[0mget_by_id\u001B[0m\u001B[1;33m(\u001B[0m\u001B[1;34m'ess_1'\u001B[0m\u001B[1;33m)\u001B[0m\u001B[1;33m)\u001B[0m\u001B[1;33m\u001B[0m\u001B[1;33m\u001B[0m\u001B[0m\n\u001B[0m\u001B[0;32m      2\u001B[0m \u001B[1;33m\u001B[0m\u001B[0m\n",
      "\u001B[1;32m~\\miniconda3\\envs\\Master\\lib\\site-packages\\cobra\\core\\dictlist.py\u001B[0m in \u001B[0;36mget_by_id\u001B[1;34m(self, id)\u001B[0m\n\u001B[0;32m     55\u001B[0m     \u001B[1;32mdef\u001B[0m \u001B[0mget_by_id\u001B[0m\u001B[1;33m(\u001B[0m\u001B[0mself\u001B[0m\u001B[1;33m,\u001B[0m \u001B[0mid\u001B[0m\u001B[1;33m)\u001B[0m\u001B[1;33m:\u001B[0m\u001B[1;33m\u001B[0m\u001B[1;33m\u001B[0m\u001B[0m\n\u001B[0;32m     56\u001B[0m         \u001B[1;34m\"\"\"return the element with a matching id\"\"\"\u001B[0m\u001B[1;33m\u001B[0m\u001B[1;33m\u001B[0m\u001B[0m\n\u001B[1;32m---> 57\u001B[1;33m         \u001B[1;32mreturn\u001B[0m \u001B[0mlist\u001B[0m\u001B[1;33m.\u001B[0m\u001B[0m__getitem__\u001B[0m\u001B[1;33m(\u001B[0m\u001B[0mself\u001B[0m\u001B[1;33m,\u001B[0m \u001B[0mself\u001B[0m\u001B[1;33m.\u001B[0m\u001B[0m_dict\u001B[0m\u001B[1;33m[\u001B[0m\u001B[0mid\u001B[0m\u001B[1;33m]\u001B[0m\u001B[1;33m)\u001B[0m\u001B[1;33m\u001B[0m\u001B[1;33m\u001B[0m\u001B[0m\n\u001B[0m\u001B[0;32m     58\u001B[0m \u001B[1;33m\u001B[0m\u001B[0m\n\u001B[0;32m     59\u001B[0m     \u001B[1;32mdef\u001B[0m \u001B[0mlist_attr\u001B[0m\u001B[1;33m(\u001B[0m\u001B[0mself\u001B[0m\u001B[1;33m,\u001B[0m \u001B[0mattribute\u001B[0m\u001B[1;33m)\u001B[0m\u001B[1;33m:\u001B[0m\u001B[1;33m\u001B[0m\u001B[1;33m\u001B[0m\u001B[0m\n",
      "\u001B[1;31mKeyError\u001B[0m: 'ess_1'"
     ]
    }
   ],
   "source": [
    "print(model_list[1].reactions.get_by_id('ess_1'))\n"
   ],
   "metadata": {
    "collapsed": false,
    "pycharm": {
     "name": "#%%\n"
    }
   }
  },
  {
   "cell_type": "code",
   "execution_count": 36,
   "outputs": [
    {
     "name": "stdout",
     "output_type": "stream",
     "text": [
      "in_rx        [ess_57_in_0:  --> m01365s[s], ess_57_in_1:  -...\n",
      "out_rx             [ALLMETSIN, ess_57_out_1: temp001s[s] --> ]\n",
      "equ                                                        nan\n",
      "model_num                                                    3\n",
      "Name: 56, dtype: object\n",
      "Boundary: \n",
      "866\n",
      "-------------\n",
      "Boundary: \n",
      "910\n",
      "-------------\n",
      "temp001s[s]\n",
      "ess_57_out_1\n",
      "(0, 0)\n"
     ]
    }
   ],
   "source": [
    "print(tasks_df.iloc[56, :])\n",
    "\n",
    "task_df_57 = tasks_df.iloc[56, :]\n",
    "t_model = model_list[3]\n",
    "\n",
    "print('Boundary: ')\n",
    "print(len(t_model.boundary))\n",
    "print('-------------')\n",
    "\n",
    "with t_model:\n",
    "\n",
    "    for subset in [task_df_57.in_rx, task_df_57.out_rx]:\n",
    "\n",
    "        for rx in subset:\n",
    "            if rx == 'ALLMETSIN':\n",
    "                for r in subset[1:]:\n",
    "                    for m2 in r.metabolites:\n",
    "                        for r2 in m2.reactions:\n",
    "                            if r2.boundary and r2.id != r.id:\n",
    "                                r2.add_metabolites({Metabolite(m2.id[:-4] + 'x[x]', formula=m2.formula,\n",
    "                                name=' '.join(m2.name.split(' ')[:-1]) + ' [Boundary]', compartment='x'): 1})\n",
    "\n",
    "\n",
    "\n",
    "                continue\n",
    "            t_model.add_reaction(rx)\n",
    "\n",
    "        if task_df_57.equ != 'nan':\n",
    "            t_model.add_reaction(task_df_57.equ)\n",
    "\n",
    "    print('Boundary: ')\n",
    "    print(len(t_model.boundary))\n",
    "    print('-------------')\n",
    "\n",
    "    biomass = t_model.metabolites.get_by_id('temp001s[s]')\n",
    "    print(biomass)\n",
    "\n",
    "    for r in biomass.reactions:\n",
    "        if r.boundary:\n",
    "            print(r.id)\n",
    "            print(r.bounds)\n",
    "\n",
    "    #print(t_model.optimize().objective_value)\n",
    "\n",
    "\n"
   ],
   "metadata": {
    "collapsed": false,
    "pycharm": {
     "name": "#%%\n"
    }
   }
  }
 ],
 "metadata": {
  "kernelspec": {
   "display_name": "Python 3",
   "language": "python",
   "name": "python3"
  },
  "language_info": {
   "codemirror_mode": {
    "name": "ipython",
    "version": 2
   },
   "file_extension": ".py",
   "mimetype": "text/x-python",
   "name": "python",
   "nbconvert_exporter": "python",
   "pygments_lexer": "ipython2",
   "version": "2.7.6"
  }
 },
 "nbformat": 4,
 "nbformat_minor": 0
}