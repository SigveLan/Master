{
 "cells": [
  {
   "cell_type": "code",
   "execution_count": 1,
   "metadata": {
    "collapsed": true
   },
   "outputs": [],
   "source": [
    "import itertools\n",
    "import pandas as pd\n",
    "import cobra.flux_analysis\n",
    "from cobra import Metabolite\n",
    "import time\n",
    "import numpy as np\n",
    "from src.mp_functions import combinations_subset, parallelize_dataframe, knockout_FBA, knockout_FBA_w_tasks, knockout_FBA_simple\n",
    "\n",
    "from functools import partial\n",
    "from src.FBA_scripts.met_task_functions import constrain_model, read_tasks\n"
   ]
  },
  {
   "cell_type": "code",
   "execution_count": 6,
   "outputs": [],
   "source": [
    "# Single model\n",
    "model_file_path = 'C:/Users/Sigve/Genome_Data/Human1/Human1_GEM/GTEx/liver.xml'\n",
    "model = cobra.io.read_sbml_model(model_file_path)"
   ],
   "metadata": {
    "collapsed": false,
    "pycharm": {
     "name": "#%%\n"
    }
   }
  },
  {
   "cell_type": "code",
   "execution_count": 84,
   "outputs": [
    {
     "name": "stdout",
     "output_type": "stream",
     "text": [
      "Read LP format model from file C:\\Users\\Sigve\\AppData\\Local\\Temp\\tmp_v3f30r_.lp\n",
      "Reading time = 0.07 seconds\n",
      ": 5788 rows, 15892 columns, 69376 nonzeros\n",
      "Read LP format model from file C:\\Users\\Sigve\\AppData\\Local\\Temp\\tmpdcskp4v3.lp\n",
      "Reading time = 0.07 seconds\n",
      ": 5788 rows, 15892 columns, 69376 nonzeros\n"
     ]
    }
   ],
   "source": [
    "# Models for tasks\n",
    "model_list = constrain_model(model_file_path, ALLMETSIN_OUT=True)"
   ],
   "metadata": {
    "collapsed": false,
    "pycharm": {
     "name": "#%%\n"
    }
   }
  },
  {
   "cell_type": "code",
   "execution_count": 85,
   "outputs": [],
   "source": [
    "task_list = read_tasks('C:/Users/Sigve/Genome_Data/Human1/Human1_GEM/tasks/essential_tasks.tsv', model_list)\n",
    "# Constrain model\n",
    "task = task_list[-1]\n",
    "for subset in [task[0], task[1]]:\n",
    "    for rx in subset:\n",
    "        if rx == 'ALLMETSIN':\n",
    "            # Adds boundary metabolites for other reactions when ALLMETSIN is used\n",
    "            for r in subset[1:]:\n",
    "                for m2 in r.metabolites:\n",
    "                    for r2 in m2.reactions:\n",
    "                        if r2.boundary and r2.id != r.id:\n",
    "                            # Could also just remove the reactions, or set them 0, 0\n",
    "                            r2.add_metabolites({Metabolite(\n",
    "                                                m2.id[:-4] + 'x[x]',\n",
    "                                                formula=m2.formula,\n",
    "                                                name=' '.join(m2.name.split(' ')[:-1]) + ' [Boundary]',\n",
    "                                                compartment='x'): 1})\n",
    "            continue\n",
    "        model_list[3].add_reaction(rx)\n"
   ],
   "metadata": {
    "collapsed": false,
    "pycharm": {
     "name": "#%%\n"
    }
   }
  },
  {
   "cell_type": "code",
   "execution_count": 16,
   "outputs": [],
   "source": [
    "# FBA + knockouts\n",
    "\n",
    "res_list = []"
   ],
   "metadata": {
    "collapsed": false,
    "pycharm": {
     "name": "#%%\n"
    }
   }
  },
  {
   "cell_type": "code",
   "execution_count": 17,
   "outputs": [],
   "source": [
    "res_list.append(round(knockout_FBA_simple(model, []), 3))\n",
    "res_list.append(round(knockout_FBA_simple(model, ['ENSG00000134538']), 3))"
   ],
   "metadata": {
    "collapsed": false,
    "pycharm": {
     "name": "#%%\n"
    }
   }
  },
  {
   "cell_type": "code",
   "execution_count": 114,
   "outputs": [
    {
     "name": "stdout",
     "output_type": "stream",
     "text": [
      "2.1839945137303576\n",
      "2.1839945137303576\n"
     ]
    }
   ],
   "source": [
    "model = model_list[3]\n",
    "with model:\n",
    "    # Bilirubin sink\n",
    "    model.reactions.get_by_id('HMR_9273').lower_bound = -1000\n",
    "    model.reactions.get_by_id('HMR_9273').upper_bound = -249\n",
    "\n",
    "    # Bilirubin-Bisglucuronoside sink\n",
    "    model.reactions.get_by_id('HMR_9271').lower_bound = 0\n",
    "    model.reactions.get_by_id('HMR_9271').upper_bound = 0\n",
    "\n",
    "    # Bilirubin-monoglucuronoside sink\n",
    "    model.reactions.get_by_id('HMR_9272').lower_bound = 10\n",
    "    model.reactions.get_by_id('HMR_9272').upper_bound = 1000\n",
    "\n",
    "    # Heme synthesis\n",
    "    model.reactions.get_by_id('HMR_4758').lower_bound = 0\n",
    "    model.reactions.get_by_id('HMR_4758').upper_bound = 1\n",
    "\n",
    "    # Oxygen\n",
    "    model.reactions.get_by_id('HMR_9048').lower_bound = -10\n",
    "    # Glucose\n",
    "    model.reactions.get_by_id('HMR_9034').lower_bound = -6\n",
    "\n",
    "    # Threonine\n",
    "    model.reactions.get_by_id('HMR_9044').lower_bound = -1\n",
    "\n",
    "    #model.objective = 'HMR_9271'\n",
    "    #model.objective_direction = 'max'\n",
    "\n",
    "    print(knockout_FBA_simple(model, []))\n",
    "    print(knockout_FBA_simple(model, ['ENSG00000134538', 'ENSG00000184999', 'ENSG00000103222']))"
   ],
   "metadata": {
    "collapsed": false,
    "pycharm": {
     "name": "#%%\n"
    }
   }
  },
  {
   "cell_type": "code",
   "execution_count": 7,
   "outputs": [
    {
     "name": "stdout",
     "output_type": "stream",
     "text": [
      "[82.17122442635676, 81.6253209998778]\n"
     ]
    }
   ],
   "source": [
    "res_list_lung = res_list"
   ],
   "metadata": {
    "collapsed": false,
    "pycharm": {
     "name": "#%%\n"
    }
   }
  },
  {
   "cell_type": "code",
   "execution_count": 18,
   "outputs": [
    {
     "name": "stdout",
     "output_type": "stream",
     "text": [
      "Lung results: [82.17122442635676, 81.6253209998778]\n",
      "[111.339, 111.339]\n"
     ]
    }
   ],
   "source": [
    "print('Lung results: ' + str(res_list_lung))\n",
    "print(res_list)\n"
   ],
   "metadata": {
    "collapsed": false,
    "pycharm": {
     "name": "#%%\n"
    }
   }
  }
 ],
 "metadata": {
  "kernelspec": {
   "display_name": "Python 3",
   "language": "python",
   "name": "python3"
  },
  "language_info": {
   "codemirror_mode": {
    "name": "ipython",
    "version": 2
   },
   "file_extension": ".py",
   "mimetype": "text/x-python",
   "name": "python",
   "nbconvert_exporter": "python",
   "pygments_lexer": "ipython2",
   "version": "2.7.6"
  }
 },
 "nbformat": 4,
 "nbformat_minor": 0
}