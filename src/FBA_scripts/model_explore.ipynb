{
 "cells": [
  {
   "cell_type": "code",
   "execution_count": 1,
   "metadata": {
    "collapsed": true
   },
   "outputs": [],
   "source": [
    "import itertools\n",
    "import pandas as pd\n",
    "import cobra.flux_analysis\n",
    "from cobra import Metabolite\n",
    "import time\n",
    "import numpy as np\n",
    "from src.mp_functions import combinations_subset, parallelize_dataframe, knockout_FBA, knockout_FBA_w_tasks, knockout_FBA_simple\n",
    "\n",
    "from functools import partial\n",
    "from src.FBA_scripts.met_task_functions import constrain_model, read_tasks\n"
   ]
  },
  {
   "cell_type": "code",
   "execution_count": 2,
   "outputs": [],
   "source": [
    "# Single model\n",
    "model_file_path = 'C:/Users/Sigve/Genome_Data/Human1/Human1_GEM/GTEx/pancreas.xml'\n",
    "#model = cobra.io.read_sbml_model(model_file_path)"
   ],
   "metadata": {
    "collapsed": false,
    "pycharm": {
     "name": "#%%\n"
    }
   }
  },
  {
   "cell_type": "code",
   "execution_count": 3,
   "outputs": [
    {
     "name": "stdout",
     "output_type": "stream",
     "text": [
      "Academic license - for non-commercial use only - expires 2022-10-03\n",
      "Using license file c:\\gurobi\\gurobi.lic\n",
      "Read LP format model from file C:\\Users\\Sigve\\AppData\\Local\\Temp\\tmpqhpj5l9q.lp\n",
      "Reading time = 0.07 seconds\n",
      ": 5597 rows, 15340 columns, 67174 nonzeros\n",
      "Read LP format model from file C:\\Users\\Sigve\\AppData\\Local\\Temp\\tmpdq6wlt_7.lp\n",
      "Reading time = 0.07 seconds\n",
      ": 5597 rows, 15340 columns, 67174 nonzeros\n"
     ]
    }
   ],
   "source": [
    "# Models for tasks\n",
    "model_list = constrain_model(model_file_path, ALLMETSIN_OUT=True)"
   ],
   "metadata": {
    "collapsed": false,
    "pycharm": {
     "name": "#%%\n"
    }
   }
  },
  {
   "cell_type": "code",
   "execution_count": 85,
   "outputs": [],
   "source": [
    "task_list = read_tasks('C:/Users/Sigve/Genome_Data/Human1/Human1_GEM/tasks/essential_tasks.tsv', model_list)\n",
    "# Constrain model\n",
    "task = task_list[-1]\n",
    "for subset in [task[0], task[1]]:\n",
    "    for rx in subset:\n",
    "        if rx == 'ALLMETSIN':\n",
    "            # Adds boundary metabolites for other reactions when ALLMETSIN is used\n",
    "            for r in subset[1:]:\n",
    "                for m2 in r.metabolites:\n",
    "                    for r2 in m2.reactions:\n",
    "                        if r2.boundary and r2.id != r.id:\n",
    "                            # Could also just remove the reactions, or set them 0, 0\n",
    "                            r2.add_metabolites({Metabolite(\n",
    "                                                m2.id[:-4] + 'x[x]',\n",
    "                                                formula=m2.formula,\n",
    "                                                name=' '.join(m2.name.split(' ')[:-1]) + ' [Boundary]',\n",
    "                                                compartment='x'): 1})\n",
    "            continue\n",
    "        model_list[3].add_reaction(rx)\n"
   ],
   "metadata": {
    "collapsed": false,
    "pycharm": {
     "name": "#%%\n"
    }
   }
  },
  {
   "cell_type": "code",
   "execution_count": 16,
   "outputs": [],
   "source": [
    "# FBA + knockouts\n",
    "\n",
    "res_list = []"
   ],
   "metadata": {
    "collapsed": false,
    "pycharm": {
     "name": "#%%\n"
    }
   }
  },
  {
   "cell_type": "code",
   "execution_count": null,
   "outputs": [],
   "source": [
    "model = model_list[0]\n",
    "res_list.append(round(knockout_FBA_simple(model, []), 3))\n",
    "res_list.append(round(knockout_FBA_simple(model, ['ENSG00000134538']), 3))"
   ],
   "metadata": {
    "collapsed": false,
    "pycharm": {
     "name": "#%%\n"
    }
   }
  },
  {
   "cell_type": "code",
   "execution_count": 114,
   "outputs": [
    {
     "name": "stdout",
     "output_type": "stream",
     "text": [
      "2.1839945137303576\n",
      "2.1839945137303576\n"
     ]
    }
   ],
   "source": [
    "model = model_list[3]\n",
    "with model:\n",
    "    # Bilirubin sink\n",
    "    model.reactions.get_by_id('HMR_9273').lower_bound = -1000\n",
    "    model.reactions.get_by_id('HMR_9273').upper_bound = -249\n",
    "\n",
    "    # Bilirubin-Bisglucuronoside sink\n",
    "    model.reactions.get_by_id('HMR_9271').lower_bound = 0\n",
    "    model.reactions.get_by_id('HMR_9271').upper_bound = 0\n",
    "\n",
    "    # Bilirubin-monoglucuronoside sink\n",
    "    model.reactions.get_by_id('HMR_9272').lower_bound = 10\n",
    "    model.reactions.get_by_id('HMR_9272').upper_bound = 1000\n",
    "\n",
    "    # Heme synthesis\n",
    "    model.reactions.get_by_id('HMR_4758').lower_bound = 0\n",
    "    model.reactions.get_by_id('HMR_4758').upper_bound = 1\n",
    "\n",
    "    # Oxygen\n",
    "    model.reactions.get_by_id('HMR_9048').lower_bound = -10\n",
    "    # Glucose\n",
    "    model.reactions.get_by_id('HMR_9034').lower_bound = -6\n",
    "\n",
    "    # Threonine\n",
    "    model.reactions.get_by_id('HMR_9044').lower_bound = -1\n",
    "\n",
    "    #model.objective = 'HMR_9271'\n",
    "    #model.objective_direction = 'max'\n",
    "\n",
    "    print(knockout_FBA_simple(model, []))\n",
    "    print(knockout_FBA_simple(model, ['ENSG00000134538', 'ENSG00000184999', 'ENSG00000103222']))"
   ],
   "metadata": {
    "collapsed": false,
    "pycharm": {
     "name": "#%%\n"
    }
   }
  },
  {
   "cell_type": "code",
   "execution_count": 7,
   "outputs": [
    {
     "name": "stdout",
     "output_type": "stream",
     "text": [
      "[82.17122442635676, 81.6253209998778]\n"
     ]
    }
   ],
   "source": [
    "res_list_lung = res_list"
   ],
   "metadata": {
    "collapsed": false,
    "pycharm": {
     "name": "#%%\n"
    }
   }
  },
  {
   "cell_type": "code",
   "execution_count": 18,
   "outputs": [
    {
     "name": "stdout",
     "output_type": "stream",
     "text": [
      "Lung results: [82.17122442635676, 81.6253209998778]\n",
      "[111.339, 111.339]\n"
     ]
    }
   ],
   "source": [
    "print('Lung results: ' + str(res_list_lung))\n",
    "print(res_list)\n"
   ],
   "metadata": {
    "collapsed": false,
    "pycharm": {
     "name": "#%%\n"
    }
   }
  },
  {
   "cell_type": "code",
   "execution_count": 117,
   "outputs": [],
   "source": [
    "# FBA + knockouts\n",
    "\n",
    "res_list = []"
   ],
   "metadata": {
    "collapsed": false,
    "pycharm": {
     "name": "#%%\n"
    }
   }
  },
  {
   "cell_type": "code",
   "execution_count": 72,
   "outputs": [
    {
     "name": "stdout",
     "output_type": "stream",
     "text": [
      "Read LP format model from file C:\\Users\\Sigve\\AppData\\Local\\Temp\\tmpeuv8erle.lp\n",
      "Reading time = 0.07 seconds\n",
      ": 5811 rows, 16420 columns, 71822 nonzeros\n",
      "Read LP format model from file C:\\Users\\Sigve\\AppData\\Local\\Temp\\tmpk4d01zor.lp\n",
      "Reading time = 0.07 seconds\n",
      ": 5811 rows, 16420 columns, 71822 nonzeros\n"
     ]
    }
   ],
   "source": [
    "tissue = 'small_intestine'\n",
    "\n",
    "model_file_path = 'C:/Users/Sigve/Genome_Data/Human1/Human1_GEM/GTEx/{0}.xml'.format(tissue)\n",
    "model_list = constrain_model(model_file_path, ALLMETSIN_OUT=True)"
   ],
   "metadata": {
    "collapsed": false,
    "pycharm": {
     "name": "#%%\n"
    }
   }
  },
  {
   "cell_type": "code",
   "execution_count": 73,
   "outputs": [
    {
     "name": "stdout",
     "output_type": "stream",
     "text": [
      "Num genes: 10\n",
      "Num combs: 31\n",
      "31\n"
     ]
    }
   ],
   "source": [
    "if True:\n",
    "    genes = [gene.id for gene in model_list[0].genes]\n",
    "else:\n",
    "    genes = pd.read_table('C:/Users/Sigve/Genome_Data/results/model_tests/essential_genes/{0}_non_essential.tsv'.format(tissue), index_col=0)['gene_ids'].tolist()\n",
    "\n",
    "# Create and run combinations for individual samples\n",
    "t='ENSG00000177000;ENSG00000159640;ENSG00000188906;ENSG00000085563;ENSG00000084207;ENSG00000159640;ENSG00000140718;ENSG00000111012;ENSG00000091831;ENSG00000087237'\n",
    "\n",
    "input = t.split(';')\n",
    "print('Num genes: ' + str(len(input)))\n",
    "input = list(set(input).intersection(genes))\n",
    "\n",
    "combs = []\n",
    "for i in range(1, 5): #len(input) + 1):\n",
    "    for c in itertools.combinations(input, i):\n",
    "        combs.append(list(c))\n",
    "\n",
    "combs.append(input)\n",
    "test_df = pd.DataFrame({'gene_ids': combs})\n",
    "\n",
    "print('Num combs: ' + str(len(combs)))\n",
    "\n",
    "task_list = read_tasks('C:/Users/Sigve/Genome_Data/Human1/Human1_GEM/tasks/essential_tasks_min_ess_aa.tsv', model_list)\n",
    "# Adds empty task result list column\n",
    "test_df['tasks_results'] = np.empty((len(test_df), 0)).tolist()\n",
    "test_df.reset_index(inplace=True)\n",
    "test_df.rename(columns={'index': 'sample_ids'}, inplace=True)\n",
    "test_df['sample_ids'] = test_df['sample_ids'].apply(lambda x: x + 1)\n",
    "\n",
    "# Actual FBA\n",
    "print(test_df.shape[0])\n",
    "#print(test_df)"
   ],
   "metadata": {
    "collapsed": false,
    "pycharm": {
     "name": "#%%\n"
    }
   }
  },
  {
   "cell_type": "code",
   "execution_count": 74,
   "outputs": [
    {
     "name": "stdout",
     "output_type": "stream",
     "text": [
      "Total time: 78.425046 seconds\n"
     ]
    }
   ],
   "source": [
    "start_time = time.time()\n",
    "\n",
    "results = parallelize_dataframe(test_df, partial(knockout_FBA_w_tasks, task_list, model_list), n_cores=2)\n",
    "\n",
    "end_time = time.time()\n",
    "print('Total time: %.6f seconds' % (end_time - start_time))\n",
    "\n",
    "results.loc[-1] = ['REF', [], round(model_list[0].slim_optimize(error_value='nan'), 3), [1]]\n",
    "\n",
    "# Put REF on top\n",
    "results.index = results.index + 1  # shifting index\n",
    "results.sort_index(inplace=True)\n",
    "\n",
    "results['gene_ids'] = results['gene_ids'].apply(';'.join)\n",
    "results['tasks_results'] = results['tasks_results'].apply(lambda x: x if not all(x) else ['ALL PASS'])\n",
    "\n",
    "results.reset_index(inplace=True, drop=True)\n",
    "results[['sample_ids', 'gene_ids', 'solution', 'tasks_results']].to_csv(path_or_buf='C:/Users/Sigve/Genome_Data/results/phewas_results/FBA_selected/result_test_MTHFR_ex_{0}.tsv'.format(tissue), sep='\\t')"
   ],
   "metadata": {
    "collapsed": false,
    "pycharm": {
     "name": "#%%\n"
    }
   }
  },
  {
   "cell_type": "code",
   "execution_count": 8,
   "outputs": [
    {
     "name": "stdout",
     "output_type": "stream",
     "text": [
      "ENSG00000113407: 0.0\n",
      "ENSG00000116039: 75.00989279272777\n",
      "ENSG00000198130: 75.00989279272777\n",
      "ENSG00000206077: 75.00989279272777\n",
      "ENSG00000034152: 75.00989279272777\n"
     ]
    }
   ],
   "source": [
    "gene_list = 'ENSG00000113407;ENSG00000116039;ENSG00000198130;ENSG00000206077;ENSG00000034152'.split(';')\n",
    "for gene in gene_list:\n",
    "    print(gene + ': ' + str(knockout_FBA_simple(model_list[0], [gene])))\n",
    "\n",
    "\n"
   ],
   "metadata": {
    "collapsed": false,
    "pycharm": {
     "name": "#%%\n"
    }
   }
  }
 ],
 "metadata": {
  "kernelspec": {
   "display_name": "Python 3",
   "language": "python",
   "name": "python3"
  },
  "language_info": {
   "codemirror_mode": {
    "name": "ipython",
    "version": 2
   },
   "file_extension": ".py",
   "mimetype": "text/x-python",
   "name": "python",
   "nbconvert_exporter": "python",
   "pygments_lexer": "ipython2",
   "version": "2.7.6"
  }
 },
 "nbformat": 4,
 "nbformat_minor": 0
}