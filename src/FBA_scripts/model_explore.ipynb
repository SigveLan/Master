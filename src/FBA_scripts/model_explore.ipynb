{
 "cells": [
  {
   "cell_type": "code",
   "execution_count": 1,
   "metadata": {
    "collapsed": true
   },
   "outputs": [],
   "source": [
    "import itertools\n",
    "import pandas as pd\n",
    "import cobra.flux_analysis\n",
    "from cobra import Metabolite\n",
    "import time\n",
    "import numpy as np\n",
    "from src.mp_functions import combinations_subset, parallelize_dataframe, knockout_FBA, knockout_FBA_w_tasks, knockout_FBA_simple\n",
    "\n",
    "from functools import partial\n",
    "from src.FBA_scripts.met_task_functions import constrain_model, read_tasks\n"
   ]
  },
  {
   "cell_type": "code",
   "execution_count": 2,
   "outputs": [],
   "source": [
    "# Single model\n",
    "model_file_path = 'C:/Users/Sigve/Genome_Data/Human1/Human1_GEM/GTEx/pancreas.xml'\n",
    "#model = cobra.io.read_sbml_model(model_file_path)"
   ],
   "metadata": {
    "collapsed": false,
    "pycharm": {
     "name": "#%%\n"
    }
   }
  },
  {
   "cell_type": "code",
   "execution_count": 3,
   "outputs": [
    {
     "name": "stdout",
     "output_type": "stream",
     "text": [
      "Academic license - for non-commercial use only - expires 2022-10-03\n",
      "Using license file c:\\gurobi\\gurobi.lic\n",
      "Read LP format model from file C:\\Users\\Sigve\\AppData\\Local\\Temp\\tmpqhpj5l9q.lp\n",
      "Reading time = 0.07 seconds\n",
      ": 5597 rows, 15340 columns, 67174 nonzeros\n",
      "Read LP format model from file C:\\Users\\Sigve\\AppData\\Local\\Temp\\tmpdq6wlt_7.lp\n",
      "Reading time = 0.07 seconds\n",
      ": 5597 rows, 15340 columns, 67174 nonzeros\n"
     ]
    }
   ],
   "source": [
    "# Models for tasks\n",
    "model_list = constrain_model(model_file_path, ALLMETSIN_OUT=True)"
   ],
   "metadata": {
    "collapsed": false,
    "pycharm": {
     "name": "#%%\n"
    }
   }
  },
  {
   "cell_type": "code",
   "execution_count": 85,
   "outputs": [],
   "source": [
    "task_list = read_tasks('C:/Users/Sigve/Genome_Data/Human1/Human1_GEM/tasks/essential_tasks.tsv', model_list)\n",
    "# Constrain model\n",
    "task = task_list[-1]\n",
    "for subset in [task[0], task[1]]:\n",
    "    for rx in subset:\n",
    "        if rx == 'ALLMETSIN':\n",
    "            # Adds boundary metabolites for other reactions when ALLMETSIN is used\n",
    "            for r in subset[1:]:\n",
    "                for m2 in r.metabolites:\n",
    "                    for r2 in m2.reactions:\n",
    "                        if r2.boundary and r2.id != r.id:\n",
    "                            # Could also just remove the reactions, or set them 0, 0\n",
    "                            r2.add_metabolites({Metabolite(\n",
    "                                                m2.id[:-4] + 'x[x]',\n",
    "                                                formula=m2.formula,\n",
    "                                                name=' '.join(m2.name.split(' ')[:-1]) + ' [Boundary]',\n",
    "                                                compartment='x'): 1})\n",
    "            continue\n",
    "        model_list[3].add_reaction(rx)\n"
   ],
   "metadata": {
    "collapsed": false,
    "pycharm": {
     "name": "#%%\n"
    }
   }
  },
  {
   "cell_type": "code",
   "execution_count": 16,
   "outputs": [],
   "source": [
    "# FBA + knockouts\n",
    "\n",
    "res_list = []"
   ],
   "metadata": {
    "collapsed": false,
    "pycharm": {
     "name": "#%%\n"
    }
   }
  },
  {
   "cell_type": "code",
   "execution_count": null,
   "outputs": [],
   "source": [
    "model = model_list[0]\n",
    "res_list.append(round(knockout_FBA_simple(model, []), 3))\n",
    "res_list.append(round(knockout_FBA_simple(model, ['ENSG00000134538']), 3))"
   ],
   "metadata": {
    "collapsed": false,
    "pycharm": {
     "name": "#%%\n"
    }
   }
  },
  {
   "cell_type": "code",
   "execution_count": 114,
   "outputs": [
    {
     "name": "stdout",
     "output_type": "stream",
     "text": [
      "2.1839945137303576\n",
      "2.1839945137303576\n"
     ]
    }
   ],
   "source": [
    "model = model_list[3]\n",
    "with model:\n",
    "    # Bilirubin sink\n",
    "    model.reactions.get_by_id('HMR_9273').lower_bound = -1000\n",
    "    model.reactions.get_by_id('HMR_9273').upper_bound = -249\n",
    "\n",
    "    # Bilirubin-Bisglucuronoside sink\n",
    "    model.reactions.get_by_id('HMR_9271').lower_bound = 0\n",
    "    model.reactions.get_by_id('HMR_9271').upper_bound = 0\n",
    "\n",
    "    # Bilirubin-monoglucuronoside sink\n",
    "    model.reactions.get_by_id('HMR_9272').lower_bound = 10\n",
    "    model.reactions.get_by_id('HMR_9272').upper_bound = 1000\n",
    "\n",
    "    # Heme synthesis\n",
    "    model.reactions.get_by_id('HMR_4758').lower_bound = 0\n",
    "    model.reactions.get_by_id('HMR_4758').upper_bound = 1\n",
    "\n",
    "    # Oxygen\n",
    "    model.reactions.get_by_id('HMR_9048').lower_bound = -10\n",
    "    # Glucose\n",
    "    model.reactions.get_by_id('HMR_9034').lower_bound = -6\n",
    "\n",
    "    # Threonine\n",
    "    model.reactions.get_by_id('HMR_9044').lower_bound = -1\n",
    "\n",
    "    #model.objective = 'HMR_9271'\n",
    "    #model.objective_direction = 'max'\n",
    "\n",
    "    print(knockout_FBA_simple(model, []))\n",
    "    print(knockout_FBA_simple(model, ['ENSG00000134538', 'ENSG00000184999', 'ENSG00000103222']))"
   ],
   "metadata": {
    "collapsed": false,
    "pycharm": {
     "name": "#%%\n"
    }
   }
  },
  {
   "cell_type": "code",
   "execution_count": 7,
   "outputs": [
    {
     "name": "stdout",
     "output_type": "stream",
     "text": [
      "[82.17122442635676, 81.6253209998778]\n"
     ]
    }
   ],
   "source": [
    "res_list_lung = res_list"
   ],
   "metadata": {
    "collapsed": false,
    "pycharm": {
     "name": "#%%\n"
    }
   }
  },
  {
   "cell_type": "code",
   "execution_count": 18,
   "outputs": [
    {
     "name": "stdout",
     "output_type": "stream",
     "text": [
      "Lung results: [82.17122442635676, 81.6253209998778]\n",
      "[111.339, 111.339]\n"
     ]
    }
   ],
   "source": [
    "print('Lung results: ' + str(res_list_lung))\n",
    "print(res_list)\n"
   ],
   "metadata": {
    "collapsed": false,
    "pycharm": {
     "name": "#%%\n"
    }
   }
  },
  {
   "cell_type": "code",
   "execution_count": 117,
   "outputs": [],
   "source": [
    "# FBA + knockouts\n",
    "\n",
    "res_list = []"
   ],
   "metadata": {
    "collapsed": false,
    "pycharm": {
     "name": "#%%\n"
    }
   }
  },
  {
   "cell_type": "code",
   "execution_count": 2,
   "outputs": [
    {
     "name": "stdout",
     "output_type": "stream",
     "text": [
      "Academic license - for non-commercial use only - expires 2022-10-03\n",
      "Using license file c:\\gurobi\\gurobi.lic\n",
      "Read LP format model from file C:\\Users\\Sigve\\AppData\\Local\\Temp\\tmp71gt85ib.lp\n",
      "Reading time = 0.07 seconds\n",
      ": 5788 rows, 15892 columns, 69376 nonzeros\n",
      "Read LP format model from file C:\\Users\\Sigve\\AppData\\Local\\Temp\\tmp3eaaadly.lp\n",
      "Reading time = 0.07 seconds\n",
      ": 5788 rows, 15892 columns, 69376 nonzeros\n"
     ]
    }
   ],
   "source": [
    "tissue = 'liver'\n",
    "\n",
    "model_file_path = 'C:/Users/Sigve/Genome_Data/Human1/Human1_GEM/GTEx/{0}.xml'.format(tissue)\n",
    "model_list = constrain_model(model_file_path, ALLMETSIN_OUT=True)"
   ],
   "metadata": {
    "collapsed": false,
    "pycharm": {
     "name": "#%%\n"
    }
   }
  },
  {
   "cell_type": "code",
   "execution_count": 33,
   "outputs": [
    {
     "name": "stdout",
     "output_type": "stream",
     "text": [
      "Num genes: 206\n",
      "['ENSG00000171124', 'ENSG00000104823', 'ENSG00000114480', 'ENSG00000078070', 'ENSG00000167701', 'ENSG00000109861', 'ENSG00000172890', 'ENSG00000155850', 'ENSG00000115020', 'ENSG00000090376', 'ENSG00000115884', 'ENSG00000038002', 'ENSG00000132958', 'ENSG00000137124', 'ENSG00000105426', 'ENSG00000124006', 'ENSG00000134780', 'ENSG00000177239', 'ENSG00000181555', 'ENSG00000181409', 'ENSG00000154305', 'ENSG00000134070', 'ENSG00000109854', 'ENSG00000188833', 'ENSG00000204385', 'ENSG00000077463', 'ENSG00000129219', 'ENSG00000168350', 'ENSG00000115159', 'ENSG00000154229', 'ENSG00000112303', 'ENSG00000054983', 'ENSG00000213614', 'ENSG00000196616', 'ENSG00000171503', 'ENSG00000168827', 'ENSG00000169359', 'ENSG00000274391', 'ENSG00000114670', 'ENSG00000162882', 'ENSG00000116539', 'ENSG00000114923', 'ENSG00000142798', 'ENSG00000275342', 'ENSG00000198825', 'ENSG00000143772', 'ENSG00000131446', 'ENSG00000135372', 'ENSG00000058729', 'ENSG00000132437', 'ENSG00000156510', 'ENSG00000177169', 'ENSG00000087253', 'ENSG00000162104', 'ENSG00000070669', 'ENSG00000131459', 'ENSG00000103485', 'ENSG00000214013', 'ENSG00000277494', 'ENSG00000147408', 'ENSG00000166819', 'ENSG00000106123', 'ENSG00000130653', 'ENSG00000163959', 'ENSG00000143036', 'ENSG00000104763', 'ENSG00000086015', 'ENSG00000173540', 'ENSG00000143882', 'ENSG00000164867', 'ENSG00000165434', 'ENSG00000085511', 'ENSG00000072756', 'ENSG00000165029', 'ENSG00000167280', 'ENSG00000174607', 'ENSG00000162408', 'ENSG00000116791', 'ENSG00000140474', 'ENSG00000105499', 'ENSG00000138166', 'ENSG00000198130', 'ENSG00000120156', 'ENSG00000150457', 'ENSG00000206077', 'ENSG00000125246', 'ENSG00000196730', 'ENSG00000065621', 'ENSG00000158104', 'ENSG00000186716', 'ENSG00000156966', 'ENSG00000135090', 'ENSG00000008128', 'ENSG00000198610', 'ENSG00000060237', 'ENSG00000143776', 'ENSG00000162482', 'ENSG00000134013', 'ENSG00000076555', 'ENSG00000088035', 'ENSG00000146085', 'ENSG00000197355', 'ENSG00000184470', 'ENSG00000037280', 'ENSG00000136381', 'ENSG00000197586', 'ENSG00000117834', 'ENSG00000196139', 'ENSG00000149177', 'ENSG00000181192', 'ENSG00000187486', 'ENSG00000125779', 'ENSG00000095015', 'ENSG00000141503', 'ENSG00000127415', 'ENSG00000160867', 'ENSG00000175164', 'ENSG00000149476', 'ENSG00000204084', 'ENSG00000184983', 'ENSG00000111700', 'ENSG00000170266', 'ENSG00000085998', 'ENSG00000136877', 'ENSG00000102595', 'ENSG00000204371', 'ENSG00000188906', 'ENSG00000180953', 'ENSG00000119227', 'ENSG00000116711', 'ENSG00000123989', 'ENSG00000119927', 'ENSG00000070159', 'ENSG00000170390', 'ENSG00000115286', 'ENSG00000105355', 'ENSG00000138604', 'ENSG00000175054', 'ENSG00000145476', 'ENSG00000172071', 'ENSG00000159082', 'ENSG00000095303', 'ENSG00000069020', 'ENSG00000157765', 'ENSG00000134202', 'ENSG00000277893', 'ENSG00000131748', 'ENSG00000065534', 'ENSG00000176463', 'ENSG00000100577', 'ENSG00000126432', 'ENSG00000164543', 'ENSG00000183421', 'ENSG00000129465', 'ENSG00000141736', 'ENSG00000138621', 'ENSG00000171105', 'ENSG00000165140', 'ENSG00000148834', 'ENSG00000145217', 'ENSG00000174292', 'ENSG00000147804', 'ENSG00000160446', 'ENSG00000167676']\n",
      "Num combs: 13531\n",
      "13531\n"
     ]
    }
   ],
   "source": [
    "if False:\n",
    "    genes = [gene.id for gene in model_list[0].genes]\n",
    "else:\n",
    "    genes = pd.read_table('C:/Users/Sigve/Genome_Data/results/model_tests/essential_genes/{0}_non_essential.tsv'.format(tissue), index_col=0)['gene_ids'].tolist()\n",
    "\n",
    "# Create and run combinations for individual samples\n",
    "t='ENSG00000154305;ENSG00000132677;ENSG00000140057;ENSG00000167280;ENSG00000105499;ENSG00000070159;ENSG00000088035;ENSG00000176463;ENSG00000077463;ENSG00000115884;ENSG00000167701;ENSG00000105929;ENSG00000198610;ENSG00000168350;ENSG00000188833;ENSG00000076555;ENSG00000213614;ENSG00000109861;ENSG00000171503;ENSG00000183421;ENSG00000157765;ENSG00000002726;ENSG00000165434;ENSG00000166819;ENSG00000198569;ENSG00000147804;ENSG00000138621;ENSG00000149177;ENSG00000064270;ENSG00000126432;ENSG00000104823;ENSG00000129465;ENSG00000065621;ENSG00000132958;ENSG00000071909;ENSG00000105426;ENSG00000124006;ENSG00000172890;ENSG00000165029;ENSG00000169359;ENSG00000114480;ENSG00000168038;ENSG00000125255;ENSG00000070915;ENSG00000206077;ENSG00000171124;ENSG00000134780;ENSG00000164543;ENSG00000115159;ENSG00000162408;ENSG00000111700;ENSG00000141736;ENSG00000277494;ENSG00000109854;ENSG00000160446;ENSG00000277893;ENSG00000155850;ENSG00000143776;ENSG00000008128;ENSG00000113492;ENSG00000173083;ENSG00000188906;ENSG00000095303;ENSG00000116791;ENSG00000136381;ENSG00000146085;ENSG00000148834;ENSG00000037280;ENSG00000132837;ENSG00000181555;ENSG00000125246;ENSG00000257335;ENSG00000023839;ENSG00000137124;ENSG00000143036;ENSG00000114923;ENSG00000132437;ENSG00000060237;ENSG00000162365;ENSG00000142798;ENSG00000145626;ENSG00000165996;ENSG00000072756;ENSG00000214013;ENSG00000102595;ENSG00000186204;ENSG00000170266;ENSG00000150457;ENSG00000134070;ENSG00000070669;ENSG00000131446;ENSG00000146904;ENSG00000184983;ENSG00000175164;ENSG00000114670;ENSG00000138604;ENSG00000100577;ENSG00000163959;ENSG00000109667;ENSG00000058729;ENSG00000139304;ENSG00000168907;ENSG00000132744;ENSG00000136877;ENSG00000135090;ENSG00000138166;ENSG00000171105;ENSG00000196730;ENSG00000174292;ENSG00000069020;ENSG00000115020;ENSG00000120156;ENSG00000065534;ENSG00000166035;ENSG00000204371;ENSG00000135372;ENSG00000116539;ENSG00000198074;ENSG00000167676;ENSG00000127415;ENSG00000112499;ENSG00000156966;ENSG00000141503;ENSG00000180953;ENSG00000184470;ENSG00000103485;ENSG00000134013;ENSG00000154229;ENSG00000175054;ENSG00000204385;ENSG00000143772;ENSG00000131748;ENSG00000117834;ENSG00000149124;ENSG00000198825;ENSG00000162482;ENSG00000134202;ENSG00000095015;ENSG00000162104;ENSG00000156222;ENSG00000159082;ENSG00000140474;ENSG00000172543;ENSG00000104763;ENSG00000038002;ENSG00000054983;ENSG00000112299;ENSG00000125779;ENSG00000145476;ENSG00000066230;ENSG00000090376;ENSG00000158104;ENSG00000177169;ENSG00000197586;ENSG00000174607;ENSG00000099810;ENSG00000110203;ENSG00000162882;ENSG00000170390;ENSG00000198130;ENSG00000164867;ENSG00000196139;ENSG00000133256;ENSG00000204084;ENSG00000165140;ENSG00000129219;ENSG00000135318;ENSG00000181192;ENSG00000168827;ENSG00000181409;ENSG00000115286;ENSG00000172071;ENSG00000197093;ENSG00000119227;ENSG00000274391;ENSG00000164879;ENSG00000160867;ENSG00000131459;ENSG00000159433;ENSG00000116711;ENSG00000087253;ENSG00000086015;ENSG00000173540;ENSG00000119927;ENSG00000177239;ENSG00000196616;ENSG00000074803;ENSG00000197355;ENSG00000186716;ENSG00000106123;ENSG00000275342;ENSG00000085511;ENSG00000087586;ENSG00000130653;ENSG00000143882;ENSG00000156510;ENSG00000147408;ENSG00000145217;ENSG00000149476;ENSG00000187486;ENSG00000085998;ENSG00000078070;ENSG00000105355;ENSG00000058866;ENSG00000112303;ENSG00000123989'\n",
    "input = t.split(';')\n",
    "print('Num genes: ' + str(len(input)))\n",
    "input = list(set(input).intersection(genes))\n",
    "print(input)\n",
    "\n",
    "combs = []\n",
    "for i in range(1, 3): #len(input) + 1):\n",
    "    for c in itertools.combinations(input, i):\n",
    "        combs.append(list(c))\n",
    "\n",
    "combs.append(input)\n",
    "test_df = pd.DataFrame({'gene_ids': combs})\n",
    "\n",
    "print('Num combs: ' + str(len(combs)))\n",
    "\n",
    "task_list = read_tasks('C:/Users/Sigve/Genome_Data/Human1/Human1_GEM/tasks/essential_tasks_min_ess_aa.tsv', model_list)\n",
    "# Adds empty task result list column\n",
    "test_df['tasks_results'] = np.empty((len(test_df), 0)).tolist()\n",
    "test_df.reset_index(inplace=True)\n",
    "test_df.rename(columns={'index': 'sample_ids'}, inplace=True)\n",
    "test_df['sample_ids'] = test_df['sample_ids'].apply(lambda x: x + 1)\n",
    "\n",
    "# Actual FBA\n",
    "print(test_df.shape[0])\n",
    "#print(test_df)"
   ],
   "metadata": {
    "collapsed": false,
    "pycharm": {
     "name": "#%%\n"
    }
   }
  },
  {
   "cell_type": "code",
   "execution_count": 34,
   "outputs": [
    {
     "name": "stdout",
     "output_type": "stream",
     "text": [
      "Total time: 454.658170 seconds\n"
     ]
    }
   ],
   "source": [
    "start_time = time.time()\n",
    "\n",
    "results = parallelize_dataframe(test_df, partial(knockout_FBA_w_tasks, task_list, model_list), n_cores=12)\n",
    "\n",
    "end_time = time.time()\n",
    "print('Total time: %.6f seconds' % (end_time - start_time))\n",
    "\n",
    "results.loc[-1] = ['REF', [], round(model_list[0].slim_optimize(error_value='nan'), 3), [1]]\n",
    "\n",
    "# Put REF on top\n",
    "results.index = results.index + 1  # shifting index\n",
    "results.sort_index(inplace=True)\n",
    "\n",
    "results['gene_ids'] = results['gene_ids'].apply(';'.join)\n",
    "results['tasks_results'] = results['tasks_results'].apply(lambda x: x if not all(x) else ['ALL PASS'])\n",
    "\n",
    "results.reset_index(inplace=True, drop=True)\n",
    "results[['sample_ids', 'gene_ids', 'solution', 'tasks_results']].to_csv(path_or_buf='C:/Users/Sigve/Genome_Data/results/ind_results/filtered/start_stop_het/subcombs/HG03963_double_{0}.tsv'.format(tissue), sep='\\t')"
   ],
   "metadata": {
    "collapsed": false,
    "pycharm": {
     "name": "#%%\n"
    }
   }
  },
  {
   "cell_type": "code",
   "execution_count": 23,
   "outputs": [
    {
     "name": "stdout",
     "output_type": "stream",
     "text": [
      "           Base: 75.00989279272778\n",
      "ENSG00000157184: <Solution 71.936 at 0x1fa8bb17f40>\n"
     ]
    }
   ],
   "source": [
    "gene_list = 'ENSG00000157184'.split(';')\n",
    "\n",
    "print('           Base: ' + str(knockout_FBA_simple(model_list[0], [])))\n",
    "for gene in gene_list:\n",
    "    print(gene + ': ' + str(knockout_FBA_simple(model_list[0], [gene])))\n"
   ],
   "metadata": {
    "collapsed": false,
    "pycharm": {
     "name": "#%%\n"
    }
   }
  },
  {
   "cell_type": "code",
   "execution_count": 29,
   "outputs": [
    {
     "name": "stdout",
     "output_type": "stream",
     "text": [
      "Read LP format model from file C:\\Users\\Sigve\\AppData\\Local\\Temp\\tmpip1nq42k.lp\n",
      "Reading time = 0.07 seconds\n",
      ": 5626 rows, 15548 columns, 68020 nonzeros\n"
     ]
    }
   ],
   "source": [
    "tissue = 'skin'\n",
    "\n",
    "model_file_path = 'C:/Users/Sigve/Genome_Data/Human1/Human1_GEM/GTEx/{0}.xml'.format(tissue)\n",
    "model_list = constrain_model(model_file_path, ALLMETSIN_OUT=False)"
   ],
   "metadata": {
    "collapsed": false,
    "pycharm": {
     "name": "#%%\n"
    }
   }
  },
  {
   "cell_type": "code",
   "execution_count": 30,
   "outputs": [],
   "source": [
    "task_list = read_tasks('C:/Users/Sigve/Genome_Data/Human1/Human1_GEM/tasks/full_tasks_minus_ess.tsv', model_list)\n",
    "# ['HIBCH', ['ENSG00000198130'], 0, []],['BCAT2', ['ENSG00000105552'], 0, []]\n",
    "\n",
    "#res = pd.DataFrame([['REF', [], 0, []]], columns=['sample_ids', 'gene_ids', 'solution', 'tasks_results'])\n",
    "\n",
    "#print(res)"
   ],
   "metadata": {
    "collapsed": false,
    "pycharm": {
     "name": "#%%\n"
    }
   }
  },
  {
   "cell_type": "code",
   "execution_count": 36,
   "outputs": [
    {
     "name": "stdout",
     "output_type": "stream",
     "text": [
      "pancreas\n",
      "221\n",
      "182\n",
      "______________________\n",
      "spleen\n",
      "222\n",
      "178\n",
      "______________________\n",
      "adipose_tissue\n",
      "222\n",
      "182\n",
      "______________________\n",
      "adrenal_gland\n",
      "222\n",
      "182\n",
      "______________________\n",
      "pituitary\n",
      "222\n",
      "183\n",
      "______________________\n",
      "thyroid\n",
      "222\n",
      "181\n",
      "______________________\n",
      "blood\n",
      "220\n",
      "176\n",
      "______________________\n",
      "brain\n",
      "221\n",
      "181\n",
      "______________________\n",
      "heart\n",
      "220\n",
      "182\n",
      "______________________\n",
      "kidney\n",
      "222\n",
      "183\n",
      "______________________\n",
      "liver\n",
      "222\n",
      "189\n",
      "______________________\n",
      "muscle\n",
      "221\n",
      "182\n",
      "______________________\n",
      "nerve\n",
      "222\n",
      "182\n",
      "______________________\n",
      "lung\n",
      "222\n",
      "179\n",
      "______________________\n",
      "skin\n",
      "222\n",
      "182\n",
      "______________________\n"
     ]
    }
   ],
   "source": [
    "tissues = ['pancreas', 'spleen', 'adipose_tissue', 'adrenal_gland', 'pituitary', 'thyroid', 'blood', 'brain', 'heart', 'kidney', 'liver', 'muscle', 'nerve', 'lung', 'skin']\n",
    "\n",
    "for tissue in tissues:\n",
    "    file_path_t ='C:/Users/Sigve/Genome_Data/Human1/Human1_GEM/tasks/tissue_full_tasks/backup/full_tasks_minus_ess_{0}.tsv'.format(tissue)\n",
    "    tasks_df_t = pd.read_table(file_path_t, index_col=0)\n",
    "\n",
    "    print(tissue)\n",
    "    print(tasks_df_t.shape[0])\n",
    "    tasks_df_t = tasks_df_t[tasks_df_t['REF'] == 1].drop(['REF', 'LBequ_2', 'LBequ_3', 'UBequ_2', 'UBequ_3'], axis=1)\n",
    "\n",
    "    #print(tasks_df_t.head())\n",
    "    print(tasks_df_t.shape[0])\n",
    "\n",
    "    print('______________________')\n",
    "    tasks_df_t.to_csv(path_or_buf='C:/Users/Sigve/Genome_Data/Human1/Human1_GEM/tasks/tissue_full_tasks/full_tasks_minus_ess_{0}.tsv'.format(tissue), sep='\\t')"
   ],
   "metadata": {
    "collapsed": false,
    "pycharm": {
     "name": "#%%\n"
    }
   }
  },
  {
   "cell_type": "code",
   "execution_count": 65,
   "outputs": [
    {
     "name": "stdout",
     "output_type": "stream",
     "text": [
      "   task_id  \\\n",
      "0        1   \n",
      "1        5   \n",
      "2        6   \n",
      "3        7   \n",
      "4        8   \n",
      "\n",
      "  _________________________________________________________________________________________description  \n",
      "0  ______________________________________________...                                                    \n",
      "1  ______________________________________________...                                                    \n",
      "2  ______________________________________________...                                                    \n",
      "3  ______________________________________________...                                                    \n",
      "4  ______________________________________________...                                                    \n",
      "     task_id  \\\n",
      "0          1   \n",
      "1          5   \n",
      "2          6   \n",
      "3          7   \n",
      "4          8   \n",
      "..       ...   \n",
      "176      222   \n",
      "177      228   \n",
      "178      229   \n",
      "179      230   \n",
      "180      234   \n",
      "\n",
      "    _________________________________________________________________________________________description  \\\n",
      "0    ______________________________________________...                                                     \n",
      "1    ______________________________________________...                                                     \n",
      "2    ______________________________________________...                                                     \n",
      "3    ______________________________________________...                                                     \n",
      "4    ______________________________________________...                                                     \n",
      "..                                                 ...                                                     \n",
      "176  ______________________________________________...                                                     \n",
      "177  ________________________________PAPS de novo s...                                                     \n",
      "178  ______________________________________________...                                                     \n",
      "179  _________________________________SAM de novo s...                                                     \n",
      "180  _______________________________Ethanol import ...                                                     \n",
      "\n",
      "     NA20291  NA20542  HG00107  HG04131  HG02462  HG03692  NA21091  NA12045  \\\n",
      "0          1        1        1        1        1        1        1        1   \n",
      "1          1        1        1        1        1        1        1        1   \n",
      "2          1        1        1        1        1        1        1        1   \n",
      "3          1        1        1        1        1        1        1        1   \n",
      "4          1        1        1        1        1        1        1        1   \n",
      "..       ...      ...      ...      ...      ...      ...      ...      ...   \n",
      "176        1        1        1        1        1        1        1        1   \n",
      "177        1        1        1        1        1        1        1        1   \n",
      "178        1        1        1        1        1        1        1        1   \n",
      "179        1        1        1        1        1        1        1        1   \n",
      "180        1        1        1        1        1        1        1        1   \n",
      "\n",
      "     NA20827  NA20812  NA18997  NA18519  HG00704  HG03499  NA19446  \n",
      "0          1        1        1        1        1        1        1  \n",
      "1          1        1        1        1        1        1        1  \n",
      "2          1        1        1        1        1        1        1  \n",
      "3          1        1        1        1        1        1        1  \n",
      "4          1        1        1        1        1        1        1  \n",
      "..       ...      ...      ...      ...      ...      ...      ...  \n",
      "176        1        1        1        1        1        1        1  \n",
      "177        1        1        1        1        1        1        1  \n",
      "178        1        1        1        1        1        1        1  \n",
      "179        1        1        1        1        1        1        1  \n",
      "180        1        1        1        1        1        1        1  \n",
      "\n",
      "[181 rows x 17 columns]\n"
     ]
    }
   ],
   "source": [
    "# make clean outputs.\n",
    "tissue_list = ['brain']#['pancreas', 'spleen', 'adipose_tissue', 'adrenal_gland', 'pituitary', 'thyroid', 'blood',\n",
    "               #'heart', 'kidney', 'liver', 'muscle', 'nerve', 'lung']\n",
    "tissue_list.sort()\n",
    "\n",
    "for tissue in tissue_list:\n",
    "\n",
    "    input_file = 'C:/Users/Sigve/Genome_Data/results/ind_results/filtered/start_stop_het/full_tasks/ind_results_f_{0}.tsv'.format(tissue)\n",
    "    output_file = 'C:/Users/Sigve/Genome_Data/results/ind_results/filtered/start_stop_het/full_tasks/ind_results_f_clean_{0}.tsv'.format(tissue)\n",
    "\n",
    "    res = pd.read_table(input_file, index_col=0)\n",
    "    res = res[res['tasks_results'] != \"['ALL PASS']\"]\n",
    "    res['tasks_results'] = res['tasks_results'].apply(lambda x: [int(i) for i in x[1:-1].split(', ')])\n",
    "\n",
    "    dict = {}\n",
    "    for i, data in res.iterrows():\n",
    "        dict[data['sample_ids']] = data['tasks_results']\n",
    "\n",
    "    tasks_df_r = pd.DataFrame(dict)\n",
    "    #print(tasks_df_r)\n",
    "\n",
    "    file_path_t ='C:/Users/Sigve/Genome_Data/Human1/Human1_GEM/tasks/tissue_full_tasks/full_tasks_minus_ess_{0}.tsv'.format(tissue)\n",
    "    tasks_df_t = pd.read_table(file_path_t, index_col=0).reset_index()\n",
    "    tasks_df_t['task_id'] = tasks_df_t['index']#\n",
    "    tasks_df_t['_'*89 + 'description'] = tasks_df_t['description'].apply(lambda x:  '_'*(100-len(x)) + x)\n",
    "    tasks_df_t = tasks_df_t[['task_id', '_'*89 + 'description']]\n",
    "\n",
    "    tasks_df_t = tasks_df_t.merge(tasks_df_r, right_index=True, left_index=True)\n",
    "\n",
    "    tasks_df_t.to_csv(path_or_buf=output_file, sep='\\t')\n"
   ],
   "metadata": {
    "collapsed": false,
    "pycharm": {
     "name": "#%%\n"
    }
   }
  },
  {
   "cell_type": "code",
   "execution_count": null,
   "outputs": [],
   "source": [
    "res.to_csv(path_or_buf='C:/Users/Sigve/Genome_Data/Human1/Human1_GEM/tasks/FBA_test_pancreas.tsv', sep='\\t')"
   ],
   "metadata": {
    "collapsed": false,
    "pycharm": {
     "name": "#%%\n"
    }
   }
  },
  {
   "cell_type": "code",
   "execution_count": 63,
   "outputs": [
    {
     "name": "stdout",
     "output_type": "stream",
     "text": [
      "[1, 1, 1, 1, 1, 1, 1, 1, 1, 1, 1, 1, 1, 1, 0, 1, 1, 1, 0, 1, 0, 1, 1, 0, 1, 1, 1, 1, 1, 1, 1, 1, 1, 1, 1, 1, 1, 0, 1, 1, 1, 1, 1, 0, 1, 0, 1, 0, 0, 1, 1, 1, 1, 1, 1, 1, 1, 1, 1, 1, 1, 1, 1, 1, 1, 1, 1, 1, 1, 1, 0, 1, 0, 0, 0, 1, 0, 0, 0, 0, 0, 0, 0, 0, 0, 1, 1, 1, 0, 1, 1, 1, 0, 1, 1, 0, 1, 1, 1, 1, 0, 1, 1, 1, 0, 0, 0, 1, 1, 1, 1, 1, 1, 1, 0, 1, 1, 1, 1, 1, 1, 0, 1, 1, 1, 0, 1, 1, 1, 1, 1, 1, 1, 1, 1, 1, 1, 1, 1, 1, 1, 1, 1, 1, 1, 1, 1, 1, 1, 1, 1, 1, 1, 1, 1, 1, 1, 1, 1, 1, 1, 1, 1, 1, 1, 1, 1, 1, 1, 1, 1, 1, 1, 1, 1, 1, 1, 1, 1, 1, 1, 1, 1, 1, 1, 1, 1, 1, 1, 1, 1, 1, 1, 1, 1, 1, 1, 1, 1, 1, 1, 1, 1, 1, 1, 1, 1, 1, 1, 1, 0, 0, 0, 0, 0, 1, 1, 1, 0, 0, 1]\n",
      "Task result: 1 :Aerobic rephosphorylation of ATP from a fatty acid\n",
      "Task result: 1 :Anaerobic rephosphorylation of ATP\n",
      "Task result: 1 :Anaerobic rephosphorylation of GTP\n",
      "Task result: 1 :Anaerobic rephosphorylation of CTP\n",
      "Task result: 1 :Anaerobic rephosphorylation of UTP\n",
      "Task result: 1 :ATP de novo synthesis (minimal substrates, physiological excretion)\n",
      "Task result: 1 :CTP de novo synthesis (minimal substrates, physiological excretion)\n",
      "Task result: 1 :GTP de novo synthesis (minimal substrates, physiological excretion)\n",
      "Task result: 1 :UTP de novo synthesis (minimal substrates, physiological excretion)\n",
      "Task result: 1 :dATP de novo synthesis (minimal substrates, physiological excretion)\n",
      "Task result: 1 :dCTP de novo synthesis (minimal substrates, physiological excretion)\n",
      "Task result: 1 :dGTP de novo synthesis (minimal substrates, physiological excretion)\n",
      "Task result: 1 :dTTP de novo synthesis (minimal substrates, physiological excretion)\n",
      "Task result: 1 :ATP salvage from Adenosine\n",
      "Task result: 0 :ATP salvage from Hypoxanthine\n",
      "Task result: 1 :dTTP salvage from Thymine\n",
      "Task result: 1 :Aerobic reduction of NAD+\n",
      "Task result: 1 :Aerobic reduction of NADP+\n",
      "Task result: 0 :Gluconeogenesis from Lactate\n",
      "Task result: 1 :Gluconeogenesis from Glycerol\n",
      "Task result: 0 :Gluconeogenesis from Alanine\n",
      "Task result: 1 :Gluconeogenesis from Lactate and optionally fatty acid\n",
      "Task result: 1 :Gluconeogenesis from Glycerol and optionally fatty acid\n",
      "Task result: 0 :Gluconeogenesis from Alanine and fatty acid\n",
      "Task result: 1 :Release of glucose from Glycogen\n",
      "Task result: 1 :Fructose degradation\n",
      "Task result: 1 :Galactose degradation\n",
      "Task result: 1 :UDP-glucose de novo synthesis (minimal substrates, physiological excretion)\n",
      "Task result: 1 :UDP-galactose de novo synthesis (minimal substrates, physiological excretion)\n",
      "Task result: 1 :UDP-glucuronate de novo synthesis (minimal substrates, physiological excretion)\n",
      "Task result: 1 :GDP-L-fucose de novo synthesis (minimal substrates, physiological excretion)\n",
      "Task result: 1 :GDP-mannose de novo synthesis (minimal substrates, physiological excretion)\n",
      "Task result: 1 :UDP-N-acetyl D-galactosamine de novo synthesis (minimal substrates, physiological excretion)\n",
      "Task result: 1 :CMP-N-acetylneuraminate de novo synthesis (minimal substrates, physiological excretion)\n",
      "Task result: 1 :N-Acetylglucosamine de novo synthesis (minimal substrates, physiological excretion)\n",
      "Task result: 1 :Glucuronate de novo synthesis (minimal substrates, physiological excretion)\n",
      "Task result: 1 :Alanine de novo synthesis (minimal substrates, minimal excretion)\n",
      "Task result: 0 :Arginine de novo synthesis (minimal substrates, minimal excretion)\n",
      "Task result: 1 :Asparagine de novo synthesis (minimal substrates, minimal excretion)\n",
      "Task result: 1 :Aspartate de novo synthesis (minimal substrates, minimal excretion)\n",
      "Task result: 1 :Glutamate de novo synthesis (minimal substrates, minimal excretion)\n",
      "Task result: 1 :Glycine de novo synthesis (minimal substrates, minimal excretion)\n",
      "Task result: 1 :Glutamine de novo synthesis (minimal substrates, minimal excretion)\n",
      "Task result: 0 :Proline de novo synthesis (minimal substrates, minimal excretion)\n",
      "Task result: 1 :Serine de novo synthesis (minimal substrates, minimal excretion)\n",
      "Task result: 0 :Cysteine de novo synthesis (minimal substrates and AA, minimal excretion)\n",
      "Task result: 1 :Tyrosine de novo synthesis (minimal substrates with AA, minimal excretion)\n",
      "Task result: 0 :Homocysteine de novo synthesis (minimal substrates with AA, minimal excretion)\n",
      "Task result: 0 :beta-Alanine de novo synthesis (minimal substrates, minimal excretion)\n",
      "Task result: 1 :Alanine degradation\n",
      "Task result: 1 :Arginine degradation\n",
      "Task result: 1 :Asparagine degradation\n",
      "Task result: 1 :Aspartate degradation\n",
      "Task result: 1 :Cysteine degradation\n",
      "Task result: 1 :Glutamate degradation\n",
      "Task result: 1 :Glycine degradation\n",
      "Task result: 1 :Histidine degradation\n",
      "Task result: 1 :Isoleucine degradation\n",
      "Task result: 1 :Glutamine degradation\n",
      "Task result: 1 :Leucine degradation\n",
      "Task result: 1 :Lysine degradation\n",
      "Task result: 1 :Methionine degradation\n",
      "Task result: 1 :Phenylalanine degradation\n",
      "Task result: 1 :Proline degradation\n",
      "Task result: 1 :Serine degradation\n",
      "Task result: 1 :Threonine degradation\n",
      "Task result: 1 :Tryptophan degradation\n",
      "Task result: 1 :Tyrosine degradation\n",
      "Task result: 1 :Valine degradation\n",
      "Task result: 1 :Homocysteine degradation\n",
      "Task result: 0 :Ornithine degradation\n",
      "Task result: 1 :beta-Alanine degradation\n",
      "Task result: 0 :Urea from alanine\n",
      "Task result: 0 :Urea from glutamine\n",
      "Task result: 0 :Creatine de novo synthesis (minimal substrates, physiological excretion)\n",
      "Task result: 1 :Heme de novo synthesis (minimal substrates, physiological excretion)\n",
      "Task result: 0 :PC de novo synthesis (physiological substrates, physiological excretion)\n",
      "Task result: 0 :PE de novo synthesis (physiological substrates, physiological excretion)\n",
      "Task result: 0 :PS de novo synthesis (physiological substrates, physiological excretion)\n",
      "Task result: 0 :PI de novo synthesis (physiological substrates, physiological excretion)\n",
      "Task result: 0 :Cardiolipin de novo synthesis (physiological substrates, physiological excretion)\n",
      "Task result: 0 :SM de novo synthesis (physiological substrates, physiological excretion)\n",
      "Task result: 0 :Ceramide de novo synthesis (physiological substrates, physiological excretion)\n",
      "Task result: 0 :Lactosylceramide de novo synthesis (physiological substrates, physiological excretion)\n",
      "Task result: 0 :CoA de novo synthesis (minimal substrates, physiological excretion)\n",
      "Task result: 1 :NAD de novo synthesis (minimal substrates, physiological excretion)\n",
      "Task result: 1 :NADP de novo synthesis (minimal substrates, physiological excretion)\n",
      "Task result: 1 :FAD de novo synthesis (minimal substrates, physiological excretion)\n",
      "Task result: 0 :Thioredoxin de novo synthesis (physiological substrates, physiological excretion)\n",
      "Task result: 1 :THF de novo synthesis (minimal substrates, physiological excretion)\n",
      "Task result: 1 :Pyridoxal-P de novo synthesis (minimal substrates, physiological excretion)\n",
      "Task result: 1 :Acetoacetate de novo synthesis\n",
      "Task result: 0 :(R)-3-Hydroxybutanoate de novo synthesis\n",
      "Task result: 1 :Farnesyl-PP de novo synthesis (minimal substrates, physiological excretion)\n",
      "Task result: 1 :Lauric acid de novo synthesis (minimal substrates, physiological excretion)\n",
      "Task result: 0 :Tridecylic acid de novo synthesis (minimal substrates, physiological excretion)\n",
      "Task result: 1 :Myristic acid de novo synthesis (minimal substrates, physiological excretion)\n",
      "Task result: 1 :9E-tetradecenoic acid de novo synthesis (minimal substrates, physiological excretion)\n",
      "Task result: 1 :7Z-tetradecenoic acid de novo synthesis (minimal substrates, physiological excretion)\n",
      "Task result: 1 :Physeteric acid de novo synthesis (minimal substrates, physiological excretion)\n",
      "Task result: 0 :Pentadecylic acid de novo synthesis (minimal substrates, physiological excretion)\n",
      "Task result: 1 :Palmitate de novo synthesis (minimal substrates, physiological excretion)\n",
      "Task result: 1 :Palmitolate de novo synthesis (minimal substrates, physiological excretion)\n",
      "Task result: 1 :7-palmitoleic acid de novo synthesis (minimal substrates, physiological excretion)\n",
      "Task result: 0 :Margaric acid de novo synthesis (minimal substrates, physiological excretion)\n",
      "Task result: 0 :10Z-heptadecenoic acid de novo synthesis (minimal substrates, physiological excretion)\n",
      "Task result: 0 :9-heptadecylenic acid de novo synthesis (minimal substrates, physiological excretion)\n",
      "Task result: 1 :Stearate de novo synthesis (minimal substrates, physiological excretion)\n",
      "Task result: 1 :13Z-octadecenoic acid de novo synthesis (minimal substrates, physiological excretion)\n",
      "Task result: 1 :cis-vaccenic acid de novo synthesis (minimal substrates, physiological excretion)\n",
      "Task result: 1 :Oleate de novo synthesis (minimal substrates, physiological excretion)\n",
      "Task result: 1 :Elaidate de novo synthesis (minimal substrates, physiological excretion)\n",
      "Task result: 1 :7Z-octadecenoic acid de novo synthesis (minimal substrates, physiological excretion)\n",
      "Task result: 1 :6Z,9Z-octadecadienoic acid de novo synthesis (minimal substrates, physiological excretion)\n",
      "Task result: 0 :Nonadecylic acid de novo synthesis (minimal substrates, physiological excretion)\n",
      "Task result: 1 :Eicosanoate de novo synthesis (minimal substrates, physiological excretion)\n",
      "Task result: 1 :13Z-Eicosenoic acid de novo synthesis (minimal substrates, physiological excretion)\n",
      "Task result: 1 :cis-gondoic acid de novo synthesis (minimal substrates, physiological excretion)\n",
      "Task result: 1 :9-Eicosenoic acid de novo synthesis (minimal substrates, physiological excretion)\n",
      "Task result: 1 :8,11-Eicosadienoic acid de novo synthesis (minimal substrates, physiological excretion)\n",
      "Task result: 1 :Mead acid de novo synthesis (minimal substrates, physiological excretion)\n",
      "Task result: 0 :Henicosanoic acid de novo synthesis (minimal substrates, physiological excretion)\n",
      "Task result: 1 :Behenic acid de novo synthesis (minimal substrates, physiological excretion)\n",
      "Task result: 1 :cis-erucic acid de novo synthesis (minimal substrates, physiological excretion)\n",
      "Task result: 1 :cis-cetoleic acid de novo synthesis (minimal substrates, physiological excretion)\n",
      "Task result: 0 :Tricosanoic acid de novo synthesis (minimal substrates, physiological excretion)\n",
      "Task result: 1 :Lignocerate de novo synthesis (minimal substrates, physiological excretion)\n",
      "Task result: 1 :Nervonic acid de novo synthesis (minimal substrates, physiological excretion)\n",
      "Task result: 1 :Cerotic acid de novo synthesis (minimal substrates, physiological excretion)\n",
      "Task result: 1 :Ximenic acid de novo synthesis (minimal substrates, physiological excretion)\n",
      "Task result: 1 :Stearidonic acid de novo synthesis (minimal substrates, physiological excretion)\n",
      "Task result: 1 :omega-3-Arachidonic acid de novo synthesis (minimal substrates, physiological excretion)\n",
      "Task result: 1 :EPA de novo synthesis (minimal substrates, physiological excretion)\n",
      "Task result: 1 :DPA de novo synthesis (minimal substrates, physiological excretion)\n",
      "Task result: 1 :9Z,12Z,15Z,18Z,21Z-TPA de novo synthesis (minimal substrates, physiological excretion)\n",
      "Task result: 1 :6Z,9Z,12Z,15Z,18Z,21Z-THA de novo synthesis (minimal substrates, physiological excretion)\n",
      "Task result: 1 :DHA de novo synthesis (minimal substrates, physiological excretion)\n",
      "Task result: 1 :11Z,14Z,17Z-eicosatrienoic acid de novo synthesis (minimal substrates, physiological excretion)\n",
      "Task result: 1 :13,16,19-docosatrienoic acid de novo synthesis (minimal substrates, physiological excretion)\n",
      "Task result: 1 :10,13,16,19-docosatetraenoic acid de novo synthesis (minimal substrates, physiological excretion)\n",
      "Task result: 1 :12,15,18,21-tetracosatetraenoic acid de novo synthesis (minimal substrates, physiological excretion)\n",
      "Task result: 1 :gamma-Linolenate de novo synthesis (minimal substrates, physiological excretion)\n",
      "Task result: 1 :Dihomo-gamma-linolenate de novo synthesis (minimal substrates, physiological excretion)\n",
      "Task result: 1 :Arachidonate de novo synthesis (minimal substrates, physiological excretion)\n",
      "Task result: 1 :Adrenic acid de novo synthesis (minimal substrates, physiological excretion)\n",
      "Task result: 1 :9Z,12Z,15Z,18Z-TTA de novo synthesis (minimal substrates, physiological excretion)\n",
      "Task result: 1 :6Z,9Z,12Z,15Z,18Z-TPA de novo synthesis (minimal substrates, physiological excretion)\n",
      "Task result: 1 :4Z,7Z,10Z,13Z,16Z-DPA de novo synthesis (minimal substrates, physiological excretion)\n",
      "Task result: 1 :11Z,14Z-eicosadienoic acid de novo synthesis (minimal substrates, physiological excretion)\n",
      "Task result: 1 :13Z,16Z-docosadienoic acid de novo synthesis (minimal substrates, physiological excretion)\n",
      "Task result: 1 :10,13,16-docosatriynoic acid de novo synthesis (minimal substrates, physiological excretion)\n",
      "Task result: 1 :Lauric acid (complete oxidation)\n",
      "Task result: 1 :Tridecylic acid (complete oxidation)\n",
      "Task result: 1 :Myristic acid (complete oxidation)\n",
      "Task result: 1 :9E-tetradecenoic acid (complete oxidation)\n",
      "Task result: 1 :7Z-tetradecenoic acid (complete oxidation)\n",
      "Task result: 1 :Physeteric acid (complete oxidation)\n",
      "Task result: 1 :Pentadecylic acid (complete oxidation)\n",
      "Task result: 1 :Palmitate (complete oxidation)\n",
      "Task result: 1 :Palmitolate (complete oxidation)\n",
      "Task result: 1 :7-palmitoleic acid (complete oxidation)\n",
      "Task result: 1 :Margaric acid (complete oxidation)\n",
      "Task result: 1 :10Z-heptadecenoic acid (complete oxidation)\n",
      "Task result: 1 :9-heptadecylenic acid (complete oxidation)\n",
      "Task result: 1 :Stearate (complete oxidation)\n",
      "Task result: 1 :13Z-octadecenoic acid (complete oxidation)\n",
      "Task result: 1 :cis-vaccenic acid (complete oxidation)\n",
      "Task result: 1 :Oleate (complete oxidation)\n",
      "Task result: 1 :Elaidate (complete oxidation)\n",
      "Task result: 1 :7Z-octadecenoic acid (complete oxidation)\n",
      "Task result: 1 :6Z,9Z-octadecadienoic acid (complete oxidation)\n",
      "Task result: 1 :Nonadecylic acid (complete oxidation)\n",
      "Task result: 1 :Eicosanoate (complete oxidation)\n",
      "Task result: 1 :13Z-Eicosenoic acid (complete oxidation)\n",
      "Task result: 1 :cis-gondoic acid (complete oxidation)\n",
      "Task result: 1 :9-Eicosenoic acid (complete oxidation)\n",
      "Task result: 1 :8,11-Eicosadienoic acid (complete oxidation)\n",
      "Task result: 1 :Mead acid (complete oxidation)\n",
      "Task result: 1 :Henicosanoic acid (complete oxidation)\n",
      "Task result: 1 :Behenic acid (complete oxidation)\n",
      "Task result: 1 :cis-erucic acid (complete oxidation)\n",
      "Task result: 1 :cis-cetoleic acid (complete oxidation)\n",
      "Task result: 1 :Tricosanoic acid (complete oxidation)\n",
      "Task result: 1 :Lignocerate (complete oxidation)\n",
      "Task result: 1 :Nervonic acid (complete oxidation)\n",
      "Task result: 1 :Cerotic acid (complete oxidation)\n",
      "Task result: 1 :Ximenic acid (complete oxidation)\n",
      "Task result: 1 :Linolenate (complete oxidation)\n",
      "Task result: 1 :Stearidonic acid (complete oxidation)\n",
      "Task result: 1 :omega-3-Arachidonic acid (complete oxidation)\n",
      "Task result: 1 :EPA (complete oxidation)\n",
      "Task result: 1 :DPA (complete oxidation)\n",
      "Task result: 1 :9Z,12Z,15Z,18Z,21Z-TPA (complete oxidation)\n",
      "Task result: 1 :6Z,9Z,12Z,15Z,18Z,21Z-THA (complete oxidation)\n",
      "Task result: 1 :DHA (complete oxidation)\n",
      "Task result: 1 :11Z,14Z,17Z-eicosatrienoic acid (complete oxidation)\n",
      "Task result: 1 :13,16,19-docosatrienoic acid (complete oxidation)\n",
      "Task result: 1 :10,13,16,19-docosatetraenoic acid (complete oxidation)\n",
      "Task result: 1 :12,15,18,21-tetracosatetraenoic acid (complete oxidation)\n",
      "Task result: 1 :Linoleate (complete oxidation)\n",
      "Task result: 1 :gamma-Linolenate (complete oxidation)\n",
      "Task result: 1 :Dihomo-gamma-linolenate (complete oxidation)\n",
      "Task result: 1 :Arachidonate (complete oxidation)\n",
      "Task result: 1 :Adrenic acid (complete oxidation)\n",
      "Task result: 1 :9Z,12Z,15Z,18Z-TTA (complete oxidation)\n",
      "Task result: 1 :6Z,9Z,12Z,15Z,18Z-TPA (complete oxidation)\n",
      "Task result: 1 :4Z,7Z,10Z,13Z,16Z-DPA (complete oxidation)\n",
      "Task result: 1 :11Z,14Z-eicosadienoic acid (complete oxidation)\n",
      "Task result: 1 :13Z,16Z-docosadienoic acid (complete oxidation)\n",
      "Task result: 1 :10,13,16-docosatriynoic acid (complete oxidation)\n",
      "Task result: 0 :Triacylglycerol de novo synthesis (physiological substrates, physiological excretion)\n",
      "Task result: 0 :Glycocholate de novo synthesis and excretion (minimal substrates, physiological excretion)\n",
      "Task result: 0 :Glycochenodeoxycholate de novo synthesis and excretion\n",
      "Task result: 0 :Taurocholate de novo synthesis and excretion (minimal substrates, physiological excretion)\n",
      "Task result: 0 :Taurochenodeoxycholate de novo synthesis and excretion (minimal substrates, physiological excretion)\n",
      "Task result: 1 :PAPS de novo synthesis (minimal substrates, physiological excretion)\n",
      "Task result: 1 :PAP degradation\n",
      "Task result: 1 :SAM de novo synthesis (minimal substrates, physiological excretion)\n",
      "Task result: 0 :GSH de novo synthesis (minimal substrates, physiological excretion)\n",
      "Task result: 0 :Bilirubin conjugation (minimal substrates, physiological excretion)\n",
      "Task result: 1 :NH3 import and degradation\n"
     ]
    }
   ],
   "source": [
    "file_path_t = 'C:/Users/Sigve/Genome_Data/Human1/Human1_GEM/tasks/full_tasks_minus_ess.tsv'\n",
    "tasks_df_t = pd.read_table(file_path_t, index_col=0)\n",
    "\n",
    "task_res = res.iat[0, 3]\n",
    "print(task_res)\n",
    "i = 0\n",
    "for r in task_res:\n",
    "    print('Task result: ' + str(r) +' :' + tasks_df_t.iat[i, 0])\n",
    "    i+=1"
   ],
   "metadata": {
    "collapsed": false,
    "pycharm": {
     "name": "#%%\n"
    }
   }
  },
  {
   "cell_type": "code",
   "execution_count": null,
   "outputs": [],
   "source": [
    "from cobra.flux_analysis import flux_variability_analysis\n",
    "from cobra.flux_analysis.loopless import add_loopless, loopless_solution\n",
    "model = model_list[0]\n",
    "\n",
    "with model:\n",
    "    for rx in model.reactions:\n",
    "        if rx.bounds[0] < 0:\n",
    "            rx.lower_bound = -1\n",
    "\n",
    "        if rx.bounds[1] > 0:\n",
    "            rx.upper_bound = 1\n",
    "\n",
    "    # Oxygen\n",
    "    model.reactions.get_by_id('HMR_9048').lower_bound = -10\n",
    "    # Glucose\n",
    "    model.reactions.get_by_id('HMR_9034').lower_bound = -6\n",
    "    # CO2\n",
    "    model.reactions.get_by_id('HMR_9058').upper_bound = 10\n",
    "    # Water\n",
    "    model.reactions.get_by_id('HMR_9047').lower_bound = -10\n",
    "    model.reactions.get_by_id('HMR_9047').upper_bound = 10\n",
    "\n",
    "    model.reactions.get_by_id('GLYVALHISt').lower_bound = 0\n",
    "    model.reactions.get_by_id('GLYVALHISt').upper_bound = 1\n",
    "\n",
    "\n",
    "    base = model.optimize()\n",
    "    print(flux_variability_analysis(model, model.reactions.get_by_id('HMR_9046'), loopless=True))\n",
    "    #print(model.summary())\n",
    "    print(base)\n",
    "    print(model.metabolites.get_by_id('m03135c[c]').summary())\n",
    "    print('------------------------------------------------------------')\n",
    "    t_model = model\n",
    "    with t_model:\n",
    "        #kn = knockout_FBA(t_model, [gene])\n",
    "        t_model.genes.get_by_id(gene).knock_out()\n",
    "\n",
    "        print(flux_variability_analysis(t_model, t_model.reactions.get_by_id('HMR_9046'), loopless=True))\n",
    "        kn = t_model.optimize()\n",
    "\n",
    "        print(kn)\n",
    "        print(t_model.metabolites.get_by_id('m03135c[c]').summary())\n",
    "        #print(t_model.summary())\n"
   ],
   "metadata": {
    "collapsed": false,
    "pycharm": {
     "name": "#%%\n"
    }
   }
  },
  {
   "cell_type": "code",
   "execution_count": 3,
   "outputs": [
    {
     "name": "stdout",
     "output_type": "stream",
     "text": [
      "Academic license - for non-commercial use only - expires 2022-10-03\n",
      "Using license file c:\\gurobi\\gurobi.lic\n"
     ]
    }
   ],
   "source": [
    "model_file_path = 'C:/Users/Sigve/Genome_Data/Human1/Human1_GEM/Human-GEM.mat'\n",
    "#model = cobra.io.read_sbml_model(model_file_path)\n",
    "model = cobra.io.load_matlab_model(model_file_path)"
   ],
   "metadata": {
    "collapsed": false,
    "pycharm": {
     "name": "#%%\n"
    }
   }
  },
  {
   "cell_type": "code",
   "execution_count": 12,
   "outputs": [
    {
     "name": "stdout",
     "output_type": "stream",
     "text": [
      "          minimum  maximum\n",
      "MAR09046     10.0   1000.0\n",
      "MAR03744      0.0   1000.0\n",
      "<Solution 187.354 at 0x1f2023ecee0>\n",
      "MAM03135c\n",
      "=========\n",
      "Formula: C5H11NO2\n",
      "\n",
      "Producing Reactions\n",
      "-------------------\n",
      "Percent  Flux Reaction                                              Definition\n",
      " 25.53% 19.78 MAR11220 2.0 MAM02040c + MAM04070c <=> MAM03089c + 2.0 MAM03135c\n",
      " 74.47% 57.72 MAR11221                 MAM02040c + MAM04071c <=> 2.0 MAM03135c\n",
      "\n",
      "Consuming Reactions\n",
      "-------------------\n",
      "Percent    Flux Reaction                                                                      Definition\n",
      " 86.07%   -66.7 MAR05150         MAM01371c + MAM03082c + MAM03135c --> MAM01334c + MAM02423c + MAM02759c\n",
      " 12.90%     -10 MAR05574                                 MAM02184c + MAM03135s <=> MAM02184s + MAM03135c\n",
      "  1.03% -0.7972 MAR10064 0.0043 MAM00180c + 0.0014 MAM00569c + 0.0022 MAM00913c + 0.0025 MAM00916c + ...\n",
      "Objective\n",
      "=========\n",
      "1.0 MAR13082 = 187.35362997658078\n",
      "\n",
      "Uptake\n",
      "------\n",
      "Metabolite Reaction      Flux  C-Number C-Flux\n",
      " MAM01291s MAR00566   0.03865        22  0.00%\n",
      " MAM01771s MAR00567   0.01104        20  0.00%\n",
      " MAM01371s MAR00569      1000        10 10.01%\n",
      " MAM01741s MAR00571    0.1629        22  0.00%\n",
      " MAM01689s MAR00573    0.7674        22  0.02%\n",
      " MAM00094s MAR00575    0.1049        22  0.00%\n",
      " MAM02648s MAR00577    0.3199        20  0.01%\n",
      " MAM01432s MAR00618   0.01104        26  0.00%\n",
      " MAM02456s MAR00620   0.01104        17  0.00%\n",
      " MAM02385s MAR00621   0.01104        24  0.00%\n",
      " MAM00656s MAR00628     23.38         9  0.21%\n",
      " MAM02564s MAR00637   0.01104        24  0.00%\n",
      " MAM02646s MAR00650     4.298        18  0.08%\n",
      " MAM02685s MAR00656     7.903         7  0.06%\n",
      " MAM02715s MAR00658     1.247         8  0.01%\n",
      " MAM02808s MAR00661    0.7874         8  0.01%\n",
      " MAM02690s MAR00662   0.01104        15  0.00%\n",
      " MAM02939s MAR00695   0.06721        18  0.00%\n",
      " MAM00114s MAR00697   0.01096        24  0.00%\n",
      " MAM00135s MAR00698   0.01113        24  0.00%\n",
      " MAM00111s MAR00699   0.01104        24  0.00%\n",
      " MAM00132s MAR00700   0.01104        24  0.00%\n",
      " MAM01784s MAR00701    0.3178        20  0.01%\n",
      " MAM02494s MAR00702    0.3672        14  0.01%\n",
      " MAM01802s MAR01939  0.007756        27  0.00%\n",
      " MAM03127s MAR01964     125.9        40  5.04%\n",
      " MAM02000s MAR04148      1000        26 26.02%\n",
      " MAM03494s MAR04886     3.583        10  0.04%\n",
      " MAM02635s MAR04889     133.5        11  1.47%\n",
      " MAM03540s MAR04923   0.01104        19  0.00%\n",
      " MAM01583s MAR04927   0.01104        22  0.00%\n",
      " MAM01373s MAR04929   0.01104        22  0.00%\n",
      " MAM02964s MAR08959     450.6        26 11.72%\n",
      " MAM03103s MAR08966  0.007756        59  0.00%\n",
      " MAM02559s MAR09029    0.3895         5  0.00%\n",
      " MAM02389s MAR09036    0.2337        18  0.00%\n",
      " MAM02125s MAR09038     23.02         6  0.14%\n",
      " MAM02184s MAR09039     45.12         6  0.27%\n",
      " MAM02360s MAR09040     92.02         6  0.55%\n",
      " MAM02426s MAR09041     72.16         6  0.43%\n",
      " MAM02471s MAR09042     22.54         5  0.11%\n",
      " MAM02724s MAR09043     38.17         9  0.34%\n",
      " MAM02993s MAR09044     57.01         4  0.23%\n",
      " MAM02630s MAR09048        10         0  0.00%\n",
      " MAM02353s MAR09051 0.0003146     94027  0.03%\n",
      " MAM01369s MAR09062     37.61         4  0.15%\n",
      " MAM01975s MAR09063     56.55         5  0.28%\n",
      " MAM03101s MAR09064     28.59         9  0.26%\n",
      " MAM02770s MAR09068     51.64         5  0.26%\n",
      " MAM02896s MAR09069       225         3  0.68%\n",
      " MAM01370s MAR09070     63.44         4  0.25%\n",
      " MAM02039s MAR09079     594.4         0  0.00%\n",
      " MAM02042s MAR09103     18.35         0  0.00%\n",
      " MAM02049s MAR09107  0.007756        34  0.00%\n",
      " MAM01704s MAR09108     666.7         9  6.00%\n",
      " MAM01401s MAR09109  0.007756        10  0.00%\n",
      " MAM02842s MAR09143  0.007756        17  0.00%\n",
      " MAM02834s MAR09147   0.03483        20  0.00%\n",
      " MAM01330s MAR09152  0.007756        29  0.00%\n",
      " MAM01938s MAR09154  0.007756        28  0.00%\n",
      " MAM02982s MAR09159  0.007756        12  0.00%\n",
      " MAM02394s MAR09167  0.007756         8  0.00%\n",
      " MAM01415s MAR09215    0.0116        27  0.00%\n",
      " MAM02691s MAR09232     47.39        39  1.85%\n",
      " MAM01361s MAR09269  0.007756        62  0.00%\n",
      " MAM01397s MAR09271  0.003867        45  0.00%\n",
      " MAM01398s MAR09272   0.05435        39  0.00%\n",
      " MAM01450s MAR09285     4.573        27  0.12%\n",
      " MAM01630s MAR09295     6.789         9  0.06%\n",
      " MAM01666s MAR09297     390.8        10  3.91%\n",
      " MAM01673s MAR09310     443.5         9  3.99%\n",
      " MAM02038s MAR09348     8.541        10  0.09%\n",
      " MAM02026s MAR09351      1.64        10  0.02%\n",
      " MAM02041s MAR09354      1000         0  0.00%\n",
      " MAM02583s MAR09378    0.3533         6  0.00%\n",
      " MAM02631s MAR09383     45.99         0  0.00%\n",
      " MAM02833s MAR09404   0.05035        20  0.00%\n",
      " MAM02996s MAR09423     10.86        10  0.11%\n",
      " MAM03123s MAR09439     607.2         9  5.47%\n",
      " MAM03130s MAR09440     166.7         9  1.50%\n",
      " MAM02814s MAR09691  0.007756         8  0.00%\n",
      " MAM03161s MAR09729      76.1         6  0.46%\n",
      " MAM01644s MAR09847     1.019         9  0.01%\n",
      " MAM03149s MAR09861     384.2        10  3.84%\n",
      " MAM02940s MAR09924     4.837        25  0.12%\n",
      " MAM02411s MAR09925     6.733        23  0.15%\n",
      " MAM02122s MAR10250     2.138        27  0.06%\n",
      " MAM02388s MAR10254      8.95        25  0.22%\n",
      " MAM02497s MAR10265     367.2         6  2.20%\n",
      " MAM02974s MAR10345   0.01104        21  0.00%\n",
      " MAM01584s MAR10432   0.01104        20  0.00%\n",
      " MAM00916s MAR10441    0.5526         3  0.00%\n",
      " MAM02978s MAR10496  0.007756         9  0.00%\n",
      " MAM04070s MAR10736     9.891        21  0.21%\n",
      " MAM04071s MAR10737     28.86        10  0.29%\n",
      " MAM03684s MAR11293      1000         6  6.00%\n",
      " MAM01620s MAR11349     464.1         4  1.86%\n",
      " MAM02579s MAR11420     18.35         0  0.00%\n",
      " MAM01973s MAR11424  0.007756         6  0.00%\n",
      " MAM00350s MAR11895   0.01938        20  0.00%\n",
      " MAM01231s MAR11897  0.003867        20  0.00%\n",
      " MAM02117s MAR11949   0.01104        23  0.00%\n",
      " MAM01045s MAR11953  0.007756        20  0.00%\n",
      " MAM02927s MAR11959     27.84        18  0.50%\n",
      " MAM01417s MAR11965  0.003867        27  0.00%\n",
      " MAM01841s MAR11974     335.6         6  2.01%\n",
      " MAM02750s MAR12127     2.868        11  0.03%\n",
      " MAM00003s MAR13040   0.01104        17  0.00%\n",
      " MAM00008s MAR13041   0.01104        20  0.00%\n",
      " MAM00010s MAR13042   0.01104        20  0.00%\n",
      " MAM00017s MAR13043   0.01104        20  0.00%\n",
      " MAM00021s MAR13045   0.01104        22  0.00%\n",
      " MAM00117s MAR13047   0.01104        14  0.00%\n",
      " MAM00260s MAR13048   0.01104        22  0.00%\n",
      " MAM00265s MAR13049   0.01104        22  0.00%\n",
      " MAM00315s MAR13050   0.01104        24  0.00%\n",
      " MAM00341s MAR13051   0.01104        22  0.00%\n",
      " MAM01207s MAR13053   0.01104        20  0.00%\n",
      " MAM01235s MAR13054   0.01096        20  0.00%\n",
      " MAM01238s MAR13055   0.01104        17  0.00%\n",
      " MAM01582s MAR13056   0.01104        22  0.00%\n",
      " MAM02053s MAR13057   0.01104        21  0.00%\n",
      " MAM02457s MAR13058   0.01104        20  0.00%\n",
      " MAM02613s MAR13059   0.01104        19  0.00%\n",
      " MAM02745s MAR13060   0.01104        14  0.00%\n",
      " MAM03045s MAR13061   0.01104        23  0.00%\n",
      " MAM03051s MAR13062   0.01104        13  0.00%\n",
      " MAM03153s MAR13063   0.01104        26  0.00%\n",
      " MAM01421s MAR13066     189.6         1  0.19%\n",
      "\n",
      "Secretion\n",
      "---------\n",
      "Metabolite Reaction       Flux  C-Number C-Flux\n",
      " MAM01155s MAR01871     -666.7         9  6.47%\n",
      " MAM01605s MAR01965     -125.9        36  4.89%\n",
      " MAM02402s MAR04164     -734.2        24 18.99%\n",
      " MAM01965s MAR09034     -143.1         6  0.93%\n",
      " MAM03135s MAR09046        -10         5  0.05%\n",
      " MAM02352s MAR09055 -0.0003146     33247  0.01%\n",
      " MAM01596s MAR09058      -1000         1  1.08%\n",
      " MAM02751s MAR09072      -1000         0  0.00%\n",
      " MAM02819s MAR09133     -819.2         3  2.65%\n",
      " MAM01249s MAR09242      -1000         2  2.16%\n",
      " MAM01279s MAR09253     -783.9         5  4.23%\n",
      " MAM01285s MAR09255     -598.4        10  6.45%\n",
      " MAM01396s MAR09273   -0.05822        33  0.00%\n",
      " MAM01619s MAR09290     -464.1         4  2.00%\n",
      " MAM02348s MAR09292     -157.5         7  1.19%\n",
      " MAM01700s MAR09303     -47.39        19  0.97%\n",
      " MAM02843s MAR09406      -1000         5  5.39%\n",
      " MAM02961s MAR09418     -450.6         2  0.97%\n",
      " MAM02997s MAR09422     -165.7         5  0.89%\n",
      " MAM03118s MAR09437      -1000         4  4.31%\n",
      " MAM01989s MAR09463     -450.6        26 12.63%\n",
      " MAM01410s MAR09809     -135.6         4  0.58%\n",
      " MAM02120s MAR09811      -1000         6  6.47%\n",
      " MAM03150s MAR09860     -384.2        10  4.14%\n",
      " MAM02657s MAR09921   -0.04654        10  0.00%\n",
      " MAM03971s MAR10024     -187.4         0  0.00%\n",
      " MAM00235s MAR10047      -2.54         5  0.01%\n",
      " MAM01052s MAR10193     -50.71         4  0.22%\n",
      " MAM03445s MAR10513     -315.8        10  3.40%\n",
      " MAM01862s MAR11400     -80.78         4  0.35%\n",
      " MAM01759s MAR11942     -221.9         5  1.20%\n",
      " MAM02929s MAR11947      -25.3        18  0.49%\n",
      " MAM03209s MAR12202     -265.8        24  6.88%\n",
      "\n",
      "------------------------------------------------------------\n",
      "          minimum  maximum\n",
      "MAR09046     10.0   1000.0\n",
      "MAR03744      0.0     10.0\n",
      "<Solution 187.354 at 0x1f200c59190>\n",
      "MAM03135c\n",
      "=========\n",
      "Formula: C5H11NO2\n",
      "\n",
      "Producing Reactions\n",
      "-------------------\n",
      "Percent  Flux Reaction                                              Definition\n",
      " 25.53% 19.78 MAR11220 2.0 MAM02040c + MAM04070c <=> MAM03089c + 2.0 MAM03135c\n",
      " 74.47% 57.72 MAR11221                 MAM02040c + MAM04071c <=> 2.0 MAM03135c\n",
      "\n",
      "Consuming Reactions\n",
      "-------------------\n",
      "Percent    Flux Reaction                                                                      Definition\n",
      " 86.07%   -66.7 MAR05150         MAM01371c + MAM03082c + MAM03135c --> MAM01334c + MAM02423c + MAM02759c\n",
      " 12.90%     -10 MAR05919                                 MAM02426s + MAM03135c --> MAM02426c + MAM03135s\n",
      "  1.03% -0.7972 MAR10064 0.0043 MAM00180c + 0.0014 MAM00569c + 0.0022 MAM00913c + 0.0025 MAM00916c + ...\n",
      "Objective\n",
      "=========\n",
      "1.0 MAR13082 = 187.35362997658078\n",
      "\n",
      "Uptake\n",
      "------\n",
      "Metabolite Reaction      Flux  C-Number C-Flux\n",
      " MAM01291s MAR00566   0.03865        22  0.00%\n",
      " MAM01771s MAR00567   0.01104        20  0.00%\n",
      " MAM01371s MAR00569      1000        10  9.91%\n",
      " MAM01741s MAR00571    0.1629        22  0.00%\n",
      " MAM01689s MAR00573    0.7674        22  0.02%\n",
      " MAM00094s MAR00575    0.1049        22  0.00%\n",
      " MAM02648s MAR00577    0.3199        20  0.01%\n",
      " MAM01432s MAR00618   0.01104        26  0.00%\n",
      " MAM02456s MAR00620   0.01104        17  0.00%\n",
      " MAM02385s MAR00621   0.01104        24  0.00%\n",
      " MAM00656s MAR00628     23.38         9  0.21%\n",
      " MAM02564s MAR00637   0.01104        24  0.00%\n",
      " MAM02646s MAR00650     4.298        18  0.08%\n",
      " MAM02685s MAR00656     7.903         7  0.05%\n",
      " MAM02715s MAR00658     1.247         8  0.01%\n",
      " MAM02808s MAR00661    0.7874         8  0.01%\n",
      " MAM02690s MAR00662   0.01104        15  0.00%\n",
      " MAM02939s MAR00695   0.06721        18  0.00%\n",
      " MAM00114s MAR00697   0.01096        24  0.00%\n",
      " MAM00135s MAR00698   0.01113        24  0.00%\n",
      " MAM00111s MAR00699   0.01104        24  0.00%\n",
      " MAM00132s MAR00700   0.01104        24  0.00%\n",
      " MAM01784s MAR00701    0.3178        20  0.01%\n",
      " MAM02494s MAR00702    0.3672        14  0.01%\n",
      " MAM01802s MAR01939  0.007756        27  0.00%\n",
      " MAM03127s MAR01964     173.3        40  6.87%\n",
      " MAM02000s MAR04148      1000        26 25.76%\n",
      " MAM03494s MAR04886     3.583        10  0.04%\n",
      " MAM02635s MAR04889     133.5        11  1.45%\n",
      " MAM03540s MAR04923   0.01104        19  0.00%\n",
      " MAM01583s MAR04927   0.01104        22  0.00%\n",
      " MAM01373s MAR04929   0.01104        22  0.00%\n",
      " MAM02964s MAR08959     450.6        26 11.61%\n",
      " MAM03103s MAR08966  0.007756        59  0.00%\n",
      " MAM02559s MAR09029    0.3895         5  0.00%\n",
      " MAM02389s MAR09036    0.2337        18  0.00%\n",
      " MAM02125s MAR09038     23.02         6  0.14%\n",
      " MAM02184s MAR09039     45.12         6  0.27%\n",
      " MAM02360s MAR09040     92.02         6  0.55%\n",
      " MAM02426s MAR09041     72.16         6  0.43%\n",
      " MAM02471s MAR09042     22.54         5  0.11%\n",
      " MAM02724s MAR09043     38.17         9  0.34%\n",
      " MAM02993s MAR09044     57.01         4  0.23%\n",
      " MAM02630s MAR09048        10         0  0.00%\n",
      " MAM02353s MAR09051 0.0003146     94027  0.03%\n",
      " MAM01369s MAR09062     37.61         4  0.15%\n",
      " MAM01975s MAR09063     56.55         5  0.28%\n",
      " MAM03101s MAR09064     28.59         9  0.25%\n",
      " MAM02770s MAR09068     51.64         5  0.26%\n",
      " MAM02896s MAR09069       225         3  0.67%\n",
      " MAM01370s MAR09070     63.44         4  0.25%\n",
      " MAM01974s MAR09071     189.6         5  0.94%\n",
      " MAM02039s MAR09079     783.9         0  0.00%\n",
      " MAM02042s MAR09103     18.35         0  0.00%\n",
      " MAM02049s MAR09107  0.007756        34  0.00%\n",
      " MAM01704s MAR09108     666.7         9  5.94%\n",
      " MAM01401s MAR09109  0.007756        10  0.00%\n",
      " MAM02842s MAR09143  0.007756        17  0.00%\n",
      " MAM02834s MAR09147   0.03483        20  0.00%\n",
      " MAM01330s MAR09152  0.007756        29  0.00%\n",
      " MAM01938s MAR09154  0.007756        28  0.00%\n",
      " MAM02982s MAR09159  0.007756        12  0.00%\n",
      " MAM02394s MAR09167  0.007756         8  0.00%\n",
      " MAM01415s MAR09215    0.0116        27  0.00%\n",
      " MAM01361s MAR09269  0.007756        62  0.00%\n",
      " MAM01397s MAR09271  0.003867        45  0.00%\n",
      " MAM01398s MAR09272   0.05435        39  0.00%\n",
      " MAM01450s MAR09285     4.573        27  0.12%\n",
      " MAM01630s MAR09295     6.789         9  0.06%\n",
      " MAM01666s MAR09297     606.9        10  6.01%\n",
      " MAM01673s MAR09310     238.3         9  2.12%\n",
      " MAM02038s MAR09348     8.541        10  0.08%\n",
      " MAM02026s MAR09351      1.64        10  0.02%\n",
      " MAM02041s MAR09354      1000         0  0.00%\n",
      " MAM02583s MAR09378    0.3533         6  0.00%\n",
      " MAM02631s MAR09383     45.99         0  0.00%\n",
      " MAM02833s MAR09404   0.05809        20  0.00%\n",
      " MAM03123s MAR09439     607.2         9  5.41%\n",
      " MAM03130s MAR09440     166.7         9  1.49%\n",
      " MAM02814s MAR09691  0.007756         8  0.00%\n",
      " MAM03161s MAR09729      76.1         6  0.45%\n",
      " MAM01644s MAR09847     1.019         9  0.01%\n",
      " MAM03149s MAR09861     384.2        10  3.81%\n",
      " MAM02940s MAR09924     4.837        25  0.12%\n",
      " MAM02411s MAR09925     6.733        23  0.15%\n",
      " MAM02122s MAR10250     2.138        27  0.06%\n",
      " MAM02388s MAR10254      8.95        25  0.22%\n",
      " MAM02497s MAR10265     367.2         6  2.18%\n",
      " MAM02974s MAR10345   0.01104        21  0.00%\n",
      " MAM01584s MAR10432   0.01104        20  0.00%\n",
      " MAM00916s MAR10441    0.5526         3  0.00%\n",
      " MAM02978s MAR10496  0.007756         9  0.00%\n",
      " MAM04070s MAR10736     9.891        21  0.21%\n",
      " MAM04071s MAR10737     28.86        10  0.29%\n",
      " MAM03684s MAR11293      1000         6  5.94%\n",
      " MAM01620s MAR11349     464.1         4  1.84%\n",
      " MAM02579s MAR11420     18.35         0  0.00%\n",
      " MAM01973s MAR11424  0.007756         6  0.00%\n",
      " MAM00350s MAR11895   0.01164        20  0.00%\n",
      " MAM01231s MAR11897  0.003867        20  0.00%\n",
      " MAM02117s MAR11949   0.01104        23  0.00%\n",
      " MAM01045s MAR11953  0.007756        20  0.00%\n",
      " MAM02927s MAR11959     27.84        18  0.50%\n",
      " MAM01417s MAR11965  0.003867        27  0.00%\n",
      " MAM01841s MAR11974     335.6         6  1.99%\n",
      " MAM02750s MAR12127     2.868        11  0.03%\n",
      " MAM00003s MAR13040   0.01104        17  0.00%\n",
      " MAM00008s MAR13041   0.01104        20  0.00%\n",
      " MAM00010s MAR13042   0.01104        20  0.00%\n",
      " MAM00017s MAR13043   0.01104        20  0.00%\n",
      " MAM00021s MAR13045   0.01104        22  0.00%\n",
      " MAM00117s MAR13047   0.01104        14  0.00%\n",
      " MAM00260s MAR13048   0.01104        22  0.00%\n",
      " MAM00265s MAR13049   0.01104        22  0.00%\n",
      " MAM00315s MAR13050   0.01104        24  0.00%\n",
      " MAM00341s MAR13051   0.01104        22  0.00%\n",
      " MAM01207s MAR13053   0.01104        20  0.00%\n",
      " MAM01235s MAR13054   0.01096        20  0.00%\n",
      " MAM01238s MAR13055   0.01104        17  0.00%\n",
      " MAM01582s MAR13056   0.01104        22  0.00%\n",
      " MAM02053s MAR13057   0.01104        21  0.00%\n",
      " MAM02457s MAR13058   0.01104        20  0.00%\n",
      " MAM02613s MAR13059   0.01104        19  0.00%\n",
      " MAM02745s MAR13060   0.01104        14  0.00%\n",
      " MAM03045s MAR13061   0.01104        23  0.00%\n",
      " MAM03051s MAR13062   0.01104        13  0.00%\n",
      " MAM03153s MAR13063   0.01104        26  0.00%\n",
      "\n",
      "Secretion\n",
      "---------\n",
      "Metabolite Reaction       Flux  C-Number C-Flux\n",
      " MAM01155s MAR01871     -666.7         9  6.40%\n",
      " MAM01605s MAR01965     -173.3        36  6.65%\n",
      " MAM02402s MAR04164     -734.2        24 18.79%\n",
      " MAM01965s MAR09034     -143.1         6  0.92%\n",
      " MAM03135s MAR09046        -10         5  0.05%\n",
      " MAM02352s MAR09055 -0.0003146     33247  0.01%\n",
      " MAM01596s MAR09058      -1000         1  1.07%\n",
      " MAM02751s MAR09072      -1000         0  0.00%\n",
      " MAM02819s MAR09133     -819.2         3  2.62%\n",
      " MAM01249s MAR09242      -1000         2  2.13%\n",
      " MAM01279s MAR09253      -1000         5  5.33%\n",
      " MAM01285s MAR09255     -598.4        10  6.38%\n",
      " MAM01396s MAR09273   -0.05822        33  0.00%\n",
      " MAM01619s MAR09290     -464.1         4  1.98%\n",
      " MAM02348s MAR09292     -157.5         7  1.18%\n",
      " MAM02843s MAR09406      -1000         5  5.33%\n",
      " MAM02961s MAR09418     -450.6         2  0.96%\n",
      " MAM02997s MAR09422     -104.1         5  0.56%\n",
      " MAM03118s MAR09437     -845.5         4  3.61%\n",
      " MAM01989s MAR09463     -450.6        26 12.49%\n",
      " MAM01410s MAR09809     -135.6         4  0.58%\n",
      " MAM02120s MAR09811      -1000         6  6.40%\n",
      " MAM03150s MAR09860     -384.2        10  4.10%\n",
      " MAM02657s MAR09921   -0.04654        10  0.00%\n",
      " MAM03971s MAR10024     -187.4         0  0.00%\n",
      " MAM00235s MAR10047      -2.54         5  0.01%\n",
      " MAM01705s MAR10192     -50.71         5  0.27%\n",
      " MAM03445s MAR10513     -315.8        10  3.37%\n",
      " MAM01862s MAR11400     -80.78         4  0.34%\n",
      " MAM01759s MAR11942     -221.9         5  1.18%\n",
      " MAM02929s MAR11947      -25.3        18  0.49%\n",
      " MAM03209s MAR12202     -265.8        24  6.80%\n",
      "\n"
     ]
    }
   ],
   "source": [
    "from cobra.flux_analysis import flux_variability_analysis\n",
    "from cobra.flux_analysis.loopless import add_loopless, loopless_solution\n",
    "\n",
    "#model = model_list[0]\n",
    "\n",
    "gene = 'ENSG00000198130'\n",
    "\n",
    "with model:\n",
    "\n",
    "\n",
    "    rx_list = [model.reactions.get_by_id('MAR09046'), model.reactions.get_by_id('MAR03744')]\n",
    "\n",
    "    #model.objective = model.reactions.get_by_id('MAR03744')\n",
    "\n",
    "    #model.reactions.MAR03747.lower_bound = 10\n",
    "    #model.reactions.MAR03747.upper_bound = 10\n",
    "\n",
    "    # Force Valine uptake\n",
    "    model.reactions.MAR09046.lower_bound = 10\n",
    "\n",
    "    # Limit intermediate exports\n",
    "    model.reactions.MAR09011.upper_bound = 10\n",
    "    model.reactions.MAR11481.upper_bound = 10\n",
    "    model.reactions.MAR11818.upper_bound = 10\n",
    "    model.reactions.MAR10185.upper_bound = 10\n",
    "\n",
    "    model.reactions.MAR09058.lower_bound = 1000\n",
    "\n",
    "    # Oxygen\n",
    "    model.reactions.MAR09048.lower_bound = -10\n",
    "    # Glucose\n",
    "    model.reactions.MAR09034.lower_bound = -6\n",
    "\n",
    "    base = model.optimize()\n",
    "    print(flux_variability_analysis(model, rx_list, loopless=True))\n",
    "\n",
    "    print(base)\n",
    "    print(model.metabolites.get_by_id('MAM03135c').summary())\n",
    "    print(model.summary())\n",
    "    print('------------------------------------------------------------')\n",
    "    t_model = model\n",
    "    with t_model:\n",
    "        #kn = knockout_FBA(t_model, [gene])\n",
    "        # t_model.reactions.get_by_id('HMR_3747')\n",
    "        t_model.genes.get_by_id(gene).knock_out()\n",
    "        t_rx_list = [t_model.reactions.get_by_id('MAR09046'), t_model.reactions.get_by_id('MAR03744')]\n",
    "        print(flux_variability_analysis(t_model, t_rx_list, loopless=True))\n",
    "        kn = t_model.optimize()\n",
    "\n",
    "        print(kn)\n",
    "        print(t_model.metabolites.get_by_id('MAM03135c').summary())\n",
    "        print(t_model.summary())\n",
    "\n",
    "# HIBCH deficient model is forced to export isobutyrylglycine or earlier metabolite.\n",
    "# The non-deficient can break it valine down.\n"
   ],
   "metadata": {
    "collapsed": false,
    "pycharm": {
     "name": "#%%\n"
    }
   }
  },
  {
   "cell_type": "code",
   "execution_count": null,
   "outputs": [],
   "source": [],
   "metadata": {
    "collapsed": false,
    "pycharm": {
     "name": "#%%\n"
    }
   }
  },
  {
   "cell_type": "code",
   "execution_count": 57,
   "outputs": [
    {
     "name": "stdout",
     "output_type": "stream",
     "text": [
      "257\n",
      "240\n"
     ]
    }
   ],
   "source": [
    "#task_list_fix\n",
    "file_path = 'C:/Users/Sigve/Genome_Data/Human1/Human1_GEM/tasks/full_tasks_old.tsv'\n",
    "\n",
    "tasks_df = pd.read_table(file_path, index_col=0)\n",
    "print(tasks_df.shape[0])\n",
    "tasks_df.drop(29, inplace=True)\n",
    "tasks_df = tasks_df[tasks_df['shouldFail'].map(lambda x: x != 1)]\n",
    "tasks_df.drop(['shouldFail', 'printFluxes', 'comments', 'changed', 'LBrxn', 'UBrxn'], axis=1, inplace=True) #  'LBequ_2', 'LBequ_3',  'UBequ_2', 'UBequ_3'\n",
    "tasks_df.rename({'LBequ_1': 'LBequ', 'UBequ_1': 'UBequ'}, inplace=True, axis=1)\n",
    "tasks_df.reset_index(inplace=True, drop=True)\n",
    "print(tasks_df.shape[0])\n",
    "tasks_df.to_csv(path_or_buf='C:/Users/Sigve/Genome_Data/Human1/Human1_GEM/tasks/full_tasks.tsv', sep='\\t')"
   ],
   "metadata": {
    "collapsed": false,
    "pycharm": {
     "name": "#%%\n"
    }
   }
  },
  {
   "cell_type": "code",
   "execution_count": 9,
   "outputs": [
    {
     "name": "stdout",
     "output_type": "stream",
     "text": [
      "description                     Release of glucose from Glycogen\n",
      "inputs                                 'glycogenin G11[c]H2O[s]'\n",
      "LBin                                                         1,0\n",
      "UBin                                                      1,1000\n",
      "outputs                                'glucose[s]glycogenin[c]'\n",
      "LBout                                                      11, 1\n",
      "UBout                                                      11, 1\n",
      "equations      glucose-1-phosphate[c] + H2O[c] => glucose[c] ...\n",
      "LBequ                                                        0.0\n",
      "LBequ_2                                                      NaN\n",
      "LBequ_3                                                      NaN\n",
      "UBequ                                                     1000.0\n",
      "UBequ_2                                                      NaN\n",
      "UBequ_3                                                      NaN\n",
      "Name: 28, dtype: object\n"
     ]
    }
   ],
   "source": [
    "print(tasks_df.iloc[28, :])"
   ],
   "metadata": {
    "collapsed": false,
    "pycharm": {
     "name": "#%%\n"
    }
   }
  },
  {
   "cell_type": "code",
   "execution_count": 58,
   "outputs": [
    {
     "name": "stdout",
     "output_type": "stream",
     "text": [
      "240\n",
      "222\n"
     ]
    }
   ],
   "source": [
    "file_path_1 = 'C:/Users/Sigve/Genome_Data/Human1/Human1_GEM/tasks/essential_tasks.tsv'\n",
    "tasks_df_1 = pd.read_table(file_path_1, index_col=0)\n",
    "\n",
    "file_path_2 = 'C:/Users/Sigve/Genome_Data/Human1/Human1_GEM/tasks/full_tasks.tsv'\n",
    "tasks_df_2 = pd.read_table(file_path_2, index_col=0)\n",
    "\n",
    "description_list = tasks_df_1['description'].tolist()\n",
    "\n",
    "print(tasks_df_2.shape[0])\n",
    "tasks_df_2 = tasks_df_2[tasks_df_2['description'].map(lambda x: not x in description_list)]\n",
    "print(tasks_df_2.shape[0])\n",
    "\n",
    "tasks_df_2.to_csv(path_or_buf='C:/Users/Sigve/Genome_Data/Human1/Human1_GEM/tasks/full_tasks_minus_ess.tsv', sep='\\t')\n"
   ],
   "metadata": {
    "collapsed": false,
    "pycharm": {
     "name": "#%%\n"
    }
   }
  },
  {
   "cell_type": "code",
   "execution_count": null,
   "outputs": [],
   "source": [
    "#\n"
   ],
   "metadata": {
    "collapsed": false,
    "pycharm": {
     "name": "#%%\n"
    }
   }
  },
  {
   "cell_type": "code",
   "execution_count": null,
   "outputs": [
    {
     "name": "stdout",
     "output_type": "stream",
     "text": [
      "Read LP format model from file C:\\Users\\Sigve\\AppData\\Local\\Temp\\tmproz5_84e.lp\n",
      "Reading time = 0.13 seconds\n",
      ": 5597 rows, 15340 columns, 67174 nonzeros\n",
      "Read LP format model from file C:\\Users\\Sigve\\AppData\\Local\\Temp\\tmp_zm3yk0p.lp\n",
      "Reading time = 0.08 seconds\n",
      ": 5626 rows, 15476 columns, 67870 nonzeros\n",
      "Read LP format model from file C:\\Users\\Sigve\\AppData\\Local\\Temp\\tmpn4v5v8hj.lp\n",
      "Reading time = 0.07 seconds\n",
      ": 5621 rows, 15492 columns, 67494 nonzeros\n",
      "Read LP format model from file C:\\Users\\Sigve\\AppData\\Local\\Temp\\tmpx9aa1ip5.lp\n",
      "Reading time = 0.12 seconds\n",
      ": 5668 rows, 15622 columns, 68500 nonzeros\n",
      "Read LP format model from file C:\\Users\\Sigve\\AppData\\Local\\Temp\\tmpq27fonhw.lp\n",
      "Reading time = 0.12 seconds\n",
      ": 5592 rows, 15544 columns, 68256 nonzeros\n",
      "Read LP format model from file C:\\Users\\Sigve\\AppData\\Local\\Temp\\tmpz02hep3e.lp\n",
      "Reading time = 0.13 seconds\n",
      ": 5685 rows, 15774 columns, 69184 nonzeros\n",
      "Read LP format model from file C:\\Users\\Sigve\\AppData\\Local\\Temp\\tmpn1ia79ep.lp\n",
      "Reading time = 0.12 seconds\n",
      ": 5096 rows, 13890 columns, 60396 nonzeros\n",
      "Read LP format model from file C:\\Users\\Sigve\\AppData\\Local\\Temp\\tmpjfe_hzbn.lp\n",
      "Reading time = 0.12 seconds\n",
      ": 5482 rows, 15138 columns, 66608 nonzeros\n",
      "Read LP format model from file C:\\Users\\Sigve\\AppData\\Local\\Temp\\tmptzffen8o.lp\n",
      "Reading time = 0.11 seconds\n",
      ": 5321 rows, 14488 columns, 63246 nonzeros\n",
      "Read LP format model from file C:\\Users\\Sigve\\AppData\\Local\\Temp\\tmp3ana56me.lp\n",
      "Reading time = 0.08 seconds\n",
      ": 5816 rows, 16328 columns, 71478 nonzeros\n",
      "Read LP format model from file C:\\Users\\Sigve\\AppData\\Local\\Temp\\tmpo0lqa4gs.lp\n",
      "Reading time = 0.07 seconds\n",
      ": 5788 rows, 15892 columns, 69376 nonzeros\n",
      "Read LP format model from file C:\\Users\\Sigve\\AppData\\Local\\Temp\\tmpi809pebi.lp\n",
      "Reading time = 0.06 seconds\n",
      ": 4714 rows, 13168 columns, 59336 nonzeros\n",
      "Read LP format model from file C:\\Users\\Sigve\\AppData\\Local\\Temp\\tmpmkw_zool.lp\n",
      "Reading time = 0.06 seconds\n",
      ": 5665 rows, 15696 columns, 68966 nonzeros\n",
      "Read LP format model from file C:\\Users\\Sigve\\AppData\\Local\\Temp\\tmpiv3fw8jy.lp\n",
      "Reading time = 0.08 seconds\n",
      ": 5665 rows, 15720 columns, 68914 nonzeros\n"
     ]
    }
   ],
   "source": [
    "file_path_t ='C:/Users/Sigve/Genome_Data/Human1/Human1_GEM/tasks/valine_degradation_task.tsv'\n",
    "tasks_df_t = read_tasks(file_path_t, model_list)\n",
    "\n",
    "tissues = ['pancreas', 'spleen', 'adipose_tissue', 'adrenal_gland', 'pituitary', 'thyroid', 'blood', 'brain', 'heart', 'kidney', 'liver', 'muscle', 'nerve', 'lung', 'skin']\n",
    "# , ['HIBCH', ['ENSG00000198130'], 0, []],['BCAT2', ['ENSG00000105552'], 0, []]\n",
    "\n",
    "res = pd.DataFrame([['skin', [], 0, []]], columns=['sample_ids', 'gene_ids', 'solution', 'tasks_results'])\n",
    "res = knockout_FBA_w_tasks(tasks_df_t, model_list, res)\n",
    "\n",
    "for tissue in tissues:\n",
    "    model_file_path = 'C:/Users/Sigve/Genome_Data/Human1/Human1_GEM/GTEx/{0}.xml'.format(tissue)\n",
    "    model_list = constrain_model(model_file_path, ALLMETSIN_OUT=False)\n",
    "\n",
    "    tasks_df_t = read_tasks(file_path_t, model_list)\n",
    "\n",
    "    res_t = pd.DataFrame([[tissue, [], 0, []]], columns=['sample_ids', 'gene_ids', 'solution', 'tasks_results'])\n",
    "    res = pd.concat([res, knockout_FBA_w_tasks(tasks_df_t, model_list, res_t)])\n",
    "\n",
    "print(res)"
   ],
   "metadata": {
    "collapsed": false,
    "pycharm": {
     "name": "#%%\n",
     "is_executing": true
    }
   }
  },
  {
   "cell_type": "code",
   "execution_count": null,
   "outputs": [],
   "source": [
    "res.to_csv(path_or_buf='C:/Users/Sigve/Genome_Data/Human1/Human1_GEM/tasks/valine_degradation_task_test.tsv', sep='\\t')\n",
    "\n"
   ],
   "metadata": {
    "collapsed": false,
    "pycharm": {
     "name": "#%%\n"
    }
   }
  }
 ],
 "metadata": {
  "kernelspec": {
   "display_name": "Python 3",
   "language": "python",
   "name": "python3"
  },
  "language_info": {
   "codemirror_mode": {
    "name": "ipython",
    "version": 2
   },
   "file_extension": ".py",
   "mimetype": "text/x-python",
   "name": "python",
   "nbconvert_exporter": "python",
   "pygments_lexer": "ipython2",
   "version": "2.7.6"
  }
 },
 "nbformat": 4,
 "nbformat_minor": 0
}